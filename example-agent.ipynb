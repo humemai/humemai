{
 "cells": [
  {
   "cell_type": "code",
   "execution_count": null,
   "metadata": {},
   "outputs": [],
   "source": [
    "import logging\n",
    "from humemai.agent import ExampleAgent\n",
    "\n",
    "logging.getLogger(\"humemai\").setLevel(logging.WARNING)\n",
    "\n",
    "# Initialize the Agent\n",
    "agent = ExampleAgent()\n",
    "\n",
    "# First conversation with the agent\n",
    "agent.process_input(\"Alice met Bob in Paris on May 5th, 2023 during the AI Conference.\")\n",
    "agent.print_memory()\n",
    "\n",
    "# Clear remaining short-term memories\n",
    "agent.clear_short_term_memories()\n",
    "agent.print_memory()\n",
    "\n",
    "# New conversation with the agent\n",
    "agent.process_input(\"Charlie saw Alice in Seoul on June 10th, 2024.\")\n",
    "agent.print_memory()\n",
    "\n",
    "# Clear remaining short-term memories\n",
    "agent.clear_short_term_memories()\n",
    "agent.print_memory()\n",
    "\n",
    "# More conversations with the agent (10 additional sentences)\n",
    "sentences = [\n",
    "    \"David attended a workshop in London on September 15th, 2021.\",\n",
    "    \"Emma spoke with John at the university library in New York last week.\",\n",
    "    \"Sophia collaborated with Michael on a project in San Francisco in March 2022.\",\n",
    "    \"Lucas visited his grandmother in Chicago during Christmas of 2019.\",\n",
    "    \"Mia and Noah went hiking together in the Rocky Mountains in July.\",\n",
    "    \"Liam studied computer science at MIT from 2018 to 2022.\",\n",
    "    \"Isabella discussed climate change with experts at a conference in Copenhagen in 2020.\",\n",
    "    \"Olivia and Ethan traveled to Japan for a business trip in April 2021.\",\n",
    "    \"James met William at a restaurant in Berlin two days ago.\",\n",
    "    \"Ava gave a speech on AI at a technology summit in Silicon Valley last month.\",\n",
    "]\n",
    "\n",
    "# Process each sentence and interact with the memory system\n",
    "for sentence in sentences:\n",
    "    agent.process_input(sentence)\n",
    "    agent.print_memory()\n",
    "    agent.clear_short_term_memories()\n",
    "\n",
    "# Print final memory state after all sentences\n",
    "print(\"\\nFinal memory system state after processing all sentences:\")\n",
    "agent.print_memory()"
   ]
  },
  {
   "cell_type": "code",
   "execution_count": null,
   "metadata": {},
   "outputs": [],
   "source": [
    "agent.memory_system"
   ]
  },
  {
   "cell_type": "code",
   "execution_count": null,
   "metadata": {},
   "outputs": [],
   "source": [
    "agent.memory_system.memory.get_triple_count_except_event(), agent.memory_system.memory.get_memory_count(), agent.memory_system.memory.get_event_count()"
   ]
  }
 ],
 "metadata": {
  "kernelspec": {
   "display_name": "bar",
   "language": "python",
   "name": "python3"
  },
  "language_info": {
   "codemirror_mode": {
    "name": "ipython",
    "version": 3
   },
   "file_extension": ".py",
   "mimetype": "text/x-python",
   "name": "python",
   "nbconvert_exporter": "python",
   "pygments_lexer": "ipython3",
   "version": "3.10.12"
  }
 },
 "nbformat": 4,
 "nbformat_minor": 2
}
