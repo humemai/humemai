{
 "cells": [
  {
   "cell_type": "markdown",
   "metadata": {},
   "source": [
    "## Create a docker container and run"
   ]
  },
  {
   "cell_type": "code",
   "execution_count": 1,
   "metadata": {},
   "outputs": [
    {
     "name": "stdout",
     "output_type": "stream",
     "text": [
      "Error starting the container: 409 Client Error for http+docker://localhost/v1.47/containers/create?name=jena: Conflict (\"Conflict. The container name \"/jena\" is already in use by container \"f165546565a43a94e39b643f2d60b883d7a6228231d1fc6a9a8fcac6270a383d\". You have to remove (or rename) that container to be able to reuse that name.\")\n"
     ]
    }
   ],
   "source": [
    "import docker\n",
    "\n",
    "# Connect to Docker\n",
    "client = docker.from_env()\n",
    "\n",
    "# Function to run a new container\n",
    "def run_jena_container():\n",
    "    try:\n",
    "        # Run the container with specific options\n",
    "        container = client.containers.run(\n",
    "            \"stain/jena-fuseki\",  # Image name\n",
    "            name=\"jena\",          # Container name\n",
    "            detach=True,          # Run in detached mode (like -d)\n",
    "            tty=True,             # Allocate a pseudo-TTY (like -it)\n",
    "            ports={'3030/tcp': 3030},  # Port mapping (like -p 3030:3030)\n",
    "            environment={\"ADMIN_PASSWORD\": \"admin\"},  # Environment variable\n",
    "            stdin_open=True  # Keep STDIN open (for interactive mode)\n",
    "        )\n",
    "        print(f\"Container '{container.name}' started successfully!\")\n",
    "    except docker.errors.APIError as e:\n",
    "        print(f\"Error starting the container: {e}\")\n",
    "\n",
    "# Run the Jena container\n",
    "run_jena_container()\n"
   ]
  },
  {
   "cell_type": "markdown",
   "metadata": {},
   "source": [
    "## Run the existing container"
   ]
  },
  {
   "cell_type": "code",
   "execution_count": 8,
   "metadata": {},
   "outputs": [
    {
     "name": "stdout",
     "output_type": "stream",
     "text": [
      "Container 'jena' started successfully!\n"
     ]
    }
   ],
   "source": [
    "import docker\n",
    "\n",
    "# Connect to Docker\n",
    "client = docker.from_env()\n",
    "\n",
    "# Container name\n",
    "container_name = \"jena\"\n",
    "\n",
    "# Start the container\n",
    "def start_container():\n",
    "    try:\n",
    "        container = client.containers.get(container_name)\n",
    "        if container.status == \"exited\":\n",
    "            container.start()\n",
    "            print(f\"Container '{container_name}' started successfully!\")\n",
    "        else:\n",
    "            print(f\"Container '{container_name}' is already running.\")\n",
    "    except docker.errors.NotFound:\n",
    "        print(f\"Container '{container_name}' not found.\")\n",
    "\n",
    "\n",
    "# Example usage:\n",
    "start_container()  # Start the container\n"
   ]
  },
  {
   "cell_type": "markdown",
   "metadata": {},
   "source": [
    "## Stop the existing container"
   ]
  },
  {
   "cell_type": "code",
   "execution_count": 3,
   "metadata": {},
   "outputs": [
    {
     "name": "stdout",
     "output_type": "stream",
     "text": [
      "Container 'jena' stopped successfully!\n"
     ]
    }
   ],
   "source": [
    "import docker\n",
    "\n",
    "# Connect to Docker\n",
    "client = docker.from_env()\n",
    "\n",
    "# Container name\n",
    "container_name = \"jena\"\n",
    "# Stop the container\n",
    "def stop_container():\n",
    "    try:\n",
    "        container = client.containers.get(container_name)\n",
    "        if container.status == \"running\":\n",
    "            container.stop()\n",
    "            print(f\"Container '{container_name}' stopped successfully!\")\n",
    "        else:\n",
    "            print(f\"Container '{container_name}' is not running.\")\n",
    "    except docker.errors.NotFound:\n",
    "        print(f\"Container '{container_name}' not found.\")\n",
    "\n",
    "# Example usage:\n",
    "stop_container()   # Stop the container\n"
   ]
  },
  {
   "cell_type": "markdown",
   "metadata": {},
   "source": [
    "## Create a dataset named `ds`"
   ]
  },
  {
   "cell_type": "code",
   "execution_count": 26,
   "metadata": {},
   "outputs": [
    {
     "name": "stdout",
     "output_type": "stream",
     "text": [
      "Failed to create dataset: 409 - Name already registered /ds\n",
      "\n"
     ]
    }
   ],
   "source": [
    "import requests\n",
    "\n",
    "# URL for the Fuseki Admin API to create a new dataset\n",
    "fuseki_admin_url = \"http://localhost:3030/$/datasets\"\n",
    "\n",
    "# Data for the new dataset\n",
    "data = {\n",
    "    'dbName': 'ds',  # Name of the new dataset\n",
    "    'dbType': 'tdb2'  # Dataset type ('mem' for in-memory, 'tdb2' for persistent)\n",
    "}\n",
    "\n",
    "\n",
    "# Send the POST request to create the dataset with authentication\n",
    "response = requests.post(fuseki_admin_url, data=data, auth=('admin', 'admin'))\n",
    "\n",
    "# Check if the dataset was created successfully\n",
    "if response.status_code == 200:\n",
    "    print(\"Dataset created successfully!\")\n",
    "else:\n",
    "    print(f\"Failed to create dataset: {response.status_code} - {response.text}\")\n"
   ]
  },
  {
   "cell_type": "markdown",
   "metadata": {},
   "source": [
    "## Remove `ds`"
   ]
  },
  {
   "cell_type": "code",
   "execution_count": 27,
   "metadata": {},
   "outputs": [
    {
     "name": "stdout",
     "output_type": "stream",
     "text": [
      "Dataset deleted successfully!\n"
     ]
    }
   ],
   "source": [
    "# URL to delete the dataset 'ds'\n",
    "delete_url = \"http://localhost:3030/$/datasets/ds\"\n",
    "\n",
    "# Send the DELETE request to remove the dataset\n",
    "response = requests.delete(delete_url, data=data, auth=('admin', 'admin'))\n",
    "\n",
    "# Check if the dataset was deleted successfully\n",
    "if response.status_code == 200:\n",
    "    print(\"Dataset deleted successfully!\")\n",
    "else:\n",
    "    print(f\"Failed to delete dataset: {response.status_code} - {response.text}\")\n"
   ]
  },
  {
   "cell_type": "markdown",
   "metadata": {},
   "source": [
    "## Insert dummy data"
   ]
  },
  {
   "cell_type": "code",
   "execution_count": 20,
   "metadata": {},
   "outputs": [
    {
     "name": "stdout",
     "output_type": "stream",
     "text": [
      "Larger RDF* dataset inserted successfully!\n"
     ]
    }
   ],
   "source": [
    "from SPARQLWrapper import SPARQLWrapper, POST\n",
    "\n",
    "# Set up the SPARQL Update endpoint for the 'foo' dataset\n",
    "sparql = SPARQLWrapper(\"http://localhost:3030/ds/update\")\n",
    "\n",
    "# Set the credentials (assuming default username 'admin' and password 'your_password')\n",
    "sparql.setCredentials(\"admin\", \"admin\")\n",
    "\n",
    "# Define a larger SPARQL INSERT query for RDF* data with more entities and metadata\n",
    "insert_rdf_star = \"\"\"\n",
    "    INSERT DATA {\n",
    "        # Relationships between people\n",
    "        <http://example.org/Alice> <http://example.org/knows> <http://example.org/Bob> .\n",
    "        << <http://example.org/Alice> <http://example.org/knows> <http://example.org/Bob> >> \n",
    "            <http://example.org/certainty> \"high\" ;\n",
    "            <http://example.org/startedAt> \"2021-01-01\"^^<http://www.w3.org/2001/XMLSchema#date> ;\n",
    "            <http://example.org/friendshipScore> \"95\"^^<http://www.w3.org/2001/XMLSchema#integer> .\n",
    "\n",
    "        <http://example.org/Alice> <http://example.org/worksWith> <http://example.org/Charlie> .\n",
    "        << <http://example.org/Alice> <http://example.org/worksWith> <http://example.org/Charlie> >> \n",
    "            <http://example.org/certainty> \"medium\" ;\n",
    "            <http://example.org/startedAt> \"2022-03-15\"^^<http://www.w3.org/2001/XMLSchema#date> ;\n",
    "            <http://example.org/workScore> \"85\"^^<http://www.w3.org/2001/XMLSchema#integer> .\n",
    "\n",
    "        <http://example.org/Bob> <http://example.org/knows> <http://example.org/Charlie> .\n",
    "        << <http://example.org/Bob> <http://example.org/knows> <http://example.org/Charlie> >> \n",
    "            <http://example.org/certainty> \"low\" ;\n",
    "            <http://example.org/startedAt> \"2020-06-20\"^^<http://www.w3.org/2001/XMLSchema#date> ;\n",
    "            <http://example.org/friendshipScore> \"70\"^^<http://www.w3.org/2001/XMLSchema#integer> .\n",
    "\n",
    "        # Adding more metadata about the relationships\n",
    "        <http://example.org/Charlie> <http://example.org/knows> <http://example.org/David> .\n",
    "        << <http://example.org/Charlie> <http://example.org/knows> <http://example.org/David> >> \n",
    "            <http://example.org/certainty> \"very high\" ;\n",
    "            <http://example.org/startedAt> \"2019-09-05\"^^<http://www.w3.org/2001/XMLSchema#date> ;\n",
    "            <http://example.org/friendshipScore> \"100\"^^<http://www.w3.org/2001/XMLSchema#integer> .\n",
    "\n",
    "        <http://example.org/David> <http://example.org/worksWith> <http://example.org/Alice> .\n",
    "        << <http://example.org/David> <http://example.org/worksWith> <http://example.org/Alice> >> \n",
    "            <http://example.org/certainty> \"high\" ;\n",
    "            <http://example.org/startedAt> \"2018-11-11\"^^<http://www.w3.org/2001/XMLSchema#date> ;\n",
    "            <http://example.org/workScore> \"90\"^^<http://www.w3.org/2001/XMLSchema#integer> .\n",
    "\n",
    "        # Additional metadata on people themselves\n",
    "        <http://example.org/Alice> <http://example.org/age> \"30\"^^<http://www.w3.org/2001/XMLSchema#integer> .\n",
    "        <http://example.org/Bob> <http://example.org/age> \"35\"^^<http://www.w3.org/2001/XMLSchema#integer> .\n",
    "        <http://example.org/Charlie> <http://example.org/age> \"28\"^^<http://www.w3.org/2001/XMLSchema#integer> .\n",
    "        <http://example.org/David> <http://example.org/age> \"40\"^^<http://www.w3.org/2001/XMLSchema#integer> .\n",
    "\n",
    "        # Adding occupations\n",
    "        <http://example.org/Alice> <http://example.org/occupation> \"Engineer\" .\n",
    "        <http://example.org/Bob> <http://example.org/occupation> \"Artist\" .\n",
    "        <http://example.org/Charlie> <http://example.org/occupation> \"Data Scientist\" .\n",
    "        <http://example.org/David> <http://example.org/occupation> \"Manager\" .\n",
    "    }\n",
    "\"\"\"\n",
    "\n",
    "# Set the query method to POST (for updates)\n",
    "sparql.setQuery(insert_rdf_star)\n",
    "sparql.setMethod(POST)\n",
    "\n",
    "# Execute the insert query\n",
    "sparql.query()\n",
    "print(\"Larger RDF* dataset inserted successfully!\")\n"
   ]
  },
  {
   "cell_type": "markdown",
   "metadata": {},
   "source": [
    "## Retreive all the stored RDF-star data "
   ]
  },
  {
   "cell_type": "code",
   "execution_count": 15,
   "metadata": {},
   "outputs": [
    {
     "name": "stdout",
     "output_type": "stream",
     "text": [
      "Subject: http://example.org/Alice, Predicate: http://example.org/knows, Object: http://example.org/Bob, Certainty: high\n",
      "Subject: http://example.org/David, Predicate: http://example.org/worksWith, Object: http://example.org/Alice, Certainty: high\n",
      "Subject: http://example.org/Alice, Predicate: http://example.org/worksWith, Object: http://example.org/Charlie, Certainty: medium\n",
      "Subject: http://example.org/Bob, Predicate: http://example.org/knows, Object: http://example.org/Charlie, Certainty: low\n",
      "Subject: http://example.org/Charlie, Predicate: http://example.org/knows, Object: http://example.org/David, Certainty: very high\n"
     ]
    }
   ],
   "source": [
    "from SPARQLWrapper import SPARQLWrapper, JSON\n",
    "\n",
    "# Set up the SPARQL Query endpoint for the 'ds' dataset\n",
    "sparql = SPARQLWrapper(\"http://localhost:3030/ds/sparql\")\n",
    "\n",
    "# Define the SPARQL query to retrieve RDF* data\n",
    "select_rdf_star = \"\"\"\n",
    "    SELECT ?s ?p ?o ?certainty WHERE {\n",
    "      ?s ?p ?o .\n",
    "      << ?s ?p ?o >> <http://example.org/certainty> ?certainty .\n",
    "    }\n",
    "\"\"\"\n",
    "\n",
    "# Set the query method and return format\n",
    "sparql.setQuery(select_rdf_star)\n",
    "sparql.setReturnFormat(JSON)\n",
    "\n",
    "# Execute the query and print results\n",
    "results = sparql.query().convert()\n",
    "\n",
    "for result in results[\"results\"][\"bindings\"]:\n",
    "    print(f\"Subject: {result['s']['value']}, Predicate: {result['p']['value']}, Object: {result['o']['value']}, Certainty: {result['certainty']['value']}\")\n"
   ]
  },
  {
   "cell_type": "markdown",
   "metadata": {},
   "source": [
    "## Retreive all triples"
   ]
  },
  {
   "cell_type": "code",
   "execution_count": 25,
   "metadata": {},
   "outputs": [
    {
     "name": "stdout",
     "output_type": "stream",
     "text": [
      "Subject: http://example.org/Alice, Predicate: http://example.org/knows, Object: http://example.org/Bob\n",
      "Subject: http://example.org/Alice, Predicate: http://example.org/worksWith, Object: http://example.org/Charlie\n",
      "Subject: http://example.org/Alice, Predicate: http://example.org/age, Object: 30\n",
      "Subject: http://example.org/Alice, Predicate: http://example.org/occupation, Object: Engineer\n",
      "Subject: http://example.org/Bob, Predicate: http://example.org/knows, Object: http://example.org/Charlie\n",
      "Subject: http://example.org/Bob, Predicate: http://example.org/age, Object: 35\n",
      "Subject: http://example.org/Bob, Predicate: http://example.org/occupation, Object: Artist\n",
      "Subject: {'subject': {'type': 'uri', 'value': 'http://example.org/Alice'}, 'predicate': {'type': 'uri', 'value': 'http://example.org/knows'}, 'object': {'type': 'uri', 'value': 'http://example.org/Bob'}}, Predicate: http://example.org/certainty, Object: high\n",
      "Subject: {'subject': {'type': 'uri', 'value': 'http://example.org/Alice'}, 'predicate': {'type': 'uri', 'value': 'http://example.org/knows'}, 'object': {'type': 'uri', 'value': 'http://example.org/Bob'}}, Predicate: http://example.org/startedAt, Object: 2021-01-01\n",
      "Subject: {'subject': {'type': 'uri', 'value': 'http://example.org/Alice'}, 'predicate': {'type': 'uri', 'value': 'http://example.org/knows'}, 'object': {'type': 'uri', 'value': 'http://example.org/Bob'}}, Predicate: http://example.org/friendshipScore, Object: 95\n",
      "Subject: http://example.org/Charlie, Predicate: http://example.org/knows, Object: http://example.org/David\n",
      "Subject: http://example.org/Charlie, Predicate: http://example.org/age, Object: 28\n",
      "Subject: http://example.org/Charlie, Predicate: http://example.org/occupation, Object: Data Scientist\n",
      "Subject: {'subject': {'type': 'uri', 'value': 'http://example.org/Alice'}, 'predicate': {'type': 'uri', 'value': 'http://example.org/worksWith'}, 'object': {'type': 'uri', 'value': 'http://example.org/Charlie'}}, Predicate: http://example.org/certainty, Object: medium\n",
      "Subject: {'subject': {'type': 'uri', 'value': 'http://example.org/Alice'}, 'predicate': {'type': 'uri', 'value': 'http://example.org/worksWith'}, 'object': {'type': 'uri', 'value': 'http://example.org/Charlie'}}, Predicate: http://example.org/startedAt, Object: 2022-03-15\n",
      "Subject: {'subject': {'type': 'uri', 'value': 'http://example.org/Alice'}, 'predicate': {'type': 'uri', 'value': 'http://example.org/worksWith'}, 'object': {'type': 'uri', 'value': 'http://example.org/Charlie'}}, Predicate: http://example.org/workScore, Object: 85\n",
      "Subject: {'subject': {'type': 'uri', 'value': 'http://example.org/Bob'}, 'predicate': {'type': 'uri', 'value': 'http://example.org/knows'}, 'object': {'type': 'uri', 'value': 'http://example.org/Charlie'}}, Predicate: http://example.org/certainty, Object: low\n",
      "Subject: {'subject': {'type': 'uri', 'value': 'http://example.org/Bob'}, 'predicate': {'type': 'uri', 'value': 'http://example.org/knows'}, 'object': {'type': 'uri', 'value': 'http://example.org/Charlie'}}, Predicate: http://example.org/startedAt, Object: 2020-06-20\n",
      "Subject: {'subject': {'type': 'uri', 'value': 'http://example.org/Bob'}, 'predicate': {'type': 'uri', 'value': 'http://example.org/knows'}, 'object': {'type': 'uri', 'value': 'http://example.org/Charlie'}}, Predicate: http://example.org/friendshipScore, Object: 70\n",
      "Subject: http://example.org/David, Predicate: http://example.org/worksWith, Object: http://example.org/Alice\n",
      "Subject: http://example.org/David, Predicate: http://example.org/age, Object: 40\n",
      "Subject: http://example.org/David, Predicate: http://example.org/occupation, Object: Manager\n",
      "Subject: {'subject': {'type': 'uri', 'value': 'http://example.org/Charlie'}, 'predicate': {'type': 'uri', 'value': 'http://example.org/knows'}, 'object': {'type': 'uri', 'value': 'http://example.org/David'}}, Predicate: http://example.org/certainty, Object: very high\n",
      "Subject: {'subject': {'type': 'uri', 'value': 'http://example.org/Charlie'}, 'predicate': {'type': 'uri', 'value': 'http://example.org/knows'}, 'object': {'type': 'uri', 'value': 'http://example.org/David'}}, Predicate: http://example.org/startedAt, Object: 2019-09-05\n",
      "Subject: {'subject': {'type': 'uri', 'value': 'http://example.org/Charlie'}, 'predicate': {'type': 'uri', 'value': 'http://example.org/knows'}, 'object': {'type': 'uri', 'value': 'http://example.org/David'}}, Predicate: http://example.org/friendshipScore, Object: 100\n",
      "Subject: {'subject': {'type': 'uri', 'value': 'http://example.org/David'}, 'predicate': {'type': 'uri', 'value': 'http://example.org/worksWith'}, 'object': {'type': 'uri', 'value': 'http://example.org/Alice'}}, Predicate: http://example.org/certainty, Object: high\n",
      "Subject: {'subject': {'type': 'uri', 'value': 'http://example.org/David'}, 'predicate': {'type': 'uri', 'value': 'http://example.org/worksWith'}, 'object': {'type': 'uri', 'value': 'http://example.org/Alice'}}, Predicate: http://example.org/startedAt, Object: 2018-11-11\n",
      "Subject: {'subject': {'type': 'uri', 'value': 'http://example.org/David'}, 'predicate': {'type': 'uri', 'value': 'http://example.org/worksWith'}, 'object': {'type': 'uri', 'value': 'http://example.org/Alice'}}, Predicate: http://example.org/workScore, Object: 90\n"
     ]
    }
   ],
   "source": [
    "from SPARQLWrapper import SPARQLWrapper, JSON\n",
    "\n",
    "# Set up the SPARQL Query endpoint for the 'foo' dataset\n",
    "sparql = SPARQLWrapper(\"http://localhost:3030/ds/sparql\")\n",
    "\n",
    "# Define the SPARQL query to get all standard triples (no RDF-star)\n",
    "select_standard_triples = \"\"\"\n",
    "    SELECT ?s ?p ?o WHERE {\n",
    "      ?s ?p ?o .\n",
    "    }\n",
    "\"\"\"\n",
    "\n",
    "# Set the query method and return format\n",
    "sparql.setQuery(select_standard_triples)\n",
    "sparql.setReturnFormat(JSON)\n",
    "\n",
    "# Execute the query and print results\n",
    "results = sparql.query().convert()\n",
    "\n",
    "# Loop through the results and print each triple\n",
    "for result in results[\"results\"][\"bindings\"]:\n",
    "    print(f\"Subject: {result['s']['value']}, Predicate: {result['p']['value']}, Object: {result['o']['value']}\")\n"
   ]
  },
  {
   "cell_type": "markdown",
   "metadata": {},
   "source": [
    "## Export the database as `example.ttl`"
   ]
  },
  {
   "cell_type": "code",
   "execution_count": 21,
   "metadata": {},
   "outputs": [
    {
     "name": "stdout",
     "output_type": "stream",
     "text": [
      "Data exported as Turtle format.\n"
     ]
    }
   ],
   "source": [
    "from SPARQLWrapper import SPARQLWrapper, TURTLE\n",
    "\n",
    "# Set up the SPARQL Query endpoint for your dataset\n",
    "sparql = SPARQLWrapper(\"http://localhost:3030/ds/sparql\")\n",
    "\n",
    "# Define the SPARQL CONSTRUCT query to get all triples\n",
    "construct_query = \"\"\"\n",
    "    CONSTRUCT { ?s ?p ?o } WHERE { ?s ?p ?o . }\n",
    "\"\"\"\n",
    "\n",
    "# Set the query method and return format (Turtle)\n",
    "sparql.setQuery(construct_query)\n",
    "sparql.setReturnFormat(TURTLE)\n",
    "\n",
    "# Execute the query and retrieve results in Turtle format\n",
    "turtle_data = sparql.query().convert()\n",
    "\n",
    "# Write the Turtle data to a file\n",
    "with open('example.ttl', 'wb') as f:\n",
    "    f.write(turtle_data)\n",
    "\n",
    "print(\"Data exported as Turtle format.\")\n"
   ]
  },
  {
   "cell_type": "markdown",
   "metadata": {},
   "source": [
    "## Delete everything in the database. This does not delete the database"
   ]
  },
  {
   "cell_type": "code",
   "execution_count": 22,
   "metadata": {},
   "outputs": [
    {
     "name": "stdout",
     "output_type": "stream",
     "text": [
      "All triples have been deleted from the database.\n"
     ]
    }
   ],
   "source": [
    "from SPARQLWrapper import SPARQLWrapper, JSON, POST\n",
    "\n",
    "# Set up the SPARQL Query endpoint for the 'foo' dataset\n",
    "sparql = SPARQLWrapper(\"http://localhost:3030/ds/update\")\n",
    "\n",
    "# Set the credentials (assuming default username 'admin' and password 'your_password')\n",
    "sparql.setCredentials(\"admin\", \"admin\")\n",
    "\n",
    "# Define the SPARQL query to delete all triples\n",
    "delete_all_triples = \"\"\"\n",
    "    DELETE WHERE {\n",
    "      ?s ?p ?o .\n",
    "    }\n",
    "\"\"\"\n",
    "\n",
    "# Set the query method and execute the update\n",
    "sparql.setQuery(delete_all_triples)\n",
    "sparql.setMethod(POST)  # Since it's an update, use POST\n",
    "sparql.query()\n",
    "\n",
    "print(\"All triples have been deleted from the database.\")\n"
   ]
  },
  {
   "cell_type": "code",
   "execution_count": 24,
   "metadata": {},
   "outputs": [
    {
     "name": "stdout",
     "output_type": "stream",
     "text": [
      "Turtle file imported successfully!\n"
     ]
    }
   ],
   "source": [
    "from SPARQLWrapper import SPARQLWrapper, POST\n",
    "import requests\n",
    "\n",
    "# Define the path to your Turtle file\n",
    "file_path = \"example.ttl\"\n",
    "\n",
    "# Set up the SPARQL Update endpoint for the 'foo' dataset\n",
    "sparql_endpoint = \"http://localhost:3030/ds/data\"\n",
    "\n",
    "# Set the headers for the request (important for content type Turtle)\n",
    "headers = {\n",
    "    'Content-Type': 'text/turtle'\n",
    "}\n",
    "\n",
    "# Read the Turtle file content\n",
    "with open(file_path, 'r') as file:\n",
    "    turtle_data = file.read()\n",
    "\n",
    "# Perform the POST request to import the Turtle data\n",
    "response = requests.post(sparql_endpoint, headers=headers, data=turtle_data, auth=('admin', 'admin'))\n",
    "\n",
    "# Check if the import was successful\n",
    "if response.status_code == 200:\n",
    "    print(\"Turtle file imported successfully!\")\n",
    "else:\n",
    "    print(f\"Failed to import Turtle file. Status code: {response.status_code}, Response: {response.text}\")\n"
   ]
  }
 ],
 "metadata": {
  "kernelspec": {
   "display_name": "humemai",
   "language": "python",
   "name": "python3"
  },
  "language_info": {
   "codemirror_mode": {
    "name": "ipython",
    "version": 3
   },
   "file_extension": ".py",
   "mimetype": "text/x-python",
   "name": "python",
   "nbconvert_exporter": "python",
   "pygments_lexer": "ipython3",
   "version": "3.10.12"
  }
 },
 "nbformat": 4,
 "nbformat_minor": 2
}
