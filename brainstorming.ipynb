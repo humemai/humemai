{
 "cells": [
  {
   "cell_type": "code",
   "execution_count": null,
   "metadata": {},
   "outputs": [],
   "source": [
    "from rdflib import Graph, URIRef, Literal, Namespace\n",
    "from rdflib.namespace import XSD, RDF\n",
    "from datetime import datetime\n",
    "\n",
    "# Create a namespace for humemai\n",
    "humemai = Namespace(\"https://humem.ai/ontology#\")\n",
    "\n",
    "# Initialize the RDF graph\n",
    "graph = Graph()\n",
    "graph.bind(\"humemai\", humemai)\n",
    "\n",
    "# Define some sample triples with currentTime\n",
    "triple1 = (\n",
    "    URIRef(\"https://example.org/person/Alice\"),\n",
    "    humemai.currentTime,\n",
    "    Literal(\"2024-04-27T10:00:00\", datatype=XSD.dateTime),\n",
    ")\n",
    "\n",
    "triple2 = (\n",
    "    URIRef(\"https://example.org/person/Charlie\"),\n",
    "    humemai.currentTime,\n",
    "    Literal(datetime.now().isoformat(), datatype=XSD.dateTime),\n",
    ")\n",
    "\n",
    "# Add the triples to the graph\n",
    "graph.add(triple1)\n",
    "graph.add(triple2)\n",
    "\n",
    "# Display all triples in the graph\n",
    "for subj, pred, obj in graph:\n",
    "    print(f\"Triple: ({subj}, {pred}, {obj})\")\n",
    "\n",
    "# Use graph.objects() to iterate over all currentTime values\n",
    "print(\"\\nRetrieved currentTime values:\")\n",
    "for obj in graph.objects(None, humemai.currentTime):\n",
    "    print(f\"currentTime value: {obj}\")\n",
    "\n",
    "# Alternative: If you want to retrieve all triples with currentTime:\n",
    "print(\"\\nAll triples with currentTime predicate:\")\n",
    "for subj, obj in graph.subject_objects(humemai.currentTime):\n",
    "    print(f\"Subject: {subj}, currentTime: {obj}\")\n"
   ]
  },
  {
   "cell_type": "code",
   "execution_count": null,
   "metadata": {},
   "outputs": [],
   "source": [
    "graph.value(URIRef(\"https://example.org/person/Alice\"), humemai.currentTime)"
   ]
  },
  {
   "cell_type": "code",
   "execution_count": null,
   "metadata": {},
   "outputs": [],
   "source": [
    "for s, p, o in graph:\n",
    "    print(s, p, o)"
   ]
  },
  {
   "cell_type": "code",
   "execution_count": null,
   "metadata": {},
   "outputs": [],
   "source": [
    "import logging\n",
    "from rdflib import URIRef, Namespace\n",
    "from humemai import MemorySystem\n",
    "from rdflib import BNode, Graph, Literal, Namespace, URIRef\n",
    "\n",
    "# Define the custom namespace for humemai ontology\n",
    "humemai = Namespace(\"https://humem.ai/ontology#\")\n",
    "\n",
    "# Turn off debug logging\n",
    "logging.getLogger(\"humemai\").setLevel(logging.WARNING)\n",
    "\n",
    "# Initialize the memory system\n",
    "memory_system = MemorySystem()\n",
    "memory_system.memory.add_memory(\n",
    "    [(humemai.foo, humemai.bar, humemai.baz), (humemai.foo, humemai.bar, humemai.baz)],\n",
    "    {\"foo\": \"bar\"},\n",
    ")\n",
    "memory_system"
   ]
  },
  {
   "cell_type": "code",
   "execution_count": null,
   "metadata": {},
   "outputs": [],
   "source": [
    "RDF.subject"
   ]
  },
  {
   "cell_type": "code",
   "execution_count": 73,
   "metadata": {},
   "outputs": [],
   "source": [
    "from datetime import datetime\n",
    "\n",
    "foo = Literal(datetime.now().isoformat(), datatype=XSD.dateTime)"
   ]
  },
  {
   "cell_type": "code",
   "execution_count": null,
   "metadata": {},
   "outputs": [],
   "source": [
    "Literal(\"dd\")"
   ]
  },
  {
   "cell_type": "code",
   "execution_count": null,
   "metadata": {},
   "outputs": [],
   "source": [
    "memory_system.memory.get_memories(event=\"CP000\")"
   ]
  },
  {
   "cell_type": "code",
   "execution_count": null,
   "metadata": {},
   "outputs": [],
   "source": [
    "memory_system.memory.get_memories(event=\"CP000\")"
   ]
  },
  {
   "cell_type": "code",
   "execution_count": null,
   "metadata": {},
   "outputs": [],
   "source": [
    "memory_system.memory.get_memories(event=\"CP000\")"
   ]
  },
  {
   "cell_type": "code",
   "execution_count": null,
   "metadata": {},
   "outputs": [],
   "source": [
    "str(foo)"
   ]
  },
  {
   "cell_type": "code",
   "execution_count": null,
   "metadata": {},
   "outputs": [],
   "source": [
    "foo.n3()"
   ]
  },
  {
   "cell_type": "code",
   "execution_count": null,
   "metadata": {},
   "outputs": [],
   "source": [
    "foo.datatype == XSD.dateTime"
   ]
  },
  {
   "cell_type": "code",
   "execution_count": null,
   "metadata": {},
   "outputs": [],
   "source": [
    "foo is aiterf"
   ]
  },
  {
   "cell_type": "code",
   "execution_count": null,
   "metadata": {},
   "outputs": [],
   "source": [
    "Literal(\"bar\")"
   ]
  },
  {
   "cell_type": "code",
   "execution_count": null,
   "metadata": {},
   "outputs": [],
   "source": [
    "def foo(bar: Literal) -> Literal:\n",
    "    return bar\n",
    "\n",
    "foo"
   ]
  },
  {
   "cell_type": "code",
   "execution_count": null,
   "metadata": {},
   "outputs": [],
   "source": [
    "event_time = \"2023-10-01T10:00:00\"\n",
    "\n",
    "Literal(event_time, datatype=XSD.dateTime)"
   ]
  },
  {
   "cell_type": "code",
   "execution_count": null,
   "metadata": {},
   "outputs": [],
   "source": []
  },
  {
   "cell_type": "code",
   "execution_count": null,
   "metadata": {},
   "outputs": [],
   "source": [
    "humemai.Event"
   ]
  },
  {
   "cell_type": "code",
   "execution_count": 26,
   "metadata": {},
   "outputs": [],
   "source": [
    "from rdflib.namespace import RDF, XSD"
   ]
  },
  {
   "cell_type": "code",
   "execution_count": null,
   "metadata": {},
   "outputs": [],
   "source": [
    "RDF"
   ]
  },
  {
   "cell_type": "code",
   "execution_count": null,
   "metadata": {},
   "outputs": [],
   "source": [
    "XSD"
   ]
  },
  {
   "cell_type": "code",
   "execution_count": null,
   "metadata": {},
   "outputs": [],
   "source": [
    "g = Graph()\n",
    "\n",
    "g.add((\"a\", \"b\", \"c\"))"
   ]
  },
  {
   "cell_type": "code",
   "execution_count": null,
   "metadata": {},
   "outputs": [],
   "source": [
    "{\"a\": 1, **{humemai.currentTime: 1}}"
   ]
  },
  {
   "cell_type": "code",
   "execution_count": null,
   "metadata": {},
   "outputs": [],
   "source": [
    "from datetime import datetime\n",
    "\n",
    "\n",
    "datetime.fromisoformat(\"2024-04-27T15:00:00\")"
   ]
  },
  {
   "cell_type": "code",
   "execution_count": null,
   "metadata": {},
   "outputs": [],
   "source": [
    "foo = {\"d\": 1}.get(1)\n",
    "foo == None"
   ]
  },
  {
   "cell_type": "code",
   "execution_count": null,
   "metadata": {},
   "outputs": [],
   "source": [
    "if {\"a\": 1}:\n",
    "    print('asdf')"
   ]
  },
  {
   "cell_type": "code",
   "execution_count": null,
   "metadata": {},
   "outputs": [],
   "source": [
    "humemai.Foo"
   ]
  },
  {
   "cell_type": "code",
   "execution_count": null,
   "metadata": {},
   "outputs": [],
   "source": [
    "Literal(1)"
   ]
  },
  {
   "cell_type": "code",
   "execution_count": null,
   "metadata": {},
   "outputs": [],
   "source": [
    "memory_system.memory.get_main_triple_count_except_event()"
   ]
  },
  {
   "cell_type": "code",
   "execution_count": null,
   "metadata": {},
   "outputs": [],
   "source": [
    "my_dict = {}\n",
    "{\"a\": \"b\", **my_dict}"
   ]
  },
  {
   "cell_type": "code",
   "execution_count": null,
   "metadata": {},
   "outputs": [],
   "source": [
    "import logging\n",
    "from rdflib import URIRef, Namespace\n",
    "from humemai import MemorySystem\n",
    "\n",
    "# Define the custom namespace for humemai ontology\n",
    "humemai = Namespace(\"https://humem.ai/ontology#\")\n",
    "\n",
    "# Turn off debug logging\n",
    "logging.getLogger(\"humemai\").setLevel(logging.WARNING)\n",
    "\n",
    "# Initialize the memory system\n",
    "memory_system = MemorySystem()\n",
    "\n",
    "# Define multiple triples\n",
    "triples = [\n",
    "    (\n",
    "        URIRef(\"https://example.org/person/Alice\"),\n",
    "        URIRef(\"https://example.org/event/met\"),\n",
    "        URIRef(\"https://example.org/person/Bob\"),\n",
    "    ),  # 0\n",
    "    (\n",
    "        URIRef(\"https://example.org/person/Bob\"),\n",
    "        URIRef(\"https://example.org/event/met\"),\n",
    "        URIRef(\"https://example.org/person/Charlie\"),\n",
    "    ),  # 1\n",
    "    (\n",
    "        URIRef(\"https://example.org/person/Alice\"),\n",
    "        URIRef(\"https://example.org/relationship/knows\"),\n",
    "        URIRef(\"https://example.org/person/David\"),\n",
    "    ),  # 2\n",
    "    (\n",
    "        URIRef(\"https://example.org/person/Charlie\"),\n",
    "        URIRef(\"https://example.org/event/met\"),\n",
    "        URIRef(\"https://example.org/person/Eve\"),\n",
    "    ),  # 3\n",
    "    (\n",
    "        URIRef(\"https://example.org/person/David\"),\n",
    "        URIRef(\"https://example.org/event/invited\"),\n",
    "        URIRef(\"https://example.org/person/Alice\"),\n",
    "    ),  # 4\n",
    "    (\n",
    "        URIRef(\"https://example.org/person/Eve\"),\n",
    "        URIRef(\"https://example.org/relationship/worksWith\"),\n",
    "        URIRef(\"https://example.org/person/Bob\"),\n",
    "    ),  # 5\n",
    "    (\n",
    "        URIRef(\"https://example.org/person/Charlie\"),\n",
    "        URIRef(\"https://example.org/event/attended\"),\n",
    "        URIRef(\"https://example.org/person/Bob\"),\n",
    "    ),  # 6\n",
    "    (\n",
    "        URIRef(\"https://example.org/entity/Dog\"),\n",
    "        URIRef(\"https://example.org/relationship/is\"),\n",
    "        URIRef(\"https://example.org/entity/Animal\"),\n",
    "    ),  # 7\n",
    "    (\n",
    "        URIRef(\"https://example.org/person/Alice\"),\n",
    "        URIRef(\"https://example.org/relationship/owns\"),\n",
    "        URIRef(\"https://example.org/entity/Dog\"),\n",
    "    ),  # 8\n",
    "    (\n",
    "        URIRef(\"https://example.org/person/Eve\"),\n",
    "        URIRef(\"https://example.org/event/met\"),\n",
    "        URIRef(\"https://example.org/person/Alice\"),\n",
    "    ),  # 9\n",
    "    (\n",
    "        URIRef(\"https://example.org/person/John\"),\n",
    "        URIRef(\"https://example.org/relationship/loves\"),\n",
    "        URIRef(\"https://example.org/entity/Animal\"),\n",
    "    ),  # 10\n",
    "]\n",
    "\n",
    "# Define qualifiers for episodic memories\n",
    "episodic_qualifiers_1 = {\n",
    "    \"location\": \"New York\",\n",
    "    \"time\": \"2024-04-27T15:00:00\",\n",
    "    \"emotion\": \"happy\",\n",
    "    \"event\": \"Coffee meeting\",\n",
    "}\n",
    "episodic_qualifiers_2 = {\n",
    "    \"location\": \"London\",\n",
    "    \"time\": \"2024-05-01T10:00:00\",\n",
    "    \"emotion\": \"excited\",\n",
    "    \"event\": \"Conference meeting\",\n",
    "}\n",
    "episodic_qualifiers_3 = {\n",
    "    \"location\": \"Paris\",\n",
    "    \"time\": \"2024-05-03T14:00:00\",\n",
    "    \"emotion\": \"curious\",\n",
    "    \"event\": \"Workshop\",\n",
    "}\n",
    "\n",
    "# Add long-term episodic memories\n",
    "memory_system.memory.add_long_term_memory(\n",
    "    \"episodic\", [triples[0]], **episodic_qualifiers_1\n",
    ")\n",
    "memory_system.memory.add_long_term_memory(\n",
    "    \"episodic\", [triples[1]], **episodic_qualifiers_2\n",
    ")\n",
    "memory_system.memory.add_long_term_memory(\n",
    "    \"episodic\", [triples[2]], **episodic_qualifiers_3\n",
    ")\n",
    "memory_system.memory.add_long_term_memory(\n",
    "    \"episodic\", [triples[3]], **episodic_qualifiers_1\n",
    ")\n",
    "memory_system.memory.add_long_term_memory(\n",
    "    \"episodic\", [triples[4]], **episodic_qualifiers_2\n",
    ")\n",
    "memory_system.memory.add_long_term_memory(\n",
    "    \"episodic\", [triples[5]], **episodic_qualifiers_3\n",
    ")\n",
    "memory_system.memory.add_long_term_memory(\n",
    "    \"episodic\", [triples[6]], **episodic_qualifiers_1\n",
    ")\n",
    "memory_system.memory.add_long_term_memory(\n",
    "    \"episodic\", [triples[7]], **episodic_qualifiers_2\n",
    ")\n",
    "memory_system.memory.add_long_term_memory(\n",
    "    \"episodic\", [triples[8]], **episodic_qualifiers_3\n",
    ")\n",
    "memory_system.memory.add_long_term_memory(\n",
    "    \"episodic\", [triples[9]], **episodic_qualifiers_1\n",
    ")\n",
    "memory_system.memory.add_long_term_memory(\n",
    "    \"episodic\", [triples[10]], **episodic_qualifiers_2\n",
    ")\n",
    "\n",
    "\n",
    "# Add a semantic memory for the \"Dog\" entity\n",
    "semantic_qualifiers = {\"derivedFrom\": \"animal_research\", \"strength\": 5}\n",
    "memory_system.memory.add_long_term_memory(\n",
    "    \"semantic\", [triples[7]], **semantic_qualifiers\n",
    ")\n",
    "memory_system.memory.add_long_term_memory(\n",
    "    \"semantic\", [triples[7]], **semantic_qualifiers\n",
    ")\n",
    "memory_system.memory.add_long_term_memory(\n",
    "    \"semantic\", [triples[10]], **semantic_qualifiers\n",
    ")\n",
    "memory_system.memory.add_long_term_memory(\n",
    "    \"semantic\", [triples[10]], **semantic_qualifiers\n",
    ")\n",
    "\n",
    "# Add a short-term memory (recent event)\n",
    "memory_system.memory.add_short_term_memory([triples[8]], location=\"Alice's home\")\n",
    "memory_system.memory.add_short_term_memory([triples[8]], location=\"Alice's home\")\n",
    "\n",
    "# Add another short-term memory\n",
    "memory_system.memory.add_short_term_memory([triples[9]], location=\"Paris Cafe\")\n",
    "memory_system.memory.add_short_term_memory([triples[9]], location=\"Paris Cafe\")\n",
    "\n",
    "\n",
    "# Function to count triples and memories in working memory\n",
    "def print_memory_statistics(working_memory, hop_level):\n",
    "    num_triples = working_memory.get_main_triple_count_except_event()\n",
    "    num_memories = working_memory.get_memory_count()  # This counts reified statements\n",
    "\n",
    "    print(f\"\\n===== Working Memory (Hop {hop_level}) =====\")\n",
    "    print(f\"Number of Triples: {num_triples}\")\n",
    "    print(f\"Number of Memories (Reified Statements): {num_memories}\")\n",
    "    print(repr(working_memory))\n",
    "\n",
    "\n",
    "# Test working memory retrieval with different hops\n",
    "trigger_node = URIRef(\"https://example.org/person/Alice\")\n",
    "\n",
    "# Hop 0 - Just the immediate node (only the short-term memories involving Alice)\n",
    "working_memory_hop_0 = memory_system.get_working_memory(\n",
    "    trigger_node=trigger_node, hops=0\n",
    ")\n",
    "print_memory_statistics(working_memory_hop_0, 0)\n",
    "\n",
    "# Hop 1 - Immediate neighbors (both incoming and outgoing edges)\n",
    "working_memory_hop_1 = memory_system.get_working_memory(\n",
    "    trigger_node=trigger_node, hops=1\n",
    ")\n",
    "print_memory_statistics(working_memory_hop_1, 1)\n",
    "\n",
    "# Hop 2 - 2-hop neighbors (further expansion of relationships)\n",
    "working_memory_hop_2 = memory_system.get_working_memory(\n",
    "    trigger_node=trigger_node, hops=2\n",
    ")\n",
    "print_memory_statistics(working_memory_hop_2, 2)\n",
    "\n",
    "# Hop 3 - 3-hop neighbors (going even further in the memory graph)\n",
    "working_memory_hop_3 = memory_system.get_working_memory(\n",
    "    trigger_node=trigger_node, hops=3\n",
    ")\n",
    "print_memory_statistics(working_memory_hop_3, 3)\n",
    "\n",
    "# Hop 4 - Maximum depth\n",
    "working_memory_hop_4 = memory_system.get_working_memory(\n",
    "    trigger_node=trigger_node, hops=4\n",
    ")\n",
    "print_memory_statistics(working_memory_hop_4, 4)\n",
    "\n",
    "# Hop 5 - Maximum depth\n",
    "working_memory_hop_5 = memory_system.get_working_memory(\n",
    "    trigger_node=trigger_node, hops=5\n",
    ")\n",
    "print_memory_statistics(working_memory_hop_5, 5)\n",
    "\n",
    "# Example: Get working memory with all long-term memories included\n",
    "working_memory_all = memory_system.get_working_memory(include_all_long_term=True)\n",
    "print_memory_statistics(working_memory_all, \"All long-term\")"
   ]
  },
  {
   "cell_type": "code",
   "execution_count": null,
   "metadata": {},
   "outputs": [],
   "source": [
    "[triples[0]]"
   ]
  },
  {
   "cell_type": "code",
   "execution_count": null,
   "metadata": {},
   "outputs": [],
   "source": [
    "memory_system"
   ]
  },
  {
   "cell_type": "code",
   "execution_count": 3,
   "metadata": {},
   "outputs": [],
   "source": [
    "memory_system.memory.save_to_ttl(\"foo.ttl\")"
   ]
  },
  {
   "cell_type": "code",
   "execution_count": null,
   "metadata": {},
   "outputs": [],
   "source": [
    "import logging\n",
    "from rdflib import URIRef, Namespace\n",
    "from humemai import MemorySystem\n",
    "\n",
    "# Define the custom namespace for humemai ontology\n",
    "humemai = Namespace(\"https://humem.ai/ontology#\")\n",
    "\n",
    "# Turn off debug logging\n",
    "logging.getLogger(\"humemai\").setLevel(logging.WARNING)\n",
    "\n",
    "# Initialize the memory system\n",
    "memory_system = MemorySystem()\n",
    "\n",
    "memory_system.memory.load_from_ttl(\"foo.ttl\")\n",
    "\n",
    "memory_system"
   ]
  },
  {
   "cell_type": "code",
   "execution_count": null,
   "metadata": {},
   "outputs": [],
   "source": [
    "memory_system.memory"
   ]
  },
  {
   "cell_type": "code",
   "execution_count": null,
   "metadata": {},
   "outputs": [],
   "source": [
    "memory_system.memory.get_main_triple_count_except_event()"
   ]
  },
  {
   "cell_type": "code",
   "execution_count": null,
   "metadata": {},
   "outputs": [],
   "source": [
    "memory_system.memory.get_memory_count()"
   ]
  },
  {
   "cell_type": "code",
   "execution_count": null,
   "metadata": {},
   "outputs": [],
   "source": [
    "memory_system.memory.get_short_term_memory_count()"
   ]
  },
  {
   "cell_type": "markdown",
   "metadata": {},
   "source": []
  },
  {
   "cell_type": "code",
   "execution_count": null,
   "metadata": {},
   "outputs": [],
   "source": [
    "memory_system.memory.get_long_term_memory_count()"
   ]
  },
  {
   "cell_type": "code",
   "execution_count": null,
   "metadata": {},
   "outputs": [],
   "source": [
    "memory_system.memory.get_long_term_episodic_memory_count()"
   ]
  },
  {
   "cell_type": "code",
   "execution_count": null,
   "metadata": {},
   "outputs": [],
   "source": [
    "memory_system.memory.get_long_term_semantic_memory_count()"
   ]
  },
  {
   "cell_type": "code",
   "execution_count": null,
   "metadata": {},
   "outputs": [],
   "source": [
    "for memory in memory_system.memory.iterate_memories(\"short_term\"):\n",
    "    print(memory)"
   ]
  },
  {
   "cell_type": "code",
   "execution_count": null,
   "metadata": {},
   "outputs": [],
   "source": [
    "len(list(memory_system.memory.iterate_memories(\"long_term\")))"
   ]
  },
  {
   "cell_type": "code",
   "execution_count": null,
   "metadata": {},
   "outputs": [],
   "source": [
    "for memory in memory_system.memory.iterate_memories(\"long_term\"):\n",
    "    print(memory)"
   ]
  },
  {
   "cell_type": "code",
   "execution_count": null,
   "metadata": {},
   "outputs": [],
   "source": [
    "for memory in memory_system.memory.iterate_memories(\"episodic\"):\n",
    "    print(memory)"
   ]
  },
  {
   "cell_type": "code",
   "execution_count": null,
   "metadata": {},
   "outputs": [],
   "source": [
    "for memory in memory_system.memory.iterate_memories(\"semantic\"):\n",
    "    print(memory)"
   ]
  },
  {
   "cell_type": "code",
   "execution_count": null,
   "metadata": {},
   "outputs": [],
   "source": [
    "len(list(memory_system.memory.iterate_memories()))"
   ]
  },
  {
   "cell_type": "code",
   "execution_count": null,
   "metadata": {},
   "outputs": [],
   "source": [
    "for memory in memory_system.memory.iterate_memories():\n",
    "    print(memory)"
   ]
  },
  {
   "cell_type": "code",
   "execution_count": null,
   "metadata": {},
   "outputs": [],
   "source": [
    "memory"
   ]
  }
 ],
 "metadata": {
  "kernelspec": {
   "display_name": "humemai",
   "language": "python",
   "name": "python3"
  },
  "language_info": {
   "codemirror_mode": {
    "name": "ipython",
    "version": 3
   },
   "file_extension": ".py",
   "mimetype": "text/x-python",
   "name": "python",
   "nbconvert_exporter": "python",
   "pygments_lexer": "ipython3",
   "version": "3.10.12"
  }
 },
 "nbformat": 4,
 "nbformat_minor": 2
}
