{
 "cells": [
  {
   "cell_type": "code",
   "execution_count": 1,
   "metadata": {},
   "outputs": [
    {
     "name": "stdout",
     "output_type": "stream",
     "text": [
      "Triple: (https://example.org/person/Charlie, https://humem.ai/ontology/currentTime, 2024-10-04T12:30:06.141966)\n",
      "Triple: (https://example.org/person/Alice, https://humem.ai/ontology/currentTime, 2024-04-27T10:00:00)\n",
      "\n",
      "Retrieved currentTime values:\n",
      "currentTime value: 2024-04-27T10:00:00\n",
      "currentTime value: 2024-10-04T12:30:06.141966\n",
      "\n",
      "All triples with currentTime predicate:\n",
      "Subject: https://example.org/person/Alice, currentTime: 2024-04-27T10:00:00\n",
      "Subject: https://example.org/person/Charlie, currentTime: 2024-10-04T12:30:06.141966\n"
     ]
    }
   ],
   "source": [
    "from rdflib import Graph, URIRef, Literal, Namespace\n",
    "from rdflib.namespace import XSD, RDF\n",
    "from datetime import datetime\n",
    "\n",
    "# Create a namespace for humemai\n",
    "humemai = Namespace(\"https://humem.ai/ontology/\")\n",
    "\n",
    "# Initialize the RDF graph\n",
    "graph = Graph()\n",
    "graph.bind(\"humemai\", humemai)\n",
    "\n",
    "# Define some sample triples with currentTime\n",
    "triple1 = (\n",
    "    URIRef(\"https://example.org/person/Alice\"),\n",
    "    humemai.currentTime,\n",
    "    Literal(\"2024-04-27T10:00:00\", datatype=XSD.dateTime),\n",
    ")\n",
    "\n",
    "triple2 = (\n",
    "    URIRef(\"https://example.org/person/Charlie\"),\n",
    "    humemai.currentTime,\n",
    "    Literal(datetime.now().isoformat(), datatype=XSD.dateTime),\n",
    ")\n",
    "\n",
    "# Add the triples to the graph\n",
    "graph.add(triple1)\n",
    "graph.add(triple2)\n",
    "\n",
    "# Display all triples in the graph\n",
    "for subj, pred, obj in graph:\n",
    "    print(f\"Triple: ({subj}, {pred}, {obj})\")\n",
    "\n",
    "# Use graph.objects() to iterate over all currentTime values\n",
    "print(\"\\nRetrieved currentTime values:\")\n",
    "for obj in graph.objects(None, humemai.currentTime):\n",
    "    print(f\"currentTime value: {obj}\")\n",
    "\n",
    "# Alternative: If you want to retrieve all triples with currentTime:\n",
    "print(\"\\nAll triples with currentTime predicate:\")\n",
    "for subj, obj in graph.subject_objects(humemai.currentTime):\n",
    "    print(f\"Subject: {subj}, currentTime: {obj}\")\n"
   ]
  },
  {
   "cell_type": "code",
   "execution_count": 2,
   "metadata": {},
   "outputs": [
    {
     "data": {
      "text/plain": [
       "rdflib.term.Literal('2024-04-27T10:00:00', datatype=rdflib.term.URIRef('http://www.w3.org/2001/XMLSchema#dateTime'))"
      ]
     },
     "execution_count": 2,
     "metadata": {},
     "output_type": "execute_result"
    }
   ],
   "source": [
    "graph.value(URIRef(\"https://example.org/person/Alice\"), humemai.currentTime)"
   ]
  },
  {
   "cell_type": "code",
   "execution_count": 3,
   "metadata": {},
   "outputs": [
    {
     "name": "stdout",
     "output_type": "stream",
     "text": [
      "https://example.org/person/Charlie https://humem.ai/ontology/currentTime 2024-10-04T12:30:06.141966\n",
      "https://example.org/person/Alice https://humem.ai/ontology/currentTime 2024-04-27T10:00:00\n"
     ]
    }
   ],
   "source": [
    "for s, p, o in graph:\n",
    "    print(s, p, o)"
   ]
  },
  {
   "cell_type": "code",
   "execution_count": 4,
   "metadata": {},
   "outputs": [
    {
     "ename": "ValueError",
     "evalue": "Qualifier key foo must be a URIRef.",
     "output_type": "error",
     "traceback": [
      "\u001b[0;31m---------------------------------------------------------------------------\u001b[0m",
      "\u001b[0;31mValueError\u001b[0m                                Traceback (most recent call last)",
      "Cell \u001b[0;32mIn[4], line 14\u001b[0m\n\u001b[1;32m     12\u001b[0m \u001b[38;5;66;03m# Initialize the memory system\u001b[39;00m\n\u001b[1;32m     13\u001b[0m memory_system \u001b[38;5;241m=\u001b[39m MemorySystem()\n\u001b[0;32m---> 14\u001b[0m \u001b[43mmemory_system\u001b[49m\u001b[38;5;241;43m.\u001b[39;49m\u001b[43mmemory\u001b[49m\u001b[38;5;241;43m.\u001b[39;49m\u001b[43madd_memory\u001b[49m\u001b[43m(\u001b[49m\n\u001b[1;32m     15\u001b[0m \u001b[43m    \u001b[49m\u001b[43m[\u001b[49m\u001b[43m(\u001b[49m\u001b[43mhumemai\u001b[49m\u001b[38;5;241;43m.\u001b[39;49m\u001b[43mfoo\u001b[49m\u001b[43m,\u001b[49m\u001b[43m \u001b[49m\u001b[43mhumemai\u001b[49m\u001b[38;5;241;43m.\u001b[39;49m\u001b[43mbar\u001b[49m\u001b[43m,\u001b[49m\u001b[43m \u001b[49m\u001b[43mhumemai\u001b[49m\u001b[38;5;241;43m.\u001b[39;49m\u001b[43mbaz\u001b[49m\u001b[43m)\u001b[49m\u001b[43m,\u001b[49m\u001b[43m \u001b[49m\u001b[43m(\u001b[49m\u001b[43mhumemai\u001b[49m\u001b[38;5;241;43m.\u001b[39;49m\u001b[43mfoo\u001b[49m\u001b[43m,\u001b[49m\u001b[43m \u001b[49m\u001b[43mhumemai\u001b[49m\u001b[38;5;241;43m.\u001b[39;49m\u001b[43mbar\u001b[49m\u001b[43m,\u001b[49m\u001b[43m \u001b[49m\u001b[43mhumemai\u001b[49m\u001b[38;5;241;43m.\u001b[39;49m\u001b[43mbaz\u001b[49m\u001b[43m)\u001b[49m\u001b[43m]\u001b[49m\u001b[43m,\u001b[49m\n\u001b[1;32m     16\u001b[0m \u001b[43m    \u001b[49m\u001b[43m{\u001b[49m\u001b[38;5;124;43m\"\u001b[39;49m\u001b[38;5;124;43mfoo\u001b[39;49m\u001b[38;5;124;43m\"\u001b[39;49m\u001b[43m:\u001b[49m\u001b[43m \u001b[49m\u001b[38;5;124;43m\"\u001b[39;49m\u001b[38;5;124;43mbar\u001b[39;49m\u001b[38;5;124;43m\"\u001b[39;49m\u001b[43m}\u001b[49m\u001b[43m,\u001b[49m\n\u001b[1;32m     17\u001b[0m \u001b[43m)\u001b[49m\n\u001b[1;32m     18\u001b[0m memory_system\n",
      "File \u001b[0;32m~/repos/humemai/humemai/memory.py:74\u001b[0m, in \u001b[0;36mMemory.add_memory\u001b[0;34m(self, triples, qualifiers)\u001b[0m\n\u001b[1;32m     72\u001b[0m \u001b[38;5;28;01mfor\u001b[39;00m key, value \u001b[38;5;129;01min\u001b[39;00m qualifiers\u001b[38;5;241m.\u001b[39mitems():\n\u001b[1;32m     73\u001b[0m     \u001b[38;5;28;01mif\u001b[39;00m \u001b[38;5;129;01mnot\u001b[39;00m \u001b[38;5;28misinstance\u001b[39m(key, URIRef):\n\u001b[0;32m---> 74\u001b[0m         \u001b[38;5;28;01mraise\u001b[39;00m \u001b[38;5;167;01mValueError\u001b[39;00m(\u001b[38;5;124mf\u001b[39m\u001b[38;5;124m\"\u001b[39m\u001b[38;5;124mQualifier key \u001b[39m\u001b[38;5;132;01m{\u001b[39;00mkey\u001b[38;5;132;01m}\u001b[39;00m\u001b[38;5;124m must be a URIRef.\u001b[39m\u001b[38;5;124m\"\u001b[39m)\n\u001b[1;32m     75\u001b[0m     \u001b[38;5;28;01mif\u001b[39;00m \u001b[38;5;129;01mnot\u001b[39;00m \u001b[38;5;28misinstance\u001b[39m(value, (URIRef, Literal)):\n\u001b[1;32m     76\u001b[0m         \u001b[38;5;28;01mraise\u001b[39;00m \u001b[38;5;167;01mValueError\u001b[39;00m(\n\u001b[1;32m     77\u001b[0m             \u001b[38;5;124mf\u001b[39m\u001b[38;5;124m\"\u001b[39m\u001b[38;5;124mQualifier value \u001b[39m\u001b[38;5;132;01m{\u001b[39;00mvalue\u001b[38;5;132;01m}\u001b[39;00m\u001b[38;5;124m must be a URIRef or Literal.\u001b[39m\u001b[38;5;124m\"\u001b[39m\n\u001b[1;32m     78\u001b[0m         )\n",
      "\u001b[0;31mValueError\u001b[0m: Qualifier key foo must be a URIRef."
     ]
    }
   ],
   "source": [
    "import logging\n",
    "from rdflib import URIRef, Namespace\n",
    "from humemai import MemorySystem\n",
    "from rdflib import BNode, Graph, Literal, Namespace, URIRef\n",
    "\n",
    "# Define the custom namespace for humemai ontology\n",
    "humemai = Namespace(\"https://humem.ai/ontology/\")\n",
    "\n",
    "# Turn off debug logging\n",
    "logging.getLogger(\"humemai\").setLevel(logging.WARNING)\n",
    "\n",
    "# Initialize the memory system\n",
    "memory_system = MemorySystem()\n",
    "memory_system.memory.add_memory(\n",
    "    [(humemai.foo, humemai.bar, humemai.baz), (humemai.foo, humemai.bar, humemai.baz)],\n",
    "    {\"foo\": \"bar\"},\n",
    ")\n",
    "memory_system"
   ]
  },
  {
   "cell_type": "code",
   "execution_count": 69,
   "metadata": {},
   "outputs": [
    {
     "data": {
      "text/plain": [
       "rdflib.term.URIRef('http://www.w3.org/1999/02/22-rdf-syntax-ns#subject')"
      ]
     },
     "execution_count": 69,
     "metadata": {},
     "output_type": "execute_result"
    }
   ],
   "source": [
    "RDF.subject"
   ]
  },
  {
   "cell_type": "code",
   "execution_count": 73,
   "metadata": {},
   "outputs": [],
   "source": [
    "from datetime import datetime\n",
    "\n",
    "foo = Literal(datetime.now().isoformat(), datatype=XSD.dateTime)"
   ]
  },
  {
   "cell_type": "code",
   "execution_count": 76,
   "metadata": {},
   "outputs": [
    {
     "data": {
      "text/plain": [
       "rdflib.term.Literal('dd')"
      ]
     },
     "execution_count": 76,
     "metadata": {},
     "output_type": "execute_result"
    }
   ],
   "source": [
    "Literal(\"dd\")"
   ]
  },
  {
   "cell_type": "code",
   "execution_count": null,
   "metadata": {},
   "outputs": [
    {
     "data": {
      "text/plain": [
       "[P4069, hasSituation, S00, {'memoryID': '0', 'location': 'USAR', 'time': '2024-05-03T13:41:23', 'event': 'CP000', 'recalled': '0'}]"
      ]
     },
     "metadata": {},
     "output_type": "display_data"
    }
   ],
   "source": [
    "memory_system.memory.get_memories(event=\"CP000\")"
   ]
  },
  {
   "cell_type": "code",
   "execution_count": null,
   "metadata": {},
   "outputs": [
    {
     "data": {
      "text/plain": [
       "[P4069, hasSituation, S00, {'memoryID': '0', 'location': 'USAR', 'time': '2024-05-03T13:41:23', 'event': 'CP000', 'recalled': '0'}]"
      ]
     },
     "metadata": {},
     "output_type": "display_data"
    }
   ],
   "source": [
    "memory_system.memory.get_memories(event=\"CP000\")"
   ]
  },
  {
   "cell_type": "code",
   "execution_count": null,
   "metadata": {},
   "outputs": [
    {
     "data": {
      "text/plain": [
       "[P4069, hasSituation, S00, {'memoryID': '0', 'location': 'USAR', 'time': '2024-05-03T13:41:23', 'event': 'CP000', 'recalled': '0'}]"
      ]
     },
     "metadata": {},
     "output_type": "display_data"
    }
   ],
   "source": [
    "memory_system.memory.get_memories(event=\"CP000\")"
   ]
  },
  {
   "cell_type": "code",
   "execution_count": 75,
   "metadata": {},
   "outputs": [
    {
     "data": {
      "text/plain": [
       "'2024-10-04T10:56:54.117753'"
      ]
     },
     "execution_count": 75,
     "metadata": {},
     "output_type": "execute_result"
    }
   ],
   "source": [
    "str(foo)"
   ]
  },
  {
   "cell_type": "code",
   "execution_count": 72,
   "metadata": {},
   "outputs": [
    {
     "data": {
      "text/plain": [
       "'\"2024-10-04T10:37:02.644971\"^^<http://www.w3.org/2001/XMLSchema#dateTime>'"
      ]
     },
     "execution_count": 72,
     "metadata": {},
     "output_type": "execute_result"
    }
   ],
   "source": [
    "foo.n3()"
   ]
  },
  {
   "cell_type": "code",
   "execution_count": 68,
   "metadata": {},
   "outputs": [
    {
     "data": {
      "text/plain": [
       "False"
      ]
     },
     "execution_count": 68,
     "metadata": {},
     "output_type": "execute_result"
    }
   ],
   "source": [
    "foo.datatype == XSD.dateTime"
   ]
  },
  {
   "cell_type": "code",
   "execution_count": 62,
   "metadata": {},
   "outputs": [
    {
     "data": {
      "text/plain": [
       "rdflib.term.Literal('2024-10-04T10:13:43.281562', datatype=rdflib.term.URIRef('http://www.w3.org/2001/XMLSchema#dateTime'))"
      ]
     },
     "execution_count": 62,
     "metadata": {},
     "output_type": "execute_result"
    }
   ],
   "source": [
    "foo is aiterf"
   ]
  },
  {
   "cell_type": "code",
   "execution_count": 53,
   "metadata": {},
   "outputs": [
    {
     "data": {
      "text/plain": [
       "rdflib.term.URIRef('https://humem.ai/ontology/currentTime')"
      ]
     },
     "execution_count": 53,
     "metadata": {},
     "output_type": "execute_result"
    }
   ],
   "source": [
    "URIRef(\"https://humem.ai/ontology/currentTime\")"
   ]
  },
  {
   "cell_type": "code",
   "execution_count": 54,
   "metadata": {},
   "outputs": [
    {
     "data": {
      "text/plain": [
       "True"
      ]
     },
     "execution_count": 54,
     "metadata": {},
     "output_type": "execute_result"
    }
   ],
   "source": [
    "humemai.currentTime in {URIRef(\"https://humem.ai/ontology/currentTime\"):1}"
   ]
  },
  {
   "cell_type": "code",
   "execution_count": 50,
   "metadata": {},
   "outputs": [
    {
     "data": {
      "text/plain": [
       "rdflib.term.Literal('bar')"
      ]
     },
     "execution_count": 50,
     "metadata": {},
     "output_type": "execute_result"
    }
   ],
   "source": [
    "Literal(\"bar\")"
   ]
  },
  {
   "cell_type": "code",
   "execution_count": 46,
   "metadata": {},
   "outputs": [
    {
     "data": {
      "text/plain": [
       "{rdflib.term.Literal('bar'): 1}"
      ]
     },
     "execution_count": 46,
     "metadata": {},
     "output_type": "execute_result"
    }
   ],
   "source": [
    "def foo(bar: Literal) -> Literal:\n",
    "    return bar\n",
    "\n",
    "foo"
   ]
  },
  {
   "cell_type": "code",
   "execution_count": 47,
   "metadata": {},
   "outputs": [
    {
     "data": {
      "text/plain": [
       "rdflib.term.Literal('2023-10-01T10:00:00', datatype=rdflib.term.URIRef('http://www.w3.org/2001/XMLSchema#dateTime'))"
      ]
     },
     "execution_count": 47,
     "metadata": {},
     "output_type": "execute_result"
    }
   ],
   "source": [
    "event_time = \"2023-10-01T10:00:00\"\n",
    "\n",
    "Literal(event_time, datatype=XSD.dateTime)"
   ]
  },
  {
   "cell_type": "code",
   "execution_count": null,
   "metadata": {},
   "outputs": [],
   "source": []
  },
  {
   "cell_type": "code",
   "execution_count": 48,
   "metadata": {},
   "outputs": [
    {
     "data": {
      "text/plain": [
       "rdflib.term.URIRef('https://humem.ai/ontology/Event')"
      ]
     },
     "execution_count": 48,
     "metadata": {},
     "output_type": "execute_result"
    }
   ],
   "source": [
    "humemai.Event"
   ]
  },
  {
   "cell_type": "code",
   "execution_count": 26,
   "metadata": {},
   "outputs": [],
   "source": [
    "from rdflib.namespace import RDF, XSD"
   ]
  },
  {
   "cell_type": "code",
   "execution_count": 30,
   "metadata": {},
   "outputs": [
    {
     "data": {
      "text/plain": [
       "Namespace('http://www.w3.org/1999/02/22-rdf-syntax-ns#')"
      ]
     },
     "execution_count": 30,
     "metadata": {},
     "output_type": "execute_result"
    }
   ],
   "source": [
    "RDF"
   ]
  },
  {
   "cell_type": "code",
   "execution_count": 28,
   "metadata": {},
   "outputs": [
    {
     "name": "stderr",
     "output_type": "stream",
     "text": [
      "/home/tk/.virtualenvs/humemai/lib/python3.10/site-packages/IPython/utils/dir2.py:65: UserWarning: Code: _ipython_canary_method_should_not_exist_ is not defined in namespace XSD\n",
      "  canary = getattr(obj, '_ipython_canary_method_should_not_exist_', None)\n"
     ]
    },
    {
     "data": {
      "text/plain": [
       "Namespace('http://www.w3.org/2001/XMLSchema#')"
      ]
     },
     "execution_count": 28,
     "metadata": {},
     "output_type": "execute_result"
    }
   ],
   "source": [
    "XSD"
   ]
  },
  {
   "cell_type": "code",
   "execution_count": 25,
   "metadata": {},
   "outputs": [
    {
     "data": {
      "text/plain": [
       "rdflib.term.URIRef('https://humem.ai/ontology/foo')"
      ]
     },
     "execution_count": 25,
     "metadata": {},
     "output_type": "execute_result"
    }
   ],
   "source": [
    "URIRef(URIRef(\"https://humem.ai/ontology/foo\"))"
   ]
  },
  {
   "cell_type": "code",
   "execution_count": 23,
   "metadata": {},
   "outputs": [
    {
     "ename": "AssertionError",
     "evalue": "Subject a must be an rdflib term",
     "output_type": "error",
     "traceback": [
      "\u001b[0;31m---------------------------------------------------------------------------\u001b[0m",
      "\u001b[0;31mAssertionError\u001b[0m                            Traceback (most recent call last)",
      "Cell \u001b[0;32mIn[23], line 3\u001b[0m\n\u001b[1;32m      1\u001b[0m g \u001b[38;5;241m=\u001b[39m Graph()\n\u001b[0;32m----> 3\u001b[0m \u001b[43mg\u001b[49m\u001b[38;5;241;43m.\u001b[39;49m\u001b[43madd\u001b[49m\u001b[43m(\u001b[49m\u001b[43m(\u001b[49m\u001b[38;5;124;43m\"\u001b[39;49m\u001b[38;5;124;43ma\u001b[39;49m\u001b[38;5;124;43m\"\u001b[39;49m\u001b[43m,\u001b[49m\u001b[43m \u001b[49m\u001b[38;5;124;43m\"\u001b[39;49m\u001b[38;5;124;43mb\u001b[39;49m\u001b[38;5;124;43m\"\u001b[39;49m\u001b[43m,\u001b[49m\u001b[43m \u001b[49m\u001b[38;5;124;43m\"\u001b[39;49m\u001b[38;5;124;43mc\u001b[39;49m\u001b[38;5;124;43m\"\u001b[39;49m\u001b[43m)\u001b[49m\u001b[43m)\u001b[49m\n",
      "File \u001b[0;32m~/.virtualenvs/humemai/lib/python3.10/site-packages/rdflib/graph.py:530\u001b[0m, in \u001b[0;36mGraph.add\u001b[0;34m(self, triple)\u001b[0m\n\u001b[1;32m    528\u001b[0m \u001b[38;5;250m\u001b[39m\u001b[38;5;124;03m\"\"\"Add a triple with self as context\"\"\"\u001b[39;00m\n\u001b[1;32m    529\u001b[0m s, p, o \u001b[38;5;241m=\u001b[39m triple\n\u001b[0;32m--> 530\u001b[0m \u001b[38;5;28;01massert\u001b[39;00m \u001b[38;5;28misinstance\u001b[39m(s, Node), \u001b[38;5;124m\"\u001b[39m\u001b[38;5;124mSubject \u001b[39m\u001b[38;5;132;01m%s\u001b[39;00m\u001b[38;5;124m must be an rdflib term\u001b[39m\u001b[38;5;124m\"\u001b[39m \u001b[38;5;241m%\u001b[39m (s,)\n\u001b[1;32m    531\u001b[0m \u001b[38;5;28;01massert\u001b[39;00m \u001b[38;5;28misinstance\u001b[39m(p, Node), \u001b[38;5;124m\"\u001b[39m\u001b[38;5;124mPredicate \u001b[39m\u001b[38;5;132;01m%s\u001b[39;00m\u001b[38;5;124m must be an rdflib term\u001b[39m\u001b[38;5;124m\"\u001b[39m \u001b[38;5;241m%\u001b[39m (p,)\n\u001b[1;32m    532\u001b[0m \u001b[38;5;28;01massert\u001b[39;00m \u001b[38;5;28misinstance\u001b[39m(o, Node), \u001b[38;5;124m\"\u001b[39m\u001b[38;5;124mObject \u001b[39m\u001b[38;5;132;01m%s\u001b[39;00m\u001b[38;5;124m must be an rdflib term\u001b[39m\u001b[38;5;124m\"\u001b[39m \u001b[38;5;241m%\u001b[39m (o,)\n",
      "\u001b[0;31mAssertionError\u001b[0m: Subject a must be an rdflib term"
     ]
    }
   ],
   "source": [
    "g = Graph()\n",
    "\n",
    "g.add((\"a\", \"b\", \"c\"))"
   ]
  },
  {
   "cell_type": "code",
   "execution_count": 20,
   "metadata": {},
   "outputs": [
    {
     "data": {
      "text/plain": [
       "{'a': 1, rdflib.term.URIRef('https://humem.ai/ontology/currentTime'): 1}"
      ]
     },
     "execution_count": 20,
     "metadata": {},
     "output_type": "execute_result"
    }
   ],
   "source": [
    "{\"a\": 1, **{humemai.currentTime: 1}}"
   ]
  },
  {
   "cell_type": "code",
   "execution_count": 17,
   "metadata": {},
   "outputs": [
    {
     "data": {
      "text/plain": [
       "datetime.datetime(2024, 4, 27, 15, 0)"
      ]
     },
     "execution_count": 17,
     "metadata": {},
     "output_type": "execute_result"
    }
   ],
   "source": [
    "from datetime import datetime\n",
    "\n",
    "\n",
    "datetime.fromisoformat(\"2024-04-27T15:00:00\")"
   ]
  },
  {
   "cell_type": "code",
   "execution_count": 14,
   "metadata": {},
   "outputs": [
    {
     "data": {
      "text/plain": [
       "True"
      ]
     },
     "execution_count": 14,
     "metadata": {},
     "output_type": "execute_result"
    }
   ],
   "source": [
    "foo = {\"d\": 1}.get(1)\n",
    "foo == None"
   ]
  },
  {
   "cell_type": "code",
   "execution_count": 9,
   "metadata": {},
   "outputs": [
    {
     "name": "stdout",
     "output_type": "stream",
     "text": [
      "asdf\n"
     ]
    }
   ],
   "source": [
    "if {\"a\": 1}:\n",
    "    print('asdf')"
   ]
  },
  {
   "cell_type": "code",
   "execution_count": 7,
   "metadata": {},
   "outputs": [
    {
     "data": {
      "text/plain": [
       "rdflib.term.URIRef('https://humem.ai/ontology/Foo')"
      ]
     },
     "execution_count": 7,
     "metadata": {},
     "output_type": "execute_result"
    }
   ],
   "source": [
    "humemai.Foo"
   ]
  },
  {
   "cell_type": "code",
   "execution_count": 22,
   "metadata": {},
   "outputs": [
    {
     "data": {
      "text/plain": [
       "rdflib.term.Literal('1', datatype=rdflib.term.URIRef('http://www.w3.org/2001/XMLSchema#integer'))"
      ]
     },
     "execution_count": 22,
     "metadata": {},
     "output_type": "execute_result"
    }
   ],
   "source": [
    "Literal(1)"
   ]
  },
  {
   "cell_type": "code",
   "execution_count": 17,
   "metadata": {},
   "outputs": [
    {
     "data": {
      "text/plain": [
       "1"
      ]
     },
     "execution_count": 17,
     "metadata": {},
     "output_type": "execute_result"
    }
   ],
   "source": [
    "memory_system.memory.get_triple_count_except_event()"
   ]
  },
  {
   "cell_type": "code",
   "execution_count": 5,
   "metadata": {},
   "outputs": [
    {
     "data": {
      "text/plain": [
       "{'a': 'b'}"
      ]
     },
     "execution_count": 5,
     "metadata": {},
     "output_type": "execute_result"
    }
   ],
   "source": [
    "my_dict = {}\n",
    "{\"a\": \"b\", **my_dict}"
   ]
  },
  {
   "cell_type": "code",
   "execution_count": 1,
   "metadata": {},
   "outputs": [
    {
     "ename": "AttributeError",
     "evalue": "'Memory' object has no attribute 'add_long_term_memory'",
     "output_type": "error",
     "traceback": [
      "\u001b[0;31m---------------------------------------------------------------------------\u001b[0m",
      "\u001b[0;31mAttributeError\u001b[0m                            Traceback (most recent call last)",
      "Cell \u001b[0;32mIn[1], line 94\u001b[0m\n\u001b[1;32m     86\u001b[0m episodic_qualifiers_3 \u001b[38;5;241m=\u001b[39m {\n\u001b[1;32m     87\u001b[0m     \u001b[38;5;124m\"\u001b[39m\u001b[38;5;124mlocation\u001b[39m\u001b[38;5;124m\"\u001b[39m: \u001b[38;5;124m\"\u001b[39m\u001b[38;5;124mParis\u001b[39m\u001b[38;5;124m\"\u001b[39m,\n\u001b[1;32m     88\u001b[0m     \u001b[38;5;124m\"\u001b[39m\u001b[38;5;124mtime\u001b[39m\u001b[38;5;124m\"\u001b[39m: \u001b[38;5;124m\"\u001b[39m\u001b[38;5;124m2024-05-03T14:00:00\u001b[39m\u001b[38;5;124m\"\u001b[39m,\n\u001b[1;32m     89\u001b[0m     \u001b[38;5;124m\"\u001b[39m\u001b[38;5;124memotion\u001b[39m\u001b[38;5;124m\"\u001b[39m: \u001b[38;5;124m\"\u001b[39m\u001b[38;5;124mcurious\u001b[39m\u001b[38;5;124m\"\u001b[39m,\n\u001b[1;32m     90\u001b[0m     \u001b[38;5;124m\"\u001b[39m\u001b[38;5;124mevent\u001b[39m\u001b[38;5;124m\"\u001b[39m: \u001b[38;5;124m\"\u001b[39m\u001b[38;5;124mWorkshop\u001b[39m\u001b[38;5;124m\"\u001b[39m,\n\u001b[1;32m     91\u001b[0m }\n\u001b[1;32m     93\u001b[0m \u001b[38;5;66;03m# Add long-term episodic memories\u001b[39;00m\n\u001b[0;32m---> 94\u001b[0m \u001b[43mmemory_system\u001b[49m\u001b[38;5;241;43m.\u001b[39;49m\u001b[43mmemory\u001b[49m\u001b[38;5;241;43m.\u001b[39;49m\u001b[43madd_long_term_memory\u001b[49m(\n\u001b[1;32m     95\u001b[0m     \u001b[38;5;124m\"\u001b[39m\u001b[38;5;124mepisodic\u001b[39m\u001b[38;5;124m\"\u001b[39m, [triples[\u001b[38;5;241m0\u001b[39m]], \u001b[38;5;241m*\u001b[39m\u001b[38;5;241m*\u001b[39mepisodic_qualifiers_1\n\u001b[1;32m     96\u001b[0m )\n\u001b[1;32m     97\u001b[0m memory_system\u001b[38;5;241m.\u001b[39mmemory\u001b[38;5;241m.\u001b[39madd_long_term_memory(\n\u001b[1;32m     98\u001b[0m     \u001b[38;5;124m\"\u001b[39m\u001b[38;5;124mepisodic\u001b[39m\u001b[38;5;124m\"\u001b[39m, [triples[\u001b[38;5;241m1\u001b[39m]], \u001b[38;5;241m*\u001b[39m\u001b[38;5;241m*\u001b[39mepisodic_qualifiers_2\n\u001b[1;32m     99\u001b[0m )\n\u001b[1;32m    100\u001b[0m memory_system\u001b[38;5;241m.\u001b[39mmemory\u001b[38;5;241m.\u001b[39madd_long_term_memory(\n\u001b[1;32m    101\u001b[0m     \u001b[38;5;124m\"\u001b[39m\u001b[38;5;124mepisodic\u001b[39m\u001b[38;5;124m\"\u001b[39m, [triples[\u001b[38;5;241m2\u001b[39m]], \u001b[38;5;241m*\u001b[39m\u001b[38;5;241m*\u001b[39mepisodic_qualifiers_3\n\u001b[1;32m    102\u001b[0m )\n",
      "\u001b[0;31mAttributeError\u001b[0m: 'Memory' object has no attribute 'add_long_term_memory'"
     ]
    }
   ],
   "source": [
    "import logging\n",
    "from rdflib import URIRef, Namespace\n",
    "from humemai import MemorySystem\n",
    "\n",
    "# Define the custom namespace for humemai ontology\n",
    "humemai = Namespace(\"https://humem.ai/ontology/\")\n",
    "\n",
    "# Turn off debug logging\n",
    "logging.getLogger(\"humemai\").setLevel(logging.WARNING)\n",
    "\n",
    "# Initialize the memory system\n",
    "memory_system = MemorySystem()\n",
    "\n",
    "# Define multiple triples\n",
    "triples = [\n",
    "    (\n",
    "        URIRef(\"https://example.org/person/Alice\"),\n",
    "        URIRef(\"https://example.org/event/met\"),\n",
    "        URIRef(\"https://example.org/person/Bob\"),\n",
    "    ),  # 0\n",
    "    (\n",
    "        URIRef(\"https://example.org/person/Bob\"),\n",
    "        URIRef(\"https://example.org/event/met\"),\n",
    "        URIRef(\"https://example.org/person/Charlie\"),\n",
    "    ),  # 1\n",
    "    (\n",
    "        URIRef(\"https://example.org/person/Alice\"),\n",
    "        URIRef(\"https://example.org/relationship/knows\"),\n",
    "        URIRef(\"https://example.org/person/David\"),\n",
    "    ),  # 2\n",
    "    (\n",
    "        URIRef(\"https://example.org/person/Charlie\"),\n",
    "        URIRef(\"https://example.org/event/met\"),\n",
    "        URIRef(\"https://example.org/person/Eve\"),\n",
    "    ),  # 3\n",
    "    (\n",
    "        URIRef(\"https://example.org/person/David\"),\n",
    "        URIRef(\"https://example.org/event/invited\"),\n",
    "        URIRef(\"https://example.org/person/Alice\"),\n",
    "    ),  # 4\n",
    "    (\n",
    "        URIRef(\"https://example.org/person/Eve\"),\n",
    "        URIRef(\"https://example.org/relationship/worksWith\"),\n",
    "        URIRef(\"https://example.org/person/Bob\"),\n",
    "    ),  # 5\n",
    "    (\n",
    "        URIRef(\"https://example.org/person/Charlie\"),\n",
    "        URIRef(\"https://example.org/event/attended\"),\n",
    "        URIRef(\"https://example.org/person/Bob\"),\n",
    "    ),  # 6\n",
    "    (\n",
    "        URIRef(\"https://example.org/entity/Dog\"),\n",
    "        URIRef(\"https://example.org/relationship/is\"),\n",
    "        URIRef(\"https://example.org/entity/Animal\"),\n",
    "    ),  # 7\n",
    "    (\n",
    "        URIRef(\"https://example.org/person/Alice\"),\n",
    "        URIRef(\"https://example.org/relationship/owns\"),\n",
    "        URIRef(\"https://example.org/entity/Dog\"),\n",
    "    ),  # 8\n",
    "    (\n",
    "        URIRef(\"https://example.org/person/Eve\"),\n",
    "        URIRef(\"https://example.org/event/met\"),\n",
    "        URIRef(\"https://example.org/person/Alice\"),\n",
    "    ),  # 9\n",
    "    (\n",
    "        URIRef(\"https://example.org/person/John\"),\n",
    "        URIRef(\"https://example.org/relationship/loves\"),\n",
    "        URIRef(\"https://example.org/entity/Animal\"),\n",
    "    ),  # 10\n",
    "]\n",
    "\n",
    "# Define qualifiers for episodic memories\n",
    "episodic_qualifiers_1 = {\n",
    "    \"location\": \"New York\",\n",
    "    \"time\": \"2024-04-27T15:00:00\",\n",
    "    \"emotion\": \"happy\",\n",
    "    \"event\": \"Coffee meeting\",\n",
    "}\n",
    "episodic_qualifiers_2 = {\n",
    "    \"location\": \"London\",\n",
    "    \"time\": \"2024-05-01T10:00:00\",\n",
    "    \"emotion\": \"excited\",\n",
    "    \"event\": \"Conference meeting\",\n",
    "}\n",
    "episodic_qualifiers_3 = {\n",
    "    \"location\": \"Paris\",\n",
    "    \"time\": \"2024-05-03T14:00:00\",\n",
    "    \"emotion\": \"curious\",\n",
    "    \"event\": \"Workshop\",\n",
    "}\n",
    "\n",
    "# Add long-term episodic memories\n",
    "memory_system.memory.add_long_term_memory(\n",
    "    \"episodic\", [triples[0]], **episodic_qualifiers_1\n",
    ")\n",
    "memory_system.memory.add_long_term_memory(\n",
    "    \"episodic\", [triples[1]], **episodic_qualifiers_2\n",
    ")\n",
    "memory_system.memory.add_long_term_memory(\n",
    "    \"episodic\", [triples[2]], **episodic_qualifiers_3\n",
    ")\n",
    "memory_system.memory.add_long_term_memory(\n",
    "    \"episodic\", [triples[3]], **episodic_qualifiers_1\n",
    ")\n",
    "memory_system.memory.add_long_term_memory(\n",
    "    \"episodic\", [triples[4]], **episodic_qualifiers_2\n",
    ")\n",
    "memory_system.memory.add_long_term_memory(\n",
    "    \"episodic\", [triples[5]], **episodic_qualifiers_3\n",
    ")\n",
    "memory_system.memory.add_long_term_memory(\n",
    "    \"episodic\", [triples[6]], **episodic_qualifiers_1\n",
    ")\n",
    "memory_system.memory.add_long_term_memory(\n",
    "    \"episodic\", [triples[7]], **episodic_qualifiers_2\n",
    ")\n",
    "memory_system.memory.add_long_term_memory(\n",
    "    \"episodic\", [triples[8]], **episodic_qualifiers_3\n",
    ")\n",
    "memory_system.memory.add_long_term_memory(\n",
    "    \"episodic\", [triples[9]], **episodic_qualifiers_1\n",
    ")\n",
    "memory_system.memory.add_long_term_memory(\n",
    "    \"episodic\", [triples[10]], **episodic_qualifiers_2\n",
    ")\n",
    "\n",
    "\n",
    "# Add a semantic memory for the \"Dog\" entity\n",
    "semantic_qualifiers = {\"derivedFrom\": \"animal_research\", \"strength\": 5}\n",
    "memory_system.memory.add_long_term_memory(\n",
    "    \"semantic\", [triples[7]], **semantic_qualifiers\n",
    ")\n",
    "memory_system.memory.add_long_term_memory(\n",
    "    \"semantic\", [triples[7]], **semantic_qualifiers\n",
    ")\n",
    "memory_system.memory.add_long_term_memory(\n",
    "    \"semantic\", [triples[10]], **semantic_qualifiers\n",
    ")\n",
    "memory_system.memory.add_long_term_memory(\n",
    "    \"semantic\", [triples[10]], **semantic_qualifiers\n",
    ")\n",
    "\n",
    "# Add a short-term memory (recent event)\n",
    "memory_system.memory.add_short_term_memory([triples[8]], location=\"Alice's home\")\n",
    "memory_system.memory.add_short_term_memory([triples[8]], location=\"Alice's home\")\n",
    "\n",
    "# Add another short-term memory\n",
    "memory_system.memory.add_short_term_memory([triples[9]], location=\"Paris Cafe\")\n",
    "memory_system.memory.add_short_term_memory([triples[9]], location=\"Paris Cafe\")\n",
    "\n",
    "\n",
    "# Function to count triples and memories in working memory\n",
    "def print_memory_statistics(working_memory, hop_level):\n",
    "    num_triples = working_memory.get_triple_count_except_event()\n",
    "    num_memories = working_memory.get_memory_count()  # This counts reified statements\n",
    "\n",
    "    print(f\"\\n===== Working Memory (Hop {hop_level}) =====\")\n",
    "    print(f\"Number of Triples: {num_triples}\")\n",
    "    print(f\"Number of Memories (Reified Statements): {num_memories}\")\n",
    "    print(repr(working_memory))\n",
    "\n",
    "\n",
    "# Test working memory retrieval with different hops\n",
    "trigger_node = URIRef(\"https://example.org/person/Alice\")\n",
    "\n",
    "# Hop 0 - Just the immediate node (only the short-term memories involving Alice)\n",
    "working_memory_hop_0 = memory_system.get_working_memory(\n",
    "    trigger_node=trigger_node, hops=0\n",
    ")\n",
    "print_memory_statistics(working_memory_hop_0, 0)\n",
    "\n",
    "# Hop 1 - Immediate neighbors (both incoming and outgoing edges)\n",
    "working_memory_hop_1 = memory_system.get_working_memory(\n",
    "    trigger_node=trigger_node, hops=1\n",
    ")\n",
    "print_memory_statistics(working_memory_hop_1, 1)\n",
    "\n",
    "# Hop 2 - 2-hop neighbors (further expansion of relationships)\n",
    "working_memory_hop_2 = memory_system.get_working_memory(\n",
    "    trigger_node=trigger_node, hops=2\n",
    ")\n",
    "print_memory_statistics(working_memory_hop_2, 2)\n",
    "\n",
    "# Hop 3 - 3-hop neighbors (going even further in the memory graph)\n",
    "working_memory_hop_3 = memory_system.get_working_memory(\n",
    "    trigger_node=trigger_node, hops=3\n",
    ")\n",
    "print_memory_statistics(working_memory_hop_3, 3)\n",
    "\n",
    "# Hop 4 - Maximum depth\n",
    "working_memory_hop_4 = memory_system.get_working_memory(\n",
    "    trigger_node=trigger_node, hops=4\n",
    ")\n",
    "print_memory_statistics(working_memory_hop_4, 4)\n",
    "\n",
    "# Hop 5 - Maximum depth\n",
    "working_memory_hop_5 = memory_system.get_working_memory(\n",
    "    trigger_node=trigger_node, hops=5\n",
    ")\n",
    "print_memory_statistics(working_memory_hop_5, 5)\n",
    "\n",
    "# Example: Get working memory with all long-term memories included\n",
    "working_memory_all = memory_system.get_working_memory(include_all_long_term=True)\n",
    "print_memory_statistics(working_memory_all, \"All long-term\")"
   ]
  },
  {
   "cell_type": "code",
   "execution_count": 20,
   "metadata": {},
   "outputs": [
    {
     "data": {
      "text/plain": [
       "[(rdflib.term.URIRef('https://example.org/person/Alice'),\n",
       "  rdflib.term.URIRef('https://example.org/event/met'),\n",
       "  rdflib.term.URIRef('https://example.org/person/Bob'))]"
      ]
     },
     "execution_count": 20,
     "metadata": {},
     "output_type": "execute_result"
    }
   ],
   "source": [
    "[triples[0]]"
   ]
  },
  {
   "cell_type": "code",
   "execution_count": 2,
   "metadata": {},
   "outputs": [
    {
     "data": {
      "text/plain": [
       "[Alice, met, Bob, {'memoryID': '0', 'location': 'New York', 'time': '2024-04-27T15:00:00', 'emotion': 'happy', 'event': 'Coffee meeting', 'recalled': '6'}]\n",
       "[Bob, met, Charlie, {'memoryID': '1', 'location': 'London', 'time': '2024-05-01T10:00:00', 'emotion': 'excited', 'event': 'Conference meeting', 'recalled': '5'}]\n",
       "[Alice, knows, David, {'memoryID': '2', 'location': 'Paris', 'time': '2024-05-03T14:00:00', 'emotion': 'curious', 'event': 'Workshop', 'recalled': '6'}]\n",
       "[Charlie, met, Eve, {'memoryID': '3', 'location': 'New York', 'time': '2024-04-27T15:00:00', 'emotion': 'happy', 'event': 'Coffee meeting', 'recalled': '5'}]\n",
       "[David, invited, Alice, {'memoryID': '4', 'location': 'London', 'time': '2024-05-01T10:00:00', 'emotion': 'excited', 'event': 'Conference meeting', 'recalled': '6'}]\n",
       "[Eve, worksWith, Bob, {'memoryID': '5', 'location': 'Paris', 'time': '2024-05-03T14:00:00', 'emotion': 'curious', 'event': 'Workshop', 'recalled': '5'}]\n",
       "[Charlie, attended, Bob, {'memoryID': '6', 'location': 'New York', 'time': '2024-04-27T15:00:00', 'emotion': 'happy', 'event': 'Coffee meeting', 'recalled': '5'}]\n",
       "[Dog, is, Animal, {'memoryID': '7', 'location': 'London', 'time': '2024-05-01T10:00:00', 'emotion': 'excited', 'event': 'Conference meeting', 'recalled': '5'}]\n",
       "[Alice, owns, Dog, {'memoryID': '8', 'location': 'Paris', 'time': '2024-05-03T14:00:00', 'emotion': 'curious', 'event': 'Workshop', 'recalled': '6'}]\n",
       "[Eve, met, Alice, {'memoryID': '9', 'location': 'New York', 'time': '2024-04-27T15:00:00', 'emotion': 'happy', 'event': 'Coffee meeting', 'recalled': '6'}]\n",
       "[John, loves, Animal, {'memoryID': '10', 'location': 'London', 'time': '2024-05-01T10:00:00', 'emotion': 'excited', 'event': 'Conference meeting', 'recalled': '4'}]\n",
       "[Dog, is, Animal, {'memoryID': '11', 'strength': '5', 'derivedFrom': 'animal_research', 'recalled': '5'}]\n",
       "[Dog, is, Animal, {'memoryID': '12', 'strength': '5', 'derivedFrom': 'animal_research', 'recalled': '5'}]\n",
       "[John, loves, Animal, {'memoryID': '13', 'strength': '5', 'derivedFrom': 'animal_research', 'recalled': '4'}]\n",
       "[John, loves, Animal, {'memoryID': '14', 'strength': '5', 'derivedFrom': 'animal_research', 'recalled': '4'}]\n",
       "[Alice, owns, Dog, {'memoryID': '15', 'currentTime': '2024-10-03T21:49:07.791558', 'location': \"Alice's home\"}]\n",
       "[Alice, owns, Dog, {'memoryID': '16', 'currentTime': '2024-10-03T21:49:07.791643', 'location': \"Alice's home\"}]\n",
       "[Eve, met, Alice, {'memoryID': '17', 'currentTime': '2024-10-03T21:49:07.791718', 'location': 'Paris Cafe'}]\n",
       "[Eve, met, Alice, {'memoryID': '18', 'currentTime': '2024-10-03T21:49:07.791818', 'location': 'Paris Cafe'}]"
      ]
     },
     "execution_count": 2,
     "metadata": {},
     "output_type": "execute_result"
    }
   ],
   "source": [
    "memory_system"
   ]
  },
  {
   "cell_type": "code",
   "execution_count": 3,
   "metadata": {},
   "outputs": [],
   "source": [
    "memory_system.memory.save_to_ttl(\"foo.ttl\")"
   ]
  },
  {
   "cell_type": "code",
   "execution_count": 4,
   "metadata": {},
   "outputs": [
    {
     "data": {
      "text/plain": [
       "[Alice, owns, Dog, {'emotion': 'curious', 'event': 'Workshop', 'location': 'Paris', 'memoryID': '8', 'recalled': '6', 'time': '2024-05-03T14:00:00'}]\n",
       "[Dog, is, Animal, {'derivedFrom': 'animal_research', 'memoryID': '11', 'recalled': '5', 'strength': '5'}]\n",
       "[Alice, met, Bob, {'emotion': 'happy', 'event': 'Coffee meeting', 'location': 'New York', 'memoryID': '0', 'recalled': '6', 'time': '2024-04-27T15:00:00'}]\n",
       "[Eve, met, Alice, {'currentTime': '2024-10-03T21:49:07.791818', 'location': 'Paris Cafe', 'memoryID': '18'}]\n",
       "[Alice, knows, David, {'emotion': 'curious', 'event': 'Workshop', 'location': 'Paris', 'memoryID': '2', 'recalled': '6', 'time': '2024-05-03T14:00:00'}]\n",
       "[Alice, owns, Dog, {'currentTime': '2024-10-03T21:49:07.791643', 'location': \"Alice's home\", 'memoryID': '16'}]\n",
       "[John, loves, Animal, {'emotion': 'excited', 'event': 'Conference meeting', 'location': 'London', 'memoryID': '10', 'recalled': '4', 'time': '2024-05-01T10:00:00'}]\n",
       "[Bob, met, Charlie, {'emotion': 'excited', 'event': 'Conference meeting', 'location': 'London', 'memoryID': '1', 'recalled': '5', 'time': '2024-05-01T10:00:00'}]\n",
       "[Charlie, met, Eve, {'emotion': 'happy', 'event': 'Coffee meeting', 'location': 'New York', 'memoryID': '3', 'recalled': '5', 'time': '2024-04-27T15:00:00'}]\n",
       "[Alice, owns, Dog, {'currentTime': '2024-10-03T21:49:07.791558', 'location': \"Alice's home\", 'memoryID': '15'}]\n",
       "[Charlie, attended, Bob, {'emotion': 'happy', 'event': 'Coffee meeting', 'location': 'New York', 'memoryID': '6', 'recalled': '5', 'time': '2024-04-27T15:00:00'}]\n",
       "[Dog, is, Animal, {'emotion': 'excited', 'event': 'Conference meeting', 'location': 'London', 'memoryID': '7', 'recalled': '5', 'time': '2024-05-01T10:00:00'}]\n",
       "[Dog, is, Animal, {'derivedFrom': 'animal_research', 'memoryID': '12', 'recalled': '5', 'strength': '5'}]\n",
       "[Eve, worksWith, Bob, {'emotion': 'curious', 'event': 'Workshop', 'location': 'Paris', 'memoryID': '5', 'recalled': '5', 'time': '2024-05-03T14:00:00'}]\n",
       "[John, loves, Animal, {'derivedFrom': 'animal_research', 'memoryID': '14', 'recalled': '4', 'strength': '5'}]\n",
       "[Eve, met, Alice, {'currentTime': '2024-10-03T21:49:07.791718', 'location': 'Paris Cafe', 'memoryID': '17'}]\n",
       "[Eve, met, Alice, {'emotion': 'happy', 'event': 'Coffee meeting', 'location': 'New York', 'memoryID': '9', 'recalled': '6', 'time': '2024-04-27T15:00:00'}]\n",
       "[John, loves, Animal, {'derivedFrom': 'animal_research', 'memoryID': '13', 'recalled': '4', 'strength': '5'}]\n",
       "[David, invited, Alice, {'emotion': 'excited', 'event': 'Conference meeting', 'location': 'London', 'memoryID': '4', 'recalled': '6', 'time': '2024-05-01T10:00:00'}]"
      ]
     },
     "execution_count": 4,
     "metadata": {},
     "output_type": "execute_result"
    }
   ],
   "source": [
    "import logging\n",
    "from rdflib import URIRef, Namespace\n",
    "from humemai import MemorySystem\n",
    "\n",
    "# Define the custom namespace for humemai ontology\n",
    "humemai = Namespace(\"https://humem.ai/ontology/\")\n",
    "\n",
    "# Turn off debug logging\n",
    "logging.getLogger(\"humemai\").setLevel(logging.WARNING)\n",
    "\n",
    "# Initialize the memory system\n",
    "memory_system = MemorySystem()\n",
    "\n",
    "memory_system.memory.load_from_ttl(\"foo.ttl\")\n",
    "\n",
    "memory_system"
   ]
  },
  {
   "cell_type": "code",
   "execution_count": 5,
   "metadata": {},
   "outputs": [
    {
     "data": {
      "text/plain": [
       "[Alice, owns, Dog, {'emotion': 'curious', 'event': 'Workshop', 'location': 'Paris', 'memoryID': '8', 'recalled': '6', 'time': '2024-05-03T14:00:00'}]\n",
       "[Dog, is, Animal, {'derivedFrom': 'animal_research', 'memoryID': '11', 'recalled': '5', 'strength': '5'}]\n",
       "[Alice, met, Bob, {'emotion': 'happy', 'event': 'Coffee meeting', 'location': 'New York', 'memoryID': '0', 'recalled': '6', 'time': '2024-04-27T15:00:00'}]\n",
       "[Eve, met, Alice, {'currentTime': '2024-10-03T21:49:07.791818', 'location': 'Paris Cafe', 'memoryID': '18'}]\n",
       "[Alice, knows, David, {'emotion': 'curious', 'event': 'Workshop', 'location': 'Paris', 'memoryID': '2', 'recalled': '6', 'time': '2024-05-03T14:00:00'}]\n",
       "[Alice, owns, Dog, {'currentTime': '2024-10-03T21:49:07.791643', 'location': \"Alice's home\", 'memoryID': '16'}]\n",
       "[John, loves, Animal, {'emotion': 'excited', 'event': 'Conference meeting', 'location': 'London', 'memoryID': '10', 'recalled': '4', 'time': '2024-05-01T10:00:00'}]\n",
       "[Bob, met, Charlie, {'emotion': 'excited', 'event': 'Conference meeting', 'location': 'London', 'memoryID': '1', 'recalled': '5', 'time': '2024-05-01T10:00:00'}]\n",
       "[Charlie, met, Eve, {'emotion': 'happy', 'event': 'Coffee meeting', 'location': 'New York', 'memoryID': '3', 'recalled': '5', 'time': '2024-04-27T15:00:00'}]\n",
       "[Alice, owns, Dog, {'currentTime': '2024-10-03T21:49:07.791558', 'location': \"Alice's home\", 'memoryID': '15'}]\n",
       "[Charlie, attended, Bob, {'emotion': 'happy', 'event': 'Coffee meeting', 'location': 'New York', 'memoryID': '6', 'recalled': '5', 'time': '2024-04-27T15:00:00'}]\n",
       "[Dog, is, Animal, {'emotion': 'excited', 'event': 'Conference meeting', 'location': 'London', 'memoryID': '7', 'recalled': '5', 'time': '2024-05-01T10:00:00'}]\n",
       "[Dog, is, Animal, {'derivedFrom': 'animal_research', 'memoryID': '12', 'recalled': '5', 'strength': '5'}]\n",
       "[Eve, worksWith, Bob, {'emotion': 'curious', 'event': 'Workshop', 'location': 'Paris', 'memoryID': '5', 'recalled': '5', 'time': '2024-05-03T14:00:00'}]\n",
       "[John, loves, Animal, {'derivedFrom': 'animal_research', 'memoryID': '14', 'recalled': '4', 'strength': '5'}]\n",
       "[Eve, met, Alice, {'currentTime': '2024-10-03T21:49:07.791718', 'location': 'Paris Cafe', 'memoryID': '17'}]\n",
       "[Eve, met, Alice, {'emotion': 'happy', 'event': 'Coffee meeting', 'location': 'New York', 'memoryID': '9', 'recalled': '6', 'time': '2024-04-27T15:00:00'}]\n",
       "[John, loves, Animal, {'derivedFrom': 'animal_research', 'memoryID': '13', 'recalled': '4', 'strength': '5'}]\n",
       "[David, invited, Alice, {'emotion': 'excited', 'event': 'Conference meeting', 'location': 'London', 'memoryID': '4', 'recalled': '6', 'time': '2024-05-01T10:00:00'}]"
      ]
     },
     "execution_count": 5,
     "metadata": {},
     "output_type": "execute_result"
    }
   ],
   "source": [
    "memory_system.memory"
   ]
  },
  {
   "cell_type": "code",
   "execution_count": 6,
   "metadata": {},
   "outputs": [
    {
     "data": {
      "text/plain": [
       "11"
      ]
     },
     "execution_count": 6,
     "metadata": {},
     "output_type": "execute_result"
    }
   ],
   "source": [
    "memory_system.memory.get_triple_count_except_event()"
   ]
  },
  {
   "cell_type": "code",
   "execution_count": 7,
   "metadata": {},
   "outputs": [
    {
     "data": {
      "text/plain": [
       "19"
      ]
     },
     "execution_count": 7,
     "metadata": {},
     "output_type": "execute_result"
    }
   ],
   "source": [
    "memory_system.memory.get_memory_count()"
   ]
  },
  {
   "cell_type": "code",
   "execution_count": 8,
   "metadata": {},
   "outputs": [
    {
     "data": {
      "text/plain": [
       "4"
      ]
     },
     "execution_count": 8,
     "metadata": {},
     "output_type": "execute_result"
    }
   ],
   "source": [
    "memory_system.memory.get_short_term_memory_count()"
   ]
  },
  {
   "cell_type": "markdown",
   "metadata": {},
   "source": []
  },
  {
   "cell_type": "code",
   "execution_count": 9,
   "metadata": {},
   "outputs": [
    {
     "data": {
      "text/plain": [
       "15"
      ]
     },
     "execution_count": 9,
     "metadata": {},
     "output_type": "execute_result"
    }
   ],
   "source": [
    "memory_system.memory.get_long_term_memory_count()"
   ]
  },
  {
   "cell_type": "code",
   "execution_count": 10,
   "metadata": {},
   "outputs": [
    {
     "data": {
      "text/plain": [
       "11"
      ]
     },
     "execution_count": 10,
     "metadata": {},
     "output_type": "execute_result"
    }
   ],
   "source": [
    "memory_system.memory.get_long_term_episodic_memory_count()"
   ]
  },
  {
   "cell_type": "code",
   "execution_count": 11,
   "metadata": {},
   "outputs": [
    {
     "data": {
      "text/plain": [
       "4"
      ]
     },
     "execution_count": 11,
     "metadata": {},
     "output_type": "execute_result"
    }
   ],
   "source": [
    "memory_system.memory.get_long_term_semantic_memory_count()"
   ]
  },
  {
   "cell_type": "code",
   "execution_count": 12,
   "metadata": {},
   "outputs": [
    {
     "name": "stdout",
     "output_type": "stream",
     "text": [
      "(rdflib.term.URIRef('https://example.org/person/Eve'), rdflib.term.URIRef('https://example.org/event/met'), rdflib.term.URIRef('https://example.org/person/Alice'), {'https://humem.ai/ontology/currentTime': '2024-10-03T21:49:07.791818', 'https://humem.ai/ontology/location': 'Paris Cafe', 'https://humem.ai/ontology/memoryID': '18'})\n",
      "(rdflib.term.URIRef('https://example.org/person/Alice'), rdflib.term.URIRef('https://example.org/relationship/owns'), rdflib.term.URIRef('https://example.org/entity/Dog'), {'https://humem.ai/ontology/currentTime': '2024-10-03T21:49:07.791643', 'https://humem.ai/ontology/location': \"Alice's home\", 'https://humem.ai/ontology/memoryID': '16'})\n",
      "(rdflib.term.URIRef('https://example.org/person/Alice'), rdflib.term.URIRef('https://example.org/relationship/owns'), rdflib.term.URIRef('https://example.org/entity/Dog'), {'https://humem.ai/ontology/currentTime': '2024-10-03T21:49:07.791558', 'https://humem.ai/ontology/location': \"Alice's home\", 'https://humem.ai/ontology/memoryID': '15'})\n",
      "(rdflib.term.URIRef('https://example.org/person/Eve'), rdflib.term.URIRef('https://example.org/event/met'), rdflib.term.URIRef('https://example.org/person/Alice'), {'https://humem.ai/ontology/currentTime': '2024-10-03T21:49:07.791718', 'https://humem.ai/ontology/location': 'Paris Cafe', 'https://humem.ai/ontology/memoryID': '17'})\n"
     ]
    }
   ],
   "source": [
    "for memory in memory_system.memory.iterate_memories(\"short_term\"):\n",
    "    print(memory)"
   ]
  },
  {
   "cell_type": "code",
   "execution_count": 13,
   "metadata": {},
   "outputs": [
    {
     "data": {
      "text/plain": [
       "15"
      ]
     },
     "execution_count": 13,
     "metadata": {},
     "output_type": "execute_result"
    }
   ],
   "source": [
    "len(list(memory_system.memory.iterate_memories(\"long_term\")))"
   ]
  },
  {
   "cell_type": "code",
   "execution_count": 14,
   "metadata": {},
   "outputs": [
    {
     "name": "stdout",
     "output_type": "stream",
     "text": [
      "(rdflib.term.URIRef('https://example.org/person/Alice'), rdflib.term.URIRef('https://example.org/relationship/owns'), rdflib.term.URIRef('https://example.org/entity/Dog'), {'https://humem.ai/ontology/emotion': 'curious', 'https://humem.ai/ontology/event': 'Workshop', 'https://humem.ai/ontology/location': 'Paris', 'https://humem.ai/ontology/memoryID': '8', 'https://humem.ai/ontology/recalled': '6', 'https://humem.ai/ontology/time': '2024-05-03T14:00:00'})\n",
      "(rdflib.term.URIRef('https://example.org/entity/Dog'), rdflib.term.URIRef('https://example.org/relationship/is'), rdflib.term.URIRef('https://example.org/entity/Animal'), {'https://humem.ai/ontology/derivedFrom': 'animal_research', 'https://humem.ai/ontology/memoryID': '11', 'https://humem.ai/ontology/recalled': '5', 'https://humem.ai/ontology/strength': '5'})\n",
      "(rdflib.term.URIRef('https://example.org/person/Alice'), rdflib.term.URIRef('https://example.org/event/met'), rdflib.term.URIRef('https://example.org/person/Bob'), {'https://humem.ai/ontology/emotion': 'happy', 'https://humem.ai/ontology/event': 'Coffee meeting', 'https://humem.ai/ontology/location': 'New York', 'https://humem.ai/ontology/memoryID': '0', 'https://humem.ai/ontology/recalled': '6', 'https://humem.ai/ontology/time': '2024-04-27T15:00:00'})\n",
      "(rdflib.term.URIRef('https://example.org/person/Alice'), rdflib.term.URIRef('https://example.org/relationship/knows'), rdflib.term.URIRef('https://example.org/person/David'), {'https://humem.ai/ontology/emotion': 'curious', 'https://humem.ai/ontology/event': 'Workshop', 'https://humem.ai/ontology/location': 'Paris', 'https://humem.ai/ontology/memoryID': '2', 'https://humem.ai/ontology/recalled': '6', 'https://humem.ai/ontology/time': '2024-05-03T14:00:00'})\n",
      "(rdflib.term.URIRef('https://example.org/person/John'), rdflib.term.URIRef('https://example.org/relationship/loves'), rdflib.term.URIRef('https://example.org/entity/Animal'), {'https://humem.ai/ontology/emotion': 'excited', 'https://humem.ai/ontology/event': 'Conference meeting', 'https://humem.ai/ontology/location': 'London', 'https://humem.ai/ontology/memoryID': '10', 'https://humem.ai/ontology/recalled': '4', 'https://humem.ai/ontology/time': '2024-05-01T10:00:00'})\n",
      "(rdflib.term.URIRef('https://example.org/person/Bob'), rdflib.term.URIRef('https://example.org/event/met'), rdflib.term.URIRef('https://example.org/person/Charlie'), {'https://humem.ai/ontology/emotion': 'excited', 'https://humem.ai/ontology/event': 'Conference meeting', 'https://humem.ai/ontology/location': 'London', 'https://humem.ai/ontology/memoryID': '1', 'https://humem.ai/ontology/recalled': '5', 'https://humem.ai/ontology/time': '2024-05-01T10:00:00'})\n",
      "(rdflib.term.URIRef('https://example.org/person/Charlie'), rdflib.term.URIRef('https://example.org/event/met'), rdflib.term.URIRef('https://example.org/person/Eve'), {'https://humem.ai/ontology/emotion': 'happy', 'https://humem.ai/ontology/event': 'Coffee meeting', 'https://humem.ai/ontology/location': 'New York', 'https://humem.ai/ontology/memoryID': '3', 'https://humem.ai/ontology/recalled': '5', 'https://humem.ai/ontology/time': '2024-04-27T15:00:00'})\n",
      "(rdflib.term.URIRef('https://example.org/person/Charlie'), rdflib.term.URIRef('https://example.org/event/attended'), rdflib.term.URIRef('https://example.org/person/Bob'), {'https://humem.ai/ontology/emotion': 'happy', 'https://humem.ai/ontology/event': 'Coffee meeting', 'https://humem.ai/ontology/location': 'New York', 'https://humem.ai/ontology/memoryID': '6', 'https://humem.ai/ontology/recalled': '5', 'https://humem.ai/ontology/time': '2024-04-27T15:00:00'})\n",
      "(rdflib.term.URIRef('https://example.org/entity/Dog'), rdflib.term.URIRef('https://example.org/relationship/is'), rdflib.term.URIRef('https://example.org/entity/Animal'), {'https://humem.ai/ontology/emotion': 'excited', 'https://humem.ai/ontology/event': 'Conference meeting', 'https://humem.ai/ontology/location': 'London', 'https://humem.ai/ontology/memoryID': '7', 'https://humem.ai/ontology/recalled': '5', 'https://humem.ai/ontology/time': '2024-05-01T10:00:00'})\n",
      "(rdflib.term.URIRef('https://example.org/entity/Dog'), rdflib.term.URIRef('https://example.org/relationship/is'), rdflib.term.URIRef('https://example.org/entity/Animal'), {'https://humem.ai/ontology/derivedFrom': 'animal_research', 'https://humem.ai/ontology/memoryID': '12', 'https://humem.ai/ontology/recalled': '5', 'https://humem.ai/ontology/strength': '5'})\n",
      "(rdflib.term.URIRef('https://example.org/person/Eve'), rdflib.term.URIRef('https://example.org/relationship/worksWith'), rdflib.term.URIRef('https://example.org/person/Bob'), {'https://humem.ai/ontology/emotion': 'curious', 'https://humem.ai/ontology/event': 'Workshop', 'https://humem.ai/ontology/location': 'Paris', 'https://humem.ai/ontology/memoryID': '5', 'https://humem.ai/ontology/recalled': '5', 'https://humem.ai/ontology/time': '2024-05-03T14:00:00'})\n",
      "(rdflib.term.URIRef('https://example.org/person/John'), rdflib.term.URIRef('https://example.org/relationship/loves'), rdflib.term.URIRef('https://example.org/entity/Animal'), {'https://humem.ai/ontology/derivedFrom': 'animal_research', 'https://humem.ai/ontology/memoryID': '14', 'https://humem.ai/ontology/recalled': '4', 'https://humem.ai/ontology/strength': '5'})\n",
      "(rdflib.term.URIRef('https://example.org/person/Eve'), rdflib.term.URIRef('https://example.org/event/met'), rdflib.term.URIRef('https://example.org/person/Alice'), {'https://humem.ai/ontology/emotion': 'happy', 'https://humem.ai/ontology/event': 'Coffee meeting', 'https://humem.ai/ontology/location': 'New York', 'https://humem.ai/ontology/memoryID': '9', 'https://humem.ai/ontology/recalled': '6', 'https://humem.ai/ontology/time': '2024-04-27T15:00:00'})\n",
      "(rdflib.term.URIRef('https://example.org/person/John'), rdflib.term.URIRef('https://example.org/relationship/loves'), rdflib.term.URIRef('https://example.org/entity/Animal'), {'https://humem.ai/ontology/derivedFrom': 'animal_research', 'https://humem.ai/ontology/memoryID': '13', 'https://humem.ai/ontology/recalled': '4', 'https://humem.ai/ontology/strength': '5'})\n",
      "(rdflib.term.URIRef('https://example.org/person/David'), rdflib.term.URIRef('https://example.org/event/invited'), rdflib.term.URIRef('https://example.org/person/Alice'), {'https://humem.ai/ontology/emotion': 'excited', 'https://humem.ai/ontology/event': 'Conference meeting', 'https://humem.ai/ontology/location': 'London', 'https://humem.ai/ontology/memoryID': '4', 'https://humem.ai/ontology/recalled': '6', 'https://humem.ai/ontology/time': '2024-05-01T10:00:00'})\n"
     ]
    }
   ],
   "source": [
    "for memory in memory_system.memory.iterate_memories(\"long_term\"):\n",
    "    print(memory)"
   ]
  },
  {
   "cell_type": "code",
   "execution_count": 15,
   "metadata": {},
   "outputs": [
    {
     "name": "stdout",
     "output_type": "stream",
     "text": [
      "(rdflib.term.URIRef('https://example.org/person/Alice'), rdflib.term.URIRef('https://example.org/relationship/owns'), rdflib.term.URIRef('https://example.org/entity/Dog'), {'https://humem.ai/ontology/emotion': 'curious', 'https://humem.ai/ontology/event': 'Workshop', 'https://humem.ai/ontology/location': 'Paris', 'https://humem.ai/ontology/memoryID': '8', 'https://humem.ai/ontology/recalled': '6', 'https://humem.ai/ontology/time': '2024-05-03T14:00:00'})\n",
      "(rdflib.term.URIRef('https://example.org/person/Alice'), rdflib.term.URIRef('https://example.org/event/met'), rdflib.term.URIRef('https://example.org/person/Bob'), {'https://humem.ai/ontology/emotion': 'happy', 'https://humem.ai/ontology/event': 'Coffee meeting', 'https://humem.ai/ontology/location': 'New York', 'https://humem.ai/ontology/memoryID': '0', 'https://humem.ai/ontology/recalled': '6', 'https://humem.ai/ontology/time': '2024-04-27T15:00:00'})\n",
      "(rdflib.term.URIRef('https://example.org/person/Alice'), rdflib.term.URIRef('https://example.org/relationship/knows'), rdflib.term.URIRef('https://example.org/person/David'), {'https://humem.ai/ontology/emotion': 'curious', 'https://humem.ai/ontology/event': 'Workshop', 'https://humem.ai/ontology/location': 'Paris', 'https://humem.ai/ontology/memoryID': '2', 'https://humem.ai/ontology/recalled': '6', 'https://humem.ai/ontology/time': '2024-05-03T14:00:00'})\n",
      "(rdflib.term.URIRef('https://example.org/person/John'), rdflib.term.URIRef('https://example.org/relationship/loves'), rdflib.term.URIRef('https://example.org/entity/Animal'), {'https://humem.ai/ontology/emotion': 'excited', 'https://humem.ai/ontology/event': 'Conference meeting', 'https://humem.ai/ontology/location': 'London', 'https://humem.ai/ontology/memoryID': '10', 'https://humem.ai/ontology/recalled': '4', 'https://humem.ai/ontology/time': '2024-05-01T10:00:00'})\n",
      "(rdflib.term.URIRef('https://example.org/person/Bob'), rdflib.term.URIRef('https://example.org/event/met'), rdflib.term.URIRef('https://example.org/person/Charlie'), {'https://humem.ai/ontology/emotion': 'excited', 'https://humem.ai/ontology/event': 'Conference meeting', 'https://humem.ai/ontology/location': 'London', 'https://humem.ai/ontology/memoryID': '1', 'https://humem.ai/ontology/recalled': '5', 'https://humem.ai/ontology/time': '2024-05-01T10:00:00'})\n",
      "(rdflib.term.URIRef('https://example.org/person/Charlie'), rdflib.term.URIRef('https://example.org/event/met'), rdflib.term.URIRef('https://example.org/person/Eve'), {'https://humem.ai/ontology/emotion': 'happy', 'https://humem.ai/ontology/event': 'Coffee meeting', 'https://humem.ai/ontology/location': 'New York', 'https://humem.ai/ontology/memoryID': '3', 'https://humem.ai/ontology/recalled': '5', 'https://humem.ai/ontology/time': '2024-04-27T15:00:00'})\n",
      "(rdflib.term.URIRef('https://example.org/person/Charlie'), rdflib.term.URIRef('https://example.org/event/attended'), rdflib.term.URIRef('https://example.org/person/Bob'), {'https://humem.ai/ontology/emotion': 'happy', 'https://humem.ai/ontology/event': 'Coffee meeting', 'https://humem.ai/ontology/location': 'New York', 'https://humem.ai/ontology/memoryID': '6', 'https://humem.ai/ontology/recalled': '5', 'https://humem.ai/ontology/time': '2024-04-27T15:00:00'})\n",
      "(rdflib.term.URIRef('https://example.org/entity/Dog'), rdflib.term.URIRef('https://example.org/relationship/is'), rdflib.term.URIRef('https://example.org/entity/Animal'), {'https://humem.ai/ontology/emotion': 'excited', 'https://humem.ai/ontology/event': 'Conference meeting', 'https://humem.ai/ontology/location': 'London', 'https://humem.ai/ontology/memoryID': '7', 'https://humem.ai/ontology/recalled': '5', 'https://humem.ai/ontology/time': '2024-05-01T10:00:00'})\n",
      "(rdflib.term.URIRef('https://example.org/person/Eve'), rdflib.term.URIRef('https://example.org/relationship/worksWith'), rdflib.term.URIRef('https://example.org/person/Bob'), {'https://humem.ai/ontology/emotion': 'curious', 'https://humem.ai/ontology/event': 'Workshop', 'https://humem.ai/ontology/location': 'Paris', 'https://humem.ai/ontology/memoryID': '5', 'https://humem.ai/ontology/recalled': '5', 'https://humem.ai/ontology/time': '2024-05-03T14:00:00'})\n",
      "(rdflib.term.URIRef('https://example.org/person/Eve'), rdflib.term.URIRef('https://example.org/event/met'), rdflib.term.URIRef('https://example.org/person/Alice'), {'https://humem.ai/ontology/emotion': 'happy', 'https://humem.ai/ontology/event': 'Coffee meeting', 'https://humem.ai/ontology/location': 'New York', 'https://humem.ai/ontology/memoryID': '9', 'https://humem.ai/ontology/recalled': '6', 'https://humem.ai/ontology/time': '2024-04-27T15:00:00'})\n",
      "(rdflib.term.URIRef('https://example.org/person/David'), rdflib.term.URIRef('https://example.org/event/invited'), rdflib.term.URIRef('https://example.org/person/Alice'), {'https://humem.ai/ontology/emotion': 'excited', 'https://humem.ai/ontology/event': 'Conference meeting', 'https://humem.ai/ontology/location': 'London', 'https://humem.ai/ontology/memoryID': '4', 'https://humem.ai/ontology/recalled': '6', 'https://humem.ai/ontology/time': '2024-05-01T10:00:00'})\n"
     ]
    }
   ],
   "source": [
    "for memory in memory_system.memory.iterate_memories(\"episodic\"):\n",
    "    print(memory)"
   ]
  },
  {
   "cell_type": "code",
   "execution_count": 16,
   "metadata": {},
   "outputs": [
    {
     "name": "stdout",
     "output_type": "stream",
     "text": [
      "(rdflib.term.URIRef('https://example.org/entity/Dog'), rdflib.term.URIRef('https://example.org/relationship/is'), rdflib.term.URIRef('https://example.org/entity/Animal'), {'https://humem.ai/ontology/derivedFrom': 'animal_research', 'https://humem.ai/ontology/memoryID': '11', 'https://humem.ai/ontology/recalled': '5', 'https://humem.ai/ontology/strength': '5'})\n",
      "(rdflib.term.URIRef('https://example.org/entity/Dog'), rdflib.term.URIRef('https://example.org/relationship/is'), rdflib.term.URIRef('https://example.org/entity/Animal'), {'https://humem.ai/ontology/derivedFrom': 'animal_research', 'https://humem.ai/ontology/memoryID': '12', 'https://humem.ai/ontology/recalled': '5', 'https://humem.ai/ontology/strength': '5'})\n",
      "(rdflib.term.URIRef('https://example.org/person/John'), rdflib.term.URIRef('https://example.org/relationship/loves'), rdflib.term.URIRef('https://example.org/entity/Animal'), {'https://humem.ai/ontology/derivedFrom': 'animal_research', 'https://humem.ai/ontology/memoryID': '14', 'https://humem.ai/ontology/recalled': '4', 'https://humem.ai/ontology/strength': '5'})\n",
      "(rdflib.term.URIRef('https://example.org/person/John'), rdflib.term.URIRef('https://example.org/relationship/loves'), rdflib.term.URIRef('https://example.org/entity/Animal'), {'https://humem.ai/ontology/derivedFrom': 'animal_research', 'https://humem.ai/ontology/memoryID': '13', 'https://humem.ai/ontology/recalled': '4', 'https://humem.ai/ontology/strength': '5'})\n"
     ]
    }
   ],
   "source": [
    "for memory in memory_system.memory.iterate_memories(\"semantic\"):\n",
    "    print(memory)"
   ]
  },
  {
   "cell_type": "code",
   "execution_count": 17,
   "metadata": {},
   "outputs": [
    {
     "data": {
      "text/plain": [
       "19"
      ]
     },
     "execution_count": 17,
     "metadata": {},
     "output_type": "execute_result"
    }
   ],
   "source": [
    "len(list(memory_system.memory.iterate_memories()))"
   ]
  },
  {
   "cell_type": "code",
   "execution_count": 18,
   "metadata": {},
   "outputs": [
    {
     "name": "stdout",
     "output_type": "stream",
     "text": [
      "(rdflib.term.URIRef('https://example.org/person/Alice'), rdflib.term.URIRef('https://example.org/relationship/owns'), rdflib.term.URIRef('https://example.org/entity/Dog'), {'https://humem.ai/ontology/emotion': 'curious', 'https://humem.ai/ontology/event': 'Workshop', 'https://humem.ai/ontology/location': 'Paris', 'https://humem.ai/ontology/memoryID': '8', 'https://humem.ai/ontology/recalled': '6', 'https://humem.ai/ontology/time': '2024-05-03T14:00:00'})\n",
      "(rdflib.term.URIRef('https://example.org/entity/Dog'), rdflib.term.URIRef('https://example.org/relationship/is'), rdflib.term.URIRef('https://example.org/entity/Animal'), {'https://humem.ai/ontology/derivedFrom': 'animal_research', 'https://humem.ai/ontology/memoryID': '11', 'https://humem.ai/ontology/recalled': '5', 'https://humem.ai/ontology/strength': '5'})\n",
      "(rdflib.term.URIRef('https://example.org/person/Alice'), rdflib.term.URIRef('https://example.org/event/met'), rdflib.term.URIRef('https://example.org/person/Bob'), {'https://humem.ai/ontology/emotion': 'happy', 'https://humem.ai/ontology/event': 'Coffee meeting', 'https://humem.ai/ontology/location': 'New York', 'https://humem.ai/ontology/memoryID': '0', 'https://humem.ai/ontology/recalled': '6', 'https://humem.ai/ontology/time': '2024-04-27T15:00:00'})\n",
      "(rdflib.term.URIRef('https://example.org/person/Eve'), rdflib.term.URIRef('https://example.org/event/met'), rdflib.term.URIRef('https://example.org/person/Alice'), {'https://humem.ai/ontology/currentTime': '2024-10-03T21:49:07.791818', 'https://humem.ai/ontology/location': 'Paris Cafe', 'https://humem.ai/ontology/memoryID': '18'})\n",
      "(rdflib.term.URIRef('https://example.org/person/Alice'), rdflib.term.URIRef('https://example.org/relationship/knows'), rdflib.term.URIRef('https://example.org/person/David'), {'https://humem.ai/ontology/emotion': 'curious', 'https://humem.ai/ontology/event': 'Workshop', 'https://humem.ai/ontology/location': 'Paris', 'https://humem.ai/ontology/memoryID': '2', 'https://humem.ai/ontology/recalled': '6', 'https://humem.ai/ontology/time': '2024-05-03T14:00:00'})\n",
      "(rdflib.term.URIRef('https://example.org/person/Alice'), rdflib.term.URIRef('https://example.org/relationship/owns'), rdflib.term.URIRef('https://example.org/entity/Dog'), {'https://humem.ai/ontology/currentTime': '2024-10-03T21:49:07.791643', 'https://humem.ai/ontology/location': \"Alice's home\", 'https://humem.ai/ontology/memoryID': '16'})\n",
      "(rdflib.term.URIRef('https://example.org/person/John'), rdflib.term.URIRef('https://example.org/relationship/loves'), rdflib.term.URIRef('https://example.org/entity/Animal'), {'https://humem.ai/ontology/emotion': 'excited', 'https://humem.ai/ontology/event': 'Conference meeting', 'https://humem.ai/ontology/location': 'London', 'https://humem.ai/ontology/memoryID': '10', 'https://humem.ai/ontology/recalled': '4', 'https://humem.ai/ontology/time': '2024-05-01T10:00:00'})\n",
      "(rdflib.term.URIRef('https://example.org/person/Bob'), rdflib.term.URIRef('https://example.org/event/met'), rdflib.term.URIRef('https://example.org/person/Charlie'), {'https://humem.ai/ontology/emotion': 'excited', 'https://humem.ai/ontology/event': 'Conference meeting', 'https://humem.ai/ontology/location': 'London', 'https://humem.ai/ontology/memoryID': '1', 'https://humem.ai/ontology/recalled': '5', 'https://humem.ai/ontology/time': '2024-05-01T10:00:00'})\n",
      "(rdflib.term.URIRef('https://example.org/person/Charlie'), rdflib.term.URIRef('https://example.org/event/met'), rdflib.term.URIRef('https://example.org/person/Eve'), {'https://humem.ai/ontology/emotion': 'happy', 'https://humem.ai/ontology/event': 'Coffee meeting', 'https://humem.ai/ontology/location': 'New York', 'https://humem.ai/ontology/memoryID': '3', 'https://humem.ai/ontology/recalled': '5', 'https://humem.ai/ontology/time': '2024-04-27T15:00:00'})\n",
      "(rdflib.term.URIRef('https://example.org/person/Alice'), rdflib.term.URIRef('https://example.org/relationship/owns'), rdflib.term.URIRef('https://example.org/entity/Dog'), {'https://humem.ai/ontology/currentTime': '2024-10-03T21:49:07.791558', 'https://humem.ai/ontology/location': \"Alice's home\", 'https://humem.ai/ontology/memoryID': '15'})\n",
      "(rdflib.term.URIRef('https://example.org/person/Charlie'), rdflib.term.URIRef('https://example.org/event/attended'), rdflib.term.URIRef('https://example.org/person/Bob'), {'https://humem.ai/ontology/emotion': 'happy', 'https://humem.ai/ontology/event': 'Coffee meeting', 'https://humem.ai/ontology/location': 'New York', 'https://humem.ai/ontology/memoryID': '6', 'https://humem.ai/ontology/recalled': '5', 'https://humem.ai/ontology/time': '2024-04-27T15:00:00'})\n",
      "(rdflib.term.URIRef('https://example.org/entity/Dog'), rdflib.term.URIRef('https://example.org/relationship/is'), rdflib.term.URIRef('https://example.org/entity/Animal'), {'https://humem.ai/ontology/emotion': 'excited', 'https://humem.ai/ontology/event': 'Conference meeting', 'https://humem.ai/ontology/location': 'London', 'https://humem.ai/ontology/memoryID': '7', 'https://humem.ai/ontology/recalled': '5', 'https://humem.ai/ontology/time': '2024-05-01T10:00:00'})\n",
      "(rdflib.term.URIRef('https://example.org/entity/Dog'), rdflib.term.URIRef('https://example.org/relationship/is'), rdflib.term.URIRef('https://example.org/entity/Animal'), {'https://humem.ai/ontology/derivedFrom': 'animal_research', 'https://humem.ai/ontology/memoryID': '12', 'https://humem.ai/ontology/recalled': '5', 'https://humem.ai/ontology/strength': '5'})\n",
      "(rdflib.term.URIRef('https://example.org/person/Eve'), rdflib.term.URIRef('https://example.org/relationship/worksWith'), rdflib.term.URIRef('https://example.org/person/Bob'), {'https://humem.ai/ontology/emotion': 'curious', 'https://humem.ai/ontology/event': 'Workshop', 'https://humem.ai/ontology/location': 'Paris', 'https://humem.ai/ontology/memoryID': '5', 'https://humem.ai/ontology/recalled': '5', 'https://humem.ai/ontology/time': '2024-05-03T14:00:00'})\n",
      "(rdflib.term.URIRef('https://example.org/person/John'), rdflib.term.URIRef('https://example.org/relationship/loves'), rdflib.term.URIRef('https://example.org/entity/Animal'), {'https://humem.ai/ontology/derivedFrom': 'animal_research', 'https://humem.ai/ontology/memoryID': '14', 'https://humem.ai/ontology/recalled': '4', 'https://humem.ai/ontology/strength': '5'})\n",
      "(rdflib.term.URIRef('https://example.org/person/Eve'), rdflib.term.URIRef('https://example.org/event/met'), rdflib.term.URIRef('https://example.org/person/Alice'), {'https://humem.ai/ontology/currentTime': '2024-10-03T21:49:07.791718', 'https://humem.ai/ontology/location': 'Paris Cafe', 'https://humem.ai/ontology/memoryID': '17'})\n",
      "(rdflib.term.URIRef('https://example.org/person/Eve'), rdflib.term.URIRef('https://example.org/event/met'), rdflib.term.URIRef('https://example.org/person/Alice'), {'https://humem.ai/ontology/emotion': 'happy', 'https://humem.ai/ontology/event': 'Coffee meeting', 'https://humem.ai/ontology/location': 'New York', 'https://humem.ai/ontology/memoryID': '9', 'https://humem.ai/ontology/recalled': '6', 'https://humem.ai/ontology/time': '2024-04-27T15:00:00'})\n",
      "(rdflib.term.URIRef('https://example.org/person/John'), rdflib.term.URIRef('https://example.org/relationship/loves'), rdflib.term.URIRef('https://example.org/entity/Animal'), {'https://humem.ai/ontology/derivedFrom': 'animal_research', 'https://humem.ai/ontology/memoryID': '13', 'https://humem.ai/ontology/recalled': '4', 'https://humem.ai/ontology/strength': '5'})\n",
      "(rdflib.term.URIRef('https://example.org/person/David'), rdflib.term.URIRef('https://example.org/event/invited'), rdflib.term.URIRef('https://example.org/person/Alice'), {'https://humem.ai/ontology/emotion': 'excited', 'https://humem.ai/ontology/event': 'Conference meeting', 'https://humem.ai/ontology/location': 'London', 'https://humem.ai/ontology/memoryID': '4', 'https://humem.ai/ontology/recalled': '6', 'https://humem.ai/ontology/time': '2024-05-01T10:00:00'})\n"
     ]
    }
   ],
   "source": [
    "for memory in memory_system.memory.iterate_memories():\n",
    "    print(memory)"
   ]
  },
  {
   "cell_type": "code",
   "execution_count": 19,
   "metadata": {},
   "outputs": [
    {
     "data": {
      "text/plain": [
       "(rdflib.term.URIRef('https://example.org/person/David'),\n",
       " rdflib.term.URIRef('https://example.org/event/invited'),\n",
       " rdflib.term.URIRef('https://example.org/person/Alice'),\n",
       " {'https://humem.ai/ontology/emotion': 'excited',\n",
       "  'https://humem.ai/ontology/event': 'Conference meeting',\n",
       "  'https://humem.ai/ontology/location': 'London',\n",
       "  'https://humem.ai/ontology/memoryID': '4',\n",
       "  'https://humem.ai/ontology/recalled': '6',\n",
       "  'https://humem.ai/ontology/time': '2024-05-01T10:00:00'})"
      ]
     },
     "execution_count": 19,
     "metadata": {},
     "output_type": "execute_result"
    }
   ],
   "source": [
    "memory"
   ]
  }
 ],
 "metadata": {
  "kernelspec": {
   "display_name": "humemai",
   "language": "python",
   "name": "python3"
  },
  "language_info": {
   "codemirror_mode": {
    "name": "ipython",
    "version": 3
   },
   "file_extension": ".py",
   "mimetype": "text/x-python",
   "name": "python",
   "nbconvert_exporter": "python",
   "pygments_lexer": "ipython3",
   "version": "3.10.12"
  }
 },
 "nbformat": 4,
 "nbformat_minor": 2
}
