{
 "cells": [
  {
   "cell_type": "code",
   "execution_count": 1,
   "metadata": {},
   "outputs": [
    {
     "name": "stderr",
     "output_type": "stream",
     "text": [
      "DEBUG:humemai.janusgraph.utils.docker:Docker Compose started successfully.\n",
      "DEBUG:humemai.janusgraph.utils.docker:\n",
      "INFO:gremlinpython:Creating DriverRemoteConnection with url 'ws://localhost:8182/gremlin'\n",
      "INFO:gremlinpython:Creating Client with url 'ws://localhost:8182/gremlin'\n",
      "INFO:gremlinpython:Creating GraphTraversalSource.\n",
      "INFO:gremlinpython:Creating GraphTraversalSource.\n",
      "DEBUG:humemai.janusgraph.humemai:Successfully connected to the Gremlin server.\n"
     ]
    }
   ],
   "source": [
    "from humemai.janusgraph import Humemai\n",
    "\n",
    "humemai = Humemai(\"./humemai/janusgraph/docker-compose-cql-es.yml\")\n",
    "humemai.connect()\n"
   ]
  },
  {
   "cell_type": "code",
   "execution_count": 2,
   "metadata": {},
   "outputs": [
    {
     "name": "stderr",
     "output_type": "stream",
     "text": [
      "DEBUG:gremlinpython:submit with bytecode '[['V'], ['drop'], ['none']]'\n",
      "DEBUG:gremlinpython:message '[['V'], ['drop'], ['none']]'\n",
      "DEBUG:gremlinpython:processor='traversal', op='bytecode', args='{'gremlin': [['V'], ['drop'], ['none']], 'aliases': {'g': 'g'}}'\n",
      "DEBUG:asyncio:Using selector: EpollSelector\n"
     ]
    }
   ],
   "source": [
    "humemai.remove_all_data()"
   ]
  },
  {
   "cell_type": "code",
   "execution_count": 3,
   "metadata": {},
   "outputs": [
    {
     "name": "stderr",
     "output_type": "stream",
     "text": [
      "DEBUG:gremlinpython:submit with bytecode '[['V']]'\n",
      "DEBUG:gremlinpython:message '[['V']]'\n",
      "DEBUG:gremlinpython:processor='traversal', op='bytecode', args='{'gremlin': [['V']], 'aliases': {'g': 'g'}}'\n",
      "DEBUG:asyncio:Using selector: EpollSelector\n"
     ]
    },
    {
     "data": {
      "text/plain": [
       "[]"
      ]
     },
     "execution_count": 3,
     "metadata": {},
     "output_type": "execute_result"
    }
   ],
   "source": [
    "humemai.g.V().toList()"
   ]
  },
  {
   "cell_type": "code",
   "execution_count": 4,
   "metadata": {},
   "outputs": [
    {
     "name": "stderr",
     "output_type": "stream",
     "text": [
      "INFO:gremlinpython:closing DriverRemoteConnection with url 'ws://localhost:8182/gremlin'\n",
      "INFO:gremlinpython:Closing Client with url 'ws://localhost:8182/gremlin'\n",
      "DEBUG:humemai.janusgraph.humemai:Disconnected from the Gremlin server.\n"
     ]
    }
   ],
   "source": [
    "humemai.disconnect()"
   ]
  },
  {
   "cell_type": "code",
   "execution_count": 5,
   "metadata": {},
   "outputs": [
    {
     "name": "stderr",
     "output_type": "stream",
     "text": [
      "DEBUG:humemai.janusgraph.utils.docker:Docker Compose stopped successfully.\n",
      "DEBUG:humemai.janusgraph.utils.docker:\n"
     ]
    }
   ],
   "source": [
    "humemai.stop_docker_compose()"
   ]
  },
  {
   "cell_type": "code",
   "execution_count": 13,
   "metadata": {},
   "outputs": [
    {
     "name": "stderr",
     "output_type": "stream",
     "text": [
      "DEBUG:humemai.janusgraph.utils.docker:Docker Compose removed successfully.\n",
      "DEBUG:humemai.janusgraph.utils.docker:\n"
     ]
    }
   ],
   "source": [
    "humemai.remove_docker_compose()"
   ]
  }
 ],
 "metadata": {
  "kernelspec": {
   "display_name": "humemai",
   "language": "python",
   "name": "python3"
  },
  "language_info": {
   "codemirror_mode": {
    "name": "ipython",
    "version": 3
   },
   "file_extension": ".py",
   "mimetype": "text/x-python",
   "name": "python",
   "nbconvert_exporter": "python",
   "pygments_lexer": "ipython3",
   "version": "3.10.12"
  }
 },
 "nbformat": 4,
 "nbformat_minor": 2
}
