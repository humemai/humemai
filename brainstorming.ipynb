{
 "cells": [
  {
   "cell_type": "markdown",
   "metadata": {},
   "source": [
    "## GCN + K-menas"
   ]
  },
  {
   "cell_type": "code",
   "execution_count": null,
   "metadata": {},
   "outputs": [],
   "source": [
    "# Install necessary packages (uncomment if not installed)\n",
    "# !pip install torch torchvision torchaudio\n",
    "# !pip install torch-geometric\n",
    "# !pip install scikit-learn\n",
    "# !pip install matplotlib\n",
    "# !pip install seaborn\n",
    "# !pip install umap-learn\n",
    "\n",
    "import torch\n",
    "import torch.nn as nn\n",
    "import torch.optim as optim\n",
    "from torch_geometric.nn import GCNConv, VGAE\n",
    "from torch_geometric.datasets import Planetoid\n",
    "import torch_geometric.transforms as T\n",
    "\n",
    "from sklearn.cluster import KMeans\n",
    "from sklearn.metrics import silhouette_score, adjusted_rand_score\n",
    "from sklearn.manifold import TSNE\n",
    "\n",
    "import matplotlib.pyplot as plt\n",
    "import seaborn as sns\n",
    "import umap\n",
    "\n",
    "import numpy as np\n",
    "\n",
    "# 1. Load the Cora dataset\n",
    "dataset = Planetoid(root='data/Planetoid', name='Cora', transform=T.NormalizeFeatures())\n",
    "data = dataset[0]\n",
    "\n",
    "print(f'Dataset: {dataset}:')\n",
    "print('======================')\n",
    "print(f'Number of graphs: {len(dataset)}')\n",
    "print(f'Number of features: {dataset.num_features}')\n",
    "print(f'Number of classes: {dataset.num_classes}')\n",
    "print(f'Number of nodes: {data.num_nodes}')\n",
    "print(f'Number of edges: {data.num_edges}')\n",
    "\n",
    "# 2. Define the GCN Encoder\n",
    "class GCNEncoder(nn.Module):\n",
    "    def __init__(self, in_channels, hidden_channels, out_channels):\n",
    "        super(GCNEncoder, self).__init__()\n",
    "        self.conv1 = GCNConv(in_channels, hidden_channels)\n",
    "        self.conv_mu = GCNConv(hidden_channels, out_channels)\n",
    "        self.conv_logvar = GCNConv(hidden_channels, out_channels)\n",
    "\n",
    "    def forward(self, x, edge_index):\n",
    "        x = self.conv1(x, edge_index).relu()\n",
    "        return self.conv_mu(x, edge_index), self.conv_logvar(x, edge_index)\n",
    "\n",
    "# 3. Initialize the model and optimizer\n",
    "input_dim = dataset.num_features\n",
    "hidden_dim = 128\n",
    "latent_dim = 64\n",
    "\n",
    "encoder = GCNEncoder(input_dim, hidden_dim, latent_dim)\n",
    "model = VGAE(encoder)\n",
    "\n",
    "device = torch.device('cuda' if torch.cuda.is_available() else 'cpu')\n",
    "model = model.to(device)\n",
    "data = data.to(device)\n",
    "\n",
    "optimizer = optim.Adam(model.parameters(), lr=0.01)\n",
    "\n",
    "# 4. Train the model\n",
    "num_epochs = 200\n",
    "\n",
    "model.train()\n",
    "for epoch in range(1, num_epochs + 1):\n",
    "    optimizer.zero_grad()\n",
    "    z = model.encode(data.x, data.edge_index)\n",
    "    loss = model.recon_loss(z, data.edge_index) + (1 / data.num_nodes) * model.kl_loss()\n",
    "    loss.backward()\n",
    "    optimizer.step()\n",
    "\n",
    "    if epoch % 10 == 0 or epoch == 1:\n",
    "        print(f'Epoch: {epoch:03d}, Loss: {loss.item():.4f}')\n",
    "\n",
    "# 5. Extract embeddings\n",
    "model.eval()\n",
    "with torch.no_grad():\n",
    "    z = model.encode(data.x, data.edge_index)\n",
    "    embeddings = z.cpu().numpy()\n",
    "\n",
    "print(f'Embeddings shape: {embeddings.shape}')\n",
    "\n",
    "# 6. Apply KMeans clustering\n",
    "num_clusters = dataset.num_classes\n",
    "kmeans = KMeans(n_clusters=num_clusters, random_state=42)\n",
    "cluster_labels = kmeans.fit_predict(embeddings)\n",
    "\n",
    "print(f'Cluster labels shape: {cluster_labels.shape}')\n",
    "\n",
    "# 7. Evaluation\n",
    "true_labels = data.y.cpu().numpy()\n",
    "ari = adjusted_rand_score(true_labels, cluster_labels)\n",
    "silhouette = silhouette_score(embeddings, cluster_labels)\n",
    "\n",
    "print(f'Adjusted Rand Index (ARI): {ari:.4f}')\n",
    "print(f'Silhouette Score: {silhouette:.4f}')\n",
    "\n",
    "# 8. Visualization with t-SNE\n",
    "tsne = TSNE(n_components=2, random_state=42)\n",
    "embeddings_2d = tsne.fit_transform(embeddings)\n",
    "\n",
    "plt.figure(figsize=(12, 6))\n",
    "\n",
    "# True Labels\n",
    "plt.subplot(1, 2, 1)\n",
    "sns.scatterplot(x=embeddings_2d[:,0], y=embeddings_2d[:,1], hue=true_labels, palette='tab10', s=10)\n",
    "plt.title('t-SNE - True Labels')\n",
    "plt.legend(bbox_to_anchor=(1.05, 1), loc='upper left')\n",
    "\n",
    "# Cluster Labels\n",
    "plt.subplot(1, 2, 2)\n",
    "sns.scatterplot(x=embeddings_2d[:,0], y=embeddings_2d[:,1], hue=cluster_labels, palette='tab10', s=10)\n",
    "plt.title('t-SNE - KMeans Clusters')\n",
    "plt.legend(bbox_to_anchor=(1.05, 1), loc='upper left')\n",
    "\n",
    "plt.tight_layout()\n",
    "plt.show()\n",
    "\n",
    "# 9. Visualization with UMAP\n",
    "reducer = umap.UMAP(random_state=42)\n",
    "embeddings_umap = reducer.fit_transform(embeddings)\n",
    "\n",
    "plt.figure(figsize=(12, 6))\n",
    "\n",
    "# True Labels\n",
    "plt.subplot(1, 2, 1)\n",
    "sns.scatterplot(x=embeddings_umap[:,0], y=embeddings_umap[:,1], hue=true_labels, palette='tab10', s=10)\n",
    "plt.title('UMAP - True Labels')\n",
    "plt.legend(bbox_to_anchor=(1.05, 1), loc='upper left')\n",
    "\n",
    "# Cluster Labels\n",
    "plt.subplot(1, 2, 2)\n",
    "sns.scatterplot(x=embeddings_umap[:,0], y=embeddings_umap[:,1], hue=cluster_labels, palette='tab10', s=10)\n",
    "plt.title('UMAP - KMeans Clusters')\n",
    "plt.legend(bbox_to_anchor=(1.05, 1), loc='upper left')\n",
    "\n",
    "plt.tight_layout()\n",
    "plt.show()\n"
   ]
  },
  {
   "cell_type": "code",
   "execution_count": 3,
   "metadata": {},
   "outputs": [],
   "source": [
    "import torch\n",
    "import torch.nn.functional as F\n",
    "from torch_geometric.nn import GCNConv, VGAE\n",
    "from torch_geometric.data import Data\n",
    "\n",
    "# Define the encoder as a simple GCN\n",
    "class Encoder(torch.nn.Module):\n",
    "    def __init__(self, input_dim, hidden_dim, latent_dim):\n",
    "        super(Encoder, self).__init__()\n",
    "        self.conv1 = GCNConv(input_dim, hidden_dim)\n",
    "        self.conv2_mu = GCNConv(hidden_dim, latent_dim)\n",
    "        self.conv2_logvar = GCNConv(hidden_dim, latent_dim)\n",
    "\n",
    "    def forward(self, x, edge_index):\n",
    "        x = F.relu(self.conv1(x, edge_index))\n",
    "        return self.conv2_mu(x, edge_index), self.conv2_logvar(x, edge_index)\n",
    "\n",
    "# Create the VAE model\n",
    "class GraphVAE(VGAE):\n",
    "    def __init__(self, encoder):\n",
    "        super(GraphVAE, self).__init__(encoder)\n",
    "\n",
    "# Load your event graphs as Data objects (from NetworkX or directly)\n",
    "# Example:\n",
    "edge_index = torch.tensor([[0, 1], [1, 0]], dtype=torch.long)  # example edge list\n",
    "x = torch.eye(2)  # example feature matrix (identity)\n",
    "\n",
    "# Create the graph data object\n",
    "data = Data(x=x, edge_index=edge_index)\n",
    "\n",
    "# Define encoder and VAE model\n",
    "encoder = Encoder(input_dim=2, hidden_dim=4, latent_dim=2)  # Modify dimensions as needed\n",
    "model = GraphVAE(encoder)\n",
    "\n",
    "# Forward pass through the VAE\n",
    "z = model.encode(data.x, data.edge_index)\n",
    "\n",
    "# You can now train the model and extract the embeddings\n"
   ]
  },
  {
   "cell_type": "code",
   "execution_count": 4,
   "metadata": {},
   "outputs": [
    {
     "data": {
      "text/plain": [
       "Data(x=[2, 2], edge_index=[2, 2])"
      ]
     },
     "execution_count": 4,
     "metadata": {},
     "output_type": "execute_result"
    }
   ],
   "source": [
    "data"
   ]
  },
  {
   "cell_type": "code",
   "execution_count": 5,
   "metadata": {},
   "outputs": [
    {
     "data": {
      "text/plain": [
       "tensor([[1., 0.],\n",
       "        [0., 1.]])"
      ]
     },
     "execution_count": 5,
     "metadata": {},
     "output_type": "execute_result"
    }
   ],
   "source": [
    "data.x"
   ]
  },
  {
   "cell_type": "code",
   "execution_count": 6,
   "metadata": {},
   "outputs": [
    {
     "data": {
      "text/plain": [
       "tensor([[0, 1],\n",
       "        [1, 0]])"
      ]
     },
     "execution_count": 6,
     "metadata": {},
     "output_type": "execute_result"
    }
   ],
   "source": [
    "data.edge_index"
   ]
  }
 ],
 "metadata": {
  "kernelspec": {
   "display_name": "humemai",
   "language": "python",
   "name": "python3"
  },
  "language_info": {
   "codemirror_mode": {
    "name": "ipython",
    "version": 3
   },
   "file_extension": ".py",
   "mimetype": "text/x-python",
   "name": "python",
   "nbconvert_exporter": "python",
   "pygments_lexer": "ipython3",
   "version": "3.10.12"
  }
 },
 "nbformat": 4,
 "nbformat_minor": 2
}
