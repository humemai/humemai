{
 "cells": [
  {
   "cell_type": "code",
   "execution_count": 54,
   "metadata": {},
   "outputs": [],
   "source": [
    "from humemai.utils import disable_logger\n",
    "disable_logger()\n",
    "\n",
    "from gremlin_python.structure.graph import Graph, Vertex, Edge\n",
    "from gremlin_python.driver.driver_remote_connection import DriverRemoteConnection\n",
    "from gremlin_python.driver.serializer import GraphSONSerializersV3d0\n",
    "from gremlin_python.process.graph_traversal import __\n",
    "from gremlin_python.process.traversal import P, T, Direction\n",
    "\n",
    "import json\n",
    "from humemai.janusgraph import Humemai\n",
    "from tqdm.auto import tqdm\n",
    "from datetime import datetime\n",
    "\n",
    "humemai = Humemai()\n",
    "humemai.start_containers()\n",
    "humemai.connect()\n",
    "humemai.remove_all_data()\n",
    "\n",
    "# humemai.disconnect()\n",
    "# humemai.stop_containers()\n",
    "# humemai.remove_containers()\n",
    "\n",
    "from humemai.utils import disable_logger\n",
    "disable_logger()\n",
    "g = humemai.g\n"
   ]
  },
  {
   "cell_type": "code",
   "execution_count": 55,
   "metadata": {},
   "outputs": [
    {
     "data": {
      "text/plain": [
       "'2024-12-06T11:48:29'"
      ]
     },
     "execution_count": 55,
     "metadata": {},
     "output_type": "execute_result"
    }
   ],
   "source": [
    "datetime.now().isoformat(timespec='seconds')"
   ]
  },
  {
   "cell_type": "markdown",
   "metadata": {},
   "source": [
    "## add graphs"
   ]
  },
  {
   "cell_type": "code",
   "execution_count": 127,
   "metadata": {},
   "outputs": [
    {
     "name": "stdout",
     "output_type": "stream",
     "text": [
      "Graph data cleared.\n"
     ]
    }
   ],
   "source": [
    "# Clear existing data in the graph\n",
    "g.V().drop().iterate()\n",
    "g.E().drop().iterate()\n",
    "print(\"Graph data cleared.\")\n",
    "\n",
    "# Create Episode 1: a1(ep1) -> b1(ep1)\n",
    "a1_ep1 = g.addV(\"a1\").property(\"event_time\", \"2024-12-06T11:48:29\").next()\n",
    "b1_ep1 = g.addV(\"b1\").property(\"event_time\", \"2024-12-06T11:48:29\").next()\n",
    "\n",
    "# Create edge1 from a1_ep1 to b1_ep1\n",
    "g.V(a1_ep1.id).addE(\"edge1\").property(\"event_time\", \"2024-12-06T11:48:29\").to(\n",
    "    b1_ep1\n",
    ").iterate()\n",
    "\n",
    "# Create Episode 2: b1(ep2) -> c1(ep2)\n",
    "b1_ep2 = g.addV(\"b1\").property(\"event_time\", \"2024-12-07T11:48:30\").next()\n",
    "c1_ep2 = g.addV(\"c1\").property(\"event_time\", \"2024-12-07T11:48:30\").next()\n",
    "\n",
    "# Create edge2 from b1_ep2 to c1_ep2\n",
    "g.V(b1_ep2.id).addE(\"edge2\").property(\"event_time\", \"2024-12-07T11:48:30\").to(\n",
    "    c1_ep2\n",
    ").iterate()\n",
    "\n",
    "# Create Episode 3: d1(ep3) -> c1(ep3) -> b1(ep3)\n",
    "d1_ep3 = g.addV(\"d1\").property(\"event_time\", \"2024-12-08T11:48:31\").next()\n",
    "c1_ep3 = g.addV(\"c1\").property(\"event_time\", \"2024-12-08T11:48:31\").next()\n",
    "b1_ep3 = g.addV(\"b1\").property(\"event_time\", \"2024-12-08T11:48:31\").next()\n",
    "\n",
    "# Create edge3 from c1_ep3 to b1_ep3\n",
    "g.V(c1_ep3.id).addE(\"edge3\").property(\"event_time\", \"2024-12-08T11:48:31\").to(\n",
    "    b1_ep3\n",
    ").iterate()\n",
    "# Create edge4 from d1_ep3 to c1_ep3\n",
    "g.V(d1_ep3.id).addE(\"edge4\").property(\"event_time\", \"2024-12-08T11:48:31\").to(\n",
    "    c1_ep3\n",
    ").iterate()\n",
    "\n",
    "repeated_labels = [\n",
    "    key for key, val in g.V().label().groupCount().toList()[0].items() if val > 1\n",
    "]"
   ]
  },
  {
   "cell_type": "code",
   "execution_count": 129,
   "metadata": {},
   "outputs": [],
   "source": [
    "for label in repeated_labels:\n",
    "    # Create a reference node for the label\n",
    "    reference_node = g.addV(f\"reference_{label}\").property(\"type\", \"reference\").next()\n",
    "    \n",
    "    # Connect each vertex with the duplicate label to the reference node\n",
    "    for vertex in g.V().hasLabel(label).toList():\n",
    "        g.V(vertex.id).addE(\"connected_to_reference\").to(reference_node).iterate()"
   ]
  },
  {
   "cell_type": "code",
   "execution_count": 122,
   "metadata": {},
   "outputs": [
    {
     "data": {
      "text/plain": [
       "['c1', 'b1']"
      ]
     },
     "execution_count": 122,
     "metadata": {},
     "output_type": "execute_result"
    }
   ],
   "source": [
    "[key for key, val in g.V().label().groupCount().toList()[0].items() if val > 1 ]"
   ]
  },
  {
   "cell_type": "code",
   "execution_count": 104,
   "metadata": {},
   "outputs": [
    {
     "name": "stdout",
     "output_type": "stream",
     "text": [
      "Label counts: [{'a1': 1, 'd1': 1, 'c1': 2, 'b1': 3}]\n",
      "Unfolded label counts: [{'a1': 1}, {'d1': 1}, {'c1': 2}, {'b1': 3}]\n"
     ]
    },
    {
     "ename": "ValueError",
     "evalue": "not enough values to unpack (expected 2, got 1)",
     "output_type": "error",
     "traceback": [
      "\u001b[0;31m---------------------------------------------------------------------------\u001b[0m",
      "\u001b[0;31mValueError\u001b[0m                                Traceback (most recent call last)",
      "Cell \u001b[0;32mIn[104], line 7\u001b[0m\n\u001b[1;32m      4\u001b[0m label_counts_unfolded \u001b[38;5;241m=\u001b[39m g\u001b[38;5;241m.\u001b[39mV()\u001b[38;5;241m.\u001b[39mlabel()\u001b[38;5;241m.\u001b[39mgroupCount()\u001b[38;5;241m.\u001b[39munfold()\u001b[38;5;241m.\u001b[39mtoList()\n\u001b[1;32m      5\u001b[0m \u001b[38;5;28mprint\u001b[39m(\u001b[38;5;124m\"\u001b[39m\u001b[38;5;124mUnfolded label counts:\u001b[39m\u001b[38;5;124m\"\u001b[39m, label_counts_unfolded)\n\u001b[0;32m----> 7\u001b[0m repeated_labels \u001b[38;5;241m=\u001b[39m [\n\u001b[1;32m      8\u001b[0m     key \u001b[38;5;28;01mfor\u001b[39;00m key, value \u001b[38;5;129;01min\u001b[39;00m g\u001b[38;5;241m.\u001b[39mV()\u001b[38;5;241m.\u001b[39mlabel()\u001b[38;5;241m.\u001b[39mgroupCount()\u001b[38;5;241m.\u001b[39munfold()\u001b[38;5;241m.\u001b[39mtoList() \u001b[38;5;28;01mif\u001b[39;00m value \u001b[38;5;241m>\u001b[39m \u001b[38;5;241m1\u001b[39m\n\u001b[1;32m      9\u001b[0m ]\n\u001b[1;32m     10\u001b[0m \u001b[38;5;28mprint\u001b[39m(\u001b[38;5;124m\"\u001b[39m\u001b[38;5;124mLabels that occur more than once:\u001b[39m\u001b[38;5;124m\"\u001b[39m, repeated_labels)\n",
      "Cell \u001b[0;32mIn[104], line 8\u001b[0m, in \u001b[0;36m<listcomp>\u001b[0;34m(.0)\u001b[0m\n\u001b[1;32m      4\u001b[0m label_counts_unfolded \u001b[38;5;241m=\u001b[39m g\u001b[38;5;241m.\u001b[39mV()\u001b[38;5;241m.\u001b[39mlabel()\u001b[38;5;241m.\u001b[39mgroupCount()\u001b[38;5;241m.\u001b[39munfold()\u001b[38;5;241m.\u001b[39mtoList()\n\u001b[1;32m      5\u001b[0m \u001b[38;5;28mprint\u001b[39m(\u001b[38;5;124m\"\u001b[39m\u001b[38;5;124mUnfolded label counts:\u001b[39m\u001b[38;5;124m\"\u001b[39m, label_counts_unfolded)\n\u001b[1;32m      7\u001b[0m repeated_labels \u001b[38;5;241m=\u001b[39m [\n\u001b[0;32m----> 8\u001b[0m     key \u001b[38;5;28;01mfor\u001b[39;00m key, value \u001b[38;5;129;01min\u001b[39;00m g\u001b[38;5;241m.\u001b[39mV()\u001b[38;5;241m.\u001b[39mlabel()\u001b[38;5;241m.\u001b[39mgroupCount()\u001b[38;5;241m.\u001b[39munfold()\u001b[38;5;241m.\u001b[39mtoList() \u001b[38;5;28;01mif\u001b[39;00m value \u001b[38;5;241m>\u001b[39m \u001b[38;5;241m1\u001b[39m\n\u001b[1;32m      9\u001b[0m ]\n\u001b[1;32m     10\u001b[0m \u001b[38;5;28mprint\u001b[39m(\u001b[38;5;124m\"\u001b[39m\u001b[38;5;124mLabels that occur more than once:\u001b[39m\u001b[38;5;124m\"\u001b[39m, repeated_labels)\n",
      "\u001b[0;31mValueError\u001b[0m: not enough values to unpack (expected 2, got 1)"
     ]
    }
   ],
   "source": [
    "label_counts = g.V().label().groupCount().toList()\n",
    "print(\"Label counts:\", label_counts)\n",
    "\n",
    "label_counts_unfolded = g.V().label().groupCount().unfold().toList()\n",
    "print(\"Unfolded label counts:\", label_counts_unfolded)\n",
    "\n",
    "repeated_labels = [\n",
    "    key for key, value in g.V().label().groupCount().unfold().toList() if value > 1\n",
    "]\n",
    "print(\"Labels that occur more than once:\", repeated_labels)\n"
   ]
  },
  {
   "cell_type": "code",
   "execution_count": 97,
   "metadata": {},
   "outputs": [
    {
     "name": "stdout",
     "output_type": "stream",
     "text": [
      "Labels that occur more than once: []\n"
     ]
    }
   ],
   "source": [
    "from gremlin_python.process.traversal import P\n",
    "\n",
    "# Find labels that occur more than once\n",
    "common_labels = (\n",
    "    g.V()\n",
    "    .label()                # Get all labels of vertices\n",
    "    .groupCount()           # Count occurrences of each label\n",
    "    .unfold()               # Convert map to key-value pairs\n",
    "    .where(__.select(\"value\").is_(P.gt(1)))  # Keep key-value pairs where the count > 1\n",
    "    .select(\"key\")          # Retrieve only the keys (labels)\n",
    "    .toList()               # Convert to a list\n",
    ")\n",
    "\n",
    "# Print the common labels\n",
    "print(\"Labels that occur more than once:\", common_labels)\n"
   ]
  },
  {
   "cell_type": "code",
   "execution_count": 84,
   "metadata": {},
   "outputs": [
    {
     "data": {
      "text/plain": [
       "[{'a1': 1, 'd1': 1, 'c1': 2, 'b1': 3}]"
      ]
     },
     "execution_count": 84,
     "metadata": {},
     "output_type": "execute_result"
    }
   ],
   "source": [
    "g.V().label().groupCount().toList()"
   ]
  },
  {
   "cell_type": "code",
   "execution_count": 83,
   "metadata": {},
   "outputs": [
    {
     "data": {
      "text/plain": [
       "[{'a1': 1}, {'d1': 1}, {'c1': 2}, {'b1': 3}]"
      ]
     },
     "execution_count": 83,
     "metadata": {},
     "output_type": "execute_result"
    }
   ],
   "source": [
    "g.V().label().groupCount().unfold().toList()"
   ]
  },
  {
   "cell_type": "code",
   "execution_count": 86,
   "metadata": {},
   "outputs": [
    {
     "ename": "NameError",
     "evalue": "name 'values' is not defined",
     "output_type": "error",
     "traceback": [
      "\u001b[0;31m---------------------------------------------------------------------------\u001b[0m",
      "\u001b[0;31mNameError\u001b[0m                                 Traceback (most recent call last)",
      "Cell \u001b[0;32mIn[86], line 1\u001b[0m\n\u001b[0;32m----> 1\u001b[0m g\u001b[38;5;241m.\u001b[39mV()\u001b[38;5;241m.\u001b[39mlabel()\u001b[38;5;241m.\u001b[39mgroupCount()\u001b[38;5;241m.\u001b[39munfold()\u001b[38;5;241m.\u001b[39mfilter(__\u001b[38;5;241m.\u001b[39mselect(\u001b[43mvalues\u001b[49m)\u001b[38;5;241m.\u001b[39mis_(P\u001b[38;5;241m.\u001b[39mgt(\u001b[38;5;241m0\u001b[39m)))\u001b[38;5;241m.\u001b[39mtoList()\n",
      "\u001b[0;31mNameError\u001b[0m: name 'values' is not defined"
     ]
    }
   ],
   "source": [
    "g.V().label().groupCount().unfold().filter(__.select(values).is_(P.gt(0))).toList()"
   ]
  },
  {
   "cell_type": "code",
   "execution_count": 77,
   "metadata": {},
   "outputs": [
    {
     "data": {
      "text/plain": [
       "['a1', 'b1', 'b1', 'b1', 'd1', 'c1', 'c1']"
      ]
     },
     "execution_count": 77,
     "metadata": {},
     "output_type": "execute_result"
    }
   ],
   "source": [
    "g.V().label().unfold().toList()"
   ]
  },
  {
   "cell_type": "code",
   "execution_count": 74,
   "metadata": {},
   "outputs": [
    {
     "ename": "NameError",
     "evalue": "name 'Counter' is not defined",
     "output_type": "error",
     "traceback": [
      "\u001b[0;31m---------------------------------------------------------------------------\u001b[0m",
      "\u001b[0;31mNameError\u001b[0m                                 Traceback (most recent call last)",
      "Cell \u001b[0;32mIn[74], line 5\u001b[0m\n\u001b[1;32m      2\u001b[0m labels \u001b[38;5;241m=\u001b[39m g\u001b[38;5;241m.\u001b[39mV()\u001b[38;5;241m.\u001b[39mlabel()\u001b[38;5;241m.\u001b[39mtoList()\n\u001b[1;32m      4\u001b[0m \u001b[38;5;66;03m# Count the occurrences of each label\u001b[39;00m\n\u001b[0;32m----> 5\u001b[0m label_counts \u001b[38;5;241m=\u001b[39m \u001b[43mCounter\u001b[49m(labels)\n",
      "\u001b[0;31mNameError\u001b[0m: name 'Counter' is not defined"
     ]
    }
   ],
   "source": [
    "# Get all vertex labels\n",
    "labels = g.V().label().toList()\n",
    "\n",
    "# Count the occurrences of each label\n",
    "label_counts = Counter(labels)\n"
   ]
  },
  {
   "cell_type": "code",
   "execution_count": 52,
   "metadata": {},
   "outputs": [
    {
     "data": {
      "text/plain": [
       "{'episode_id': 1, 'foo': 1}"
      ]
     },
     "execution_count": 52,
     "metadata": {},
     "output_type": "execute_result"
    }
   ],
   "source": [
    "{prop.key : prop.value for prop in a1_ep1.properties}"
   ]
  },
  {
   "cell_type": "code",
   "execution_count": null,
   "metadata": {},
   "outputs": [
    {
     "ename": "TypeError",
     "evalue": "'NoneType' object is not an iterator",
     "output_type": "error",
     "traceback": [
      "\u001b[0;31m---------------------------------------------------------------------------\u001b[0m",
      "\u001b[0;31mTypeError\u001b[0m                                 Traceback (most recent call last)",
      "Cell \u001b[0;32mIn[33], line 9\u001b[0m\n\u001b[1;32m      1\u001b[0m humemai\u001b[38;5;241m.\u001b[39mremove_all_data()\n\u001b[1;32m      4\u001b[0m \u001b[38;5;66;03m# -----------------------------------------------------------\u001b[39;00m\n\u001b[1;32m      5\u001b[0m \u001b[38;5;66;03m# CREATE THE EPISODES\u001b[39;00m\n\u001b[1;32m      6\u001b[0m \u001b[38;5;66;03m# Episode 1: a1(ep1) -> b1(ep1)\u001b[39;00m\n\u001b[1;32m      7\u001b[0m \u001b[43mg\u001b[49m\u001b[38;5;241;43m.\u001b[39;49m\u001b[43maddV\u001b[49m\u001b[43m(\u001b[49m\u001b[38;5;124;43m\"\u001b[39;49m\u001b[38;5;124;43ma1\u001b[39;49m\u001b[38;5;124;43m\"\u001b[39;49m\u001b[43m)\u001b[49m\u001b[38;5;241;43m.\u001b[39;49m\u001b[43mproperty\u001b[49m\u001b[43m(\u001b[49m\u001b[38;5;124;43m\"\u001b[39;49m\u001b[38;5;124;43mepisode_id\u001b[39;49m\u001b[38;5;124;43m\"\u001b[39;49m\u001b[43m,\u001b[49m\u001b[43m \u001b[49m\u001b[38;5;241;43m1\u001b[39;49m\u001b[43m)\u001b[49m\u001b[38;5;241;43m.\u001b[39;49m\u001b[43mas_\u001b[49m\u001b[43m(\u001b[49m\u001b[38;5;124;43m\"\u001b[39;49m\u001b[38;5;124;43ma1_ep1\u001b[39;49m\u001b[38;5;124;43m\"\u001b[39;49m\u001b[43m)\u001b[49m\u001b[43m \u001b[49m\u001b[43m\\\u001b[49m\n\u001b[1;32m      8\u001b[0m \u001b[43m \u001b[49m\u001b[38;5;241;43m.\u001b[39;49m\u001b[43maddV\u001b[49m\u001b[43m(\u001b[49m\u001b[38;5;124;43m\"\u001b[39;49m\u001b[38;5;124;43mb1\u001b[39;49m\u001b[38;5;124;43m\"\u001b[39;49m\u001b[43m)\u001b[49m\u001b[38;5;241;43m.\u001b[39;49m\u001b[43mproperty\u001b[49m\u001b[43m(\u001b[49m\u001b[38;5;124;43m\"\u001b[39;49m\u001b[38;5;124;43mepisode_id\u001b[39;49m\u001b[38;5;124;43m\"\u001b[39;49m\u001b[43m,\u001b[49m\u001b[43m \u001b[49m\u001b[38;5;241;43m1\u001b[39;49m\u001b[43m)\u001b[49m\u001b[38;5;241;43m.\u001b[39;49m\u001b[43mas_\u001b[49m\u001b[43m(\u001b[49m\u001b[38;5;124;43m\"\u001b[39;49m\u001b[38;5;124;43mb1_ep1\u001b[39;49m\u001b[38;5;124;43m\"\u001b[39;49m\u001b[43m)\u001b[49m\u001b[43m \u001b[49m\u001b[43m\\\u001b[49m\n\u001b[0;32m----> 9\u001b[0m \u001b[43m \u001b[49m\u001b[38;5;241;43m.\u001b[39;49m\u001b[43maddE\u001b[49m\u001b[43m(\u001b[49m\u001b[38;5;124;43m\"\u001b[39;49m\u001b[38;5;124;43medge1\u001b[39;49m\u001b[38;5;124;43m\"\u001b[39;49m\u001b[43m)\u001b[49m\u001b[38;5;241;43m.\u001b[39;49m\u001b[43mfrom_\u001b[49m\u001b[43m(\u001b[49m\u001b[38;5;124;43m\"\u001b[39;49m\u001b[38;5;124;43ma1_ep1\u001b[39;49m\u001b[38;5;124;43m\"\u001b[39;49m\u001b[43m)\u001b[49m\u001b[38;5;241;43m.\u001b[39;49m\u001b[43mto\u001b[49m\u001b[43m(\u001b[49m\u001b[38;5;124;43m\"\u001b[39;49m\u001b[38;5;124;43mb1_ep1\u001b[39;49m\u001b[38;5;124;43m\"\u001b[39;49m\u001b[43m)\u001b[49m\u001b[38;5;241;43m.\u001b[39;49m\u001b[43miterate\u001b[49m\u001b[43m(\u001b[49m\u001b[43m)\u001b[49m\n\u001b[1;32m     11\u001b[0m \u001b[38;5;66;03m# Episode 2: b1(ep2) -> c1(ep2)\u001b[39;00m\n\u001b[1;32m     12\u001b[0m g\u001b[38;5;241m.\u001b[39maddV(\u001b[38;5;124m\"\u001b[39m\u001b[38;5;124mb1\u001b[39m\u001b[38;5;124m\"\u001b[39m)\u001b[38;5;241m.\u001b[39mproperty(\u001b[38;5;124m\"\u001b[39m\u001b[38;5;124mepisode_id\u001b[39m\u001b[38;5;124m\"\u001b[39m, \u001b[38;5;241m2\u001b[39m)\u001b[38;5;241m.\u001b[39mas_(\u001b[38;5;124m\"\u001b[39m\u001b[38;5;124mb1_ep2\u001b[39m\u001b[38;5;124m\"\u001b[39m) \\\n\u001b[1;32m     13\u001b[0m  \u001b[38;5;241m.\u001b[39maddV(\u001b[38;5;124m\"\u001b[39m\u001b[38;5;124mc1\u001b[39m\u001b[38;5;124m\"\u001b[39m)\u001b[38;5;241m.\u001b[39mproperty(\u001b[38;5;124m\"\u001b[39m\u001b[38;5;124mepisode_id\u001b[39m\u001b[38;5;124m\"\u001b[39m, \u001b[38;5;241m2\u001b[39m)\u001b[38;5;241m.\u001b[39mas_(\u001b[38;5;124m\"\u001b[39m\u001b[38;5;124mc1_ep2\u001b[39m\u001b[38;5;124m\"\u001b[39m) \\\n\u001b[1;32m     14\u001b[0m  \u001b[38;5;241m.\u001b[39maddE(\u001b[38;5;124m\"\u001b[39m\u001b[38;5;124medge2\u001b[39m\u001b[38;5;124m\"\u001b[39m)\u001b[38;5;241m.\u001b[39mfrom_(\u001b[38;5;124m\"\u001b[39m\u001b[38;5;124mb1_ep2\u001b[39m\u001b[38;5;124m\"\u001b[39m)\u001b[38;5;241m.\u001b[39mto(\u001b[38;5;124m\"\u001b[39m\u001b[38;5;124mc1_ep2\u001b[39m\u001b[38;5;124m\"\u001b[39m)\u001b[38;5;241m.\u001b[39miterate()\n",
      "File \u001b[0;32m~/.virtualenvs/humemai/lib/python3.10/site-packages/gremlin_python/process/traversal.py:80\u001b[0m, in \u001b[0;36mTraversal.iterate\u001b[0;34m(self)\u001b[0m\n\u001b[1;32m     78\u001b[0m \u001b[38;5;28mself\u001b[39m\u001b[38;5;241m.\u001b[39mbytecode\u001b[38;5;241m.\u001b[39madd_step(\u001b[38;5;124m\"\u001b[39m\u001b[38;5;124mnone\u001b[39m\u001b[38;5;124m\"\u001b[39m)\n\u001b[1;32m     79\u001b[0m \u001b[38;5;28;01mwhile\u001b[39;00m \u001b[38;5;28;01mTrue\u001b[39;00m:\n\u001b[0;32m---> 80\u001b[0m     \u001b[38;5;28;01mtry\u001b[39;00m: \u001b[38;5;28;43mself\u001b[39;49m\u001b[38;5;241;43m.\u001b[39;49m\u001b[43mnext_traverser\u001b[49m\u001b[43m(\u001b[49m\u001b[43m)\u001b[49m\n\u001b[1;32m     81\u001b[0m     \u001b[38;5;28;01mexcept\u001b[39;00m \u001b[38;5;167;01mStopIteration\u001b[39;00m: \u001b[38;5;28;01mreturn\u001b[39;00m \u001b[38;5;28mself\u001b[39m\n",
      "File \u001b[0;32m~/.virtualenvs/humemai/lib/python3.10/site-packages/gremlin_python/process/traversal.py:94\u001b[0m, in \u001b[0;36mTraversal.next_traverser\u001b[0;34m(self)\u001b[0m\n\u001b[1;32m     92\u001b[0m     \u001b[38;5;28mself\u001b[39m\u001b[38;5;241m.\u001b[39mtraversal_strategies\u001b[38;5;241m.\u001b[39mapply_strategies(\u001b[38;5;28mself\u001b[39m)\n\u001b[1;32m     93\u001b[0m \u001b[38;5;28;01mif\u001b[39;00m \u001b[38;5;28mself\u001b[39m\u001b[38;5;241m.\u001b[39mlast_traverser \u001b[38;5;129;01mis\u001b[39;00m \u001b[38;5;28;01mNone\u001b[39;00m:\n\u001b[0;32m---> 94\u001b[0m     \u001b[38;5;28;01mreturn\u001b[39;00m \u001b[38;5;28;43mnext\u001b[39;49m\u001b[43m(\u001b[49m\u001b[38;5;28;43mself\u001b[39;49m\u001b[38;5;241;43m.\u001b[39;49m\u001b[43mtraversers\u001b[49m\u001b[43m)\u001b[49m\n\u001b[1;32m     95\u001b[0m \u001b[38;5;28;01melse\u001b[39;00m:\n\u001b[1;32m     96\u001b[0m     temp \u001b[38;5;241m=\u001b[39m \u001b[38;5;28mself\u001b[39m\u001b[38;5;241m.\u001b[39mlast_traverser\n",
      "\u001b[0;31mTypeError\u001b[0m: 'NoneType' object is not an iterator"
     ]
    }
   ],
   "source": [
    "humemai.remove_all_data()\n",
    "\n",
    "\n",
    "# -----------------------------------------------------------\n",
    "# CREATE THE EPISODES\n",
    "# Episode 1: a1(ep1) -> b1(ep1)\n",
    "g.addV(\"a1\").property(\"episode_id\", 1).as_(\"a1_ep1\") \\\n",
    " .addV(\"b1\").property(\"episode_id\", 1).as_(\"b1_ep1\") \\\n",
    " .addE(\"edge1\").from_(\"a1_ep1\").to(\"b1_ep1\").iterate()\n",
    "\n",
    "# Episode 2: b1(ep2) -> c1(ep2)\n",
    "g.addV(\"b1\").property(\"episode_id\", 2).as_(\"b1_ep2\") \\\n",
    " .addV(\"c1\").property(\"episode_id\", 2).as_(\"c1_ep2\") \\\n",
    " .addE(\"edge2\").from_(\"b1_ep2\").to(\"c1_ep2\").iterate()\n",
    "\n",
    "# Episode 3: b1(ep3) -> d1(ep3)\n",
    "g.addV(\"b1\").property(\"episode_id\", 3).as_(\"b1_ep3\") \\\n",
    " .addV(\"d1\").property(\"episode_id\", 3).as_(\"d1_ep3\") \\\n",
    " .addE(\"edge3\").from_(\"b1_ep3\").to(\"d1_ep3\").iterate()\n",
    "\n",
    "# Create the reference_b1 node\n",
    "g.addV(\"reference_b1\").as_(\"mb\").iterate()\n",
    "\n",
    "# LINK EACH b1 TO reference_b1\n",
    "g.V().hasLabel(\"b1\").has(\"episode_id\", 1).as_(\"b1_ep1\") \\\n",
    " .V().hasLabel(\"reference_b1\").as_(\"mb\") \\\n",
    " .addE(\"virtual_link\").from_(\"b1_ep1\").to(\"mb\").iterate()\n",
    "\n",
    "g.V().hasLabel(\"b1\").has(\"episode_id\", 2).as_(\"b1_ep2\") \\\n",
    " .V().hasLabel(\"reference_b1\").as_(\"mb\") \\\n",
    " .addE(\"virtual_link\").from_(\"b1_ep2\").to(\"mb\").iterate()\n",
    "\n",
    "g.V().hasLabel(\"b1\").has(\"episode_id\", 3).as_(\"b1_ep3\") \\\n",
    " .V().hasLabel(\"reference_b1\").as_(\"mb\") \\\n",
    " .addE(\"virtual_link\").from_(\"b1_ep3\").to(\"mb\").iterate()\n",
    "\n",
    "# -----------------------------------------------------------\n",
    "# DEBUG: PRINT ALL VERTICES AND EDGES\n",
    "print(\"All Vertices:\")\n",
    "for v in g.V().toList():\n",
    "    # valueMap(True) includes id, label, and properties\n",
    "    props = g.V(v.id).valueMap(True).next()\n",
    "    print(\"Vertex:\", props)\n",
    "\n",
    "print(\"\\nAll Edges:\")\n",
    "for e in g.E().toList():\n",
    "    props_list = g.E(e.id).valueMap(True).toList()\n",
    "    if props_list:\n",
    "        print(\"Edge:\", props_list)\n",
    "    else:\n",
    "        print(\"Edge has no properties:\", e.id, e.label)\n",
    "\n",
    "# -----------------------------------------------------------\n",
    "# TEST BASIC TRAVERSALS\n",
    "print(\"\\nStep Checks:\")\n",
    "# 1. From a1(ep1) to b1(ep1)\n",
    "step1 = g.V().hasLabel(\"a1\").has(\"episode_id\",1).out(\"edge1\").label().toList()\n",
    "print(\"From a1(ep1) to b1(ep1):\", step1)\n",
    "\n",
    "# 2. From b1(ep1) to reference_b1\n",
    "step2 = g.V().hasLabel(\"b1\").has(\"episode_id\",1).out(\"virtual_link\").label().toList()\n",
    "print(\"From b1(ep1) to reference_b1:\", step2)\n",
    "\n",
    "# 3. From meta_b1 to all b1 nodes (via in virtual_link)\n",
    "step3 = g.V().hasLabel(\"meta_b1\").in_(\"virtual_link\").valueMap(True).toList()\n",
    "print(\"From meta_b1 in virtual_link:\", step3)\n",
    "\n",
    "# 4. From b1(ep2) to c1(ep2)\n",
    "step4 = g.V().hasLabel(\"b1\").has(\"episode_id\",2).out(\"edge2\").label().toList()\n",
    "print(\"From b1(ep2) to c1(ep2):\", step4)\n",
    "\n",
    "# -----------------------------------------------------------\n",
    "# FULL PATH:\n",
    "# a1(ep1) -> b1(ep1) -> meta_b1 -> b1(ep2) -> c1(ep2)\n",
    "# Use valueMap(True) in the path step so we can access properties easily\n",
    "\n",
    "print(\"\\nFull combined path from a1(ep1) to c1(ep2) via meta_b1:\")\n",
    "full_paths = g.V().hasLabel(\"a1\").has(\"episode_id\",1) \\\n",
    "    .out(\"edge1\")             \\\n",
    "    .out(\"virtual_link\")      \\\n",
    "    .in_(\"virtual_link\")      \\\n",
    "    .has(\"episode_id\",2)      \\\n",
    "    .out(\"edge2\")             \\\n",
    "    .path().by(__.valueMap(True)).toList()\n",
    "\n",
    "if not full_paths:\n",
    "    print(\"No paths found. Check your setup.\")\n",
    "else:\n",
    "\n",
    "    for p in full_paths:\n",
    "        for element in p.objects:\n",
    "            print(element)  # Print the entire map to inspect keys\n",
    "\n",
    "\n",
    "    for p in full_paths:\n",
    "        path_info = []\n",
    "        # p is a Path; p.objects is a list of dicts (from valueMap(True))\n",
    "        for element in p.objects:\n",
    "            # element is now a dict with keys like '~id', '~label', 'episode_id'\n",
    "            label = element[\"~label\"]\n",
    "            # episode_id is stored as a list in valueMap, e.g. {'episode_id': [1]}\n",
    "            ep_id = element.get(\"episode_id\", [None])[0]\n",
    "            path_info.append((label, ep_id))\n",
    "        print(path_info)"
   ]
  },
  {
   "cell_type": "code",
   "execution_count": 28,
   "metadata": {},
   "outputs": [
    {
     "data": {
      "text/plain": [
       "[['V'], ['hasLabel', 'b1'], ['has', 'episode_id', 2], ['as', 'b1_ep2'], ['V'], ['hasLabel', 'meta_b1'], ['values', '_ipython_canary_method_should_not_exist_'], ['values', '_ipython_canary_method_should_not_exist_']]"
      ]
     },
     "execution_count": 28,
     "metadata": {},
     "output_type": "execute_result"
    }
   ],
   "source": [
    "g.V().hasLabel(\"b1\").has(\"episode_id\", 2).as_(\"b1_ep2\").V().hasLabel(\"meta_b1\")"
   ]
  }
 ],
 "metadata": {
  "kernelspec": {
   "display_name": "humemai",
   "language": "python",
   "name": "python3"
  },
  "language_info": {
   "codemirror_mode": {
    "name": "ipython",
    "version": 3
   },
   "file_extension": ".py",
   "mimetype": "text/x-python",
   "name": "python",
   "nbconvert_exporter": "python",
   "pygments_lexer": "ipython3",
   "version": "3.10.12"
  }
 },
 "nbformat": 4,
 "nbformat_minor": 2
}
