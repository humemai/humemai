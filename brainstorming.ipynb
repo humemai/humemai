{
 "cells": [
  {
   "cell_type": "code",
   "execution_count": 1,
   "metadata": {},
   "outputs": [
    {
     "name": "stdout",
     "output_type": "stream",
     "text": [
      "\n",
      "===== Working Memory (Hop 0) =====\n",
      "Number of Triples: 2\n",
      "Number of Memories (Reified Statements): 4\n",
      "[Eve, met, Alice, {'location': 'Paris Cafe', 'currentTime': '2024-10-03T17:06:11.690213', 'memoryID': '17'}]\n",
      "[Eve, met, Alice, {'currentTime': '2024-10-03T17:06:11.690331', 'location': 'Paris Cafe', 'memoryID': '18'}]\n",
      "[Alice, owns, Dog, {'location': \"Alice's home\", 'memoryID': '15', 'currentTime': '2024-10-03T17:06:11.690004'}]\n",
      "[Alice, owns, Dog, {'currentTime': '2024-10-03T17:06:11.690118', 'location': \"Alice's home\", 'memoryID': '16'}]\n",
      "\n",
      "===== Working Memory (Hop 1) =====\n",
      "Number of Triples: 5\n",
      "Number of Memories (Reified Statements): 9\n",
      "[Alice, owns, Dog, {'memoryID': '15', 'location': \"Alice's home\", 'currentTime': '2024-10-03T17:06:11.690004'}]\n",
      "[Alice, owns, Dog, {'currentTime': '2024-10-03T17:06:11.690118', 'location': \"Alice's home\", 'memoryID': '16'}]\n",
      "[Eve, met, Alice, {'currentTime': '2024-10-03T17:06:11.690331', 'memoryID': '18', 'location': 'Paris Cafe'}]\n",
      "[Eve, met, Alice, {'location': 'Paris Cafe', 'currentTime': '2024-10-03T17:06:11.690213', 'memoryID': '17'}]\n",
      "[Alice, met, Bob, {'memoryID': '0', 'location': 'New York', 'time': '2024-04-27T15:00:00', 'emotion': 'happy', 'event': 'Coffee meeting', 'recalled': '1'}]\n",
      "[Alice, knows, David, {'memoryID': '2', 'location': 'Paris', 'time': '2024-05-03T14:00:00', 'emotion': 'curious', 'event': 'Workshop', 'recalled': '1'}]\n",
      "[Alice, owns, Dog, {'memoryID': '8', 'location': 'Paris', 'time': '2024-05-03T14:00:00', 'emotion': 'curious', 'event': 'Workshop', 'recalled': '1'}]\n",
      "[David, invited, Alice, {'memoryID': '4', 'location': 'London', 'time': '2024-05-01T10:00:00', 'emotion': 'excited', 'event': 'Conference meeting', 'recalled': '1'}]\n",
      "[Eve, met, Alice, {'memoryID': '9', 'location': 'New York', 'time': '2024-04-27T15:00:00', 'emotion': 'happy', 'event': 'Coffee meeting', 'recalled': '1'}]\n",
      "\n",
      "===== Working Memory (Hop 2) =====\n",
      "Number of Triples: 10\n",
      "Number of Memories (Reified Statements): 16\n",
      "[Eve, met, Alice, {'currentTime': '2024-10-03T17:06:11.690331', 'location': 'Paris Cafe', 'memoryID': '18'}]\n",
      "[Alice, owns, Dog, {'memoryID': '15', 'currentTime': '2024-10-03T17:06:11.690004', 'location': \"Alice's home\"}]\n",
      "[Alice, owns, Dog, {'currentTime': '2024-10-03T17:06:11.690118', 'location': \"Alice's home\", 'memoryID': '16'}]\n",
      "[Eve, met, Alice, {'memoryID': '17', 'currentTime': '2024-10-03T17:06:11.690213', 'location': 'Paris Cafe'}]\n",
      "[Alice, met, Bob, {'memoryID': '0', 'location': 'New York', 'time': '2024-04-27T15:00:00', 'emotion': 'happy', 'event': 'Coffee meeting', 'recalled': '2'}]\n",
      "[Alice, knows, David, {'memoryID': '2', 'location': 'Paris', 'time': '2024-05-03T14:00:00', 'emotion': 'curious', 'event': 'Workshop', 'recalled': '2'}]\n",
      "[Alice, owns, Dog, {'memoryID': '8', 'location': 'Paris', 'time': '2024-05-03T14:00:00', 'emotion': 'curious', 'event': 'Workshop', 'recalled': '2'}]\n",
      "[David, invited, Alice, {'memoryID': '4', 'location': 'London', 'time': '2024-05-01T10:00:00', 'emotion': 'excited', 'event': 'Conference meeting', 'recalled': '2'}]\n",
      "[Eve, met, Alice, {'memoryID': '9', 'location': 'New York', 'time': '2024-04-27T15:00:00', 'emotion': 'happy', 'event': 'Coffee meeting', 'recalled': '2'}]\n",
      "[Bob, met, Charlie, {'memoryID': '1', 'location': 'London', 'time': '2024-05-01T10:00:00', 'emotion': 'excited', 'event': 'Conference meeting', 'recalled': '1'}]\n",
      "[Eve, worksWith, Bob, {'memoryID': '5', 'location': 'Paris', 'time': '2024-05-03T14:00:00', 'emotion': 'curious', 'event': 'Workshop', 'recalled': '1'}]\n",
      "[Charlie, attended, Bob, {'memoryID': '6', 'location': 'New York', 'time': '2024-04-27T15:00:00', 'emotion': 'happy', 'event': 'Coffee meeting', 'recalled': '1'}]\n",
      "[Dog, is, Animal, {'memoryID': '7', 'location': 'London', 'time': '2024-05-01T10:00:00', 'emotion': 'excited', 'event': 'Conference meeting', 'recalled': '1'}]\n",
      "[Dog, is, Animal, {'memoryID': '11', 'strength': '5', 'derivedFrom': 'animal_research', 'recalled': '1'}]\n",
      "[Dog, is, Animal, {'memoryID': '12', 'strength': '5', 'derivedFrom': 'animal_research', 'recalled': '1'}]\n",
      "[Charlie, met, Eve, {'memoryID': '3', 'location': 'New York', 'time': '2024-04-27T15:00:00', 'emotion': 'happy', 'event': 'Coffee meeting', 'recalled': '1'}]\n",
      "\n",
      "===== Working Memory (Hop 3) =====\n",
      "Number of Triples: 11\n",
      "Number of Memories (Reified Statements): 19\n",
      "[Eve, met, Alice, {'memoryID': '18', 'currentTime': '2024-10-03T17:06:11.690331', 'location': 'Paris Cafe'}]\n",
      "[Alice, owns, Dog, {'memoryID': '16', 'currentTime': '2024-10-03T17:06:11.690118', 'location': \"Alice's home\"}]\n",
      "[Alice, owns, Dog, {'location': \"Alice's home\", 'currentTime': '2024-10-03T17:06:11.690004', 'memoryID': '15'}]\n",
      "[Eve, met, Alice, {'memoryID': '17', 'currentTime': '2024-10-03T17:06:11.690213', 'location': 'Paris Cafe'}]\n",
      "[Alice, met, Bob, {'memoryID': '0', 'location': 'New York', 'time': '2024-04-27T15:00:00', 'emotion': 'happy', 'event': 'Coffee meeting', 'recalled': '3'}]\n",
      "[Alice, knows, David, {'memoryID': '2', 'location': 'Paris', 'time': '2024-05-03T14:00:00', 'emotion': 'curious', 'event': 'Workshop', 'recalled': '3'}]\n",
      "[Alice, owns, Dog, {'memoryID': '8', 'location': 'Paris', 'time': '2024-05-03T14:00:00', 'emotion': 'curious', 'event': 'Workshop', 'recalled': '3'}]\n",
      "[David, invited, Alice, {'memoryID': '4', 'location': 'London', 'time': '2024-05-01T10:00:00', 'emotion': 'excited', 'event': 'Conference meeting', 'recalled': '3'}]\n",
      "[Eve, met, Alice, {'memoryID': '9', 'location': 'New York', 'time': '2024-04-27T15:00:00', 'emotion': 'happy', 'event': 'Coffee meeting', 'recalled': '3'}]\n",
      "[Bob, met, Charlie, {'memoryID': '1', 'location': 'London', 'time': '2024-05-01T10:00:00', 'emotion': 'excited', 'event': 'Conference meeting', 'recalled': '2'}]\n",
      "[Eve, worksWith, Bob, {'memoryID': '5', 'location': 'Paris', 'time': '2024-05-03T14:00:00', 'emotion': 'curious', 'event': 'Workshop', 'recalled': '2'}]\n",
      "[Charlie, attended, Bob, {'memoryID': '6', 'location': 'New York', 'time': '2024-04-27T15:00:00', 'emotion': 'happy', 'event': 'Coffee meeting', 'recalled': '2'}]\n",
      "[Dog, is, Animal, {'memoryID': '7', 'location': 'London', 'time': '2024-05-01T10:00:00', 'emotion': 'excited', 'event': 'Conference meeting', 'recalled': '2'}]\n",
      "[Dog, is, Animal, {'memoryID': '11', 'strength': '5', 'derivedFrom': 'animal_research', 'recalled': '2'}]\n",
      "[Dog, is, Animal, {'memoryID': '12', 'strength': '5', 'derivedFrom': 'animal_research', 'recalled': '2'}]\n",
      "[Charlie, met, Eve, {'memoryID': '3', 'location': 'New York', 'time': '2024-04-27T15:00:00', 'emotion': 'happy', 'event': 'Coffee meeting', 'recalled': '2'}]\n",
      "[John, loves, Animal, {'memoryID': '10', 'location': 'London', 'time': '2024-05-01T10:00:00', 'emotion': 'excited', 'event': 'Conference meeting', 'recalled': '1'}]\n",
      "[John, loves, Animal, {'memoryID': '13', 'strength': '5', 'derivedFrom': 'animal_research', 'recalled': '1'}]\n",
      "[John, loves, Animal, {'memoryID': '14', 'strength': '5', 'derivedFrom': 'animal_research', 'recalled': '1'}]\n",
      "\n",
      "===== Working Memory (Hop 4) =====\n",
      "Number of Triples: 11\n",
      "Number of Memories (Reified Statements): 19\n",
      "[Alice, owns, Dog, {'memoryID': '15', 'location': \"Alice's home\", 'currentTime': '2024-10-03T17:06:11.690004'}]\n",
      "[Alice, owns, Dog, {'currentTime': '2024-10-03T17:06:11.690118', 'location': \"Alice's home\", 'memoryID': '16'}]\n",
      "[Eve, met, Alice, {'currentTime': '2024-10-03T17:06:11.690331', 'location': 'Paris Cafe', 'memoryID': '18'}]\n",
      "[Eve, met, Alice, {'memoryID': '17', 'currentTime': '2024-10-03T17:06:11.690213', 'location': 'Paris Cafe'}]\n",
      "[Alice, met, Bob, {'memoryID': '0', 'location': 'New York', 'time': '2024-04-27T15:00:00', 'emotion': 'happy', 'event': 'Coffee meeting', 'recalled': '4'}]\n",
      "[Alice, knows, David, {'memoryID': '2', 'location': 'Paris', 'time': '2024-05-03T14:00:00', 'emotion': 'curious', 'event': 'Workshop', 'recalled': '4'}]\n",
      "[Alice, owns, Dog, {'memoryID': '8', 'location': 'Paris', 'time': '2024-05-03T14:00:00', 'emotion': 'curious', 'event': 'Workshop', 'recalled': '4'}]\n",
      "[David, invited, Alice, {'memoryID': '4', 'location': 'London', 'time': '2024-05-01T10:00:00', 'emotion': 'excited', 'event': 'Conference meeting', 'recalled': '4'}]\n",
      "[Eve, met, Alice, {'memoryID': '9', 'location': 'New York', 'time': '2024-04-27T15:00:00', 'emotion': 'happy', 'event': 'Coffee meeting', 'recalled': '4'}]\n",
      "[Bob, met, Charlie, {'memoryID': '1', 'location': 'London', 'time': '2024-05-01T10:00:00', 'emotion': 'excited', 'event': 'Conference meeting', 'recalled': '3'}]\n",
      "[Eve, worksWith, Bob, {'memoryID': '5', 'location': 'Paris', 'time': '2024-05-03T14:00:00', 'emotion': 'curious', 'event': 'Workshop', 'recalled': '3'}]\n",
      "[Charlie, attended, Bob, {'memoryID': '6', 'location': 'New York', 'time': '2024-04-27T15:00:00', 'emotion': 'happy', 'event': 'Coffee meeting', 'recalled': '3'}]\n",
      "[Dog, is, Animal, {'memoryID': '7', 'location': 'London', 'time': '2024-05-01T10:00:00', 'emotion': 'excited', 'event': 'Conference meeting', 'recalled': '3'}]\n",
      "[Dog, is, Animal, {'memoryID': '11', 'strength': '5', 'derivedFrom': 'animal_research', 'recalled': '3'}]\n",
      "[Dog, is, Animal, {'memoryID': '12', 'strength': '5', 'derivedFrom': 'animal_research', 'recalled': '3'}]\n",
      "[Charlie, met, Eve, {'memoryID': '3', 'location': 'New York', 'time': '2024-04-27T15:00:00', 'emotion': 'happy', 'event': 'Coffee meeting', 'recalled': '3'}]\n",
      "[John, loves, Animal, {'memoryID': '10', 'location': 'London', 'time': '2024-05-01T10:00:00', 'emotion': 'excited', 'event': 'Conference meeting', 'recalled': '2'}]\n",
      "[John, loves, Animal, {'memoryID': '13', 'strength': '5', 'derivedFrom': 'animal_research', 'recalled': '2'}]\n",
      "[John, loves, Animal, {'memoryID': '14', 'strength': '5', 'derivedFrom': 'animal_research', 'recalled': '2'}]\n",
      "\n",
      "===== Working Memory (Hop 5) =====\n",
      "Number of Triples: 11\n",
      "Number of Memories (Reified Statements): 19\n",
      "[Alice, owns, Dog, {'memoryID': '16', 'currentTime': '2024-10-03T17:06:11.690118', 'location': \"Alice's home\"}]\n",
      "[Eve, met, Alice, {'location': 'Paris Cafe', 'memoryID': '18', 'currentTime': '2024-10-03T17:06:11.690331'}]\n",
      "[Eve, met, Alice, {'memoryID': '17', 'location': 'Paris Cafe', 'currentTime': '2024-10-03T17:06:11.690213'}]\n",
      "[Alice, owns, Dog, {'location': \"Alice's home\", 'memoryID': '15', 'currentTime': '2024-10-03T17:06:11.690004'}]\n",
      "[Alice, met, Bob, {'memoryID': '0', 'location': 'New York', 'time': '2024-04-27T15:00:00', 'emotion': 'happy', 'event': 'Coffee meeting', 'recalled': '5'}]\n",
      "[Alice, knows, David, {'memoryID': '2', 'location': 'Paris', 'time': '2024-05-03T14:00:00', 'emotion': 'curious', 'event': 'Workshop', 'recalled': '5'}]\n",
      "[Alice, owns, Dog, {'memoryID': '8', 'location': 'Paris', 'time': '2024-05-03T14:00:00', 'emotion': 'curious', 'event': 'Workshop', 'recalled': '5'}]\n",
      "[David, invited, Alice, {'memoryID': '4', 'location': 'London', 'time': '2024-05-01T10:00:00', 'emotion': 'excited', 'event': 'Conference meeting', 'recalled': '5'}]\n",
      "[Eve, met, Alice, {'memoryID': '9', 'location': 'New York', 'time': '2024-04-27T15:00:00', 'emotion': 'happy', 'event': 'Coffee meeting', 'recalled': '5'}]\n",
      "[Bob, met, Charlie, {'memoryID': '1', 'location': 'London', 'time': '2024-05-01T10:00:00', 'emotion': 'excited', 'event': 'Conference meeting', 'recalled': '4'}]\n",
      "[Eve, worksWith, Bob, {'memoryID': '5', 'location': 'Paris', 'time': '2024-05-03T14:00:00', 'emotion': 'curious', 'event': 'Workshop', 'recalled': '4'}]\n",
      "[Charlie, attended, Bob, {'memoryID': '6', 'location': 'New York', 'time': '2024-04-27T15:00:00', 'emotion': 'happy', 'event': 'Coffee meeting', 'recalled': '4'}]\n",
      "[Dog, is, Animal, {'memoryID': '7', 'location': 'London', 'time': '2024-05-01T10:00:00', 'emotion': 'excited', 'event': 'Conference meeting', 'recalled': '4'}]\n",
      "[Dog, is, Animal, {'memoryID': '11', 'strength': '5', 'derivedFrom': 'animal_research', 'recalled': '4'}]\n",
      "[Dog, is, Animal, {'memoryID': '12', 'strength': '5', 'derivedFrom': 'animal_research', 'recalled': '4'}]\n",
      "[Charlie, met, Eve, {'memoryID': '3', 'location': 'New York', 'time': '2024-04-27T15:00:00', 'emotion': 'happy', 'event': 'Coffee meeting', 'recalled': '4'}]\n",
      "[John, loves, Animal, {'memoryID': '10', 'location': 'London', 'time': '2024-05-01T10:00:00', 'emotion': 'excited', 'event': 'Conference meeting', 'recalled': '3'}]\n",
      "[John, loves, Animal, {'memoryID': '13', 'strength': '5', 'derivedFrom': 'animal_research', 'recalled': '3'}]\n",
      "[John, loves, Animal, {'memoryID': '14', 'strength': '5', 'derivedFrom': 'animal_research', 'recalled': '3'}]\n",
      "\n",
      "===== Working Memory (Hop All long-term) =====\n",
      "Number of Triples: 11\n",
      "Number of Memories (Reified Statements): 19\n",
      "[Eve, met, Alice, {'location': 'Paris Cafe', 'memoryID': '17', 'currentTime': '2024-10-03T17:06:11.690213'}]\n",
      "[Alice, owns, Dog, {'currentTime': '2024-10-03T17:06:11.690118', 'location': \"Alice's home\", 'memoryID': '16'}]\n",
      "[Eve, met, Alice, {'location': 'Paris Cafe', 'memoryID': '18', 'currentTime': '2024-10-03T17:06:11.690331'}]\n",
      "[Alice, owns, Dog, {'location': \"Alice's home\", 'currentTime': '2024-10-03T17:06:11.690004', 'memoryID': '15'}]\n",
      "[Alice, met, Bob, {'memoryID': '0', 'location': 'New York', 'time': '2024-04-27T15:00:00', 'emotion': 'happy', 'event': 'Coffee meeting', 'recalled': '6'}]\n",
      "[Bob, met, Charlie, {'memoryID': '1', 'location': 'London', 'time': '2024-05-01T10:00:00', 'emotion': 'excited', 'event': 'Conference meeting', 'recalled': '5'}]\n",
      "[Alice, knows, David, {'memoryID': '2', 'location': 'Paris', 'time': '2024-05-03T14:00:00', 'emotion': 'curious', 'event': 'Workshop', 'recalled': '6'}]\n",
      "[Charlie, met, Eve, {'memoryID': '3', 'location': 'New York', 'time': '2024-04-27T15:00:00', 'emotion': 'happy', 'event': 'Coffee meeting', 'recalled': '5'}]\n",
      "[David, invited, Alice, {'memoryID': '4', 'location': 'London', 'time': '2024-05-01T10:00:00', 'emotion': 'excited', 'event': 'Conference meeting', 'recalled': '6'}]\n",
      "[Eve, worksWith, Bob, {'memoryID': '5', 'location': 'Paris', 'time': '2024-05-03T14:00:00', 'emotion': 'curious', 'event': 'Workshop', 'recalled': '5'}]\n",
      "[Charlie, attended, Bob, {'memoryID': '6', 'location': 'New York', 'time': '2024-04-27T15:00:00', 'emotion': 'happy', 'event': 'Coffee meeting', 'recalled': '5'}]\n",
      "[Dog, is, Animal, {'memoryID': '7', 'location': 'London', 'time': '2024-05-01T10:00:00', 'emotion': 'excited', 'event': 'Conference meeting', 'recalled': '5'}]\n",
      "[Alice, owns, Dog, {'memoryID': '8', 'location': 'Paris', 'time': '2024-05-03T14:00:00', 'emotion': 'curious', 'event': 'Workshop', 'recalled': '6'}]\n",
      "[Eve, met, Alice, {'memoryID': '9', 'location': 'New York', 'time': '2024-04-27T15:00:00', 'emotion': 'happy', 'event': 'Coffee meeting', 'recalled': '6'}]\n",
      "[John, loves, Animal, {'memoryID': '10', 'location': 'London', 'time': '2024-05-01T10:00:00', 'emotion': 'excited', 'event': 'Conference meeting', 'recalled': '4'}]\n",
      "[Dog, is, Animal, {'memoryID': '11', 'strength': '5', 'derivedFrom': 'animal_research', 'recalled': '5'}]\n",
      "[Dog, is, Animal, {'memoryID': '12', 'strength': '5', 'derivedFrom': 'animal_research', 'recalled': '5'}]\n",
      "[John, loves, Animal, {'memoryID': '13', 'strength': '5', 'derivedFrom': 'animal_research', 'recalled': '4'}]\n",
      "[John, loves, Animal, {'memoryID': '14', 'strength': '5', 'derivedFrom': 'animal_research', 'recalled': '4'}]\n"
     ]
    }
   ],
   "source": [
    "import logging\n",
    "from rdflib import URIRef, Namespace\n",
    "from humemai import MemorySystem\n",
    "\n",
    "# Define the custom namespace for humemai ontology\n",
    "humemai = Namespace(\"https://humem.ai/ontology/\")\n",
    "\n",
    "# Turn off debug logging\n",
    "logging.getLogger(\"humemai\").setLevel(logging.WARNING)\n",
    "\n",
    "# Initialize the memory system\n",
    "memory_system = MemorySystem()\n",
    "\n",
    "# Define multiple triples\n",
    "triples = [\n",
    "    (\n",
    "        URIRef(\"https://example.org/person/Alice\"),\n",
    "        URIRef(\"https://example.org/event/met\"),\n",
    "        URIRef(\"https://example.org/person/Bob\"),\n",
    "    ),  # 0\n",
    "    (\n",
    "        URIRef(\"https://example.org/person/Bob\"),\n",
    "        URIRef(\"https://example.org/event/met\"),\n",
    "        URIRef(\"https://example.org/person/Charlie\"),\n",
    "    ),  # 1\n",
    "    (\n",
    "        URIRef(\"https://example.org/person/Alice\"),\n",
    "        URIRef(\"https://example.org/relationship/knows\"),\n",
    "        URIRef(\"https://example.org/person/David\"),\n",
    "    ),  # 2\n",
    "    (\n",
    "        URIRef(\"https://example.org/person/Charlie\"),\n",
    "        URIRef(\"https://example.org/event/met\"),\n",
    "        URIRef(\"https://example.org/person/Eve\"),\n",
    "    ),  # 3\n",
    "    (\n",
    "        URIRef(\"https://example.org/person/David\"),\n",
    "        URIRef(\"https://example.org/event/invited\"),\n",
    "        URIRef(\"https://example.org/person/Alice\"),\n",
    "    ),  # 4\n",
    "    (\n",
    "        URIRef(\"https://example.org/person/Eve\"),\n",
    "        URIRef(\"https://example.org/relationship/worksWith\"),\n",
    "        URIRef(\"https://example.org/person/Bob\"),\n",
    "    ),  # 5\n",
    "    (\n",
    "        URIRef(\"https://example.org/person/Charlie\"),\n",
    "        URIRef(\"https://example.org/event/attended\"),\n",
    "        URIRef(\"https://example.org/person/Bob\"),\n",
    "    ),  # 6\n",
    "    (\n",
    "        URIRef(\"https://example.org/entity/Dog\"),\n",
    "        URIRef(\"https://example.org/relationship/is\"),\n",
    "        URIRef(\"https://example.org/entity/Animal\"),\n",
    "    ),  # 7\n",
    "    (\n",
    "        URIRef(\"https://example.org/person/Alice\"),\n",
    "        URIRef(\"https://example.org/relationship/owns\"),\n",
    "        URIRef(\"https://example.org/entity/Dog\"),\n",
    "    ),  # 8\n",
    "    (\n",
    "        URIRef(\"https://example.org/person/Eve\"),\n",
    "        URIRef(\"https://example.org/event/met\"),\n",
    "        URIRef(\"https://example.org/person/Alice\"),\n",
    "    ),  # 9\n",
    "    (\n",
    "        URIRef(\"https://example.org/person/John\"),\n",
    "        URIRef(\"https://example.org/relationship/loves\"),\n",
    "        URIRef(\"https://example.org/entity/Animal\"),\n",
    "    ),  # 10\n",
    "]\n",
    "\n",
    "# Define qualifiers for episodic memories\n",
    "episodic_qualifiers_1 = {\n",
    "    \"location\": \"New York\",\n",
    "    \"time\": \"2024-04-27T15:00:00\",\n",
    "    \"emotion\": \"happy\",\n",
    "    \"event\": \"Coffee meeting\",\n",
    "}\n",
    "episodic_qualifiers_2 = {\n",
    "    \"location\": \"London\",\n",
    "    \"time\": \"2024-05-01T10:00:00\",\n",
    "    \"emotion\": \"excited\",\n",
    "    \"event\": \"Conference meeting\",\n",
    "}\n",
    "episodic_qualifiers_3 = {\n",
    "    \"location\": \"Paris\",\n",
    "    \"time\": \"2024-05-03T14:00:00\",\n",
    "    \"emotion\": \"curious\",\n",
    "    \"event\": \"Workshop\",\n",
    "}\n",
    "\n",
    "# Add long-term episodic memories\n",
    "memory_system.memory.add_long_term_memory(\n",
    "    \"episodic\", [triples[0]], **episodic_qualifiers_1\n",
    ")\n",
    "memory_system.memory.add_long_term_memory(\n",
    "    \"episodic\", [triples[1]], **episodic_qualifiers_2\n",
    ")\n",
    "memory_system.memory.add_long_term_memory(\n",
    "    \"episodic\", [triples[2]], **episodic_qualifiers_3\n",
    ")\n",
    "memory_system.memory.add_long_term_memory(\n",
    "    \"episodic\", [triples[3]], **episodic_qualifiers_1\n",
    ")\n",
    "memory_system.memory.add_long_term_memory(\n",
    "    \"episodic\", [triples[4]], **episodic_qualifiers_2\n",
    ")\n",
    "memory_system.memory.add_long_term_memory(\n",
    "    \"episodic\", [triples[5]], **episodic_qualifiers_3\n",
    ")\n",
    "memory_system.memory.add_long_term_memory(\n",
    "    \"episodic\", [triples[6]], **episodic_qualifiers_1\n",
    ")\n",
    "memory_system.memory.add_long_term_memory(\n",
    "    \"episodic\", [triples[7]], **episodic_qualifiers_2\n",
    ")\n",
    "memory_system.memory.add_long_term_memory(\n",
    "    \"episodic\", [triples[8]], **episodic_qualifiers_3\n",
    ")\n",
    "memory_system.memory.add_long_term_memory(\n",
    "    \"episodic\", [triples[9]], **episodic_qualifiers_1\n",
    ")\n",
    "memory_system.memory.add_long_term_memory(\n",
    "    \"episodic\", [triples[10]], **episodic_qualifiers_2\n",
    ")\n",
    "\n",
    "\n",
    "# Add a semantic memory for the \"Dog\" entity\n",
    "semantic_qualifiers = {\"derivedFrom\": \"animal_research\", \"strength\": 5}\n",
    "memory_system.memory.add_long_term_memory(\n",
    "    \"semantic\", [triples[7]], **semantic_qualifiers\n",
    ")\n",
    "memory_system.memory.add_long_term_memory(\n",
    "    \"semantic\", [triples[7]], **semantic_qualifiers\n",
    ")\n",
    "memory_system.memory.add_long_term_memory(\n",
    "    \"semantic\", [triples[10]], **semantic_qualifiers\n",
    ")\n",
    "memory_system.memory.add_long_term_memory(\n",
    "    \"semantic\", [triples[10]], **semantic_qualifiers\n",
    ")\n",
    "\n",
    "# Add a short-term memory (recent event)\n",
    "memory_system.memory.add_short_term_memory([triples[8]], location=\"Alice's home\")\n",
    "memory_system.memory.add_short_term_memory([triples[8]], location=\"Alice's home\")\n",
    "\n",
    "# Add another short-term memory\n",
    "memory_system.memory.add_short_term_memory([triples[9]], location=\"Paris Cafe\")\n",
    "memory_system.memory.add_short_term_memory([triples[9]], location=\"Paris Cafe\")\n",
    "\n",
    "\n",
    "# Function to count triples and memories in working memory\n",
    "def print_memory_statistics(working_memory, hop_level):\n",
    "    num_triples = working_memory.get_triple_count()\n",
    "    num_memories = working_memory.get_memory_count()  # This counts reified statements\n",
    "\n",
    "    print(f\"\\n===== Working Memory (Hop {hop_level}) =====\")\n",
    "    print(f\"Number of Triples: {num_triples}\")\n",
    "    print(f\"Number of Memories (Reified Statements): {num_memories}\")\n",
    "    print(repr(working_memory))\n",
    "\n",
    "\n",
    "# Test working memory retrieval with different hops\n",
    "trigger_node = URIRef(\"https://example.org/person/Alice\")\n",
    "\n",
    "# Hop 0 - Just the immediate node (only the short-term memories involving Alice)\n",
    "working_memory_hop_0 = memory_system.get_working_memory(\n",
    "    trigger_node=trigger_node, hops=0\n",
    ")\n",
    "print_memory_statistics(working_memory_hop_0, 0)\n",
    "\n",
    "# Hop 1 - Immediate neighbors (both incoming and outgoing edges)\n",
    "working_memory_hop_1 = memory_system.get_working_memory(\n",
    "    trigger_node=trigger_node, hops=1\n",
    ")\n",
    "print_memory_statistics(working_memory_hop_1, 1)\n",
    "\n",
    "# Hop 2 - 2-hop neighbors (further expansion of relationships)\n",
    "working_memory_hop_2 = memory_system.get_working_memory(\n",
    "    trigger_node=trigger_node, hops=2\n",
    ")\n",
    "print_memory_statistics(working_memory_hop_2, 2)\n",
    "\n",
    "# Hop 3 - 3-hop neighbors (going even further in the memory graph)\n",
    "working_memory_hop_3 = memory_system.get_working_memory(\n",
    "    trigger_node=trigger_node, hops=3\n",
    ")\n",
    "print_memory_statistics(working_memory_hop_3, 3)\n",
    "\n",
    "# Hop 4 - Maximum depth\n",
    "working_memory_hop_4 = memory_system.get_working_memory(\n",
    "    trigger_node=trigger_node, hops=4\n",
    ")\n",
    "print_memory_statistics(working_memory_hop_4, 4)\n",
    "\n",
    "# Hop 5 - Maximum depth\n",
    "working_memory_hop_5 = memory_system.get_working_memory(\n",
    "    trigger_node=trigger_node, hops=5\n",
    ")\n",
    "print_memory_statistics(working_memory_hop_5, 5)\n",
    "\n",
    "# Example: Get working memory with all long-term memories included\n",
    "working_memory_all = memory_system.get_working_memory(include_all_long_term=True)\n",
    "print_memory_statistics(working_memory_all, \"All long-term\")"
   ]
  },
  {
   "cell_type": "code",
   "execution_count": 2,
   "metadata": {},
   "outputs": [
    {
     "data": {
      "text/plain": [
       "[Alice, met, Bob, {'memoryID': '0', 'location': 'New York', 'time': '2024-04-27T15:00:00', 'emotion': 'happy', 'event': 'Coffee meeting', 'recalled': '6'}]\n",
       "[Bob, met, Charlie, {'memoryID': '1', 'location': 'London', 'time': '2024-05-01T10:00:00', 'emotion': 'excited', 'event': 'Conference meeting', 'recalled': '5'}]\n",
       "[Alice, knows, David, {'memoryID': '2', 'location': 'Paris', 'time': '2024-05-03T14:00:00', 'emotion': 'curious', 'event': 'Workshop', 'recalled': '6'}]\n",
       "[Charlie, met, Eve, {'memoryID': '3', 'location': 'New York', 'time': '2024-04-27T15:00:00', 'emotion': 'happy', 'event': 'Coffee meeting', 'recalled': '5'}]\n",
       "[David, invited, Alice, {'memoryID': '4', 'location': 'London', 'time': '2024-05-01T10:00:00', 'emotion': 'excited', 'event': 'Conference meeting', 'recalled': '6'}]\n",
       "[Eve, worksWith, Bob, {'memoryID': '5', 'location': 'Paris', 'time': '2024-05-03T14:00:00', 'emotion': 'curious', 'event': 'Workshop', 'recalled': '5'}]\n",
       "[Charlie, attended, Bob, {'memoryID': '6', 'location': 'New York', 'time': '2024-04-27T15:00:00', 'emotion': 'happy', 'event': 'Coffee meeting', 'recalled': '5'}]\n",
       "[Dog, is, Animal, {'memoryID': '7', 'location': 'London', 'time': '2024-05-01T10:00:00', 'emotion': 'excited', 'event': 'Conference meeting', 'recalled': '5'}]\n",
       "[Alice, owns, Dog, {'memoryID': '8', 'location': 'Paris', 'time': '2024-05-03T14:00:00', 'emotion': 'curious', 'event': 'Workshop', 'recalled': '6'}]\n",
       "[Eve, met, Alice, {'memoryID': '9', 'location': 'New York', 'time': '2024-04-27T15:00:00', 'emotion': 'happy', 'event': 'Coffee meeting', 'recalled': '6'}]\n",
       "[John, loves, Animal, {'memoryID': '10', 'location': 'London', 'time': '2024-05-01T10:00:00', 'emotion': 'excited', 'event': 'Conference meeting', 'recalled': '4'}]\n",
       "[Dog, is, Animal, {'memoryID': '11', 'strength': '5', 'derivedFrom': 'animal_research', 'recalled': '5'}]\n",
       "[Dog, is, Animal, {'memoryID': '12', 'strength': '5', 'derivedFrom': 'animal_research', 'recalled': '5'}]\n",
       "[John, loves, Animal, {'memoryID': '13', 'strength': '5', 'derivedFrom': 'animal_research', 'recalled': '4'}]\n",
       "[John, loves, Animal, {'memoryID': '14', 'strength': '5', 'derivedFrom': 'animal_research', 'recalled': '4'}]\n",
       "[Alice, owns, Dog, {'memoryID': '15', 'currentTime': '2024-10-03T17:06:11.690004', 'location': \"Alice's home\"}]\n",
       "[Alice, owns, Dog, {'memoryID': '16', 'currentTime': '2024-10-03T17:06:11.690118', 'location': \"Alice's home\"}]\n",
       "[Eve, met, Alice, {'memoryID': '17', 'currentTime': '2024-10-03T17:06:11.690213', 'location': 'Paris Cafe'}]\n",
       "[Eve, met, Alice, {'memoryID': '18', 'currentTime': '2024-10-03T17:06:11.690331', 'location': 'Paris Cafe'}]"
      ]
     },
     "execution_count": 2,
     "metadata": {},
     "output_type": "execute_result"
    }
   ],
   "source": [
    "memory_system"
   ]
  },
  {
   "cell_type": "code",
   "execution_count": 3,
   "metadata": {},
   "outputs": [],
   "source": [
    "memory_system.memory.save_to_ttl(\"foo.ttl\")"
   ]
  },
  {
   "cell_type": "code",
   "execution_count": 4,
   "metadata": {},
   "outputs": [
    {
     "data": {
      "text/plain": [
       "[Eve, met, Alice, {'currentTime': '2024-10-03T17:06:11.690331', 'location': 'Paris Cafe', 'memoryID': '18'}]\n",
       "[Charlie, met, Eve, {'emotion': 'happy', 'event': 'Coffee meeting', 'location': 'New York', 'memoryID': '3', 'recalled': '5', 'time': '2024-04-27T15:00:00'}]\n",
       "[David, invited, Alice, {'emotion': 'excited', 'event': 'Conference meeting', 'location': 'London', 'memoryID': '4', 'recalled': '6', 'time': '2024-05-01T10:00:00'}]\n",
       "[Alice, met, Bob, {'emotion': 'happy', 'event': 'Coffee meeting', 'location': 'New York', 'memoryID': '0', 'recalled': '6', 'time': '2024-04-27T15:00:00'}]\n",
       "[John, loves, Animal, {'emotion': 'excited', 'event': 'Conference meeting', 'location': 'London', 'memoryID': '10', 'recalled': '4', 'time': '2024-05-01T10:00:00'}]\n",
       "[John, loves, Animal, {'derivedFrom': 'animal_research', 'memoryID': '14', 'recalled': '4', 'strength': '5'}]\n",
       "[Dog, is, Animal, {'derivedFrom': 'animal_research', 'memoryID': '12', 'recalled': '5', 'strength': '5'}]\n",
       "[Eve, met, Alice, {'currentTime': '2024-10-03T17:06:11.690213', 'location': 'Paris Cafe', 'memoryID': '17'}]\n",
       "[Alice, owns, Dog, {'currentTime': '2024-10-03T17:06:11.690118', 'location': \"Alice's home\", 'memoryID': '16'}]\n",
       "[Dog, is, Animal, {'derivedFrom': 'animal_research', 'memoryID': '11', 'recalled': '5', 'strength': '5'}]\n",
       "[Eve, met, Alice, {'emotion': 'happy', 'event': 'Coffee meeting', 'location': 'New York', 'memoryID': '9', 'recalled': '6', 'time': '2024-04-27T15:00:00'}]\n",
       "[John, loves, Animal, {'derivedFrom': 'animal_research', 'memoryID': '13', 'recalled': '4', 'strength': '5'}]\n",
       "[Dog, is, Animal, {'emotion': 'excited', 'event': 'Conference meeting', 'location': 'London', 'memoryID': '7', 'recalled': '5', 'time': '2024-05-01T10:00:00'}]\n",
       "[Alice, owns, Dog, {'currentTime': '2024-10-03T17:06:11.690004', 'location': \"Alice's home\", 'memoryID': '15'}]\n",
       "[Alice, owns, Dog, {'emotion': 'curious', 'event': 'Workshop', 'location': 'Paris', 'memoryID': '8', 'recalled': '6', 'time': '2024-05-03T14:00:00'}]\n",
       "[Bob, met, Charlie, {'emotion': 'excited', 'event': 'Conference meeting', 'location': 'London', 'memoryID': '1', 'recalled': '5', 'time': '2024-05-01T10:00:00'}]\n",
       "[Charlie, attended, Bob, {'emotion': 'happy', 'event': 'Coffee meeting', 'location': 'New York', 'memoryID': '6', 'recalled': '5', 'time': '2024-04-27T15:00:00'}]\n",
       "[Eve, worksWith, Bob, {'emotion': 'curious', 'event': 'Workshop', 'location': 'Paris', 'memoryID': '5', 'recalled': '5', 'time': '2024-05-03T14:00:00'}]\n",
       "[Alice, knows, David, {'emotion': 'curious', 'event': 'Workshop', 'location': 'Paris', 'memoryID': '2', 'recalled': '6', 'time': '2024-05-03T14:00:00'}]"
      ]
     },
     "execution_count": 4,
     "metadata": {},
     "output_type": "execute_result"
    }
   ],
   "source": [
    "import logging\n",
    "from rdflib import URIRef, Namespace\n",
    "from humemai import MemorySystem\n",
    "\n",
    "# Define the custom namespace for humemai ontology\n",
    "humemai = Namespace(\"https://humem.ai/ontology/\")\n",
    "\n",
    "# Turn off debug logging\n",
    "logging.getLogger(\"humemai\").setLevel(logging.WARNING)\n",
    "\n",
    "# Initialize the memory system\n",
    "memory_system = MemorySystem()\n",
    "\n",
    "memory_system.memory.load_from_ttl(\"foo.ttl\")\n",
    "\n",
    "memory_system"
   ]
  },
  {
   "cell_type": "code",
   "execution_count": 5,
   "metadata": {},
   "outputs": [
    {
     "data": {
      "text/plain": [
       "[Eve, met, Alice, {'currentTime': '2024-10-03T17:06:11.690331', 'location': 'Paris Cafe', 'memoryID': '18'}]\n",
       "[Charlie, met, Eve, {'emotion': 'happy', 'event': 'Coffee meeting', 'location': 'New York', 'memoryID': '3', 'recalled': '5', 'time': '2024-04-27T15:00:00'}]\n",
       "[David, invited, Alice, {'emotion': 'excited', 'event': 'Conference meeting', 'location': 'London', 'memoryID': '4', 'recalled': '6', 'time': '2024-05-01T10:00:00'}]\n",
       "[Alice, met, Bob, {'emotion': 'happy', 'event': 'Coffee meeting', 'location': 'New York', 'memoryID': '0', 'recalled': '6', 'time': '2024-04-27T15:00:00'}]\n",
       "[John, loves, Animal, {'emotion': 'excited', 'event': 'Conference meeting', 'location': 'London', 'memoryID': '10', 'recalled': '4', 'time': '2024-05-01T10:00:00'}]\n",
       "[John, loves, Animal, {'derivedFrom': 'animal_research', 'memoryID': '14', 'recalled': '4', 'strength': '5'}]\n",
       "[Dog, is, Animal, {'derivedFrom': 'animal_research', 'memoryID': '12', 'recalled': '5', 'strength': '5'}]\n",
       "[Eve, met, Alice, {'currentTime': '2024-10-03T17:06:11.690213', 'location': 'Paris Cafe', 'memoryID': '17'}]\n",
       "[Alice, owns, Dog, {'currentTime': '2024-10-03T17:06:11.690118', 'location': \"Alice's home\", 'memoryID': '16'}]\n",
       "[Dog, is, Animal, {'derivedFrom': 'animal_research', 'memoryID': '11', 'recalled': '5', 'strength': '5'}]\n",
       "[Eve, met, Alice, {'emotion': 'happy', 'event': 'Coffee meeting', 'location': 'New York', 'memoryID': '9', 'recalled': '6', 'time': '2024-04-27T15:00:00'}]\n",
       "[John, loves, Animal, {'derivedFrom': 'animal_research', 'memoryID': '13', 'recalled': '4', 'strength': '5'}]\n",
       "[Dog, is, Animal, {'emotion': 'excited', 'event': 'Conference meeting', 'location': 'London', 'memoryID': '7', 'recalled': '5', 'time': '2024-05-01T10:00:00'}]\n",
       "[Alice, owns, Dog, {'currentTime': '2024-10-03T17:06:11.690004', 'location': \"Alice's home\", 'memoryID': '15'}]\n",
       "[Alice, owns, Dog, {'emotion': 'curious', 'event': 'Workshop', 'location': 'Paris', 'memoryID': '8', 'recalled': '6', 'time': '2024-05-03T14:00:00'}]\n",
       "[Bob, met, Charlie, {'emotion': 'excited', 'event': 'Conference meeting', 'location': 'London', 'memoryID': '1', 'recalled': '5', 'time': '2024-05-01T10:00:00'}]\n",
       "[Charlie, attended, Bob, {'emotion': 'happy', 'event': 'Coffee meeting', 'location': 'New York', 'memoryID': '6', 'recalled': '5', 'time': '2024-04-27T15:00:00'}]\n",
       "[Eve, worksWith, Bob, {'emotion': 'curious', 'event': 'Workshop', 'location': 'Paris', 'memoryID': '5', 'recalled': '5', 'time': '2024-05-03T14:00:00'}]\n",
       "[Alice, knows, David, {'emotion': 'curious', 'event': 'Workshop', 'location': 'Paris', 'memoryID': '2', 'recalled': '6', 'time': '2024-05-03T14:00:00'}]"
      ]
     },
     "execution_count": 5,
     "metadata": {},
     "output_type": "execute_result"
    }
   ],
   "source": [
    "memory_system.memory"
   ]
  },
  {
   "cell_type": "code",
   "execution_count": 6,
   "metadata": {},
   "outputs": [
    {
     "data": {
      "text/plain": [
       "11"
      ]
     },
     "execution_count": 6,
     "metadata": {},
     "output_type": "execute_result"
    }
   ],
   "source": [
    "memory_system.memory.get_triple_count()"
   ]
  },
  {
   "cell_type": "code",
   "execution_count": 7,
   "metadata": {},
   "outputs": [
    {
     "data": {
      "text/plain": [
       "19"
      ]
     },
     "execution_count": 7,
     "metadata": {},
     "output_type": "execute_result"
    }
   ],
   "source": [
    "memory_system.memory.get_memory_count()"
   ]
  },
  {
   "cell_type": "code",
   "execution_count": 8,
   "metadata": {},
   "outputs": [
    {
     "data": {
      "text/plain": [
       "4"
      ]
     },
     "execution_count": 8,
     "metadata": {},
     "output_type": "execute_result"
    }
   ],
   "source": [
    "memory_system.memory.get_short_term_memory_count()"
   ]
  },
  {
   "cell_type": "code",
   "execution_count": 9,
   "metadata": {},
   "outputs": [
    {
     "data": {
      "text/plain": [
       "15"
      ]
     },
     "execution_count": 9,
     "metadata": {},
     "output_type": "execute_result"
    }
   ],
   "source": [
    "memory_system.memory.get_long_term_memory_count()"
   ]
  },
  {
   "cell_type": "code",
   "execution_count": 10,
   "metadata": {},
   "outputs": [
    {
     "data": {
      "text/plain": [
       "11"
      ]
     },
     "execution_count": 10,
     "metadata": {},
     "output_type": "execute_result"
    }
   ],
   "source": [
    "memory_system.memory.get_long_term_episodic_memory_count()"
   ]
  },
  {
   "cell_type": "code",
   "execution_count": 11,
   "metadata": {},
   "outputs": [
    {
     "data": {
      "text/plain": [
       "4"
      ]
     },
     "execution_count": 11,
     "metadata": {},
     "output_type": "execute_result"
    }
   ],
   "source": [
    "memory_system.memory.get_long_term_semantic_memory_count()"
   ]
  },
  {
   "cell_type": "code",
   "execution_count": 12,
   "metadata": {},
   "outputs": [
    {
     "name": "stdout",
     "output_type": "stream",
     "text": [
      "(rdflib.term.URIRef('https://example.org/person/Eve'), rdflib.term.URIRef('https://example.org/event/met'), rdflib.term.URIRef('https://example.org/person/Alice'), {'https://humem.ai/ontology/currentTime': '2024-10-03T17:06:11.690331', 'https://humem.ai/ontology/location': 'Paris Cafe', 'https://humem.ai/ontology/memoryID': '18'})\n",
      "(rdflib.term.URIRef('https://example.org/person/Eve'), rdflib.term.URIRef('https://example.org/event/met'), rdflib.term.URIRef('https://example.org/person/Alice'), {'https://humem.ai/ontology/currentTime': '2024-10-03T17:06:11.690213', 'https://humem.ai/ontology/location': 'Paris Cafe', 'https://humem.ai/ontology/memoryID': '17'})\n",
      "(rdflib.term.URIRef('https://example.org/person/Alice'), rdflib.term.URIRef('https://example.org/relationship/owns'), rdflib.term.URIRef('https://example.org/entity/Dog'), {'https://humem.ai/ontology/currentTime': '2024-10-03T17:06:11.690118', 'https://humem.ai/ontology/location': \"Alice's home\", 'https://humem.ai/ontology/memoryID': '16'})\n",
      "(rdflib.term.URIRef('https://example.org/person/Alice'), rdflib.term.URIRef('https://example.org/relationship/owns'), rdflib.term.URIRef('https://example.org/entity/Dog'), {'https://humem.ai/ontology/currentTime': '2024-10-03T17:06:11.690004', 'https://humem.ai/ontology/location': \"Alice's home\", 'https://humem.ai/ontology/memoryID': '15'})\n"
     ]
    }
   ],
   "source": [
    "for memory in memory_system.memory.iterate_memories(\"short_term\"):\n",
    "    print(memory)"
   ]
  },
  {
   "cell_type": "code",
   "execution_count": 13,
   "metadata": {},
   "outputs": [
    {
     "data": {
      "text/plain": [
       "15"
      ]
     },
     "execution_count": 13,
     "metadata": {},
     "output_type": "execute_result"
    }
   ],
   "source": [
    "len(list(memory_system.memory.iterate_memories(\"long_term\")))"
   ]
  },
  {
   "cell_type": "code",
   "execution_count": 14,
   "metadata": {},
   "outputs": [
    {
     "name": "stdout",
     "output_type": "stream",
     "text": [
      "(rdflib.term.URIRef('https://example.org/person/Charlie'), rdflib.term.URIRef('https://example.org/event/met'), rdflib.term.URIRef('https://example.org/person/Eve'), {'https://humem.ai/ontology/emotion': 'happy', 'https://humem.ai/ontology/event': 'Coffee meeting', 'https://humem.ai/ontology/location': 'New York', 'https://humem.ai/ontology/memoryID': '3', 'https://humem.ai/ontology/recalled': '5', 'https://humem.ai/ontology/time': '2024-04-27T15:00:00'})\n",
      "(rdflib.term.URIRef('https://example.org/person/David'), rdflib.term.URIRef('https://example.org/event/invited'), rdflib.term.URIRef('https://example.org/person/Alice'), {'https://humem.ai/ontology/emotion': 'excited', 'https://humem.ai/ontology/event': 'Conference meeting', 'https://humem.ai/ontology/location': 'London', 'https://humem.ai/ontology/memoryID': '4', 'https://humem.ai/ontology/recalled': '6', 'https://humem.ai/ontology/time': '2024-05-01T10:00:00'})\n",
      "(rdflib.term.URIRef('https://example.org/person/Alice'), rdflib.term.URIRef('https://example.org/event/met'), rdflib.term.URIRef('https://example.org/person/Bob'), {'https://humem.ai/ontology/emotion': 'happy', 'https://humem.ai/ontology/event': 'Coffee meeting', 'https://humem.ai/ontology/location': 'New York', 'https://humem.ai/ontology/memoryID': '0', 'https://humem.ai/ontology/recalled': '6', 'https://humem.ai/ontology/time': '2024-04-27T15:00:00'})\n",
      "(rdflib.term.URIRef('https://example.org/person/John'), rdflib.term.URIRef('https://example.org/relationship/loves'), rdflib.term.URIRef('https://example.org/entity/Animal'), {'https://humem.ai/ontology/emotion': 'excited', 'https://humem.ai/ontology/event': 'Conference meeting', 'https://humem.ai/ontology/location': 'London', 'https://humem.ai/ontology/memoryID': '10', 'https://humem.ai/ontology/recalled': '4', 'https://humem.ai/ontology/time': '2024-05-01T10:00:00'})\n",
      "(rdflib.term.URIRef('https://example.org/person/John'), rdflib.term.URIRef('https://example.org/relationship/loves'), rdflib.term.URIRef('https://example.org/entity/Animal'), {'https://humem.ai/ontology/derivedFrom': 'animal_research', 'https://humem.ai/ontology/memoryID': '14', 'https://humem.ai/ontology/recalled': '4', 'https://humem.ai/ontology/strength': '5'})\n",
      "(rdflib.term.URIRef('https://example.org/entity/Dog'), rdflib.term.URIRef('https://example.org/relationship/is'), rdflib.term.URIRef('https://example.org/entity/Animal'), {'https://humem.ai/ontology/derivedFrom': 'animal_research', 'https://humem.ai/ontology/memoryID': '12', 'https://humem.ai/ontology/recalled': '5', 'https://humem.ai/ontology/strength': '5'})\n",
      "(rdflib.term.URIRef('https://example.org/entity/Dog'), rdflib.term.URIRef('https://example.org/relationship/is'), rdflib.term.URIRef('https://example.org/entity/Animal'), {'https://humem.ai/ontology/derivedFrom': 'animal_research', 'https://humem.ai/ontology/memoryID': '11', 'https://humem.ai/ontology/recalled': '5', 'https://humem.ai/ontology/strength': '5'})\n",
      "(rdflib.term.URIRef('https://example.org/person/Eve'), rdflib.term.URIRef('https://example.org/event/met'), rdflib.term.URIRef('https://example.org/person/Alice'), {'https://humem.ai/ontology/emotion': 'happy', 'https://humem.ai/ontology/event': 'Coffee meeting', 'https://humem.ai/ontology/location': 'New York', 'https://humem.ai/ontology/memoryID': '9', 'https://humem.ai/ontology/recalled': '6', 'https://humem.ai/ontology/time': '2024-04-27T15:00:00'})\n",
      "(rdflib.term.URIRef('https://example.org/person/John'), rdflib.term.URIRef('https://example.org/relationship/loves'), rdflib.term.URIRef('https://example.org/entity/Animal'), {'https://humem.ai/ontology/derivedFrom': 'animal_research', 'https://humem.ai/ontology/memoryID': '13', 'https://humem.ai/ontology/recalled': '4', 'https://humem.ai/ontology/strength': '5'})\n",
      "(rdflib.term.URIRef('https://example.org/entity/Dog'), rdflib.term.URIRef('https://example.org/relationship/is'), rdflib.term.URIRef('https://example.org/entity/Animal'), {'https://humem.ai/ontology/emotion': 'excited', 'https://humem.ai/ontology/event': 'Conference meeting', 'https://humem.ai/ontology/location': 'London', 'https://humem.ai/ontology/memoryID': '7', 'https://humem.ai/ontology/recalled': '5', 'https://humem.ai/ontology/time': '2024-05-01T10:00:00'})\n",
      "(rdflib.term.URIRef('https://example.org/person/Alice'), rdflib.term.URIRef('https://example.org/relationship/owns'), rdflib.term.URIRef('https://example.org/entity/Dog'), {'https://humem.ai/ontology/emotion': 'curious', 'https://humem.ai/ontology/event': 'Workshop', 'https://humem.ai/ontology/location': 'Paris', 'https://humem.ai/ontology/memoryID': '8', 'https://humem.ai/ontology/recalled': '6', 'https://humem.ai/ontology/time': '2024-05-03T14:00:00'})\n",
      "(rdflib.term.URIRef('https://example.org/person/Bob'), rdflib.term.URIRef('https://example.org/event/met'), rdflib.term.URIRef('https://example.org/person/Charlie'), {'https://humem.ai/ontology/emotion': 'excited', 'https://humem.ai/ontology/event': 'Conference meeting', 'https://humem.ai/ontology/location': 'London', 'https://humem.ai/ontology/memoryID': '1', 'https://humem.ai/ontology/recalled': '5', 'https://humem.ai/ontology/time': '2024-05-01T10:00:00'})\n",
      "(rdflib.term.URIRef('https://example.org/person/Charlie'), rdflib.term.URIRef('https://example.org/event/attended'), rdflib.term.URIRef('https://example.org/person/Bob'), {'https://humem.ai/ontology/emotion': 'happy', 'https://humem.ai/ontology/event': 'Coffee meeting', 'https://humem.ai/ontology/location': 'New York', 'https://humem.ai/ontology/memoryID': '6', 'https://humem.ai/ontology/recalled': '5', 'https://humem.ai/ontology/time': '2024-04-27T15:00:00'})\n",
      "(rdflib.term.URIRef('https://example.org/person/Eve'), rdflib.term.URIRef('https://example.org/relationship/worksWith'), rdflib.term.URIRef('https://example.org/person/Bob'), {'https://humem.ai/ontology/emotion': 'curious', 'https://humem.ai/ontology/event': 'Workshop', 'https://humem.ai/ontology/location': 'Paris', 'https://humem.ai/ontology/memoryID': '5', 'https://humem.ai/ontology/recalled': '5', 'https://humem.ai/ontology/time': '2024-05-03T14:00:00'})\n",
      "(rdflib.term.URIRef('https://example.org/person/Alice'), rdflib.term.URIRef('https://example.org/relationship/knows'), rdflib.term.URIRef('https://example.org/person/David'), {'https://humem.ai/ontology/emotion': 'curious', 'https://humem.ai/ontology/event': 'Workshop', 'https://humem.ai/ontology/location': 'Paris', 'https://humem.ai/ontology/memoryID': '2', 'https://humem.ai/ontology/recalled': '6', 'https://humem.ai/ontology/time': '2024-05-03T14:00:00'})\n"
     ]
    }
   ],
   "source": [
    "for memory in memory_system.memory.iterate_memories(\"long_term\"):\n",
    "    print(memory)"
   ]
  },
  {
   "cell_type": "code",
   "execution_count": 15,
   "metadata": {},
   "outputs": [
    {
     "name": "stdout",
     "output_type": "stream",
     "text": [
      "(rdflib.term.URIRef('https://example.org/person/Charlie'), rdflib.term.URIRef('https://example.org/event/met'), rdflib.term.URIRef('https://example.org/person/Eve'), {'https://humem.ai/ontology/emotion': 'happy', 'https://humem.ai/ontology/event': 'Coffee meeting', 'https://humem.ai/ontology/location': 'New York', 'https://humem.ai/ontology/memoryID': '3', 'https://humem.ai/ontology/recalled': '5', 'https://humem.ai/ontology/time': '2024-04-27T15:00:00'})\n",
      "(rdflib.term.URIRef('https://example.org/person/David'), rdflib.term.URIRef('https://example.org/event/invited'), rdflib.term.URIRef('https://example.org/person/Alice'), {'https://humem.ai/ontology/emotion': 'excited', 'https://humem.ai/ontology/event': 'Conference meeting', 'https://humem.ai/ontology/location': 'London', 'https://humem.ai/ontology/memoryID': '4', 'https://humem.ai/ontology/recalled': '6', 'https://humem.ai/ontology/time': '2024-05-01T10:00:00'})\n",
      "(rdflib.term.URIRef('https://example.org/person/Alice'), rdflib.term.URIRef('https://example.org/event/met'), rdflib.term.URIRef('https://example.org/person/Bob'), {'https://humem.ai/ontology/emotion': 'happy', 'https://humem.ai/ontology/event': 'Coffee meeting', 'https://humem.ai/ontology/location': 'New York', 'https://humem.ai/ontology/memoryID': '0', 'https://humem.ai/ontology/recalled': '6', 'https://humem.ai/ontology/time': '2024-04-27T15:00:00'})\n",
      "(rdflib.term.URIRef('https://example.org/person/John'), rdflib.term.URIRef('https://example.org/relationship/loves'), rdflib.term.URIRef('https://example.org/entity/Animal'), {'https://humem.ai/ontology/emotion': 'excited', 'https://humem.ai/ontology/event': 'Conference meeting', 'https://humem.ai/ontology/location': 'London', 'https://humem.ai/ontology/memoryID': '10', 'https://humem.ai/ontology/recalled': '4', 'https://humem.ai/ontology/time': '2024-05-01T10:00:00'})\n",
      "(rdflib.term.URIRef('https://example.org/person/Eve'), rdflib.term.URIRef('https://example.org/event/met'), rdflib.term.URIRef('https://example.org/person/Alice'), {'https://humem.ai/ontology/emotion': 'happy', 'https://humem.ai/ontology/event': 'Coffee meeting', 'https://humem.ai/ontology/location': 'New York', 'https://humem.ai/ontology/memoryID': '9', 'https://humem.ai/ontology/recalled': '6', 'https://humem.ai/ontology/time': '2024-04-27T15:00:00'})\n",
      "(rdflib.term.URIRef('https://example.org/entity/Dog'), rdflib.term.URIRef('https://example.org/relationship/is'), rdflib.term.URIRef('https://example.org/entity/Animal'), {'https://humem.ai/ontology/emotion': 'excited', 'https://humem.ai/ontology/event': 'Conference meeting', 'https://humem.ai/ontology/location': 'London', 'https://humem.ai/ontology/memoryID': '7', 'https://humem.ai/ontology/recalled': '5', 'https://humem.ai/ontology/time': '2024-05-01T10:00:00'})\n",
      "(rdflib.term.URIRef('https://example.org/person/Alice'), rdflib.term.URIRef('https://example.org/relationship/owns'), rdflib.term.URIRef('https://example.org/entity/Dog'), {'https://humem.ai/ontology/emotion': 'curious', 'https://humem.ai/ontology/event': 'Workshop', 'https://humem.ai/ontology/location': 'Paris', 'https://humem.ai/ontology/memoryID': '8', 'https://humem.ai/ontology/recalled': '6', 'https://humem.ai/ontology/time': '2024-05-03T14:00:00'})\n",
      "(rdflib.term.URIRef('https://example.org/person/Bob'), rdflib.term.URIRef('https://example.org/event/met'), rdflib.term.URIRef('https://example.org/person/Charlie'), {'https://humem.ai/ontology/emotion': 'excited', 'https://humem.ai/ontology/event': 'Conference meeting', 'https://humem.ai/ontology/location': 'London', 'https://humem.ai/ontology/memoryID': '1', 'https://humem.ai/ontology/recalled': '5', 'https://humem.ai/ontology/time': '2024-05-01T10:00:00'})\n",
      "(rdflib.term.URIRef('https://example.org/person/Charlie'), rdflib.term.URIRef('https://example.org/event/attended'), rdflib.term.URIRef('https://example.org/person/Bob'), {'https://humem.ai/ontology/emotion': 'happy', 'https://humem.ai/ontology/event': 'Coffee meeting', 'https://humem.ai/ontology/location': 'New York', 'https://humem.ai/ontology/memoryID': '6', 'https://humem.ai/ontology/recalled': '5', 'https://humem.ai/ontology/time': '2024-04-27T15:00:00'})\n",
      "(rdflib.term.URIRef('https://example.org/person/Eve'), rdflib.term.URIRef('https://example.org/relationship/worksWith'), rdflib.term.URIRef('https://example.org/person/Bob'), {'https://humem.ai/ontology/emotion': 'curious', 'https://humem.ai/ontology/event': 'Workshop', 'https://humem.ai/ontology/location': 'Paris', 'https://humem.ai/ontology/memoryID': '5', 'https://humem.ai/ontology/recalled': '5', 'https://humem.ai/ontology/time': '2024-05-03T14:00:00'})\n",
      "(rdflib.term.URIRef('https://example.org/person/Alice'), rdflib.term.URIRef('https://example.org/relationship/knows'), rdflib.term.URIRef('https://example.org/person/David'), {'https://humem.ai/ontology/emotion': 'curious', 'https://humem.ai/ontology/event': 'Workshop', 'https://humem.ai/ontology/location': 'Paris', 'https://humem.ai/ontology/memoryID': '2', 'https://humem.ai/ontology/recalled': '6', 'https://humem.ai/ontology/time': '2024-05-03T14:00:00'})\n"
     ]
    }
   ],
   "source": [
    "for memory in memory_system.memory.iterate_memories(\"episodic\"):\n",
    "    print(memory)"
   ]
  },
  {
   "cell_type": "code",
   "execution_count": 16,
   "metadata": {},
   "outputs": [
    {
     "name": "stdout",
     "output_type": "stream",
     "text": [
      "(rdflib.term.URIRef('https://example.org/person/John'), rdflib.term.URIRef('https://example.org/relationship/loves'), rdflib.term.URIRef('https://example.org/entity/Animal'), {'https://humem.ai/ontology/derivedFrom': 'animal_research', 'https://humem.ai/ontology/memoryID': '14', 'https://humem.ai/ontology/recalled': '4', 'https://humem.ai/ontology/strength': '5'})\n",
      "(rdflib.term.URIRef('https://example.org/entity/Dog'), rdflib.term.URIRef('https://example.org/relationship/is'), rdflib.term.URIRef('https://example.org/entity/Animal'), {'https://humem.ai/ontology/derivedFrom': 'animal_research', 'https://humem.ai/ontology/memoryID': '12', 'https://humem.ai/ontology/recalled': '5', 'https://humem.ai/ontology/strength': '5'})\n",
      "(rdflib.term.URIRef('https://example.org/entity/Dog'), rdflib.term.URIRef('https://example.org/relationship/is'), rdflib.term.URIRef('https://example.org/entity/Animal'), {'https://humem.ai/ontology/derivedFrom': 'animal_research', 'https://humem.ai/ontology/memoryID': '11', 'https://humem.ai/ontology/recalled': '5', 'https://humem.ai/ontology/strength': '5'})\n",
      "(rdflib.term.URIRef('https://example.org/person/John'), rdflib.term.URIRef('https://example.org/relationship/loves'), rdflib.term.URIRef('https://example.org/entity/Animal'), {'https://humem.ai/ontology/derivedFrom': 'animal_research', 'https://humem.ai/ontology/memoryID': '13', 'https://humem.ai/ontology/recalled': '4', 'https://humem.ai/ontology/strength': '5'})\n"
     ]
    }
   ],
   "source": [
    "for memory in memory_system.memory.iterate_memories(\"semantic\"):\n",
    "    print(memory)"
   ]
  },
  {
   "cell_type": "code",
   "execution_count": 17,
   "metadata": {},
   "outputs": [
    {
     "data": {
      "text/plain": [
       "19"
      ]
     },
     "execution_count": 17,
     "metadata": {},
     "output_type": "execute_result"
    }
   ],
   "source": [
    "len(list(memory_system.memory.iterate_memories()))"
   ]
  },
  {
   "cell_type": "code",
   "execution_count": 18,
   "metadata": {},
   "outputs": [
    {
     "name": "stdout",
     "output_type": "stream",
     "text": [
      "(rdflib.term.URIRef('https://example.org/person/Eve'), rdflib.term.URIRef('https://example.org/event/met'), rdflib.term.URIRef('https://example.org/person/Alice'), {'https://humem.ai/ontology/currentTime': '2024-10-03T17:06:11.690331', 'https://humem.ai/ontology/location': 'Paris Cafe', 'https://humem.ai/ontology/memoryID': '18'})\n",
      "(rdflib.term.URIRef('https://example.org/person/Charlie'), rdflib.term.URIRef('https://example.org/event/met'), rdflib.term.URIRef('https://example.org/person/Eve'), {'https://humem.ai/ontology/emotion': 'happy', 'https://humem.ai/ontology/event': 'Coffee meeting', 'https://humem.ai/ontology/location': 'New York', 'https://humem.ai/ontology/memoryID': '3', 'https://humem.ai/ontology/recalled': '5', 'https://humem.ai/ontology/time': '2024-04-27T15:00:00'})\n",
      "(rdflib.term.URIRef('https://example.org/person/David'), rdflib.term.URIRef('https://example.org/event/invited'), rdflib.term.URIRef('https://example.org/person/Alice'), {'https://humem.ai/ontology/emotion': 'excited', 'https://humem.ai/ontology/event': 'Conference meeting', 'https://humem.ai/ontology/location': 'London', 'https://humem.ai/ontology/memoryID': '4', 'https://humem.ai/ontology/recalled': '6', 'https://humem.ai/ontology/time': '2024-05-01T10:00:00'})\n",
      "(rdflib.term.URIRef('https://example.org/person/Alice'), rdflib.term.URIRef('https://example.org/event/met'), rdflib.term.URIRef('https://example.org/person/Bob'), {'https://humem.ai/ontology/emotion': 'happy', 'https://humem.ai/ontology/event': 'Coffee meeting', 'https://humem.ai/ontology/location': 'New York', 'https://humem.ai/ontology/memoryID': '0', 'https://humem.ai/ontology/recalled': '6', 'https://humem.ai/ontology/time': '2024-04-27T15:00:00'})\n",
      "(rdflib.term.URIRef('https://example.org/person/John'), rdflib.term.URIRef('https://example.org/relationship/loves'), rdflib.term.URIRef('https://example.org/entity/Animal'), {'https://humem.ai/ontology/emotion': 'excited', 'https://humem.ai/ontology/event': 'Conference meeting', 'https://humem.ai/ontology/location': 'London', 'https://humem.ai/ontology/memoryID': '10', 'https://humem.ai/ontology/recalled': '4', 'https://humem.ai/ontology/time': '2024-05-01T10:00:00'})\n",
      "(rdflib.term.URIRef('https://example.org/person/John'), rdflib.term.URIRef('https://example.org/relationship/loves'), rdflib.term.URIRef('https://example.org/entity/Animal'), {'https://humem.ai/ontology/derivedFrom': 'animal_research', 'https://humem.ai/ontology/memoryID': '14', 'https://humem.ai/ontology/recalled': '4', 'https://humem.ai/ontology/strength': '5'})\n",
      "(rdflib.term.URIRef('https://example.org/entity/Dog'), rdflib.term.URIRef('https://example.org/relationship/is'), rdflib.term.URIRef('https://example.org/entity/Animal'), {'https://humem.ai/ontology/derivedFrom': 'animal_research', 'https://humem.ai/ontology/memoryID': '12', 'https://humem.ai/ontology/recalled': '5', 'https://humem.ai/ontology/strength': '5'})\n",
      "(rdflib.term.URIRef('https://example.org/person/Eve'), rdflib.term.URIRef('https://example.org/event/met'), rdflib.term.URIRef('https://example.org/person/Alice'), {'https://humem.ai/ontology/currentTime': '2024-10-03T17:06:11.690213', 'https://humem.ai/ontology/location': 'Paris Cafe', 'https://humem.ai/ontology/memoryID': '17'})\n",
      "(rdflib.term.URIRef('https://example.org/person/Alice'), rdflib.term.URIRef('https://example.org/relationship/owns'), rdflib.term.URIRef('https://example.org/entity/Dog'), {'https://humem.ai/ontology/currentTime': '2024-10-03T17:06:11.690118', 'https://humem.ai/ontology/location': \"Alice's home\", 'https://humem.ai/ontology/memoryID': '16'})\n",
      "(rdflib.term.URIRef('https://example.org/entity/Dog'), rdflib.term.URIRef('https://example.org/relationship/is'), rdflib.term.URIRef('https://example.org/entity/Animal'), {'https://humem.ai/ontology/derivedFrom': 'animal_research', 'https://humem.ai/ontology/memoryID': '11', 'https://humem.ai/ontology/recalled': '5', 'https://humem.ai/ontology/strength': '5'})\n",
      "(rdflib.term.URIRef('https://example.org/person/Eve'), rdflib.term.URIRef('https://example.org/event/met'), rdflib.term.URIRef('https://example.org/person/Alice'), {'https://humem.ai/ontology/emotion': 'happy', 'https://humem.ai/ontology/event': 'Coffee meeting', 'https://humem.ai/ontology/location': 'New York', 'https://humem.ai/ontology/memoryID': '9', 'https://humem.ai/ontology/recalled': '6', 'https://humem.ai/ontology/time': '2024-04-27T15:00:00'})\n",
      "(rdflib.term.URIRef('https://example.org/person/John'), rdflib.term.URIRef('https://example.org/relationship/loves'), rdflib.term.URIRef('https://example.org/entity/Animal'), {'https://humem.ai/ontology/derivedFrom': 'animal_research', 'https://humem.ai/ontology/memoryID': '13', 'https://humem.ai/ontology/recalled': '4', 'https://humem.ai/ontology/strength': '5'})\n",
      "(rdflib.term.URIRef('https://example.org/entity/Dog'), rdflib.term.URIRef('https://example.org/relationship/is'), rdflib.term.URIRef('https://example.org/entity/Animal'), {'https://humem.ai/ontology/emotion': 'excited', 'https://humem.ai/ontology/event': 'Conference meeting', 'https://humem.ai/ontology/location': 'London', 'https://humem.ai/ontology/memoryID': '7', 'https://humem.ai/ontology/recalled': '5', 'https://humem.ai/ontology/time': '2024-05-01T10:00:00'})\n",
      "(rdflib.term.URIRef('https://example.org/person/Alice'), rdflib.term.URIRef('https://example.org/relationship/owns'), rdflib.term.URIRef('https://example.org/entity/Dog'), {'https://humem.ai/ontology/currentTime': '2024-10-03T17:06:11.690004', 'https://humem.ai/ontology/location': \"Alice's home\", 'https://humem.ai/ontology/memoryID': '15'})\n",
      "(rdflib.term.URIRef('https://example.org/person/Alice'), rdflib.term.URIRef('https://example.org/relationship/owns'), rdflib.term.URIRef('https://example.org/entity/Dog'), {'https://humem.ai/ontology/emotion': 'curious', 'https://humem.ai/ontology/event': 'Workshop', 'https://humem.ai/ontology/location': 'Paris', 'https://humem.ai/ontology/memoryID': '8', 'https://humem.ai/ontology/recalled': '6', 'https://humem.ai/ontology/time': '2024-05-03T14:00:00'})\n",
      "(rdflib.term.URIRef('https://example.org/person/Bob'), rdflib.term.URIRef('https://example.org/event/met'), rdflib.term.URIRef('https://example.org/person/Charlie'), {'https://humem.ai/ontology/emotion': 'excited', 'https://humem.ai/ontology/event': 'Conference meeting', 'https://humem.ai/ontology/location': 'London', 'https://humem.ai/ontology/memoryID': '1', 'https://humem.ai/ontology/recalled': '5', 'https://humem.ai/ontology/time': '2024-05-01T10:00:00'})\n",
      "(rdflib.term.URIRef('https://example.org/person/Charlie'), rdflib.term.URIRef('https://example.org/event/attended'), rdflib.term.URIRef('https://example.org/person/Bob'), {'https://humem.ai/ontology/emotion': 'happy', 'https://humem.ai/ontology/event': 'Coffee meeting', 'https://humem.ai/ontology/location': 'New York', 'https://humem.ai/ontology/memoryID': '6', 'https://humem.ai/ontology/recalled': '5', 'https://humem.ai/ontology/time': '2024-04-27T15:00:00'})\n",
      "(rdflib.term.URIRef('https://example.org/person/Eve'), rdflib.term.URIRef('https://example.org/relationship/worksWith'), rdflib.term.URIRef('https://example.org/person/Bob'), {'https://humem.ai/ontology/emotion': 'curious', 'https://humem.ai/ontology/event': 'Workshop', 'https://humem.ai/ontology/location': 'Paris', 'https://humem.ai/ontology/memoryID': '5', 'https://humem.ai/ontology/recalled': '5', 'https://humem.ai/ontology/time': '2024-05-03T14:00:00'})\n",
      "(rdflib.term.URIRef('https://example.org/person/Alice'), rdflib.term.URIRef('https://example.org/relationship/knows'), rdflib.term.URIRef('https://example.org/person/David'), {'https://humem.ai/ontology/emotion': 'curious', 'https://humem.ai/ontology/event': 'Workshop', 'https://humem.ai/ontology/location': 'Paris', 'https://humem.ai/ontology/memoryID': '2', 'https://humem.ai/ontology/recalled': '6', 'https://humem.ai/ontology/time': '2024-05-03T14:00:00'})\n"
     ]
    }
   ],
   "source": [
    "for memory in memory_system.memory.iterate_memories():\n",
    "    print(memory)"
   ]
  },
  {
   "cell_type": "code",
   "execution_count": 19,
   "metadata": {},
   "outputs": [
    {
     "data": {
      "text/plain": [
       "(rdflib.term.URIRef('https://example.org/person/Alice'),\n",
       " rdflib.term.URIRef('https://example.org/relationship/knows'),\n",
       " rdflib.term.URIRef('https://example.org/person/David'),\n",
       " {'https://humem.ai/ontology/emotion': 'curious',\n",
       "  'https://humem.ai/ontology/event': 'Workshop',\n",
       "  'https://humem.ai/ontology/location': 'Paris',\n",
       "  'https://humem.ai/ontology/memoryID': '2',\n",
       "  'https://humem.ai/ontology/recalled': '6',\n",
       "  'https://humem.ai/ontology/time': '2024-05-03T14:00:00'})"
      ]
     },
     "execution_count": 19,
     "metadata": {},
     "output_type": "execute_result"
    }
   ],
   "source": [
    "memory"
   ]
  }
 ],
 "metadata": {
  "kernelspec": {
   "display_name": "humemai",
   "language": "python",
   "name": "python3"
  },
  "language_info": {
   "codemirror_mode": {
    "name": "ipython",
    "version": 3
   },
   "file_extension": ".py",
   "mimetype": "text/x-python",
   "name": "python",
   "nbconvert_exporter": "python",
   "pygments_lexer": "ipython3",
   "version": "3.10.12"
  }
 },
 "nbformat": 4,
 "nbformat_minor": 2
}
