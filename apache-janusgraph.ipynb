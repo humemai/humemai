{
 "cells": [
  {
   "cell_type": "code",
   "execution_count": 1,
   "metadata": {},
   "outputs": [
    {
     "name": "stderr",
     "output_type": "stream",
     "text": [
      "DEBUG:docker.utils.config:Trying paths: ['/home/tk/.docker/config.json', '/home/tk/.dockercfg']\n",
      "DEBUG:docker.utils.config:No config file found\n",
      "DEBUG:docker.utils.config:Trying paths: ['/home/tk/.docker/config.json', '/home/tk/.dockercfg']\n",
      "DEBUG:docker.utils.config:No config file found\n",
      "DEBUG:urllib3.connectionpool:http://localhost:None \"GET /version HTTP/11\" 200 834\n",
      "DEBUG:docker.utils.config:Trying paths: ['/home/tk/.docker/config.json', '/home/tk/.dockercfg']\n",
      "DEBUG:docker.utils.config:No config file found\n",
      "DEBUG:docker.utils.config:Trying paths: ['/home/tk/.docker/config.json', '/home/tk/.dockercfg']\n",
      "DEBUG:docker.utils.config:No config file found\n",
      "DEBUG:urllib3.connectionpool:http://localhost:None \"GET /version HTTP/11\" 200 834\n",
      "DEBUG:urllib3.connectionpool:http://localhost:None \"GET /v1.47/networks/janusgraph-net HTTP/11\" 200 939\n",
      "DEBUG:urllib3.connectionpool:http://localhost:None \"GET /v1.47/containers/cassandra/json HTTP/11\" 200 None\n",
      "DEBUG:humemai.janusgraph.docker:cassandra container is already running.\n",
      "DEBUG:urllib3.connectionpool:http://localhost:None \"GET /v1.47/containers/janusgraph/json HTTP/11\" 200 None\n",
      "DEBUG:humemai.janusgraph.docker:janusgraph container is already running.\n",
      "DEBUG:humemai.janusgraph.docker:Waiting 5 seconds for the containers to warm up...\n",
      "INFO:gremlinpython:Creating DriverRemoteConnection with url 'ws://localhost:8182/gremlin'\n",
      "INFO:gremlinpython:Creating Client with url 'ws://localhost:8182/gremlin'\n",
      "INFO:gremlinpython:Creating GraphTraversalSource.\n",
      "INFO:gremlinpython:Creating GraphTraversalSource.\n",
      "DEBUG:humemai.janusgraph.Humemai:Successfully connected to the Gremlin server.\n"
     ]
    }
   ],
   "source": [
    "from humemai.janusgraph import Humemai\n",
    "\n",
    "humemai = Humemai()\n",
    "humemai.start_containers(warmup_seconds=5)\n",
    "humemai.connect()\n",
    "# humemai.remove_all()\n",
    "# humemai.disconnect()\n",
    "# humemai.stop_containers()\n",
    "# humemai.remove_containers()"
   ]
  },
  {
   "cell_type": "code",
   "execution_count": 2,
   "metadata": {},
   "outputs": [
    {
     "name": "stderr",
     "output_type": "stream",
     "text": [
      "DEBUG:gremlinpython:submit with bytecode '[['V'], ['drop'], ['none']]'\n",
      "DEBUG:gremlinpython:message '[['V'], ['drop'], ['none']]'\n",
      "DEBUG:gremlinpython:processor='traversal', op='bytecode', args='{'gremlin': [['V'], ['drop'], ['none']], 'aliases': {'g': 'g'}}'\n",
      "DEBUG:asyncio:Using selector: EpollSelector\n",
      "DEBUG:humemai.janusgraph.docker:All vertices and edges have been deleted.\n"
     ]
    }
   ],
   "source": [
    "humemai.remove_all()\n",
    "humemai.reset_memory_id()"
   ]
  },
  {
   "cell_type": "code",
   "execution_count": 4,
   "metadata": {},
   "outputs": [
    {
     "name": "stderr",
     "output_type": "stream",
     "text": [
      "DEBUG:gremlinpython:submit with bytecode '[['addV', 'Person'], ['property', 'memory_id', 1], ['property', 'name', 'Alice']]'\n",
      "DEBUG:gremlinpython:message '[['addV', 'Person'], ['property', 'memory_id', 1], ['property', 'name', 'Alice']]'\n",
      "DEBUG:gremlinpython:processor='traversal', op='bytecode', args='{'gremlin': [['addV', 'Person'], ['property', 'memory_id', 1], ['property', 'name', 'Alice']], 'aliases': {'g': 'g'}}'\n",
      "DEBUG:asyncio:Using selector: EpollSelector\n",
      "DEBUG:gremlinpython:submit with bytecode '[['addV', 'Company'], ['property', 'memory_id', 1], ['property', 'name', 'Acme Corp']]'\n",
      "DEBUG:gremlinpython:message '[['addV', 'Company'], ['property', 'memory_id', 1], ['property', 'name', 'Acme Corp']]'\n",
      "DEBUG:gremlinpython:processor='traversal', op='bytecode', args='{'gremlin': [['addV', 'Company'], ['property', 'memory_id', 1], ['property', 'name', 'Acme Corp']], 'aliases': {'g': 'g'}}'\n",
      "DEBUG:asyncio:Using selector: EpollSelector\n",
      "DEBUG:gremlinpython:submit with bytecode '[['V', 28784], ['addE', 'works_for'], ['to', [['V', 41128]]], ['property', 'memory_id', 1], ['property', 'since', '2020']]'\n",
      "DEBUG:gremlinpython:message '[['V', 28784], ['addE', 'works_for'], ['to', [['V', 41128]]], ['property', 'memory_id', 1], ['property', 'since', '2020']]'\n",
      "DEBUG:gremlinpython:processor='traversal', op='bytecode', args='{'gremlin': [['V', 28784], ['addE', 'works_for'], ['to', [['V', 41128]]], ['property', 'memory_id', 1], ['property', 'since', '2020']], 'aliases': {'g': 'g'}}'\n",
      "DEBUG:asyncio:Using selector: EpollSelector\n",
      "DEBUG:humemai.janusgraph.Humemai:Created memory with edge ID: {'@type': 'janusgraph:RelationIdentifier', '@value': {'relationId': 'cni-m7k-3yt-vqg'}} and memory_id: 1 between nodes 28784 and 41128\n"
     ]
    },
    {
     "data": {
      "text/plain": [
       "Memory(\n",
       "  Head(label='Person', properties={'name': 'Alice'}),\n",
       "  Tail(label='Company', properties={'name': 'Acme Corp'}),\n",
       "  Edge(label='works_for', properties={'since': '2020'})\n",
       "  Memory ID: 1\n",
       ")"
      ]
     },
     "execution_count": 4,
     "metadata": {},
     "output_type": "execute_result"
    }
   ],
   "source": [
    "from humemai.memory import (\n",
    "    Memory,\n",
    "    ShortMemory,\n",
    "    LongMemory,\n",
    "    EpisodicMemory,\n",
    "    SemanticMemory,\n",
    ")\n",
    "\n",
    "mem = Memory(\n",
    "    head_label=\"Person\",\n",
    "    tail_label=\"Company\",\n",
    "    edge_label=\"works_for\",\n",
    "    head_properties={\"name\": \"Alice\"},\n",
    "    tail_properties={\"name\": \"Acme Corp\"},\n",
    "    edge_properties={\"since\": \"2020\"},\n",
    ")\n",
    "\n",
    "humemai.write_memory(mem)\n",
    "mem"
   ]
  },
  {
   "cell_type": "code",
   "execution_count": 5,
   "metadata": {},
   "outputs": [
    {
     "name": "stderr",
     "output_type": "stream",
     "text": [
      "DEBUG:gremlinpython:submit with bytecode '[['E'], ['has', 'memory_id', 1]]'\n",
      "DEBUG:gremlinpython:message '[['E'], ['has', 'memory_id', 1]]'\n",
      "DEBUG:gremlinpython:processor='traversal', op='bytecode', args='{'gremlin': [['E'], ['has', 'memory_id', 1]], 'aliases': {'g': 'g'}}'\n",
      "DEBUG:asyncio:Using selector: EpollSelector\n",
      "DEBUG:gremlinpython:submit with bytecode '[['V', 41128], ['valueMap']]'\n",
      "DEBUG:gremlinpython:message '[['V', 41128], ['valueMap']]'\n",
      "DEBUG:gremlinpython:processor='traversal', op='bytecode', args='{'gremlin': [['V', 41128], ['valueMap']], 'aliases': {'g': 'g'}}'\n",
      "DEBUG:gremlinpython:submit with bytecode '[['V', 28784], ['valueMap']]'\n",
      "DEBUG:gremlinpython:message '[['V', 28784], ['valueMap']]'\n",
      "DEBUG:gremlinpython:processor='traversal', op='bytecode', args='{'gremlin': [['V', 28784], ['valueMap']], 'aliases': {'g': 'g'}}'\n",
      "DEBUG:humemai.janusgraph.Humemai:Retrieved memory for memory_id 1: Memory(\n",
      "  Head(label='Company', properties={'memory_id': 1, 'name': 'Acme Corp'}),\n",
      "  Tail(label='Person', properties={'memory_id': 1, 'name': 'Alice'}),\n",
      "  Edge(label='works_for', properties={'memory_id': 1, 'since': '2020'})\n",
      "  Memory ID: 1\n",
      ")\n"
     ]
    },
    {
     "data": {
      "text/plain": [
       "Memory(\n",
       "  Head(label='Company', properties={'memory_id': 1, 'name': 'Acme Corp'}),\n",
       "  Tail(label='Person', properties={'memory_id': 1, 'name': 'Alice'}),\n",
       "  Edge(label='works_for', properties={'memory_id': 1, 'since': '2020'})\n",
       "  Memory ID: 1\n",
       ")"
      ]
     },
     "execution_count": 5,
     "metadata": {},
     "output_type": "execute_result"
    }
   ],
   "source": [
    "humemai.read_memory(1)"
   ]
  },
  {
   "cell_type": "code",
   "execution_count": 6,
   "metadata": {},
   "outputs": [
    {
     "name": "stderr",
     "output_type": "stream",
     "text": [
      "DEBUG:gremlinpython:submit with bytecode '[['addV', 'Person'], ['property', 'memory_id', 2], ['property', 'name', 'Alice']]'\n",
      "DEBUG:gremlinpython:message '[['addV', 'Person'], ['property', 'memory_id', 2], ['property', 'name', 'Alice']]'\n",
      "DEBUG:gremlinpython:processor='traversal', op='bytecode', args='{'gremlin': [['addV', 'Person'], ['property', 'memory_id', 2], ['property', 'name', 'Alice']], 'aliases': {'g': 'g'}}'\n",
      "DEBUG:gremlinpython:submit with bytecode '[['addV', 'Company'], ['property', 'memory_id', 2], ['property', 'name', 'Acme Corp']]'\n",
      "DEBUG:gremlinpython:message '[['addV', 'Company'], ['property', 'memory_id', 2], ['property', 'name', 'Acme Corp']]'\n",
      "DEBUG:gremlinpython:processor='traversal', op='bytecode', args='{'gremlin': [['addV', 'Company'], ['property', 'memory_id', 2], ['property', 'name', 'Acme Corp']], 'aliases': {'g': 'g'}}'\n",
      "DEBUG:gremlinpython:submit with bytecode '[['V', 82000], ['addE', 'works_for'], ['to', [['V', 86096]]], ['property', 'memory_id', 2], ['property', 'since', '2020'], ['property', 'current_time', '2024-10-27T11:51:06'], ['property', 'location', None]]'\n",
      "DEBUG:gremlinpython:message '[['V', 82000], ['addE', 'works_for'], ['to', [['V', 86096]]], ['property', 'memory_id', 2], ['property', 'since', '2020'], ['property', 'current_time', '2024-10-27T11:51:06'], ['property', 'location', None]]'\n",
      "DEBUG:gremlinpython:processor='traversal', op='bytecode', args='{'gremlin': [['V', 82000], ['addE', 'works_for'], ['to', [['V', 86096]]], ['property', 'memory_id', 2], ['property', 'since', '2020'], ['property', 'current_time', '2024-10-27T11:51:06'], ['property', 'location', None]], 'aliases': {'g': 'g'}}'\n",
      "DEBUG:humemai.janusgraph.Humemai:Created memory with edge ID: {'@type': 'janusgraph:RelationIdentifier', '@value': {'relationId': '134a-1r9s-3yt-1ufk'}} and memory_id: 2 between nodes 82000 and 86096\n"
     ]
    },
    {
     "data": {
      "text/plain": [
       "ShortMemory(\n",
       "  Head(label='Person', properties={'name': 'Alice'}),\n",
       "  Tail(label='Company', properties={'name': 'Acme Corp'}),\n",
       "  Edge(label='works_for', properties={'since': '2020', 'current_time': '2024-10-27T11:51:06', 'location': None}),\n",
       "  Memory ID: 2\n",
       ")"
      ]
     },
     "execution_count": 6,
     "metadata": {},
     "output_type": "execute_result"
    }
   ],
   "source": [
    "mem = ShortMemory(\n",
    "    head_label=\"Person\",\n",
    "    tail_label=\"Company\",\n",
    "    edge_label=\"works_for\",\n",
    "    head_properties={\"name\": \"Alice\"},\n",
    "    tail_properties={\"name\": \"Acme Corp\"},\n",
    "    edge_properties={\"since\": \"2020\", \"current_time\": \"2024-10-27T11:51:06\"},\n",
    ")\n",
    "humemai.write_memory(mem)\n",
    "mem"
   ]
  },
  {
   "cell_type": "code",
   "execution_count": 7,
   "metadata": {},
   "outputs": [
    {
     "name": "stderr",
     "output_type": "stream",
     "text": [
      "DEBUG:gremlinpython:submit with bytecode '[['E'], ['has', 'memory_id', 2]]'\n",
      "DEBUG:gremlinpython:message '[['E'], ['has', 'memory_id', 2]]'\n",
      "DEBUG:gremlinpython:processor='traversal', op='bytecode', args='{'gremlin': [['E'], ['has', 'memory_id', 2]], 'aliases': {'g': 'g'}}'\n",
      "DEBUG:gremlinpython:submit with bytecode '[['V', 86096], ['valueMap']]'\n",
      "DEBUG:gremlinpython:message '[['V', 86096], ['valueMap']]'\n",
      "DEBUG:gremlinpython:processor='traversal', op='bytecode', args='{'gremlin': [['V', 86096], ['valueMap']], 'aliases': {'g': 'g'}}'\n",
      "DEBUG:gremlinpython:submit with bytecode '[['V', 82000], ['valueMap']]'\n",
      "DEBUG:gremlinpython:message '[['V', 82000], ['valueMap']]'\n",
      "DEBUG:gremlinpython:processor='traversal', op='bytecode', args='{'gremlin': [['V', 82000], ['valueMap']], 'aliases': {'g': 'g'}}'\n",
      "DEBUG:humemai.janusgraph.Humemai:Retrieved memory for memory_id 2: ShortMemory(\n",
      "  Head(label='Company', properties={'memory_id': 2, 'name': 'Acme Corp'}),\n",
      "  Tail(label='Person', properties={'memory_id': 2, 'name': 'Alice'}),\n",
      "  Edge(label='works_for', properties={'memory_id': 2, 'since': '2020', 'current_time': '2024-10-27T11:51:06', 'location': None}),\n",
      "  Memory ID: 2\n",
      ")\n"
     ]
    },
    {
     "data": {
      "text/plain": [
       "ShortMemory(\n",
       "  Head(label='Company', properties={'memory_id': 2, 'name': 'Acme Corp'}),\n",
       "  Tail(label='Person', properties={'memory_id': 2, 'name': 'Alice'}),\n",
       "  Edge(label='works_for', properties={'memory_id': 2, 'since': '2020', 'current_time': '2024-10-27T11:51:06', 'location': None}),\n",
       "  Memory ID: 2\n",
       ")"
      ]
     },
     "execution_count": 7,
     "metadata": {},
     "output_type": "execute_result"
    }
   ],
   "source": [
    "humemai.read_memory(2)"
   ]
  },
  {
   "cell_type": "code",
   "execution_count": 8,
   "metadata": {},
   "outputs": [
    {
     "name": "stderr",
     "output_type": "stream",
     "text": [
      "DEBUG:gremlinpython:submit with bytecode '[['addV', 'Person'], ['property', 'memory_id', 3], ['property', 'name', 'Alice']]'\n",
      "DEBUG:gremlinpython:message '[['addV', 'Person'], ['property', 'memory_id', 3], ['property', 'name', 'Alice']]'\n",
      "DEBUG:gremlinpython:processor='traversal', op='bytecode', args='{'gremlin': [['addV', 'Person'], ['property', 'memory_id', 3], ['property', 'name', 'Alice']], 'aliases': {'g': 'g'}}'\n",
      "DEBUG:gremlinpython:submit with bytecode '[['addV', 'Company'], ['property', 'memory_id', 3], ['property', 'name', 'Acme Corp']]'\n",
      "DEBUG:gremlinpython:message '[['addV', 'Company'], ['property', 'memory_id', 3], ['property', 'name', 'Acme Corp']]'\n",
      "DEBUG:gremlinpython:processor='traversal', op='bytecode', args='{'gremlin': [['addV', 'Company'], ['property', 'memory_id', 3], ['property', 'name', 'Acme Corp']], 'aliases': {'g': 'g'}}'\n",
      "DEBUG:gremlinpython:submit with bytecode '[['V', 45224], ['addE', 'works_for'], ['to', [['V', 16584]]], ['property', 'memory_id', 3], ['property', 'since', '2020'], ['property', 'event_time', '2024-10-27T11:51:06'], ['property', 'num_recalled', 0]]'\n",
      "DEBUG:gremlinpython:message '[['V', 45224], ['addE', 'works_for'], ['to', [['V', 16584]]], ['property', 'memory_id', 3], ['property', 'since', '2020'], ['property', 'event_time', '2024-10-27T11:51:06'], ['property', 'num_recalled', 0]]'\n",
      "DEBUG:gremlinpython:processor='traversal', op='bytecode', args='{'gremlin': [['V', 45224], ['addE', 'works_for'], ['to', [['V', 16584]]], ['property', 'memory_id', 3], ['property', 'since', '2020'], ['property', 'event_time', '2024-10-27T11:51:06'], ['property', 'num_recalled', 0]], 'aliases': {'g': 'g'}}'\n",
      "DEBUG:humemai.janusgraph.Humemai:Created memory with edge ID: {'@type': 'janusgraph:RelationIdentifier', '@value': {'relationId': 'il1-yw8-3yt-cso'}} and memory_id: 3 between nodes 45224 and 16584\n"
     ]
    },
    {
     "data": {
      "text/plain": [
       "LongMemory(\n",
       "  Head(label='Person', properties={'name': 'Alice'}),\n",
       "  Tail(label='Company', properties={'name': 'Acme Corp'}),\n",
       "  Edge(label='works_for', properties={'since': '2020', 'event_time': '2024-10-27T11:51:06', 'num_recalled': 0}),\n",
       "  Memory ID: 3\n",
       ")"
      ]
     },
     "execution_count": 8,
     "metadata": {},
     "output_type": "execute_result"
    }
   ],
   "source": [
    "mem = LongMemory(\n",
    "    head_label=\"Person\",\n",
    "    tail_label=\"Company\",\n",
    "    edge_label=\"works_for\",\n",
    "    head_properties={\"name\": \"Alice\"},\n",
    "    tail_properties={\"name\": \"Acme Corp\"},\n",
    "    edge_properties={\"since\": \"2020\", \"event_time\": \"2024-10-27T11:51:06\"},\n",
    ")\n",
    "humemai.write_memory(mem)\n",
    "mem"
   ]
  },
  {
   "cell_type": "code",
   "execution_count": 9,
   "metadata": {},
   "outputs": [
    {
     "name": "stderr",
     "output_type": "stream",
     "text": [
      "DEBUG:gremlinpython:submit with bytecode '[['E'], ['has', 'memory_id', 3]]'\n",
      "DEBUG:gremlinpython:message '[['E'], ['has', 'memory_id', 3]]'\n",
      "DEBUG:gremlinpython:processor='traversal', op='bytecode', args='{'gremlin': [['E'], ['has', 'memory_id', 3]], 'aliases': {'g': 'g'}}'\n",
      "DEBUG:gremlinpython:submit with bytecode '[['V', 16584], ['valueMap']]'\n",
      "DEBUG:gremlinpython:message '[['V', 16584], ['valueMap']]'\n",
      "DEBUG:gremlinpython:processor='traversal', op='bytecode', args='{'gremlin': [['V', 16584], ['valueMap']], 'aliases': {'g': 'g'}}'\n",
      "DEBUG:gremlinpython:submit with bytecode '[['V', 45224], ['valueMap']]'\n",
      "DEBUG:gremlinpython:message '[['V', 45224], ['valueMap']]'\n",
      "DEBUG:gremlinpython:processor='traversal', op='bytecode', args='{'gremlin': [['V', 45224], ['valueMap']], 'aliases': {'g': 'g'}}'\n",
      "DEBUG:humemai.janusgraph.Humemai:Retrieved memory for memory_id 3: EpisodicMemory(\n",
      "  Head(label='Company', properties={'memory_id': 3, 'name': 'Acme Corp'}),\n",
      "  Tail(label='Person', properties={'memory_id': 3, 'name': 'Alice'}),\n",
      "  Edge(label='works_for', properties={'since': '2020', 'memory_id': 3, 'num_recalled': 0, 'event_time': '2024-10-27T11:51:06', 'location': None, 'emotion': None, 'event': None}),\n",
      "  Memory ID: 3\n",
      ")\n"
     ]
    },
    {
     "data": {
      "text/plain": [
       "EpisodicMemory(\n",
       "  Head(label='Company', properties={'memory_id': 3, 'name': 'Acme Corp'}),\n",
       "  Tail(label='Person', properties={'memory_id': 3, 'name': 'Alice'}),\n",
       "  Edge(label='works_for', properties={'since': '2020', 'memory_id': 3, 'num_recalled': 0, 'event_time': '2024-10-27T11:51:06', 'location': None, 'emotion': None, 'event': None}),\n",
       "  Memory ID: 3\n",
       ")"
      ]
     },
     "execution_count": 9,
     "metadata": {},
     "output_type": "execute_result"
    }
   ],
   "source": [
    "humemai.read_memory(3)"
   ]
  },
  {
   "cell_type": "code",
   "execution_count": 14,
   "metadata": {},
   "outputs": [
    {
     "name": "stderr",
     "output_type": "stream",
     "text": [
      "DEBUG:gremlinpython:submit with bytecode '[['addV', 'Person'], ['property', 'memory_id', 6], ['property', 'name', 'Alice']]'\n",
      "DEBUG:gremlinpython:message '[['addV', 'Person'], ['property', 'memory_id', 6], ['property', 'name', 'Alice']]'\n",
      "DEBUG:gremlinpython:processor='traversal', op='bytecode', args='{'gremlin': [['addV', 'Person'], ['property', 'memory_id', 6], ['property', 'name', 'Alice']], 'aliases': {'g': 'g'}}'\n",
      "DEBUG:gremlinpython:submit with bytecode '[['addV', 'Company'], ['property', 'memory_id', 6], ['property', 'name', 'Acme Corp']]'\n",
      "DEBUG:gremlinpython:message '[['addV', 'Company'], ['property', 'memory_id', 6], ['property', 'name', 'Acme Corp']]'\n",
      "DEBUG:gremlinpython:processor='traversal', op='bytecode', args='{'gremlin': [['addV', 'Company'], ['property', 'memory_id', 6], ['property', 'name', 'Acme Corp']], 'aliases': {'g': 'g'}}'\n",
      "DEBUG:gremlinpython:submit with bytecode '[['V', 94288], ['addE', 'works_for'], ['to', [['V', 65656]]], ['property', 'memory_id', 6], ['property', 'event_time', '2024-10-27T11:51:06'], ['property', 'emotion', 'sad'], ['property', 'location', None], ['property', 'event', None], ['property', 'num_recalled', 0]]'\n",
      "DEBUG:gremlinpython:message '[['V', 94288], ['addE', 'works_for'], ['to', [['V', 65656]]], ['property', 'memory_id', 6], ['property', 'event_time', '2024-10-27T11:51:06'], ['property', 'emotion', 'sad'], ['property', 'location', None], ['property', 'event', None], ['property', 'num_recalled', 0]]'\n",
      "DEBUG:gremlinpython:processor='traversal', op='bytecode', args='{'gremlin': [['V', 94288], ['addE', 'works_for'], ['to', [['V', 65656]]], ['property', 'memory_id', 6], ['property', 'event_time', '2024-10-27T11:51:06'], ['property', 'emotion', 'sad'], ['property', 'location', None], ['property', 'event', None], ['property', 'num_recalled', 0]], 'aliases': {'g': 'g'}}'\n",
      "DEBUG:humemai.janusgraph.Humemai:Created memory with edge ID: {'@type': 'janusgraph:RelationIdentifier', '@value': {'relationId': '16oa-20r4-3yt-1ens'}} and memory_id: 6 between nodes 94288 and 65656\n"
     ]
    },
    {
     "data": {
      "text/plain": [
       "EpisodicMemory(\n",
       "  Head(label='Person', properties={'name': 'Alice'}),\n",
       "  Tail(label='Company', properties={'name': 'Acme Corp'}),\n",
       "  Edge(label='works_for', properties={'event_time': '2024-10-27T11:51:06', 'emotion': 'sad', 'location': None, 'event': None, 'num_recalled': 0}),\n",
       "  Memory ID: 6\n",
       ")"
      ]
     },
     "execution_count": 14,
     "metadata": {},
     "output_type": "execute_result"
    }
   ],
   "source": [
    "mem = EpisodicMemory(\n",
    "    head_label=\"Person\",\n",
    "    tail_label=\"Company\",\n",
    "    edge_label=\"works_for\",\n",
    "    head_properties={\"name\": \"Alice\"},\n",
    "    tail_properties={\"name\": \"Acme Corp\"},\n",
    "    edge_properties={\"event_time\": \"2024-10-27T11:51:06\", \"emotion\": \"sad\"},\n",
    ")\n",
    "humemai.write_memory(mem)\n",
    "mem"
   ]
  },
  {
   "cell_type": "code",
   "execution_count": 15,
   "metadata": {},
   "outputs": [
    {
     "name": "stderr",
     "output_type": "stream",
     "text": [
      "DEBUG:gremlinpython:submit with bytecode '[['E'], ['has', 'memory_id', 6]]'\n",
      "DEBUG:gremlinpython:message '[['E'], ['has', 'memory_id', 6]]'\n",
      "DEBUG:gremlinpython:processor='traversal', op='bytecode', args='{'gremlin': [['E'], ['has', 'memory_id', 6]], 'aliases': {'g': 'g'}}'\n",
      "DEBUG:gremlinpython:submit with bytecode '[['V', 65656], ['valueMap']]'\n",
      "DEBUG:gremlinpython:message '[['V', 65656], ['valueMap']]'\n",
      "DEBUG:gremlinpython:processor='traversal', op='bytecode', args='{'gremlin': [['V', 65656], ['valueMap']], 'aliases': {'g': 'g'}}'\n",
      "DEBUG:gremlinpython:submit with bytecode '[['V', 94288], ['valueMap']]'\n",
      "DEBUG:gremlinpython:message '[['V', 94288], ['valueMap']]'\n",
      "DEBUG:gremlinpython:processor='traversal', op='bytecode', args='{'gremlin': [['V', 94288], ['valueMap']], 'aliases': {'g': 'g'}}'\n",
      "DEBUG:humemai.janusgraph.Humemai:Retrieved memory for memory_id 6: EpisodicMemory(\n",
      "  Head(label='Company', properties={'memory_id': 6, 'name': 'Acme Corp'}),\n",
      "  Tail(label='Person', properties={'memory_id': 6, 'name': 'Alice'}),\n",
      "  Edge(label='works_for', properties={'event_time': '2024-10-27T11:51:06', 'emotion': 'sad', 'memory_id': 6, 'num_recalled': 0, 'location': None, 'event': None}),\n",
      "  Memory ID: 6\n",
      ")\n"
     ]
    },
    {
     "data": {
      "text/plain": [
       "EpisodicMemory(\n",
       "  Head(label='Company', properties={'memory_id': 6, 'name': 'Acme Corp'}),\n",
       "  Tail(label='Person', properties={'memory_id': 6, 'name': 'Alice'}),\n",
       "  Edge(label='works_for', properties={'event_time': '2024-10-27T11:51:06', 'emotion': 'sad', 'memory_id': 6, 'num_recalled': 0, 'location': None, 'event': None}),\n",
       "  Memory ID: 6\n",
       ")"
      ]
     },
     "execution_count": 15,
     "metadata": {},
     "output_type": "execute_result"
    }
   ],
   "source": [
    "humemai.read_memory(6)"
   ]
  },
  {
   "cell_type": "code",
   "execution_count": 17,
   "metadata": {},
   "outputs": [
    {
     "name": "stderr",
     "output_type": "stream",
     "text": [
      "DEBUG:gremlinpython:submit with bytecode '[['addV', 'Person'], ['property', 'memory_id', 8], ['property', 'name', 'Alice']]'\n",
      "DEBUG:gremlinpython:message '[['addV', 'Person'], ['property', 'memory_id', 8], ['property', 'name', 'Alice']]'\n",
      "DEBUG:gremlinpython:processor='traversal', op='bytecode', args='{'gremlin': [['addV', 'Person'], ['property', 'memory_id', 8], ['property', 'name', 'Alice']], 'aliases': {'g': 'g'}}'\n",
      "DEBUG:gremlinpython:submit with bytecode '[['addV', 'Company'], ['property', 'memory_id', 8], ['property', 'name', 'Acme Corp']]'\n",
      "DEBUG:gremlinpython:message '[['addV', 'Company'], ['property', 'memory_id', 8], ['property', 'name', 'Acme Corp']]'\n",
      "DEBUG:gremlinpython:processor='traversal', op='bytecode', args='{'gremlin': [['addV', 'Company'], ['property', 'memory_id', 8], ['property', 'name', 'Acme Corp']], 'aliases': {'g': 'g'}}'\n",
      "DEBUG:gremlinpython:submit with bytecode '[['V', 20680], ['addE', 'works_for'], ['to', [['V', 24776]]], ['property', 'memory_id', 8], ['property', 'known_since', '2024-10-27T11:51:06'], ['property', 'derived_from', 'HR'], ['property', 'num_recalled', 0]]'\n",
      "DEBUG:gremlinpython:message '[['V', 20680], ['addE', 'works_for'], ['to', [['V', 24776]]], ['property', 'memory_id', 8], ['property', 'known_since', '2024-10-27T11:51:06'], ['property', 'derived_from', 'HR'], ['property', 'num_recalled', 0]]'\n",
      "DEBUG:gremlinpython:processor='traversal', op='bytecode', args='{'gremlin': [['V', 20680], ['addE', 'works_for'], ['to', [['V', 24776]]], ['property', 'memory_id', 8], ['property', 'known_since', '2024-10-27T11:51:06'], ['property', 'derived_from', 'HR'], ['property', 'num_recalled', 0]], 'aliases': {'g': 'g'}}'\n",
      "DEBUG:humemai.janusgraph.Humemai:Created memory with edge ID: {'@type': 'janusgraph:RelationIdentifier', '@value': {'relationId': 'aop-fyg-3yt-j48'}} and memory_id: 8 between nodes 20680 and 24776\n"
     ]
    },
    {
     "data": {
      "text/plain": [
       "SemanticMemory(\n",
       "  Head(label='Person', properties={'name': 'Alice'}),\n",
       "  Tail(label='Company', properties={'name': 'Acme Corp'}),\n",
       "  Edge(label='works_for', properties={'known_since': '2024-10-27T11:51:06', 'derived_from': 'HR', 'num_recalled': 0}),\n",
       "  Memory ID: 8\n",
       ")"
      ]
     },
     "execution_count": 17,
     "metadata": {},
     "output_type": "execute_result"
    }
   ],
   "source": [
    "mem = SemanticMemory(\n",
    "    head_label=\"Person\",\n",
    "    tail_label=\"Company\",\n",
    "    edge_label=\"works_for\",\n",
    "    head_properties={\"name\": \"Alice\"},\n",
    "    tail_properties={\"name\": \"Acme Corp\"},\n",
    "    edge_properties={\"known_since\": \"2024-10-27T11:51:06\", \"derived_from\": \"HR\"},\n",
    ")\n",
    "humemai.write_memory(mem)\n",
    "mem"
   ]
  },
  {
   "cell_type": "code",
   "execution_count": 18,
   "metadata": {},
   "outputs": [
    {
     "name": "stderr",
     "output_type": "stream",
     "text": [
      "DEBUG:gremlinpython:submit with bytecode '[['E'], ['has', 'memory_id', 8]]'\n",
      "DEBUG:gremlinpython:message '[['E'], ['has', 'memory_id', 8]]'\n",
      "DEBUG:gremlinpython:processor='traversal', op='bytecode', args='{'gremlin': [['E'], ['has', 'memory_id', 8]], 'aliases': {'g': 'g'}}'\n",
      "DEBUG:gremlinpython:submit with bytecode '[['V', 24776], ['valueMap']]'\n",
      "DEBUG:gremlinpython:message '[['V', 24776], ['valueMap']]'\n",
      "DEBUG:gremlinpython:processor='traversal', op='bytecode', args='{'gremlin': [['V', 24776], ['valueMap']], 'aliases': {'g': 'g'}}'\n",
      "DEBUG:gremlinpython:submit with bytecode '[['V', 20680], ['valueMap']]'\n",
      "DEBUG:gremlinpython:message '[['V', 20680], ['valueMap']]'\n",
      "DEBUG:gremlinpython:processor='traversal', op='bytecode', args='{'gremlin': [['V', 20680], ['valueMap']], 'aliases': {'g': 'g'}}'\n",
      "DEBUG:humemai.janusgraph.Humemai:Retrieved memory for memory_id 8: SemanticMemory(\n",
      "  Head(label='Company', properties={'memory_id': 8, 'name': 'Acme Corp'}),\n",
      "  Tail(label='Person', properties={'memory_id': 8, 'name': 'Alice'}),\n",
      "  Edge(label='works_for', properties={'known_since': '2024-10-27T11:51:06', 'derived_from': 'HR', 'num_recalled': 0, 'memory_id': 8}),\n",
      "  Memory ID: 8\n",
      ")\n"
     ]
    },
    {
     "data": {
      "text/plain": [
       "SemanticMemory(\n",
       "  Head(label='Company', properties={'memory_id': 8, 'name': 'Acme Corp'}),\n",
       "  Tail(label='Person', properties={'memory_id': 8, 'name': 'Alice'}),\n",
       "  Edge(label='works_for', properties={'known_since': '2024-10-27T11:51:06', 'derived_from': 'HR', 'num_recalled': 0, 'memory_id': 8}),\n",
       "  Memory ID: 8\n",
       ")"
      ]
     },
     "execution_count": 18,
     "metadata": {},
     "output_type": "execute_result"
    }
   ],
   "source": [
    "humemai.read_memory(8)"
   ]
  },
  {
   "cell_type": "code",
   "execution_count": null,
   "metadata": {},
   "outputs": [],
   "source": [
    "humemai.read_all()"
   ]
  }
 ],
 "metadata": {
  "kernelspec": {
   "display_name": "humemai",
   "language": "python",
   "name": "python3"
  },
  "language_info": {
   "codemirror_mode": {
    "name": "ipython",
    "version": 3
   },
   "file_extension": ".py",
   "mimetype": "text/x-python",
   "name": "python",
   "nbconvert_exporter": "python",
   "pygments_lexer": "ipython3",
   "version": "3.10.12"
  }
 },
 "nbformat": 4,
 "nbformat_minor": 2
}
