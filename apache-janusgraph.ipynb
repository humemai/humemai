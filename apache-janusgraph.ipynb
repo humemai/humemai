{
 "cells": [
  {
   "cell_type": "markdown",
   "metadata": {},
   "source": [
    "## Start Janusgraph with Cassandra backend"
   ]
  },
  {
   "cell_type": "code",
   "execution_count": 1,
   "metadata": {},
   "outputs": [
    {
     "name": "stderr",
     "output_type": "stream",
     "text": [
      "DEBUG:docker.utils.config:Trying paths: ['/home/tk/.docker/config.json', '/home/tk/.dockercfg']\n",
      "DEBUG:docker.utils.config:No config file found\n",
      "DEBUG:docker.utils.config:Trying paths: ['/home/tk/.docker/config.json', '/home/tk/.dockercfg']\n",
      "DEBUG:docker.utils.config:No config file found\n",
      "DEBUG:urllib3.connectionpool:http://localhost:None \"GET /version HTTP/11\" 200 834\n",
      "DEBUG:urllib3.connectionpool:http://localhost:None \"GET /v1.47/networks/janusgraph-net HTTP/11\" 200 443\n",
      "DEBUG:urllib3.connectionpool:http://localhost:None \"GET /v1.47/containers/foo/json HTTP/11\" 404 37\n",
      "DEBUG:janusgraph-docker:foo container not found, creating and starting it...\n",
      "DEBUG:urllib3.connectionpool:http://localhost:None \"POST /v1.47/containers/create?name=foo HTTP/11\" 201 88\n",
      "DEBUG:urllib3.connectionpool:http://localhost:None \"GET /v1.47/containers/e7f571b8e468e604c75c48d91073d7bcb399591f95722ee53944c6efb5dba659/json HTTP/11\" 200 None\n",
      "DEBUG:urllib3.connectionpool:http://localhost:None \"POST /v1.47/containers/e7f571b8e468e604c75c48d91073d7bcb399591f95722ee53944c6efb5dba659/start HTTP/11\" 204 0\n",
      "DEBUG:urllib3.connectionpool:http://localhost:None \"GET /v1.47/containers/bar/json HTTP/11\" 404 37\n",
      "DEBUG:janusgraph-docker:bar container not found, creating and starting it...\n",
      "DEBUG:urllib3.connectionpool:http://localhost:None \"POST /v1.47/containers/create?name=bar HTTP/11\" 201 88\n",
      "DEBUG:urllib3.connectionpool:http://localhost:None \"GET /v1.47/containers/c81fa3102ee092e4739ad0c6ac32069b2d4d8450a7984e9e629f5c90fec0b3a7/json HTTP/11\" 200 None\n",
      "DEBUG:urllib3.connectionpool:http://localhost:None \"POST /v1.47/containers/c81fa3102ee092e4739ad0c6ac32069b2d4d8450a7984e9e629f5c90fec0b3a7/start HTTP/11\" 204 0\n",
      "DEBUG:janusgraph-docker:Waiting 10 seconds for the containers to warm up...\n"
     ]
    }
   ],
   "source": [
    "from humemai.janusgraph.utils.docker import (\n",
    "    start_containers,\n",
    "    stop_containers,\n",
    "    remove_containers,\n",
    "    remove_all_data,\n",
    "    add_dummy_data,\n",
    ")\n",
    "\n",
    "start_containers(cassandra_container_name=\"foo\", janusgraph_container_name=\"bar\")"
   ]
  },
  {
   "cell_type": "markdown",
   "metadata": {},
   "source": [
    "## "
   ]
  },
  {
   "cell_type": "markdown",
   "metadata": {},
   "source": [
    "## Stop the two docker containers"
   ]
  },
  {
   "cell_type": "code",
   "execution_count": 4,
   "metadata": {},
   "outputs": [
    {
     "name": "stderr",
     "output_type": "stream",
     "text": [
      "DEBUG:docker.utils.config:Trying paths: ['/home/tk/.docker/config.json', '/home/tk/.dockercfg']\n",
      "DEBUG:docker.utils.config:No config file found\n",
      "DEBUG:docker.utils.config:Trying paths: ['/home/tk/.docker/config.json', '/home/tk/.dockercfg']\n",
      "DEBUG:docker.utils.config:No config file found\n",
      "DEBUG:urllib3.connectionpool:http://localhost:None \"GET /version HTTP/11\" 200 834\n",
      "DEBUG:urllib3.connectionpool:http://localhost:None \"GET /v1.47/containers/cassandra/json HTTP/11\" 200 None\n",
      "DEBUG:urllib3.connectionpool:http://localhost:None \"POST /v1.47/containers/cac5db93a8bd41e45456435e13f6c9b360f2eebdc99b6d1a639566f0d757ac5f/stop HTTP/11\" 304 0\n",
      "DEBUG:janusgraph-docker:cassandra container stopped.\n",
      "DEBUG:urllib3.connectionpool:http://localhost:None \"GET /v1.47/containers/janusgraph/json HTTP/11\" 200 None\n",
      "DEBUG:urllib3.connectionpool:http://localhost:None \"POST /v1.47/containers/eedb15a1175d4df90ba9b73494de2390c13cec7711402e4615b97adc2e2d0eca/stop HTTP/11\" 304 0\n",
      "DEBUG:janusgraph-docker:janusgraph container stopped.\n"
     ]
    }
   ],
   "source": [
    "stop_containers()"
   ]
  },
  {
   "cell_type": "markdown",
   "metadata": {},
   "source": [
    "## Run a Gremlin query to remove all the data"
   ]
  },
  {
   "cell_type": "code",
   "execution_count": 3,
   "metadata": {},
   "outputs": [
    {
     "name": "stderr",
     "output_type": "stream",
     "text": [
      "INFO:gremlinpython:Creating DriverRemoteConnection with url 'ws://localhost:8182/gremlin'\n",
      "INFO:gremlinpython:Creating Client with url 'ws://localhost:8182/gremlin'\n",
      "INFO:gremlinpython:Creating GraphTraversalSource.\n",
      "INFO:gremlinpython:Creating GraphTraversalSource.\n",
      "DEBUG:gremlinpython:submit with bytecode '[['V'], ['drop'], ['none']]'\n",
      "DEBUG:gremlinpython:message '[['V'], ['drop'], ['none']]'\n",
      "DEBUG:gremlinpython:processor='traversal', op='bytecode', args='{'gremlin': [['V'], ['drop'], ['none']], 'aliases': {'g': 'g'}}'\n",
      "DEBUG:asyncio:Using selector: EpollSelector\n",
      "DEBUG:janusgraph-docker:All vertices and edges have been deleted.\n",
      "INFO:gremlinpython:closing DriverRemoteConnection with url 'ws://localhost:8182/gremlin'\n",
      "INFO:gremlinpython:Closing Client with url 'ws://localhost:8182/gremlin'\n"
     ]
    }
   ],
   "source": [
    "remove_all_data()"
   ]
  },
  {
   "cell_type": "markdown",
   "metadata": {},
   "source": [
    "## ADd dummy data"
   ]
  },
  {
   "cell_type": "code",
   "execution_count": 2,
   "metadata": {},
   "outputs": [
    {
     "name": "stderr",
     "output_type": "stream",
     "text": [
      "INFO:gremlinpython:Creating DriverRemoteConnection with url 'ws://localhost:8182/gremlin'\n",
      "INFO:gremlinpython:Creating Client with url 'ws://localhost:8182/gremlin'\n",
      "INFO:gremlinpython:Creating GraphTraversalSource.\n",
      "INFO:gremlinpython:Creating GraphTraversalSource.\n",
      "DEBUG:gremlinpython:submit with bytecode '[['addV', 'person'], ['property', 'name', 'Alice'], ['property', 'age', 30]]'\n",
      "DEBUG:gremlinpython:message '[['addV', 'person'], ['property', 'name', 'Alice'], ['property', 'age', 30]]'\n",
      "DEBUG:gremlinpython:processor='traversal', op='bytecode', args='{'gremlin': [['addV', 'person'], ['property', 'name', 'Alice'], ['property', 'age', 30]], 'aliases': {'g': 'g'}}'\n",
      "DEBUG:asyncio:Using selector: EpollSelector\n",
      "DEBUG:gremlinpython:submit with bytecode '[['addV', 'person'], ['property', 'name', 'Bob'], ['property', 'age', 25]]'\n",
      "DEBUG:gremlinpython:message '[['addV', 'person'], ['property', 'name', 'Bob'], ['property', 'age', 25]]'\n",
      "DEBUG:gremlinpython:processor='traversal', op='bytecode', args='{'gremlin': [['addV', 'person'], ['property', 'name', 'Bob'], ['property', 'age', 25]], 'aliases': {'g': 'g'}}'\n",
      "DEBUG:asyncio:Using selector: EpollSelector\n",
      "DEBUG:gremlinpython:submit with bytecode '[['addV', 'person'], ['property', 'name', 'Carol'], ['property', 'age', 27]]'\n",
      "DEBUG:gremlinpython:message '[['addV', 'person'], ['property', 'name', 'Carol'], ['property', 'age', 27]]'\n",
      "DEBUG:gremlinpython:processor='traversal', op='bytecode', args='{'gremlin': [['addV', 'person'], ['property', 'name', 'Carol'], ['property', 'age', 27]], 'aliases': {'g': 'g'}}'\n",
      "DEBUG:asyncio:Using selector: EpollSelector\n",
      "DEBUG:gremlinpython:submit with bytecode '[['addV', 'person'], ['property', 'name', 'Dave'], ['property', 'age', 35]]'\n",
      "DEBUG:gremlinpython:message '[['addV', 'person'], ['property', 'name', 'Dave'], ['property', 'age', 35]]'\n",
      "DEBUG:gremlinpython:processor='traversal', op='bytecode', args='{'gremlin': [['addV', 'person'], ['property', 'name', 'Dave'], ['property', 'age', 35]], 'aliases': {'g': 'g'}}'\n",
      "DEBUG:asyncio:Using selector: EpollSelector\n",
      "DEBUG:gremlinpython:submit with bytecode '[['addV', 'organization'], ['property', 'name', 'Acme Corp'], ['property', 'type', 'Company']]'\n",
      "DEBUG:gremlinpython:message '[['addV', 'organization'], ['property', 'name', 'Acme Corp'], ['property', 'type', 'Company']]'\n",
      "DEBUG:gremlinpython:processor='traversal', op='bytecode', args='{'gremlin': [['addV', 'organization'], ['property', 'name', 'Acme Corp'], ['property', 'type', 'Company']], 'aliases': {'g': 'g'}}'\n",
      "DEBUG:asyncio:Using selector: EpollSelector\n",
      "DEBUG:gremlinpython:submit with bytecode '[['addV', 'organization'], ['property', 'name', 'Globex Inc'], ['property', 'type', 'Company']]'\n",
      "DEBUG:gremlinpython:message '[['addV', 'organization'], ['property', 'name', 'Globex Inc'], ['property', 'type', 'Company']]'\n",
      "DEBUG:gremlinpython:processor='traversal', op='bytecode', args='{'gremlin': [['addV', 'organization'], ['property', 'name', 'Globex Inc'], ['property', 'type', 'Company']], 'aliases': {'g': 'g'}}'\n",
      "DEBUG:asyncio:Using selector: EpollSelector\n",
      "DEBUG:gremlinpython:submit with bytecode '[['V', 4216], ['addE', 'knows'], ['to', v[4192]], ['property', 'since', 2015], ['none']]'\n",
      "DEBUG:gremlinpython:message '[['V', 4216], ['addE', 'knows'], ['to', v[4192]], ['property', 'since', 2015], ['none']]'\n",
      "DEBUG:gremlinpython:processor='traversal', op='bytecode', args='{'gremlin': [['V', 4216], ['addE', 'knows'], ['to', v[4192]], ['property', 'since', 2015], ['none']], 'aliases': {'g': 'g'}}'\n",
      "DEBUG:asyncio:Using selector: EpollSelector\n",
      "DEBUG:gremlinpython:submit with bytecode '[['V', 4216], ['addE', 'knows'], ['to', v[4160]], ['property', 'since', 2018], ['none']]'\n",
      "DEBUG:gremlinpython:message '[['V', 4216], ['addE', 'knows'], ['to', v[4160]], ['property', 'since', 2018], ['none']]'\n",
      "DEBUG:gremlinpython:processor='traversal', op='bytecode', args='{'gremlin': [['V', 4216], ['addE', 'knows'], ['to', v[4160]], ['property', 'since', 2018], ['none']], 'aliases': {'g': 'g'}}'\n",
      "DEBUG:asyncio:Using selector: EpollSelector\n",
      "DEBUG:gremlinpython:submit with bytecode '[['V', 4192], ['addE', 'knows'], ['to', v[8312]], ['property', 'since', 2020], ['none']]'\n",
      "DEBUG:gremlinpython:message '[['V', 4192], ['addE', 'knows'], ['to', v[8312]], ['property', 'since', 2020], ['none']]'\n",
      "DEBUG:gremlinpython:processor='traversal', op='bytecode', args='{'gremlin': [['V', 4192], ['addE', 'knows'], ['to', v[8312]], ['property', 'since', 2020], ['none']], 'aliases': {'g': 'g'}}'\n",
      "DEBUG:gremlinpython:submit with bytecode '[['V', 4160], ['addE', 'knows'], ['to', v[8312]], ['property', 'since', 2019], ['none']]'\n",
      "DEBUG:gremlinpython:message '[['V', 4160], ['addE', 'knows'], ['to', v[8312]], ['property', 'since', 2019], ['none']]'\n",
      "DEBUG:gremlinpython:processor='traversal', op='bytecode', args='{'gremlin': [['V', 4160], ['addE', 'knows'], ['to', v[8312]], ['property', 'since', 2019], ['none']], 'aliases': {'g': 'g'}}'\n",
      "DEBUG:gremlinpython:submit with bytecode '[['V', 4216], ['addE', 'works_at'], ['to', v[8288]], ['property', 'role', 'Engineer'], ['none']]'\n",
      "DEBUG:gremlinpython:message '[['V', 4216], ['addE', 'works_at'], ['to', v[8288]], ['property', 'role', 'Engineer'], ['none']]'\n",
      "DEBUG:gremlinpython:processor='traversal', op='bytecode', args='{'gremlin': [['V', 4216], ['addE', 'works_at'], ['to', v[8288]], ['property', 'role', 'Engineer'], ['none']], 'aliases': {'g': 'g'}}'\n",
      "DEBUG:gremlinpython:submit with bytecode '[['V', 4192], ['addE', 'works_at'], ['to', v[12408]], ['property', 'role', 'Analyst'], ['none']]'\n",
      "DEBUG:gremlinpython:message '[['V', 4192], ['addE', 'works_at'], ['to', v[12408]], ['property', 'role', 'Analyst'], ['none']]'\n",
      "DEBUG:gremlinpython:processor='traversal', op='bytecode', args='{'gremlin': [['V', 4192], ['addE', 'works_at'], ['to', v[12408]], ['property', 'role', 'Analyst'], ['none']], 'aliases': {'g': 'g'}}'\n",
      "DEBUG:gremlinpython:submit with bytecode '[['V', 4160], ['addE', 'works_at'], ['to', v[8288]], ['property', 'role', 'Manager'], ['none']]'\n",
      "DEBUG:gremlinpython:message '[['V', 4160], ['addE', 'works_at'], ['to', v[8288]], ['property', 'role', 'Manager'], ['none']]'\n",
      "DEBUG:gremlinpython:processor='traversal', op='bytecode', args='{'gremlin': [['V', 4160], ['addE', 'works_at'], ['to', v[8288]], ['property', 'role', 'Manager'], ['none']], 'aliases': {'g': 'g'}}'\n",
      "DEBUG:gremlinpython:submit with bytecode '[['V', 8312], ['addE', 'works_at'], ['to', v[12408]], ['property', 'role', 'Director'], ['none']]'\n",
      "DEBUG:gremlinpython:message '[['V', 8312], ['addE', 'works_at'], ['to', v[12408]], ['property', 'role', 'Director'], ['none']]'\n",
      "DEBUG:gremlinpython:processor='traversal', op='bytecode', args='{'gremlin': [['V', 8312], ['addE', 'works_at'], ['to', v[12408]], ['property', 'role', 'Director'], ['none']], 'aliases': {'g': 'g'}}'\n",
      "DEBUG:janusgraph-docker:Vertices and edges added successfully.\n",
      "INFO:gremlinpython:closing DriverRemoteConnection with url 'ws://localhost:8182/gremlin'\n",
      "INFO:gremlinpython:Closing Client with url 'ws://localhost:8182/gremlin'\n"
     ]
    }
   ],
   "source": [
    "add_dummy_data()"
   ]
  },
  {
   "cell_type": "code",
   "execution_count": 12,
   "metadata": {},
   "outputs": [
    {
     "name": "stdout",
     "output_type": "stream",
     "text": [
      "Vertices:\n",
      "{'name': 'Carol', 'age': 27, <T.id: 1>: 4096, <T.label: 4>: 'person'}\n",
      "{'name': 'Alice', 'age': 30, <T.id: 1>: 4104, <T.label: 4>: 'person'}\n",
      "{'name': 'Dave', 'age': 35, <T.id: 1>: 8200, <T.label: 4>: 'person'}\n",
      "{'name': 'Acme Corp', 'type': 'Company', <T.id: 1>: 4152, <T.label: 4>: 'organization'}\n",
      "{'name': 'Bob', 'age': 25, <T.id: 1>: 4272, <T.label: 4>: 'person'}\n",
      "{'name': 'Globex Inc', 'type': 'Company', <T.id: 1>: 40964320, <T.label: 4>: 'organization'}\n",
      "\n",
      "Edges:\n",
      "{<T.id: 1>: {'@type': 'janusgraph:RelationIdentifier', '@value': {'relationId': 'odyww-35s-4r9-6bs'}}, <T.label: 4>: 'knows', <Direction.IN: 'IN'>: {<T.id: 1>: 8200, <T.label: 4>: 'person'}, <Direction.OUT: 'OUT'>: {<T.id: 1>: 4096, <T.label: 4>: 'person'}, 'since': 2019}\n",
      "{<T.id: 1>: {'@type': 'janusgraph:RelationIdentifier', '@value': {'relationId': 'odzb4-35s-6c5-37c'}}, <T.label: 4>: 'works_at', <Direction.IN: 'IN'>: {<T.id: 1>: 4152, <T.label: 4>: 'organization'}, <Direction.OUT: 'OUT'>: {<T.id: 1>: 4096, <T.label: 4>: 'person'}, 'role': 'Manager'}\n",
      "{<T.id: 1>: {'@type': 'janusgraph:RelationIdentifier', '@value': {'relationId': '3y9-360-4r9-35s'}}, <T.label: 4>: 'knows', <Direction.IN: 'IN'>: {<T.id: 1>: 4096, <T.label: 4>: 'person'}, <Direction.OUT: 'OUT'>: {<T.id: 1>: 4104, <T.label: 4>: 'person'}, 'since': 2018}\n",
      "{<T.id: 1>: {'@type': 'janusgraph:RelationIdentifier', '@value': {'relationId': '3k1-360-4r9-3ao'}}, <T.label: 4>: 'knows', <Direction.IN: 'IN'>: {<T.id: 1>: 4272, <T.label: 4>: 'person'}, <Direction.OUT: 'OUT'>: {<T.id: 1>: 4104, <T.label: 4>: 'person'}, 'since': 2015}\n",
      "{<T.id: 1>: {'@type': 'janusgraph:RelationIdentifier', '@value': {'relationId': '4ch-360-6c5-37c'}}, <T.label: 4>: 'works_at', <Direction.IN: 'IN'>: {<T.id: 1>: 4152, <T.label: 4>: 'organization'}, <Direction.OUT: 'OUT'>: {<T.id: 1>: 4104, <T.label: 4>: 'person'}, 'role': 'Engineer'}\n",
      "{<T.id: 1>: {'@type': 'janusgraph:RelationIdentifier', '@value': {'relationId': '4qp-6bs-6c5-oe09s'}}, <T.label: 4>: 'works_at', <Direction.IN: 'IN'>: {<T.id: 1>: 40964320, <T.label: 4>: 'organization'}, <Direction.OUT: 'OUT'>: {<T.id: 1>: 8200, <T.label: 4>: 'person'}, 'role': 'Director'}\n",
      "{<T.id: 1>: {'@type': 'janusgraph:RelationIdentifier', '@value': {'relationId': '1zq-3ao-4r9-6bs'}}, <T.label: 4>: 'knows', <Direction.IN: 'IN'>: {<T.id: 1>: 8200, <T.label: 4>: 'person'}, <Direction.OUT: 'OUT'>: {<T.id: 1>: 4272, <T.label: 4>: 'person'}, 'since': 2020}\n",
      "{<T.id: 1>: {'@type': 'janusgraph:RelationIdentifier', '@value': {'relationId': '2dy-3ao-6c5-oe09s'}}, <T.label: 4>: 'works_at', <Direction.IN: 'IN'>: {<T.id: 1>: 40964320, <T.label: 4>: 'organization'}, <Direction.OUT: 'OUT'>: {<T.id: 1>: 4272, <T.label: 4>: 'person'}, 'role': 'Analyst'}\n"
     ]
    }
   ],
   "source": [
    "import nest_asyncio\n",
    "import asyncio\n",
    "from gremlin_python.driver.serializer import GraphSONSerializersV3d0\n",
    "from gremlin_python.driver.driver_remote_connection import DriverRemoteConnection\n",
    "from gremlin_python.process.anonymous_traversal import traversal\n",
    "from gremlin_python.structure.graph import Graph\n",
    "\n",
    "# Apply nest_asyncio to allow nested event loops (useful in Jupyter notebooks)\n",
    "nest_asyncio.apply()\n",
    "\n",
    "# Set up the connection using GraphSON 3.0\n",
    "graph = Graph()\n",
    "connection = DriverRemoteConnection(\n",
    "    'ws://localhost:8182/gremlin',\n",
    "    'g',\n",
    "    message_serializer=GraphSONSerializersV3d0()\n",
    ")\n",
    "g = graph.traversal().withRemote(connection)\n",
    "\n",
    "\n",
    "try:\n",
    "    # Query 1: Retrieve all vertices with their properties\n",
    "    vertices = g.V().elementMap().toList()\n",
    "    print(\"Vertices:\")\n",
    "    for vertex in vertices:\n",
    "        print(vertex)\n",
    "\n",
    "    # Query 2: Retrieve all edges with their properties\n",
    "    edges = g.E().elementMap().toList()\n",
    "    print(\"\\nEdges:\")\n",
    "    for edge in edges:\n",
    "        print(edge)\n",
    "\n",
    "finally:\n",
    "    # Close the connection\n",
    "    connection.close()"
   ]
  },
  {
   "cell_type": "code",
   "execution_count": 17,
   "metadata": {},
   "outputs": [
    {
     "data": {
      "text/plain": [
       "[{'name': 'Carol', 'age': 27, <T.id: 1>: 4096, <T.label: 4>: 'person'},\n",
       " {'name': 'Alice', 'age': 30, <T.id: 1>: 4104, <T.label: 4>: 'person'},\n",
       " {'name': 'Dave', 'age': 35, <T.id: 1>: 8200, <T.label: 4>: 'person'},\n",
       " {'name': 'Acme Corp',\n",
       "  'type': 'Company',\n",
       "  <T.id: 1>: 4152,\n",
       "  <T.label: 4>: 'organization'},\n",
       " {'name': 'Bob', 'age': 25, <T.id: 1>: 4272, <T.label: 4>: 'person'},\n",
       " {'name': 'Globex Inc',\n",
       "  'type': 'Company',\n",
       "  <T.id: 1>: 40964320,\n",
       "  <T.label: 4>: 'organization'}]"
      ]
     },
     "execution_count": 17,
     "metadata": {},
     "output_type": "execute_result"
    }
   ],
   "source": [
    "vertices"
   ]
  },
  {
   "cell_type": "code",
   "execution_count": null,
   "metadata": {},
   "outputs": [],
   "source": []
  }
 ],
 "metadata": {
  "kernelspec": {
   "display_name": "humemai",
   "language": "python",
   "name": "python3"
  },
  "language_info": {
   "codemirror_mode": {
    "name": "ipython",
    "version": 3
   },
   "file_extension": ".py",
   "mimetype": "text/x-python",
   "name": "python",
   "nbconvert_exporter": "python",
   "pygments_lexer": "ipython3",
   "version": "3.10.12"
  }
 },
 "nbformat": 4,
 "nbformat_minor": 2
}
