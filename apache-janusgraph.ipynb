{
 "cells": [
  {
   "cell_type": "code",
   "execution_count": 1,
   "metadata": {},
   "outputs": [],
   "source": [
    "from datetime import datetime\n",
    "from humemai.janusgraph.humemai import Humemai\n",
    "from humemai.utils import disable_logger\n",
    "from gremlin_python.process.graph_traversal import __\n",
    "\n",
    "disable_logger()\n",
    "\n",
    "humemai = Humemai()\n",
    "humemai.start_containers(warmup_seconds=30)\n",
    "humemai.connect()\n",
    "humemai.remove_all_data()\n",
    "\n",
    "# humemai.disconnect()\n",
    "# humemai.stop_containers()\n",
    "# humemai.remove_containers()"
   ]
  },
  {
   "cell_type": "code",
   "execution_count": 2,
   "metadata": {},
   "outputs": [],
   "source": [
    "humemai.remove_all_data()"
   ]
  },
  {
   "cell_type": "code",
   "execution_count": 3,
   "metadata": {},
   "outputs": [],
   "source": [
    "humemai.remove_all_data()\n",
    "vertex_d = humemai.write_short_term_vertex(\"D\", {\"type\": \"Person\"})\n",
    "vertex_a = humemai.write_short_term_vertex(\n",
    "    \"A\", {\"type\": \"Organization\", \"location\": \"USA\"}\n",
    ")\n",
    "vertex_b = humemai.write_short_term_vertex(\"B\", {\"type\": \"Organization\"})\n",
    "vertex_f = humemai.write_short_term_vertex(\n",
    "    \"F\", {\"type\": \"Person\", \"age\": 30}\n",
    ")\n",
    "vertex_c = humemai.write_short_term_vertex(\"C\", {\"type\": \"Person\"})\n",
    "vertex_e = humemai.write_short_term_vertex(\"E\", {\"type\": \"Person\"})\n",
    "vertex_g = humemai.write_short_term_vertex(\n",
    "    \"G\", {\"type\": \"document\", \"title\": \"Document 1\"}\n",
    ")\n",
    "\n",
    "edge_da = humemai.write_short_term_edge(\n",
    "    vertex_d, \"works_at\", vertex_a, {\"role\": \"CEO\"}\n",
    ")\n",
    "edge_ab = humemai.write_short_term_edge(vertex_a, \"owns\", vertex_b)\n",
    "edge_ba = humemai.write_short_term_edge(\n",
    "    vertex_b, \"owned_by\", vertex_a, {\"foo\": 2010}\n",
    ")\n",
    "edge_fb = humemai.write_short_term_edge(\n",
    "    vertex_f, \"works_at\", vertex_b, {\"role\": \"CTO\"}\n",
    ")\n",
    "edge_cb = humemai.write_short_term_edge(\n",
    "    vertex_c, \"works_at\", vertex_b, {\"role\": \"CFO\"}\n",
    ")\n",
    "edge_ce = humemai.write_short_term_edge(vertex_c, \"knows\", vertex_e)\n",
    "edge_ge = humemai.write_short_term_edge(vertex_g, \"created_by\", vertex_e)\n",
    "edge_cg = humemai.write_short_term_edge(vertex_c, \"created\", vertex_g)\n",
    "\n",
    "\n",
    "vertices, edges = humemai.get_working_vertices_and_edges(\n",
    "    humemai.get_all_short_term_vertices(),\n",
    "    humemai.get_all_short_term_edges(),\n",
    "    include_all_long_term=True,\n",
    ")\n",
    "\n",
    "vertices, edges = humemai.get_working_vertices_and_edges(\n",
    "    humemai.get_all_short_term_vertices(),\n",
    "    humemai.get_all_short_term_edges(),\n",
    "    include_all_long_term=False,\n",
    "    hops=2,\n",
    ")\n",
    "\n",
    "humemai.move_short_term_vertex(vertex_d, \"episodic\")\n",
    "humemai.move_short_term_vertex(vertex_a, \"episodic\")\n",
    "humemai.move_short_term_edge(edge_da, \"episodic\")\n",
    "humemai.move_short_term_vertex(vertex_c, \"semantic\")\n",
    "humemai.move_short_term_vertex(vertex_e, \"semantic\")\n",
    "humemai.move_short_term_vertex(vertex_g, \"semantic\")\n",
    "humemai.move_short_term_edge(edge_ce, \"semantic\")\n",
    "humemai.move_short_term_edge(edge_ge, \"semantic\")\n",
    "\n",
    "humemai.remove_all_short_term()\n",
    "\n",
    "\n",
    "vertex_h = humemai.write_short_term_vertex(\n",
    "    \"H\", {\"type\": \"Person\", \"hobby\": \"reading\"}\n",
    ")\n",
    "vertex_g = humemai.write_short_term_vertex(\n",
    "    \"G\", {\"type\": \"document\", \"title\": \"Document 1\"}\n",
    ")\n",
    "edge_hg = humemai.write_short_term_edge(\n",
    "    vertex_h, \"likes\", vertex_g, {\"foo\": [1, 2, 3]}\n",
    ")\n",
    "\n",
    "vertices, edges = humemai.get_working_vertices_and_edges(\n",
    "    humemai.get_all_short_term_vertices(),\n",
    "    humemai.get_all_short_term_edges(),\n",
    "    include_all_long_term=True,\n",
    ")"
   ]
  },
  {
   "cell_type": "code",
   "execution_count": 4,
   "metadata": {},
   "outputs": [
    {
     "data": {
      "text/plain": [
       "[v[217152], v[184440], v[213056], v[176248], v[180344], v[217216]]"
      ]
     },
     "execution_count": 4,
     "metadata": {},
     "output_type": "execute_result"
    }
   ],
   "source": [
    "vertices"
   ]
  }
 ],
 "metadata": {
  "kernelspec": {
   "display_name": "humemai",
   "language": "python",
   "name": "python3"
  },
  "language_info": {
   "codemirror_mode": {
    "name": "ipython",
    "version": 3
   },
   "file_extension": ".py",
   "mimetype": "text/x-python",
   "name": "python",
   "nbconvert_exporter": "python",
   "pygments_lexer": "ipython3",
   "version": "3.10.12"
  }
 },
 "nbformat": 4,
 "nbformat_minor": 2
}
