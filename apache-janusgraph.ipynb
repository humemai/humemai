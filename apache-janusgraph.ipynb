{
 "cells": [
  {
   "cell_type": "code",
   "execution_count": 4,
   "metadata": {},
   "outputs": [
    {
     "name": "stdout",
     "output_type": "stream",
     "text": [
      "Vertices and edges added successfully.\n"
     ]
    }
   ],
   "source": [
    "import nest_asyncio\n",
    "import asyncio\n",
    "from gremlin_python.driver.serializer import GraphSONSerializersV3d0\n",
    "from gremlin_python.driver.driver_remote_connection import DriverRemoteConnection\n",
    "from gremlin_python.process.anonymous_traversal import traversal\n",
    "from gremlin_python.structure.graph import Graph\n",
    "\n",
    "# Apply nest_asyncio to allow nested event loops (useful in Jupyter notebooks)\n",
    "nest_asyncio.apply()\n",
    "\n",
    "# Set up the connection using GraphSON 3.0\n",
    "graph = Graph()\n",
    "connection = DriverRemoteConnection(\n",
    "    'ws://localhost:8182/gremlin',\n",
    "    'g',\n",
    "    message_serializer=GraphSONSerializersV3d0()\n",
    ")\n",
    "g = graph.traversal().withRemote(connection)\n",
    "\n",
    "try:\n",
    "    # Clear existing data (optional but useful for testing)\n",
    "    g.V().drop().iterate()\n",
    "\n",
    "    # Add Persons\n",
    "    alice = g.addV('person').property('name', 'Alice').property('age', 30).next()\n",
    "    bob = g.addV('person').property('name', 'Bob').property('age', 25).next()\n",
    "    carol = g.addV('person').property('name', 'Carol').property('age', 27).next()\n",
    "    dave = g.addV('person').property('name', 'Dave').property('age', 35).next()\n",
    "\n",
    "    # Add Organizations\n",
    "    acme = g.addV('organization').property('name', 'Acme Corp').property('type', 'Company').next()\n",
    "    globex = g.addV('organization').property('name', 'Globex Inc').property('type', 'Company').next()\n",
    "\n",
    "    # Add 'knows' relationships\n",
    "    g.V(alice.id).addE('knows').to(bob).property('since', 2015).iterate()\n",
    "    g.V(alice.id).addE('knows').to(carol).property('since', 2018).iterate()\n",
    "    g.V(bob.id).addE('knows').to(dave).property('since', 2020).iterate()\n",
    "    g.V(carol.id).addE('knows').to(dave).property('since', 2019).iterate()\n",
    "\n",
    "    # Add 'works_at' relationships\n",
    "    g.V(alice.id).addE('works_at').to(acme).property('role', 'Engineer').iterate()\n",
    "    g.V(bob.id).addE('works_at').to(globex).property('role', 'Analyst').iterate()\n",
    "    g.V(carol.id).addE('works_at').to(acme).property('role', 'Manager').iterate()\n",
    "    g.V(dave.id).addE('works_at').to(globex).property('role', 'Director').iterate()\n",
    "\n",
    "    print(\"Vertices and edges added successfully.\")\n",
    "\n",
    "except Exception as e:\n",
    "    print(f\"An error occurred: {e}\")\n",
    "finally:\n",
    "    # Close the connection\n",
    "    connection.close()\n"
   ]
  },
  {
   "cell_type": "code",
   "execution_count": 5,
   "metadata": {},
   "outputs": [
    {
     "name": "stdout",
     "output_type": "stream",
     "text": [
      "{'name': ['Dave'], 'age': [35]}\n",
      "{'name': ['Alice'], 'age': [30]}\n",
      "{'name': ['Bob'], 'age': [25]}\n",
      "{'name': ['Carol'], 'age': [27]}\n"
     ]
    }
   ],
   "source": [
    "import nest_asyncio\n",
    "import asyncio\n",
    "from gremlin_python.driver.serializer import GraphSONSerializersV3d0\n",
    "from gremlin_python.driver.driver_remote_connection import DriverRemoteConnection\n",
    "from gremlin_python.process.anonymous_traversal import traversal\n",
    "from gremlin_python.structure.graph import Graph\n",
    "\n",
    "nest_asyncio.apply()\n",
    "\n",
    "graph = Graph()\n",
    "connection = DriverRemoteConnection(\n",
    "    'ws://localhost:8182/gremlin',\n",
    "    'g',\n",
    "    message_serializer=GraphSONSerializersV3d0()\n",
    ")\n",
    "g = graph.traversal().withRemote(connection)\n",
    "\n",
    "try:\n",
    "    persons = g.V().hasLabel('person').valueMap().toList()\n",
    "    for person in persons:\n",
    "        print(person)\n",
    "finally:\n",
    "    connection.close()\n"
   ]
  },
  {
   "cell_type": "code",
   "execution_count": 6,
   "metadata": {},
   "outputs": [
    {
     "name": "stdout",
     "output_type": "stream",
     "text": [
      "{'name': ['Acme Corp'], 'type': ['Company']}\n",
      "{'name': ['Globex Inc'], 'type': ['Company']}\n"
     ]
    }
   ],
   "source": [
    "import nest_asyncio\n",
    "import asyncio\n",
    "from gremlin_python.driver.serializer import GraphSONSerializersV3d0\n",
    "from gremlin_python.driver.driver_remote_connection import DriverRemoteConnection\n",
    "from gremlin_python.process.anonymous_traversal import traversal\n",
    "from gremlin_python.structure.graph import Graph\n",
    "\n",
    "nest_asyncio.apply()\n",
    "\n",
    "graph = Graph()\n",
    "connection = DriverRemoteConnection(\n",
    "    'ws://localhost:8182/gremlin',\n",
    "    'g',\n",
    "    message_serializer=GraphSONSerializersV3d0()\n",
    ")\n",
    "g = graph.traversal().withRemote(connection)\n",
    "\n",
    "try:\n",
    "    organizations = g.V().hasLabel('organization').valueMap().toList()\n",
    "    for org in organizations:\n",
    "        print(org)\n",
    "finally:\n",
    "    connection.close()\n"
   ]
  }
 ],
 "metadata": {
  "kernelspec": {
   "display_name": "humemai",
   "language": "python",
   "name": "python3"
  },
  "language_info": {
   "codemirror_mode": {
    "name": "ipython",
    "version": 3
   },
   "file_extension": ".py",
   "mimetype": "text/x-python",
   "name": "python",
   "nbconvert_exporter": "python",
   "pygments_lexer": "ipython3",
   "version": "3.10.12"
  }
 },
 "nbformat": 4,
 "nbformat_minor": 2
}
