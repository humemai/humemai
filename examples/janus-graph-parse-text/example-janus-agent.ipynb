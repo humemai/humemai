{
 "cells": [
  {
   "cell_type": "markdown",
   "metadata": {},
   "source": [
    "## "
   ]
  },
  {
   "cell_type": "markdown",
   "metadata": {},
   "source": [
    "# Generating a knowledge graph from the Harry Potter book\n",
    "\n",
    "Watch the demo at https://youtu.be/NU1JZE8kQeo"
   ]
  },
  {
   "cell_type": "markdown",
   "metadata": {},
   "source": [
    "![image.png](thumbnail.png)"
   ]
  },
  {
   "cell_type": "markdown",
   "metadata": {},
   "source": [
    "## Load the agent"
   ]
  },
  {
   "cell_type": "code",
   "execution_count": 1,
   "metadata": {},
   "outputs": [
    {
     "name": "stderr",
     "output_type": "stream",
     "text": [
      "/home/tk/.virtualenvs/humemai/lib/python3.10/site-packages/tqdm/auto.py:21: TqdmWarning: IProgress not found. Please update jupyter and ipywidgets. See https://ipywidgets.readthedocs.io/en/stable/user_install.html\n",
      "  from .autonotebook import tqdm as notebook_tqdm\n",
      "DEBUG:docker.utils.config:Trying paths: ['/home/tk/.docker/config.json', '/home/tk/.dockercfg']\n",
      "DEBUG:docker.utils.config:No config file found\n",
      "DEBUG:docker.utils.config:Trying paths: ['/home/tk/.docker/config.json', '/home/tk/.dockercfg']\n",
      "DEBUG:docker.utils.config:No config file found\n",
      "DEBUG:urllib3.connectionpool:http://localhost:None \"GET /version HTTP/11\" 200 834\n",
      "DEBUG:docker.utils.config:Trying paths: ['/home/tk/.docker/config.json', '/home/tk/.dockercfg']\n",
      "DEBUG:docker.utils.config:No config file found\n",
      "DEBUG:docker.utils.config:Trying paths: ['/home/tk/.docker/config.json', '/home/tk/.dockercfg']\n",
      "DEBUG:docker.utils.config:No config file found\n",
      "DEBUG:urllib3.connectionpool:http://localhost:None \"GET /version HTTP/11\" 200 834\n",
      "DEBUG:urllib3.connectionpool:http://localhost:None \"GET /v1.47/containers/janusgraph/json HTTP/11\" 200 None\n",
      "DEBUG:humemai.janusgraph.utils.docker:janusgraph container is already running.\n",
      "DEBUG:humemai.janusgraph.utils.docker:Waiting 10 seconds for the containers to warm up...\n",
      "INFO:gremlinpython:Creating DriverRemoteConnection with url 'ws://localhost:8182/gremlin'\n",
      "INFO:gremlinpython:Creating Client with url 'ws://localhost:8182/gremlin'\n",
      "INFO:gremlinpython:Creating GraphTraversalSource.\n",
      "INFO:gremlinpython:Creating GraphTraversalSource.\n",
      "DEBUG:humemai.janusgraph.humemai:Successfully connected to the Gremlin server.\n",
      "DEBUG:urllib3.connectionpool:Starting new HTTPS connection (1): huggingface.co:443\n",
      "DEBUG:urllib3.connectionpool:https://huggingface.co:443 \"HEAD /meta-llama/Llama-3.2-3B-Instruct/resolve/main/config.json HTTP/11\" 200 0\n",
      "Loading checkpoint shards: 100%|██████████| 2/2 [00:01<00:00,  1.67it/s]\n",
      "DEBUG:urllib3.connectionpool:https://huggingface.co:443 \"HEAD /meta-llama/Llama-3.2-3B-Instruct/resolve/main/generation_config.json HTTP/11\" 200 0\n",
      "DEBUG:gremlinpython:submit with bytecode '[['V'], ['drop'], ['none']]'\n",
      "DEBUG:gremlinpython:message '[['V'], ['drop'], ['none']]'\n",
      "DEBUG:gremlinpython:processor='traversal', op='bytecode', args='{'gremlin': [['V'], ['drop'], ['none']], 'aliases': {'g': 'g'}}'\n",
      "DEBUG:asyncio:Using selector: EpollSelector\n"
     ]
    }
   ],
   "source": [
    "import re\n",
    "import json\n",
    "from tqdm.auto import tqdm\n",
    "from humemai.janusgraph import Humemai\n",
    "from humemai.utils import disable_logger, parse_file_by_paragraph, chunk_by_tokens\n",
    "from humemai.janusgraph.agent import PromptAgent\n",
    "from pprint import pprint\n",
    "\n",
    "agent = PromptAgent(\n",
    "    num_hops_for_working_memory=4,\n",
    "    turn_on_logger=False,\n",
    "    llm_config={\n",
    "        \"model\": \"meta-llama/Llama-3.2-3B-Instruct\",\n",
    "        \"device\": \"cuda\",\n",
    "        \"quantization\": \"16bit\",\n",
    "        \"max_new_tokens\": 1024,\n",
    "    },\n",
    "    text2graph_template=\"text2graph_without_properties\",\n",
    ")"
   ]
  },
  {
   "cell_type": "markdown",
   "metadata": {},
   "source": [
    "## Load the harry potter text"
   ]
  },
  {
   "cell_type": "code",
   "execution_count": 2,
   "metadata": {},
   "outputs": [],
   "source": [
    "text = chunk_by_tokens(\n",
    "    \"harry-potter-Sorcerer.txt\", num_tokens=128, num_tokens_per_word=2\n",
    ")"
   ]
  },
  {
   "cell_type": "markdown",
   "metadata": {},
   "source": [
    "## Run the agent over text"
   ]
  },
  {
   "cell_type": "code",
   "execution_count": 3,
   "metadata": {},
   "outputs": [
    {
     "name": "stderr",
     "output_type": "stream",
     "text": [
      "  0%|          | 0/1225 [00:00<?, ?it/s]Setting `pad_token_id` to `eos_token_id`:None for open-end generation.\n",
      "  0%|          | 1/1225 [00:11<3:47:28, 11.15s/it]Setting `pad_token_id` to `eos_token_id`:None for open-end generation.\n",
      "  0%|          | 2/1225 [00:30<5:25:12, 15.95s/it]Setting `pad_token_id` to `eos_token_id`:None for open-end generation.\n",
      "  0%|          | 3/1225 [00:53<6:28:21, 19.07s/it]Setting `pad_token_id` to `eos_token_id`:None for open-end generation.\n",
      "  0%|          | 4/1225 [01:30<8:51:49, 26.13s/it]Setting `pad_token_id` to `eos_token_id`:None for open-end generation.\n",
      "  0%|          | 5/1225 [01:56<8:54:57, 26.31s/it]Setting `pad_token_id` to `eos_token_id`:None for open-end generation.\n",
      "  0%|          | 6/1225 [02:38<10:37:22, 31.37s/it]Setting `pad_token_id` to `eos_token_id`:None for open-end generation.\n",
      "  1%|          | 7/1225 [03:01<9:41:35, 28.65s/it] Setting `pad_token_id` to `eos_token_id`:None for open-end generation.\n",
      "  1%|          | 8/1225 [03:39<10:43:38, 31.73s/it]Setting `pad_token_id` to `eos_token_id`:None for open-end generation.\n",
      "  1%|          | 9/1225 [03:52<8:45:56, 25.95s/it] Setting `pad_token_id` to `eos_token_id`:None for open-end generation.\n",
      "  1%|          | 10/1225 [04:30<9:58:31, 29.56s/it]You seem to be using the pipelines sequentially on GPU. In order to maximize efficiency please use a dataset\n",
      "Setting `pad_token_id` to `eos_token_id`:None for open-end generation.\n",
      "  1%|          | 11/1225 [05:12<11:13:43, 33.30s/it]Setting `pad_token_id` to `eos_token_id`:None for open-end generation.\n",
      "  1%|          | 12/1225 [05:28<9:30:27, 28.22s/it] Setting `pad_token_id` to `eos_token_id`:None for open-end generation.\n",
      "  1%|          | 13/1225 [06:07<10:34:13, 31.40s/it]Setting `pad_token_id` to `eos_token_id`:None for open-end generation.\n",
      "  1%|          | 14/1225 [06:17<8:25:06, 25.03s/it] Setting `pad_token_id` to `eos_token_id`:None for open-end generation.\n",
      "  1%|          | 15/1225 [06:36<7:45:56, 23.10s/it]Setting `pad_token_id` to `eos_token_id`:None for open-end generation.\n",
      "  1%|▏         | 16/1225 [07:17<9:32:51, 28.43s/it]Setting `pad_token_id` to `eos_token_id`:None for open-end generation.\n",
      "  1%|▏         | 17/1225 [07:58<10:48:19, 32.20s/it]Setting `pad_token_id` to `eos_token_id`:None for open-end generation.\n",
      "  1%|▏         | 18/1225 [08:15<9:16:35, 27.67s/it] Setting `pad_token_id` to `eos_token_id`:None for open-end generation.\n",
      "  2%|▏         | 19/1225 [08:56<10:37:57, 31.74s/it]Setting `pad_token_id` to `eos_token_id`:None for open-end generation.\n",
      "  2%|▏         | 20/1225 [09:05<8:20:43, 24.93s/it] Setting `pad_token_id` to `eos_token_id`:None for open-end generation.\n",
      "  2%|▏         | 21/1225 [09:46<9:57:58, 29.80s/it]Setting `pad_token_id` to `eos_token_id`:None for open-end generation.\n",
      "  2%|▏         | 22/1225 [10:04<8:46:12, 26.24s/it]Setting `pad_token_id` to `eos_token_id`:None for open-end generation.\n",
      "  2%|▏         | 23/1225 [10:46<10:22:11, 31.06s/it]Setting `pad_token_id` to `eos_token_id`:None for open-end generation.\n",
      "  2%|▏         | 24/1225 [10:59<8:32:41, 25.61s/it] Setting `pad_token_id` to `eos_token_id`:None for open-end generation.\n",
      "  2%|▏         | 25/1225 [11:42<10:14:06, 30.71s/it]Setting `pad_token_id` to `eos_token_id`:None for open-end generation.\n",
      "  2%|▏         | 26/1225 [12:02<9:12:31, 27.65s/it] Setting `pad_token_id` to `eos_token_id`:None for open-end generation.\n",
      "  2%|▏         | 27/1225 [12:46<10:50:08, 32.56s/it]Setting `pad_token_id` to `eos_token_id`:None for open-end generation.\n",
      "  2%|▏         | 28/1225 [13:03<9:12:40, 27.70s/it] Setting `pad_token_id` to `eos_token_id`:None for open-end generation.\n",
      "  2%|▏         | 29/1225 [13:47<10:52:55, 32.76s/it]Setting `pad_token_id` to `eos_token_id`:None for open-end generation.\n",
      "  2%|▏         | 30/1225 [14:23<11:12:31, 33.77s/it]Setting `pad_token_id` to `eos_token_id`:None for open-end generation.\n",
      "  3%|▎         | 31/1225 [15:08<12:16:11, 36.99s/it]Setting `pad_token_id` to `eos_token_id`:None for open-end generation.\n",
      "  3%|▎         | 32/1225 [15:28<10:33:31, 31.86s/it]Setting `pad_token_id` to `eos_token_id`:None for open-end generation.\n",
      "  3%|▎         | 33/1225 [16:15<12:01:37, 36.32s/it]Setting `pad_token_id` to `eos_token_id`:None for open-end generation.\n",
      "  3%|▎         | 34/1225 [17:01<12:59:07, 39.25s/it]Setting `pad_token_id` to `eos_token_id`:None for open-end generation.\n",
      "  3%|▎         | 35/1225 [17:05<9:28:07, 28.64s/it] Setting `pad_token_id` to `eos_token_id`:None for open-end generation.\n",
      "  3%|▎         | 36/1225 [17:16<7:47:21, 23.58s/it]Setting `pad_token_id` to `eos_token_id`:None for open-end generation.\n",
      "  3%|▎         | 37/1225 [18:02<10:00:54, 30.35s/it]Setting `pad_token_id` to `eos_token_id`:None for open-end generation.\n",
      "  3%|▎         | 38/1225 [18:16<8:19:25, 25.24s/it] Setting `pad_token_id` to `eos_token_id`:None for open-end generation.\n",
      "  3%|▎         | 39/1225 [19:01<10:15:00, 31.11s/it]Setting `pad_token_id` to `eos_token_id`:None for open-end generation.\n",
      "  3%|▎         | 40/1225 [19:49<11:57:35, 36.33s/it]Setting `pad_token_id` to `eos_token_id`:None for open-end generation.\n",
      "  3%|▎         | 41/1225 [20:05<9:54:20, 30.12s/it] Setting `pad_token_id` to `eos_token_id`:None for open-end generation.\n",
      "  3%|▎         | 42/1225 [20:54<11:45:07, 35.76s/it]Setting `pad_token_id` to `eos_token_id`:None for open-end generation.\n",
      "  4%|▎         | 43/1225 [21:13<10:04:44, 30.70s/it]Setting `pad_token_id` to `eos_token_id`:None for open-end generation.\n",
      "  4%|▎         | 44/1225 [21:36<9:18:34, 28.38s/it] Setting `pad_token_id` to `eos_token_id`:None for open-end generation.\n",
      "  4%|▎         | 45/1225 [22:25<11:24:27, 34.80s/it]Setting `pad_token_id` to `eos_token_id`:None for open-end generation.\n",
      "  4%|▍         | 46/1225 [22:42<9:34:51, 29.26s/it] Setting `pad_token_id` to `eos_token_id`:None for open-end generation.\n",
      "  4%|▍         | 47/1225 [23:32<11:39:34, 35.63s/it]Setting `pad_token_id` to `eos_token_id`:None for open-end generation.\n",
      "  4%|▍         | 48/1225 [23:45<9:27:18, 28.92s/it] Setting `pad_token_id` to `eos_token_id`:None for open-end generation.\n",
      "  4%|▍         | 49/1225 [24:36<11:34:30, 35.43s/it]Setting `pad_token_id` to `eos_token_id`:None for open-end generation.\n",
      "  4%|▍         | 50/1225 [25:03<10:46:51, 33.03s/it]Setting `pad_token_id` to `eos_token_id`:None for open-end generation.\n",
      "  4%|▍         | 51/1225 [25:56<12:37:56, 38.74s/it]Setting `pad_token_id` to `eos_token_id`:None for open-end generation.\n",
      "  4%|▍         | 52/1225 [26:20<11:12:03, 34.38s/it]Setting `pad_token_id` to `eos_token_id`:None for open-end generation.\n",
      "  4%|▍         | 53/1225 [27:19<13:36:37, 41.81s/it]Setting `pad_token_id` to `eos_token_id`:None for open-end generation.\n",
      "  4%|▍         | 54/1225 [27:40<11:35:27, 35.63s/it]Setting `pad_token_id` to `eos_token_id`:None for open-end generation.\n",
      "  4%|▍         | 55/1225 [28:40<13:54:32, 42.80s/it]Setting `pad_token_id` to `eos_token_id`:None for open-end generation.\n",
      "  5%|▍         | 56/1225 [29:04<12:06:04, 37.27s/it]Setting `pad_token_id` to `eos_token_id`:None for open-end generation.\n",
      "  5%|▍         | 57/1225 [30:02<14:08:21, 43.58s/it]Setting `pad_token_id` to `eos_token_id`:None for open-end generation.\n",
      "  5%|▍         | 58/1225 [30:21<11:43:55, 36.19s/it]Setting `pad_token_id` to `eos_token_id`:None for open-end generation.\n",
      "  5%|▍         | 59/1225 [31:23<14:12:44, 43.88s/it]Setting `pad_token_id` to `eos_token_id`:None for open-end generation.\n",
      "  5%|▍         | 60/1225 [31:26<10:15:57, 31.72s/it]Setting `pad_token_id` to `eos_token_id`:None for open-end generation.\n",
      "  5%|▍         | 61/1225 [31:47<9:10:33, 28.38s/it] Setting `pad_token_id` to `eos_token_id`:None for open-end generation.\n",
      "  5%|▌         | 62/1225 [32:47<12:12:03, 37.77s/it]Setting `pad_token_id` to `eos_token_id`:None for open-end generation.\n",
      "  5%|▌         | 63/1225 [33:10<10:48:22, 33.48s/it]Setting `pad_token_id` to `eos_token_id`:None for open-end generation.\n",
      "  5%|▌         | 64/1225 [34:04<12:46:02, 39.59s/it]Setting `pad_token_id` to `eos_token_id`:None for open-end generation.\n",
      "  5%|▌         | 65/1225 [34:36<12:03:44, 37.44s/it]Setting `pad_token_id` to `eos_token_id`:None for open-end generation.\n",
      "  5%|▌         | 66/1225 [35:31<13:45:20, 42.73s/it]Setting `pad_token_id` to `eos_token_id`:None for open-end generation.\n",
      "  5%|▌         | 67/1225 [35:59<12:16:27, 38.16s/it]Setting `pad_token_id` to `eos_token_id`:None for open-end generation.\n",
      "  6%|▌         | 68/1225 [36:55<13:58:26, 43.48s/it]Setting `pad_token_id` to `eos_token_id`:None for open-end generation.\n",
      "  6%|▌         | 69/1225 [37:26<12:48:49, 39.90s/it]Setting `pad_token_id` to `eos_token_id`:None for open-end generation.\n",
      "  6%|▌         | 70/1225 [38:23<14:23:46, 44.87s/it]Setting `pad_token_id` to `eos_token_id`:None for open-end generation.\n",
      "  6%|▌         | 71/1225 [38:39<11:39:47, 36.38s/it]Setting `pad_token_id` to `eos_token_id`:None for open-end generation.\n",
      "  6%|▌         | 72/1225 [39:36<13:36:22, 42.48s/it]Setting `pad_token_id` to `eos_token_id`:None for open-end generation.\n",
      "  6%|▌         | 73/1225 [39:52<11:00:11, 34.38s/it]Setting `pad_token_id` to `eos_token_id`:None for open-end generation.\n",
      "  6%|▌         | 74/1225 [40:48<13:08:38, 41.11s/it]Setting `pad_token_id` to `eos_token_id`:None for open-end generation.\n",
      "  6%|▌         | 75/1225 [41:06<10:54:46, 34.16s/it]Setting `pad_token_id` to `eos_token_id`:None for open-end generation.\n",
      "  6%|▌         | 76/1225 [42:03<13:05:46, 41.03s/it]Setting `pad_token_id` to `eos_token_id`:None for open-end generation.\n",
      "  6%|▋         | 77/1225 [42:18<10:35:05, 33.19s/it]Setting `pad_token_id` to `eos_token_id`:None for open-end generation.\n",
      "  6%|▋         | 78/1225 [43:24<13:42:52, 43.04s/it]Setting `pad_token_id` to `eos_token_id`:None for open-end generation.\n",
      "  6%|▋         | 79/1225 [44:28<15:40:19, 49.23s/it]Setting `pad_token_id` to `eos_token_id`:None for open-end generation.\n",
      "  7%|▋         | 80/1225 [45:27<16:36:25, 52.21s/it]Setting `pad_token_id` to `eos_token_id`:None for open-end generation.\n",
      "  7%|▋         | 81/1225 [45:44<13:11:00, 41.49s/it]Setting `pad_token_id` to `eos_token_id`:None for open-end generation.\n",
      "  7%|▋         | 82/1225 [46:43<14:52:30, 46.85s/it]Setting `pad_token_id` to `eos_token_id`:None for open-end generation.\n",
      "  7%|▋         | 83/1225 [47:01<12:08:54, 38.30s/it]Setting `pad_token_id` to `eos_token_id`:None for open-end generation.\n",
      "  7%|▋         | 84/1225 [48:01<14:10:51, 44.74s/it]Setting `pad_token_id` to `eos_token_id`:None for open-end generation.\n",
      "  7%|▋         | 85/1225 [48:33<12:54:22, 40.76s/it]Setting `pad_token_id` to `eos_token_id`:None for open-end generation.\n",
      "  7%|▋         | 86/1225 [49:41<15:32:10, 49.10s/it]Setting `pad_token_id` to `eos_token_id`:None for open-end generation.\n",
      "  7%|▋         | 87/1225 [50:42<16:35:52, 52.51s/it]Setting `pad_token_id` to `eos_token_id`:None for open-end generation.\n",
      "  7%|▋         | 88/1225 [51:20<15:14:14, 48.25s/it]Setting `pad_token_id` to `eos_token_id`:None for open-end generation.\n",
      "  7%|▋         | 89/1225 [52:21<16:27:38, 52.16s/it]Setting `pad_token_id` to `eos_token_id`:None for open-end generation.\n",
      "  7%|▋         | 90/1225 [52:52<14:24:53, 45.72s/it]Setting `pad_token_id` to `eos_token_id`:None for open-end generation.\n",
      "  7%|▋         | 91/1225 [53:54<15:57:49, 50.68s/it]Setting `pad_token_id` to `eos_token_id`:None for open-end generation.\n",
      "  8%|▊         | 92/1225 [54:25<14:02:58, 44.64s/it]Setting `pad_token_id` to `eos_token_id`:None for open-end generation.\n",
      "  8%|▊         | 93/1225 [55:28<15:47:00, 50.19s/it]Setting `pad_token_id` to `eos_token_id`:None for open-end generation.\n",
      "  8%|▊         | 94/1225 [55:57<13:47:59, 43.93s/it]Setting `pad_token_id` to `eos_token_id`:None for open-end generation.\n",
      "  8%|▊         | 95/1225 [57:01<15:38:22, 49.83s/it]Setting `pad_token_id` to `eos_token_id`:None for open-end generation.\n",
      "  8%|▊         | 96/1225 [57:36<14:15:12, 45.45s/it]Setting `pad_token_id` to `eos_token_id`:None for open-end generation.\n",
      "  8%|▊         | 97/1225 [58:40<16:00:42, 51.10s/it]Setting `pad_token_id` to `eos_token_id`:None for open-end generation.\n",
      "  8%|▊         | 98/1225 [59:08<13:46:19, 43.99s/it]Setting `pad_token_id` to `eos_token_id`:None for open-end generation.\n",
      "  8%|▊         | 99/1225 [1:00:12<15:40:17, 50.10s/it]Setting `pad_token_id` to `eos_token_id`:None for open-end generation.\n",
      "  8%|▊         | 100/1225 [1:00:39<13:27:40, 43.08s/it]Setting `pad_token_id` to `eos_token_id`:None for open-end generation.\n",
      "  8%|▊         | 101/1225 [1:01:43<15:28:10, 49.55s/it]Setting `pad_token_id` to `eos_token_id`:None for open-end generation.\n",
      "  8%|▊         | 102/1225 [1:02:19<14:06:26, 45.22s/it]Setting `pad_token_id` to `eos_token_id`:None for open-end generation.\n",
      "  8%|▊         | 103/1225 [1:03:48<18:12:12, 58.41s/it]Setting `pad_token_id` to `eos_token_id`:None for open-end generation.\n",
      "  8%|▊         | 104/1225 [1:04:54<18:53:43, 60.68s/it]Setting `pad_token_id` to `eos_token_id`:None for open-end generation.\n",
      "  9%|▊         | 105/1225 [1:05:29<16:31:25, 53.11s/it]Setting `pad_token_id` to `eos_token_id`:None for open-end generation.\n",
      "  9%|▊         | 106/1225 [1:06:35<17:43:20, 57.02s/it]Setting `pad_token_id` to `eos_token_id`:None for open-end generation.\n",
      "  9%|▊         | 107/1225 [1:07:11<15:43:44, 50.65s/it]Setting `pad_token_id` to `eos_token_id`:None for open-end generation.\n",
      "  9%|▉         | 108/1225 [1:08:18<17:11:19, 55.40s/it]Setting `pad_token_id` to `eos_token_id`:None for open-end generation.\n",
      "  9%|▉         | 109/1225 [1:08:59<15:53:38, 51.27s/it]Setting `pad_token_id` to `eos_token_id`:None for open-end generation.\n",
      "  9%|▉         | 110/1225 [1:10:23<18:54:32, 61.05s/it]Setting `pad_token_id` to `eos_token_id`:None for open-end generation.\n",
      "  9%|▉         | 111/1225 [1:11:31<19:31:03, 63.07s/it]Setting `pad_token_id` to `eos_token_id`:None for open-end generation.\n",
      "  9%|▉         | 112/1225 [1:12:05<16:50:36, 54.48s/it]Setting `pad_token_id` to `eos_token_id`:None for open-end generation.\n",
      "  9%|▉         | 113/1225 [1:13:14<18:06:20, 58.62s/it]Setting `pad_token_id` to `eos_token_id`:None for open-end generation.\n",
      "  9%|▉         | 114/1225 [1:14:00<16:56:21, 54.89s/it]Setting `pad_token_id` to `eos_token_id`:None for open-end generation.\n",
      "  9%|▉         | 115/1225 [1:15:34<20:36:19, 66.83s/it]Setting `pad_token_id` to `eos_token_id`:None for open-end generation.\n",
      "  9%|▉         | 116/1225 [1:16:45<20:58:10, 68.07s/it]Setting `pad_token_id` to `eos_token_id`:None for open-end generation.\n",
      " 10%|▉         | 117/1225 [1:17:40<19:43:30, 64.09s/it]Setting `pad_token_id` to `eos_token_id`:None for open-end generation.\n",
      " 10%|▉         | 118/1225 [1:19:18<22:50:49, 74.30s/it]Setting `pad_token_id` to `eos_token_id`:None for open-end generation.\n",
      " 10%|▉         | 119/1225 [1:20:31<22:40:12, 73.79s/it]Setting `pad_token_id` to `eos_token_id`:None for open-end generation.\n",
      " 10%|▉         | 120/1225 [1:21:25<20:47:14, 67.72s/it]Setting `pad_token_id` to `eos_token_id`:None for open-end generation.\n",
      " 10%|▉         | 121/1225 [1:22:37<21:14:06, 69.25s/it]Setting `pad_token_id` to `eos_token_id`:None for open-end generation.\n",
      " 10%|▉         | 122/1225 [1:23:35<20:06:41, 65.64s/it]Setting `pad_token_id` to `eos_token_id`:None for open-end generation.\n",
      " 10%|█         | 123/1225 [1:24:48<20:48:10, 67.96s/it]Setting `pad_token_id` to `eos_token_id`:None for open-end generation.\n",
      " 10%|█         | 124/1225 [1:25:25<17:57:19, 58.71s/it]Setting `pad_token_id` to `eos_token_id`:None for open-end generation.\n",
      " 10%|█         | 125/1225 [1:26:40<19:23:16, 63.45s/it]Setting `pad_token_id` to `eos_token_id`:None for open-end generation.\n",
      " 10%|█         | 126/1225 [1:27:38<18:57:15, 62.09s/it]Setting `pad_token_id` to `eos_token_id`:None for open-end generation.\n",
      " 10%|█         | 127/1225 [1:28:54<20:08:01, 66.01s/it]Setting `pad_token_id` to `eos_token_id`:None for open-end generation.\n",
      " 10%|█         | 128/1225 [1:29:51<19:17:08, 63.29s/it]Setting `pad_token_id` to `eos_token_id`:None for open-end generation.\n",
      " 11%|█         | 129/1225 [1:33:10<31:43:43, 104.22s/it]Setting `pad_token_id` to `eos_token_id`:None for open-end generation.\n",
      " 11%|█         | 130/1225 [1:34:30<29:27:58, 96.88s/it] Setting `pad_token_id` to `eos_token_id`:None for open-end generation.\n",
      " 11%|█         | 131/1225 [1:35:45<27:27:17, 90.35s/it]Setting `pad_token_id` to `eos_token_id`:None for open-end generation.\n",
      " 11%|█         | 132/1225 [1:37:06<26:31:50, 87.38s/it]Setting `pad_token_id` to `eos_token_id`:None for open-end generation.\n",
      " 11%|█         | 133/1225 [1:38:09<24:21:29, 80.30s/it]Setting `pad_token_id` to `eos_token_id`:None for open-end generation.\n",
      " 11%|█         | 134/1225 [1:39:30<24:20:14, 80.31s/it]Setting `pad_token_id` to `eos_token_id`:None for open-end generation.\n",
      " 11%|█         | 135/1225 [1:40:09<20:34:19, 67.94s/it]Setting `pad_token_id` to `eos_token_id`:None for open-end generation.\n",
      " 11%|█         | 136/1225 [1:41:29<21:41:48, 71.73s/it]Setting `pad_token_id` to `eos_token_id`:None for open-end generation.\n",
      " 11%|█         | 137/1225 [1:42:20<19:47:01, 65.46s/it]Setting `pad_token_id` to `eos_token_id`:None for open-end generation.\n",
      " 11%|█▏        | 138/1225 [1:44:09<23:41:32, 78.47s/it]Setting `pad_token_id` to `eos_token_id`:None for open-end generation.\n",
      " 11%|█▏        | 139/1225 [1:45:32<24:02:45, 79.71s/it]Setting `pad_token_id` to `eos_token_id`:None for open-end generation.\n",
      " 11%|█▏        | 140/1225 [1:46:02<19:33:41, 64.90s/it]Setting `pad_token_id` to `eos_token_id`:None for open-end generation.\n",
      " 12%|█▏        | 141/1225 [1:47:26<21:18:12, 70.75s/it]Setting `pad_token_id` to `eos_token_id`:None for open-end generation.\n",
      " 12%|█▏        | 142/1225 [1:48:42<21:44:25, 72.27s/it]Setting `pad_token_id` to `eos_token_id`:None for open-end generation.\n",
      " 12%|█▏        | 143/1225 [1:50:07<22:51:10, 76.04s/it]Setting `pad_token_id` to `eos_token_id`:None for open-end generation.\n",
      " 12%|█▏        | 144/1225 [1:51:31<23:31:39, 78.35s/it]Setting `pad_token_id` to `eos_token_id`:None for open-end generation.\n",
      " 12%|█▏        | 145/1225 [1:52:56<24:08:20, 80.46s/it]Setting `pad_token_id` to `eos_token_id`:None for open-end generation.\n",
      " 12%|█▏        | 146/1225 [1:53:55<22:07:40, 73.83s/it]Setting `pad_token_id` to `eos_token_id`:None for open-end generation.\n",
      " 12%|█▏        | 147/1225 [1:56:16<28:12:50, 94.22s/it]Setting `pad_token_id` to `eos_token_id`:None for open-end generation.\n",
      " 12%|█▏        | 148/1225 [1:57:42<27:27:11, 91.77s/it]Setting `pad_token_id` to `eos_token_id`:None for open-end generation.\n",
      " 12%|█▏        | 149/1225 [1:58:46<24:53:52, 83.30s/it]Setting `pad_token_id` to `eos_token_id`:None for open-end generation.\n",
      " 12%|█▏        | 150/1225 [2:00:13<25:10:27, 84.30s/it]Setting `pad_token_id` to `eos_token_id`:None for open-end generation.\n",
      " 12%|█▏        | 151/1225 [2:01:54<26:39:48, 89.38s/it]Setting `pad_token_id` to `eos_token_id`:None for open-end generation.\n",
      " 12%|█▏        | 151/1225 [2:02:36<14:32:06, 48.72s/it]\n"
     ]
    },
    {
     "ename": "GremlinServerError",
     "evalue": "598: A timeout occurred during traversal evaluation of [RequestMessage{, requestId=acc45f32-d221-4b05-8bfa-cc7a69f5617e, op='bytecode', processor='traversal', args={gremlin=[[], [V([32321568, 32321568, 32321568, 32321568, 32321568, 32321568, 32321568, 32321568, 32321568, 32321568, 32321568, 32321568, 32321568, 32321568, 32321568, 32321568, 32321568, 32321568, 32321568, 32321568, 32321568, 32321568, 32321568, 32321568, 32321568, 32321568, 32321568, 32321568, 32321568, 32321568, 32321568, 32321568, 32321568, 32321568, 32321568, 32321568, 32321568, 32321568, 32321568, 32321568, 32645232, 32645232, 32645232, 32645232, 32645232, 32645232, 32645232, 32645232, 32645232, 32645232, 32645232, 32645232, 32645232, 32645232, 32645232, 32645232, 32645232, 32645232, 32645232, 32645232, 32645232, 32645232, 32489592, 32489592, 32489592, 32489592, 32489592, 32489592, 32489592, 32489592, 32489592, 32489592, 32489592, 32489592, 32489592, 32489592, 32489592, 32489592, 32489592, 32489592, 32489592, 32489592, 32489592, 32489592, 32489592, 65237136, 65237136, 65237136, 65237136, 65237136, 65237136, 65237136, 65237136, 65237136, 65237136, 65237136, 65237136, 65237136, 65237136, 65237136, 65237136, 65237136, 65237136, 65237136, 65237136, 65237136, 65237136, 65237136, 65237136, 65237136, 65237136, 65237136, 65237136, 65237136, 65237136, 65237136, 65237136, 65237136, 65237136, 65237136, 65237136, 65237136, 65237136, 65237136, 65237136, 65237136, 65237136, 65237136, 65237136, 65237136, 65237136, 65237136, 65237136, 65237136, 65306768]), emit(), repeat([[], [both(), simplePath()]]), times(4), dedup(), hasNot(timestamp)]], aliases={g=g}}}] - consider increasing the limit given to evaluationTimeout",
     "output_type": "error",
     "traceback": [
      "\u001b[0;31m---------------------------------------------------------------------------\u001b[0m",
      "\u001b[0;31mGremlinServerError\u001b[0m                        Traceback (most recent call last)",
      "Cell \u001b[0;32mIn[3], line 4\u001b[0m\n\u001b[1;32m      2\u001b[0m \u001b[38;5;28;01mfor\u001b[39;00m i \u001b[38;5;129;01min\u001b[39;00m tqdm(\u001b[38;5;28mrange\u001b[39m(\u001b[38;5;28mlen\u001b[39m(text) \u001b[38;5;241m-\u001b[39m \u001b[38;5;241m1\u001b[39m)):\n\u001b[1;32m      3\u001b[0m     context \u001b[38;5;241m=\u001b[39m text[i] \u001b[38;5;241m+\u001b[39m \u001b[38;5;124m\"\u001b[39m\u001b[38;5;124m \u001b[39m\u001b[38;5;124m\"\u001b[39m \u001b[38;5;241m+\u001b[39m text[i \u001b[38;5;241m+\u001b[39m \u001b[38;5;241m1\u001b[39m]\n\u001b[0;32m----> 4\u001b[0m     \u001b[43magent\u001b[49m\u001b[38;5;241;43m.\u001b[39;49m\u001b[43mstep\u001b[49m\u001b[43m(\u001b[49m\u001b[43mcontext\u001b[49m\u001b[43m)\u001b[49m\n",
      "File \u001b[0;32m~/repos/humemai/humemai/janusgraph/agent/prompt_agent.py:307\u001b[0m, in \u001b[0;36mPromptAgent.step\u001b[0;34m(self, text)\u001b[0m\n\u001b[1;32m    304\u001b[0m \u001b[38;5;28mself\u001b[39m\u001b[38;5;241m.\u001b[39msave_as_short_term_memory(entities, relations)\n\u001b[1;32m    306\u001b[0m \u001b[38;5;66;03m# Step 3: Update the working memory.\u001b[39;00m\n\u001b[0;32m--> 307\u001b[0m \u001b[38;5;28;43mself\u001b[39;49m\u001b[38;5;241;43m.\u001b[39;49m\u001b[43mupdate_working_memory\u001b[49m\u001b[43m(\u001b[49m\u001b[43m)\u001b[49m\n\u001b[1;32m    309\u001b[0m \u001b[38;5;66;03m# Step 4: move the short-term memories to the long-term memory.\u001b[39;00m\n\u001b[1;32m    310\u001b[0m \u001b[38;5;28mself\u001b[39m\u001b[38;5;241m.\u001b[39msave_as_long_term_memory()\n",
      "File \u001b[0;32m~/repos/humemai/humemai/janusgraph/agent/prompt_agent.py:106\u001b[0m, in \u001b[0;36mPromptAgent.update_working_memory\u001b[0;34m(self)\u001b[0m\n\u001b[1;32m     99\u001b[0m \u001b[38;5;28;01mdef\u001b[39;00m \u001b[38;5;21mupdate_working_memory\u001b[39m(\u001b[38;5;28mself\u001b[39m) \u001b[38;5;241m-\u001b[39m\u001b[38;5;241m>\u001b[39m \u001b[38;5;28;01mNone\u001b[39;00m:\n\u001b[1;32m    100\u001b[0m \u001b[38;5;250m    \u001b[39m\u001b[38;5;124;03m\"\"\"Update the working memory of the agent.\"\"\"\u001b[39;00m\n\u001b[1;32m    101\u001b[0m     (\n\u001b[1;32m    102\u001b[0m         short_term_vertices,\n\u001b[1;32m    103\u001b[0m         short_term_edges,\n\u001b[1;32m    104\u001b[0m         long_term_vertices,\n\u001b[1;32m    105\u001b[0m         long_term_edges,\n\u001b[0;32m--> 106\u001b[0m     ) \u001b[38;5;241m=\u001b[39m \u001b[38;5;28;43mself\u001b[39;49m\u001b[38;5;241;43m.\u001b[39;49m\u001b[43mhumemai\u001b[49m\u001b[38;5;241;43m.\u001b[39;49m\u001b[43mget_working\u001b[49m\u001b[43m(\u001b[49m\n\u001b[1;32m    107\u001b[0m \u001b[43m        \u001b[49m\u001b[43minclude_all_long_term\u001b[49m\u001b[38;5;241;43m=\u001b[39;49m\u001b[38;5;28;43;01mFalse\u001b[39;49;00m\u001b[43m,\u001b[49m\n\u001b[1;32m    108\u001b[0m \u001b[43m        \u001b[49m\u001b[43mhops\u001b[49m\u001b[38;5;241;43m=\u001b[39;49m\u001b[38;5;28;43mself\u001b[39;49m\u001b[38;5;241;43m.\u001b[39;49m\u001b[43mnum_hops_for_working_memory\u001b[49m\u001b[43m,\u001b[49m\n\u001b[1;32m    109\u001b[0m \u001b[43m    \u001b[49m\u001b[43m)\u001b[49m\n\u001b[1;32m    111\u001b[0m     \u001b[38;5;28mself\u001b[39m\u001b[38;5;241m.\u001b[39mworking_memory \u001b[38;5;241m=\u001b[39m {\n\u001b[1;32m    112\u001b[0m         \u001b[38;5;124m\"\u001b[39m\u001b[38;5;124mshort_term_entities\u001b[39m\u001b[38;5;124m\"\u001b[39m: short_term_vertices,\n\u001b[1;32m    113\u001b[0m         \u001b[38;5;124m\"\u001b[39m\u001b[38;5;124mshort_term_relations\u001b[39m\u001b[38;5;124m\"\u001b[39m: short_term_edges,\n\u001b[1;32m    114\u001b[0m         \u001b[38;5;124m\"\u001b[39m\u001b[38;5;124mlong_term_entities\u001b[39m\u001b[38;5;124m\"\u001b[39m: long_term_vertices,\n\u001b[1;32m    115\u001b[0m         \u001b[38;5;124m\"\u001b[39m\u001b[38;5;124mlong_term_relations\u001b[39m\u001b[38;5;124m\"\u001b[39m: long_term_edges,\n\u001b[1;32m    116\u001b[0m     }\n",
      "File \u001b[0;32m~/repos/humemai/humemai/janusgraph/humemai.py:696\u001b[0m, in \u001b[0;36mHumemai.get_working\u001b[0;34m(self, include_all_long_term, hops)\u001b[0m\n\u001b[1;32m    694\u001b[0m         \u001b[38;5;28;01mreturn\u001b[39;00m short_term_vertices, short_term_edges, [], []\n\u001b[1;32m    695\u001b[0m     \u001b[38;5;28;01melse\u001b[39;00m:\n\u001b[0;32m--> 696\u001b[0m         long_term_vertices \u001b[38;5;241m=\u001b[39m \u001b[38;5;28;43mself\u001b[39;49m\u001b[38;5;241;43m.\u001b[39;49m\u001b[43mget_vertices_within_hops\u001b[49m\u001b[43m(\u001b[49m\n\u001b[1;32m    697\u001b[0m \u001b[43m            \u001b[49m\u001b[43mlong_term_trigger_vertices\u001b[49m\u001b[43m,\u001b[49m\u001b[43m \u001b[49m\u001b[43mhops\u001b[49m\u001b[43m,\u001b[49m\u001b[43m \u001b[49m\u001b[43mexclude_keys\u001b[49m\u001b[38;5;241;43m=\u001b[39;49m\u001b[43m[\u001b[49m\u001b[38;5;124;43m\"\u001b[39;49m\u001b[38;5;124;43mtimestamp\u001b[39;49m\u001b[38;5;124;43m\"\u001b[39;49m\u001b[43m]\u001b[49m\n\u001b[1;32m    698\u001b[0m \u001b[43m        \u001b[49m\u001b[43m)\u001b[49m\n\u001b[1;32m    700\u001b[0m \u001b[38;5;66;03m# increment num_recalled for the long-term memories\u001b[39;00m\n\u001b[1;32m    701\u001b[0m incoming_edges \u001b[38;5;241m=\u001b[39m (\n\u001b[1;32m    702\u001b[0m     \u001b[38;5;28mself\u001b[39m\u001b[38;5;241m.\u001b[39mg\u001b[38;5;241m.\u001b[39mV(long_term_vertices)  \u001b[38;5;66;03m# Start from the given vertices\u001b[39;00m\n\u001b[1;32m    703\u001b[0m     \u001b[38;5;241m.\u001b[39minE(\u001b[38;5;241m*\u001b[39mlong_term_edge_labels)\n\u001b[1;32m    704\u001b[0m     \u001b[38;5;241m.\u001b[39mtoList()  \u001b[38;5;66;03m# Convert to a list of edges\u001b[39;00m\n\u001b[1;32m    705\u001b[0m )\n",
      "File \u001b[0;32m~/repos/humemai/humemai/janusgraph/humemai.py:764\u001b[0m, in \u001b[0;36mHumemai.get_vertices_within_hops\u001b[0;34m(self, vertices, hops, include_keys, exclude_keys)\u001b[0m\n\u001b[1;32m    761\u001b[0m         traversal \u001b[38;5;241m=\u001b[39m traversal\u001b[38;5;241m.\u001b[39mhasNot(key)\n\u001b[1;32m    763\u001b[0m \u001b[38;5;66;03m# Execute the traversal and return the results\u001b[39;00m\n\u001b[0;32m--> 764\u001b[0m \u001b[38;5;28;01mreturn\u001b[39;00m \u001b[43mtraversal\u001b[49m\u001b[38;5;241;43m.\u001b[39;49m\u001b[43mtoList\u001b[49m\u001b[43m(\u001b[49m\u001b[43m)\u001b[49m\n",
      "File \u001b[0;32m~/.virtualenvs/humemai/lib/python3.10/site-packages/gremlin_python/process/traversal.py:62\u001b[0m, in \u001b[0;36mTraversal.toList\u001b[0;34m(self)\u001b[0m\n\u001b[1;32m     57\u001b[0m \u001b[38;5;28;01mdef\u001b[39;00m \u001b[38;5;21mtoList\u001b[39m(\u001b[38;5;28mself\u001b[39m):\n\u001b[1;32m     58\u001b[0m     warnings\u001b[38;5;241m.\u001b[39mwarn(\n\u001b[1;32m     59\u001b[0m         \u001b[38;5;124m\"\u001b[39m\u001b[38;5;124mgremlin_python.process.Traversal.toList will be replaced by \u001b[39m\u001b[38;5;124m\"\u001b[39m\n\u001b[1;32m     60\u001b[0m         \u001b[38;5;124m\"\u001b[39m\u001b[38;5;124mgremlin_python.process.Traversal.to_list.\u001b[39m\u001b[38;5;124m\"\u001b[39m,\n\u001b[1;32m     61\u001b[0m         \u001b[38;5;167;01mDeprecationWarning\u001b[39;00m)\n\u001b[0;32m---> 62\u001b[0m     \u001b[38;5;28;01mreturn\u001b[39;00m \u001b[38;5;28;43mself\u001b[39;49m\u001b[38;5;241;43m.\u001b[39;49m\u001b[43mto_list\u001b[49m\u001b[43m(\u001b[49m\u001b[43m)\u001b[49m\n",
      "File \u001b[0;32m~/.virtualenvs/humemai/lib/python3.10/site-packages/gremlin_python/process/traversal.py:65\u001b[0m, in \u001b[0;36mTraversal.to_list\u001b[0;34m(self)\u001b[0m\n\u001b[1;32m     64\u001b[0m \u001b[38;5;28;01mdef\u001b[39;00m \u001b[38;5;21mto_list\u001b[39m(\u001b[38;5;28mself\u001b[39m):\n\u001b[0;32m---> 65\u001b[0m     \u001b[38;5;28;01mreturn\u001b[39;00m \u001b[38;5;28;43mlist\u001b[39;49m\u001b[43m(\u001b[49m\u001b[38;5;28;43miter\u001b[39;49m\u001b[43m(\u001b[49m\u001b[38;5;28;43mself\u001b[39;49m\u001b[43m)\u001b[49m\u001b[43m)\u001b[49m\n",
      "File \u001b[0;32m~/.virtualenvs/humemai/lib/python3.10/site-packages/gremlin_python/process/traversal.py:48\u001b[0m, in \u001b[0;36mTraversal.__next__\u001b[0;34m(self)\u001b[0m\n\u001b[1;32m     46\u001b[0m \u001b[38;5;28;01mdef\u001b[39;00m \u001b[38;5;21m__next__\u001b[39m(\u001b[38;5;28mself\u001b[39m):\n\u001b[1;32m     47\u001b[0m     \u001b[38;5;28;01mif\u001b[39;00m \u001b[38;5;28mself\u001b[39m\u001b[38;5;241m.\u001b[39mtraversers \u001b[38;5;129;01mis\u001b[39;00m \u001b[38;5;28;01mNone\u001b[39;00m:\n\u001b[0;32m---> 48\u001b[0m         \u001b[38;5;28;43mself\u001b[39;49m\u001b[38;5;241;43m.\u001b[39;49m\u001b[43mtraversal_strategies\u001b[49m\u001b[38;5;241;43m.\u001b[39;49m\u001b[43mapply_strategies\u001b[49m\u001b[43m(\u001b[49m\u001b[38;5;28;43mself\u001b[39;49m\u001b[43m)\u001b[49m\n\u001b[1;32m     49\u001b[0m     \u001b[38;5;28;01mif\u001b[39;00m \u001b[38;5;28mself\u001b[39m\u001b[38;5;241m.\u001b[39mlast_traverser \u001b[38;5;129;01mis\u001b[39;00m \u001b[38;5;28;01mNone\u001b[39;00m:\n\u001b[1;32m     50\u001b[0m         \u001b[38;5;28mself\u001b[39m\u001b[38;5;241m.\u001b[39mlast_traverser \u001b[38;5;241m=\u001b[39m \u001b[38;5;28mnext\u001b[39m(\u001b[38;5;28mself\u001b[39m\u001b[38;5;241m.\u001b[39mtraversers)\n",
      "File \u001b[0;32m~/.virtualenvs/humemai/lib/python3.10/site-packages/gremlin_python/process/traversal.py:701\u001b[0m, in \u001b[0;36mTraversalStrategies.apply_strategies\u001b[0;34m(self, traversal)\u001b[0m\n\u001b[1;32m    699\u001b[0m \u001b[38;5;28;01mdef\u001b[39;00m \u001b[38;5;21mapply_strategies\u001b[39m(\u001b[38;5;28mself\u001b[39m, traversal):\n\u001b[1;32m    700\u001b[0m     \u001b[38;5;28;01mfor\u001b[39;00m traversal_strategy \u001b[38;5;129;01min\u001b[39;00m \u001b[38;5;28mself\u001b[39m\u001b[38;5;241m.\u001b[39mtraversal_strategies:\n\u001b[0;32m--> 701\u001b[0m         \u001b[43mtraversal_strategy\u001b[49m\u001b[38;5;241;43m.\u001b[39;49m\u001b[43mapply\u001b[49m\u001b[43m(\u001b[49m\u001b[43mtraversal\u001b[49m\u001b[43m)\u001b[49m\n",
      "File \u001b[0;32m~/.virtualenvs/humemai/lib/python3.10/site-packages/gremlin_python/driver/remote_connection.py:78\u001b[0m, in \u001b[0;36mRemoteStrategy.apply\u001b[0;34m(self, traversal)\u001b[0m\n\u001b[1;32m     76\u001b[0m \u001b[38;5;28;01mdef\u001b[39;00m \u001b[38;5;21mapply\u001b[39m(\u001b[38;5;28mself\u001b[39m, traversal):\n\u001b[1;32m     77\u001b[0m     \u001b[38;5;28;01mif\u001b[39;00m traversal\u001b[38;5;241m.\u001b[39mtraversers \u001b[38;5;129;01mis\u001b[39;00m \u001b[38;5;28;01mNone\u001b[39;00m:\n\u001b[0;32m---> 78\u001b[0m         remote_traversal \u001b[38;5;241m=\u001b[39m \u001b[38;5;28;43mself\u001b[39;49m\u001b[38;5;241;43m.\u001b[39;49m\u001b[43mremote_connection\u001b[49m\u001b[38;5;241;43m.\u001b[39;49m\u001b[43msubmit\u001b[49m\u001b[43m(\u001b[49m\u001b[43mtraversal\u001b[49m\u001b[38;5;241;43m.\u001b[39;49m\u001b[43mbytecode\u001b[49m\u001b[43m)\u001b[49m\n\u001b[1;32m     79\u001b[0m         traversal\u001b[38;5;241m.\u001b[39mremote_results \u001b[38;5;241m=\u001b[39m remote_traversal\n\u001b[1;32m     80\u001b[0m         traversal\u001b[38;5;241m.\u001b[39mtraversers \u001b[38;5;241m=\u001b[39m remote_traversal\u001b[38;5;241m.\u001b[39mtraversers\n",
      "File \u001b[0;32m~/.virtualenvs/humemai/lib/python3.10/site-packages/gremlin_python/driver/driver_remote_connection.py:105\u001b[0m, in \u001b[0;36mDriverRemoteConnection.submit\u001b[0;34m(self, bytecode)\u001b[0m\n\u001b[1;32m    103\u001b[0m log\u001b[38;5;241m.\u001b[39mdebug(\u001b[38;5;124m\"\u001b[39m\u001b[38;5;124msubmit with bytecode \u001b[39m\u001b[38;5;124m'\u001b[39m\u001b[38;5;132;01m%s\u001b[39;00m\u001b[38;5;124m'\u001b[39m\u001b[38;5;124m\"\u001b[39m, \u001b[38;5;28mstr\u001b[39m(bytecode))\n\u001b[1;32m    104\u001b[0m result_set \u001b[38;5;241m=\u001b[39m \u001b[38;5;28mself\u001b[39m\u001b[38;5;241m.\u001b[39m_client\u001b[38;5;241m.\u001b[39msubmit(bytecode, request_options\u001b[38;5;241m=\u001b[39m\u001b[38;5;28mself\u001b[39m\u001b[38;5;241m.\u001b[39m_extract_request_options(bytecode))\n\u001b[0;32m--> 105\u001b[0m results \u001b[38;5;241m=\u001b[39m \u001b[43mresult_set\u001b[49m\u001b[38;5;241;43m.\u001b[39;49m\u001b[43mall\u001b[49m\u001b[43m(\u001b[49m\u001b[43m)\u001b[49m\u001b[38;5;241;43m.\u001b[39;49m\u001b[43mresult\u001b[49m\u001b[43m(\u001b[49m\u001b[43m)\u001b[49m\n\u001b[1;32m    106\u001b[0m \u001b[38;5;28;01mreturn\u001b[39;00m RemoteTraversal(\u001b[38;5;28miter\u001b[39m(results))\n",
      "File \u001b[0;32m/usr/lib/python3.10/concurrent/futures/_base.py:458\u001b[0m, in \u001b[0;36mFuture.result\u001b[0;34m(self, timeout)\u001b[0m\n\u001b[1;32m    456\u001b[0m     \u001b[38;5;28;01mraise\u001b[39;00m CancelledError()\n\u001b[1;32m    457\u001b[0m \u001b[38;5;28;01melif\u001b[39;00m \u001b[38;5;28mself\u001b[39m\u001b[38;5;241m.\u001b[39m_state \u001b[38;5;241m==\u001b[39m FINISHED:\n\u001b[0;32m--> 458\u001b[0m     \u001b[38;5;28;01mreturn\u001b[39;00m \u001b[38;5;28;43mself\u001b[39;49m\u001b[38;5;241;43m.\u001b[39;49m\u001b[43m__get_result\u001b[49m\u001b[43m(\u001b[49m\u001b[43m)\u001b[49m\n\u001b[1;32m    459\u001b[0m \u001b[38;5;28;01melse\u001b[39;00m:\n\u001b[1;32m    460\u001b[0m     \u001b[38;5;28;01mraise\u001b[39;00m \u001b[38;5;167;01mTimeoutError\u001b[39;00m()\n",
      "File \u001b[0;32m/usr/lib/python3.10/concurrent/futures/_base.py:403\u001b[0m, in \u001b[0;36mFuture.__get_result\u001b[0;34m(self)\u001b[0m\n\u001b[1;32m    401\u001b[0m \u001b[38;5;28;01mif\u001b[39;00m \u001b[38;5;28mself\u001b[39m\u001b[38;5;241m.\u001b[39m_exception:\n\u001b[1;32m    402\u001b[0m     \u001b[38;5;28;01mtry\u001b[39;00m:\n\u001b[0;32m--> 403\u001b[0m         \u001b[38;5;28;01mraise\u001b[39;00m \u001b[38;5;28mself\u001b[39m\u001b[38;5;241m.\u001b[39m_exception\n\u001b[1;32m    404\u001b[0m     \u001b[38;5;28;01mfinally\u001b[39;00m:\n\u001b[1;32m    405\u001b[0m         \u001b[38;5;66;03m# Break a reference cycle with the exception in self._exception\u001b[39;00m\n\u001b[1;32m    406\u001b[0m         \u001b[38;5;28mself\u001b[39m \u001b[38;5;241m=\u001b[39m \u001b[38;5;28;01mNone\u001b[39;00m\n",
      "File \u001b[0;32m~/.virtualenvs/humemai/lib/python3.10/site-packages/gremlin_python/driver/resultset.py:90\u001b[0m, in \u001b[0;36mResultSet.all.<locals>.cb\u001b[0;34m(f)\u001b[0m\n\u001b[1;32m     88\u001b[0m \u001b[38;5;28;01mdef\u001b[39;00m \u001b[38;5;21mcb\u001b[39m(f):\n\u001b[1;32m     89\u001b[0m     \u001b[38;5;28;01mtry\u001b[39;00m:\n\u001b[0;32m---> 90\u001b[0m         \u001b[43mf\u001b[49m\u001b[38;5;241;43m.\u001b[39;49m\u001b[43mresult\u001b[49m\u001b[43m(\u001b[49m\u001b[43m)\u001b[49m\n\u001b[1;32m     91\u001b[0m     \u001b[38;5;28;01mexcept\u001b[39;00m \u001b[38;5;167;01mException\u001b[39;00m \u001b[38;5;28;01mas\u001b[39;00m e:\n\u001b[1;32m     92\u001b[0m         future\u001b[38;5;241m.\u001b[39mset_exception(e)\n",
      "File \u001b[0;32m/usr/lib/python3.10/concurrent/futures/_base.py:451\u001b[0m, in \u001b[0;36mFuture.result\u001b[0;34m(self, timeout)\u001b[0m\n\u001b[1;32m    449\u001b[0m     \u001b[38;5;28;01mraise\u001b[39;00m CancelledError()\n\u001b[1;32m    450\u001b[0m \u001b[38;5;28;01melif\u001b[39;00m \u001b[38;5;28mself\u001b[39m\u001b[38;5;241m.\u001b[39m_state \u001b[38;5;241m==\u001b[39m FINISHED:\n\u001b[0;32m--> 451\u001b[0m     \u001b[38;5;28;01mreturn\u001b[39;00m \u001b[38;5;28;43mself\u001b[39;49m\u001b[38;5;241;43m.\u001b[39;49m\u001b[43m__get_result\u001b[49m\u001b[43m(\u001b[49m\u001b[43m)\u001b[49m\n\u001b[1;32m    453\u001b[0m \u001b[38;5;28mself\u001b[39m\u001b[38;5;241m.\u001b[39m_condition\u001b[38;5;241m.\u001b[39mwait(timeout)\n\u001b[1;32m    455\u001b[0m \u001b[38;5;28;01mif\u001b[39;00m \u001b[38;5;28mself\u001b[39m\u001b[38;5;241m.\u001b[39m_state \u001b[38;5;129;01min\u001b[39;00m [CANCELLED, CANCELLED_AND_NOTIFIED]:\n",
      "File \u001b[0;32m/usr/lib/python3.10/concurrent/futures/_base.py:403\u001b[0m, in \u001b[0;36mFuture.__get_result\u001b[0;34m(self)\u001b[0m\n\u001b[1;32m    401\u001b[0m \u001b[38;5;28;01mif\u001b[39;00m \u001b[38;5;28mself\u001b[39m\u001b[38;5;241m.\u001b[39m_exception:\n\u001b[1;32m    402\u001b[0m     \u001b[38;5;28;01mtry\u001b[39;00m:\n\u001b[0;32m--> 403\u001b[0m         \u001b[38;5;28;01mraise\u001b[39;00m \u001b[38;5;28mself\u001b[39m\u001b[38;5;241m.\u001b[39m_exception\n\u001b[1;32m    404\u001b[0m     \u001b[38;5;28;01mfinally\u001b[39;00m:\n\u001b[1;32m    405\u001b[0m         \u001b[38;5;66;03m# Break a reference cycle with the exception in self._exception\u001b[39;00m\n\u001b[1;32m    406\u001b[0m         \u001b[38;5;28mself\u001b[39m \u001b[38;5;241m=\u001b[39m \u001b[38;5;28;01mNone\u001b[39;00m\n",
      "File \u001b[0;32m/usr/lib/python3.10/concurrent/futures/thread.py:58\u001b[0m, in \u001b[0;36m_WorkItem.run\u001b[0;34m(self)\u001b[0m\n\u001b[1;32m     55\u001b[0m     \u001b[38;5;28;01mreturn\u001b[39;00m\n\u001b[1;32m     57\u001b[0m \u001b[38;5;28;01mtry\u001b[39;00m:\n\u001b[0;32m---> 58\u001b[0m     result \u001b[38;5;241m=\u001b[39m \u001b[38;5;28;43mself\u001b[39;49m\u001b[38;5;241;43m.\u001b[39;49m\u001b[43mfn\u001b[49m\u001b[43m(\u001b[49m\u001b[38;5;241;43m*\u001b[39;49m\u001b[38;5;28;43mself\u001b[39;49m\u001b[38;5;241;43m.\u001b[39;49m\u001b[43margs\u001b[49m\u001b[43m,\u001b[49m\u001b[43m \u001b[49m\u001b[38;5;241;43m*\u001b[39;49m\u001b[38;5;241;43m*\u001b[39;49m\u001b[38;5;28;43mself\u001b[39;49m\u001b[38;5;241;43m.\u001b[39;49m\u001b[43mkwargs\u001b[49m\u001b[43m)\u001b[49m\n\u001b[1;32m     59\u001b[0m \u001b[38;5;28;01mexcept\u001b[39;00m \u001b[38;5;167;01mBaseException\u001b[39;00m \u001b[38;5;28;01mas\u001b[39;00m exc:\n\u001b[1;32m     60\u001b[0m     \u001b[38;5;28mself\u001b[39m\u001b[38;5;241m.\u001b[39mfuture\u001b[38;5;241m.\u001b[39mset_exception(exc)\n",
      "File \u001b[0;32m~/.virtualenvs/humemai/lib/python3.10/site-packages/gremlin_python/driver/connection.py:92\u001b[0m, in \u001b[0;36mConnection._receive\u001b[0;34m(self)\u001b[0m\n\u001b[1;32m     90\u001b[0m \u001b[38;5;28;01mwhile\u001b[39;00m \u001b[38;5;28;01mTrue\u001b[39;00m:\n\u001b[1;32m     91\u001b[0m     data \u001b[38;5;241m=\u001b[39m \u001b[38;5;28mself\u001b[39m\u001b[38;5;241m.\u001b[39m_transport\u001b[38;5;241m.\u001b[39mread()\n\u001b[0;32m---> 92\u001b[0m     status_code \u001b[38;5;241m=\u001b[39m \u001b[38;5;28;43mself\u001b[39;49m\u001b[38;5;241;43m.\u001b[39;49m\u001b[43m_protocol\u001b[49m\u001b[38;5;241;43m.\u001b[39;49m\u001b[43mdata_received\u001b[49m\u001b[43m(\u001b[49m\u001b[43mdata\u001b[49m\u001b[43m,\u001b[49m\u001b[43m \u001b[49m\u001b[38;5;28;43mself\u001b[39;49m\u001b[38;5;241;43m.\u001b[39;49m\u001b[43m_results\u001b[49m\u001b[43m)\u001b[49m\n\u001b[1;32m     93\u001b[0m     \u001b[38;5;28;01mif\u001b[39;00m status_code \u001b[38;5;241m!=\u001b[39m \u001b[38;5;241m206\u001b[39m:\n\u001b[1;32m     94\u001b[0m         \u001b[38;5;28;01mbreak\u001b[39;00m\n",
      "File \u001b[0;32m~/.virtualenvs/humemai/lib/python3.10/site-packages/gremlin_python/driver/protocol.py:140\u001b[0m, in \u001b[0;36mGremlinServerWSProtocol.data_received\u001b[0;34m(self, message, results_dict)\u001b[0m\n\u001b[1;32m    137\u001b[0m log\u001b[38;5;241m.\u001b[39merror(\u001b[38;5;124m\"\u001b[39m\u001b[38;5;130;01m\\r\u001b[39;00m\u001b[38;5;130;01m\\n\u001b[39;00m\u001b[38;5;124mReceived error message \u001b[39m\u001b[38;5;124m'\u001b[39m\u001b[38;5;132;01m%s\u001b[39;00m\u001b[38;5;124m'\u001b[39m\u001b[38;5;130;01m\\r\u001b[39;00m\u001b[38;5;130;01m\\n\u001b[39;00m\u001b[38;5;130;01m\\r\u001b[39;00m\u001b[38;5;130;01m\\n\u001b[39;00m\u001b[38;5;124mWith results dictionary \u001b[39m\u001b[38;5;124m'\u001b[39m\u001b[38;5;132;01m%s\u001b[39;00m\u001b[38;5;124m'\u001b[39m\u001b[38;5;124m\"\u001b[39m,\n\u001b[1;32m    138\u001b[0m           \u001b[38;5;28mstr\u001b[39m(message), \u001b[38;5;28mstr\u001b[39m(results_dict))\n\u001b[1;32m    139\u001b[0m \u001b[38;5;28;01mdel\u001b[39;00m results_dict[request_id]\n\u001b[0;32m--> 140\u001b[0m \u001b[38;5;28;01mraise\u001b[39;00m GremlinServerError(message[\u001b[38;5;124m'\u001b[39m\u001b[38;5;124mstatus\u001b[39m\u001b[38;5;124m'\u001b[39m])\n",
      "\u001b[0;31mGremlinServerError\u001b[0m: 598: A timeout occurred during traversal evaluation of [RequestMessage{, requestId=acc45f32-d221-4b05-8bfa-cc7a69f5617e, op='bytecode', processor='traversal', args={gremlin=[[], [V([32321568, 32321568, 32321568, 32321568, 32321568, 32321568, 32321568, 32321568, 32321568, 32321568, 32321568, 32321568, 32321568, 32321568, 32321568, 32321568, 32321568, 32321568, 32321568, 32321568, 32321568, 32321568, 32321568, 32321568, 32321568, 32321568, 32321568, 32321568, 32321568, 32321568, 32321568, 32321568, 32321568, 32321568, 32321568, 32321568, 32321568, 32321568, 32321568, 32321568, 32645232, 32645232, 32645232, 32645232, 32645232, 32645232, 32645232, 32645232, 32645232, 32645232, 32645232, 32645232, 32645232, 32645232, 32645232, 32645232, 32645232, 32645232, 32645232, 32645232, 32645232, 32645232, 32489592, 32489592, 32489592, 32489592, 32489592, 32489592, 32489592, 32489592, 32489592, 32489592, 32489592, 32489592, 32489592, 32489592, 32489592, 32489592, 32489592, 32489592, 32489592, 32489592, 32489592, 32489592, 32489592, 65237136, 65237136, 65237136, 65237136, 65237136, 65237136, 65237136, 65237136, 65237136, 65237136, 65237136, 65237136, 65237136, 65237136, 65237136, 65237136, 65237136, 65237136, 65237136, 65237136, 65237136, 65237136, 65237136, 65237136, 65237136, 65237136, 65237136, 65237136, 65237136, 65237136, 65237136, 65237136, 65237136, 65237136, 65237136, 65237136, 65237136, 65237136, 65237136, 65237136, 65237136, 65237136, 65237136, 65237136, 65237136, 65237136, 65237136, 65237136, 65237136, 65306768]), emit(), repeat([[], [both(), simplePath()]]), times(4), dedup(), hasNot(timestamp)]], aliases={g=g}}}] - consider increasing the limit given to evaluationTimeout"
     ]
    }
   ],
   "source": [
    "agent.humemai.remove_all_data()\n",
    "for i in tqdm(range(len(text) - 1)):\n",
    "    context = text[i] + \" \" + text[i + 1]\n",
    "    agent.step(context)"
   ]
  },
  {
   "cell_type": "markdown",
   "metadata": {},
   "source": [
    "## Save the database as json"
   ]
  },
  {
   "cell_type": "code",
   "execution_count": null,
   "metadata": {},
   "outputs": [],
   "source": [
    "# agent.humemai.save_db_as_json(\"Llama-3.1-8B-Instruct-16bit.json\")"
   ]
  },
  {
   "cell_type": "markdown",
   "metadata": {},
   "source": [
    "## Load the database from json"
   ]
  },
  {
   "cell_type": "code",
   "execution_count": null,
   "metadata": {},
   "outputs": [],
   "source": [
    "# agent.humemai.load_db_from_json(\"Llama-3.2-1B-Instruct-4bit.json\")\n",
    "# agent.humemai.load_db_from_json(\"Llama-3.2-1B-Instruct-8bit.json\")\n",
    "# agent.humemai.load_db_from_json(\"Llama-3.2-1B-Instruct-16bit.json\")\n",
    "# agent.humemai.load_db_from_json(\"Llama-3.2-3B-Instruct-4bit.json\")\n",
    "# agent.humemai.load_db_from_json(\"Llama-3.2-3B-Instruct-8bit.json\")\n",
    "# agent.humemai.load_db_from_json(\"Llama-3.2-3B-Instruct-16bit.json\")\n",
    "# agent.humemai.load_db_from_json(\"Llama-3.1-8B-Instruct-4bit.json\")\n",
    "# agent.humemai.load_db_from_json(\"Llama-3.1-8B-Instruct-8bit.json\")\n"
   ]
  }
 ],
 "metadata": {
  "kernelspec": {
   "display_name": "humemai",
   "language": "python",
   "name": "python3"
  },
  "language_info": {
   "codemirror_mode": {
    "name": "ipython",
    "version": 3
   },
   "file_extension": ".py",
   "mimetype": "text/x-python",
   "name": "python",
   "nbconvert_exporter": "python",
   "pygments_lexer": "ipython3",
   "version": "3.10.12"
  }
 },
 "nbformat": 4,
 "nbformat_minor": 2
}
