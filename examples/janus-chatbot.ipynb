{
 "cells": [
  {
   "cell_type": "markdown",
   "metadata": {},
   "source": [
    "## "
   ]
  },
  {
   "cell_type": "markdown",
   "metadata": {},
   "source": [
    "# Chatbot using text2graph and graph2text"
   ]
  },
  {
   "cell_type": "markdown",
   "metadata": {},
   "source": [
    "## Load the agent"
   ]
  },
  {
   "cell_type": "code",
   "execution_count": null,
   "metadata": {},
   "outputs": [],
   "source": [
    "import re\n",
    "import json\n",
    "from tqdm.auto import tqdm\n",
    "from humemai.janusgraph import Humemai\n",
    "from humemai.utils import disable_logger, parse_file_by_paragraph\n",
    "from humemai.janusgraph.agent import PromptAgent\n",
    "from pprint import pprint\n",
    "\n",
    "agent = PromptAgent(\n",
    "    num_hops_for_working_memory=4,\n",
    "    turn_on_logger=False,\n",
    "    llm_config={\n",
    "        \"model\": \"meta-llama/Llama-3.2-1B-Instruct\",\n",
    "        \"device\": \"cuda\",\n",
    "        \"quantization\": \"16bit\",\n",
    "        \"max_new_tokens\": 1024,\n",
    "    },\n",
    "    text2graph_template=\"text2graph_without_properties\",\n",
    ")"
   ]
  },
  {
   "cell_type": "markdown",
   "metadata": {},
   "source": [
    "## Load the harry potter text"
   ]
  },
  {
   "cell_type": "code",
   "execution_count": null,
   "metadata": {},
   "outputs": [],
   "source": [
    "text = parse_file_by_paragraph(\n",
    "    \"harry-potter-Sorcerer-chapter-one.txt\", least_newlines=2\n",
    ")"
   ]
  },
  {
   "cell_type": "markdown",
   "metadata": {},
   "source": [
    "## Run the agent over text"
   ]
  },
  {
   "cell_type": "code",
   "execution_count": null,
   "metadata": {},
   "outputs": [],
   "source": [
    "for paragraph in tqdm(text):\n",
    "    agent.step(paragraph)"
   ]
  },
  {
   "cell_type": "markdown",
   "metadata": {},
   "source": [
    "## Save the database as json"
   ]
  },
  {
   "cell_type": "code",
   "execution_count": null,
   "metadata": {},
   "outputs": [],
   "source": [
    "agent.humemai.save_db_as_json(\"Llama-3.1-8B-Instruct-16bit.json\")"
   ]
  },
  {
   "cell_type": "markdown",
   "metadata": {},
   "source": [
    "## Load the database from json"
   ]
  },
  {
   "cell_type": "code",
   "execution_count": null,
   "metadata": {},
   "outputs": [],
   "source": [
    "# agent.humemai.load_db_from_json(\"Llama-3.2-1B-Instruct-4bit.json\")\n",
    "# agent.humemai.load_db_from_json(\"Llama-3.2-1B-Instruct-8bit.json\")\n",
    "# agent.humemai.load_db_from_json(\"Llama-3.2-1B-Instruct-16bit.json\")\n",
    "# agent.humemai.load_db_from_json(\"Llama-3.2-3B-Instruct-4bit.json\")\n",
    "# agent.humemai.load_db_from_json(\"Llama-3.2-3B-Instruct-8bit.json\")\n",
    "agent.humemai.load_db_from_json(\"Llama-3.2-3B-Instruct-16bit.json\")\n",
    "# agent.humemai.load_db_from_json(\"Llama-3.1-8B-Instruct-4bit.json\")\n",
    "# agent.humemai.load_db_from_json(\"Llama-3.1-8B-Instruct-8bit.json\")\n"
   ]
  },
  {
   "cell_type": "code",
   "execution_count": null,
   "metadata": {},
   "outputs": [],
   "source": [
    "agent.humemai.remove_all_data()"
   ]
  }
 ],
 "metadata": {
  "kernelspec": {
   "display_name": "humemai",
   "language": "python",
   "name": "python3"
  },
  "language_info": {
   "codemirror_mode": {
    "name": "ipython",
    "version": 3
   },
   "file_extension": ".py",
   "mimetype": "text/x-python",
   "name": "python",
   "nbconvert_exporter": "python",
   "pygments_lexer": "ipython3",
   "version": "3.10.12"
  }
 },
 "nbformat": 4,
 "nbformat_minor": 2
}
