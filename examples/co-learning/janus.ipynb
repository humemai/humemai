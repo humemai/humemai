{
 "cells": [
  {
   "cell_type": "markdown",
   "metadata": {},
   "source": [
    "## Start HumemAI"
   ]
  },
  {
   "cell_type": "code",
   "execution_count": null,
   "metadata": {},
   "outputs": [],
   "source": [
    "from humemai.utils import disable_logger\n",
    "disable_logger()\n",
    "\n",
    "from gremlin_python.structure.graph import Graph, Vertex, Edge\n",
    "from gremlin_python.driver.driver_remote_connection import DriverRemoteConnection\n",
    "from gremlin_python.driver.serializer import GraphSONSerializersV3d0\n",
    "from gremlin_python.process.graph_traversal import __\n",
    "from gremlin_python.process.traversal import P, T, Direction\n",
    "\n",
    "import json\n",
    "from humemai.janusgraph import Humemai\n",
    "from tqdm.auto import tqdm\n",
    "\n",
    "humemai = Humemai()\n",
    "humemai.start_containers()\n",
    "humemai.connect()\n",
    "# humemai.remove_all_data()\n",
    "\n",
    "\n",
    "with open(\"./raw-data.json\") as f:\n",
    "    data = json.load(f)\n",
    "\n",
    "# humemai.disconnect()\n",
    "# humemai.stop_containers()\n",
    "# humemai.remove_containers()\n",
    "\n",
    "from humemai.utils import disable_logger\n",
    "disable_logger()"
   ]
  },
  {
   "cell_type": "code",
   "execution_count": null,
   "metadata": {},
   "outputs": [],
   "source": [
    "humemai.remove_all_data()\n",
    "\n",
    "for data_point in tqdm(data):\n",
    "    properties = {\n",
    "        \"cp_num\": data_point[\"cp_num\"],\n",
    "        \"participant_num\": data_point[\"participant\"],\n",
    "        \"cp_name\": data_point[\"cp_name\"],\n",
    "        \"ticks_lasted\": data_point[\"ticks_lasted\"],\n",
    "        \"round_num\": data_point[\"round_num\"],\n",
    "        \"event_time\": data_point[\"timestamp\"],\n",
    "        \"remaining_time\": data_point[\"remaining_time\"],\n",
    "        \"remaining_rocks\": data_point[\"remaining_rocks\"],\n",
    "        \"victim_harm\": data_point[\"victim_harm\"],\n",
    "    }\n",
    "    time_vertex = humemai.write_time_vertex(data_point[\"timestamp\"])\n",
    "\n",
    "    robot_vertex = humemai.write_long_term_vertex(\"robot\", \"episodic\", time_vertex)\n",
    "    cp_label = \"cp_num_\" + str(data_point[\"cp_num\"])\n",
    "    cp_vertex = humemai.write_long_term_vertex(\n",
    "        cp_label, \"episodic\", time_vertex, properties\n",
    "    )\n",
    "    humemai.write_edge(robot_vertex, \"has_cp\", cp_vertex)\n",
    "\n",
    "    participant_label = \"participant_\" + str(data_point[\"participant\"])\n",
    "    participant_vertex = humemai.write_long_term_vertex(\n",
    "        participant_label, \"episodic\", time_vertex\n",
    "    )\n",
    "    humemai.write_edge(participant_vertex, \"has_cp\", cp_vertex)\n",
    "\n",
    "    situation = [bar for foo in data_point[\"situation\"] for bar in foo]\n",
    "    \n",
    "    if situation:        \n",
    "        situation_label = \"situation_\" + str(data_point[\"cp_num\"])\n",
    "        situation_vertex = humemai.write_long_term_vertex(\n",
    "            situation_label, \"episodic\", time_vertex, {foo[\"type\"]: foo[\"content\"] for foo in situation}\n",
    "        )\n",
    "        humemai.write_edge(cp_vertex, \"has_situation\", situation_vertex)\n",
    "\n",
    "        human_action = [bar for foo in data_point[\"HumanAction\"] for bar in foo]\n",
    "        robot_action = [bar for foo in data_point[\"RobotAction\"] for bar in foo]\n",
    "\n",
    "        # for idx, action in enumerate(data_point[\"HumanAction\"]):\n",
    "        #     action_label = \"action_\" + str(idx)\n",
    "        #     action_vertex = humemai.write_long_term_vertex(\n",
    "        #         action_label, \"episodic\", time_vertex, action\n",
    "        #     )\n",
    "        #     humemai.write_edge(participant_vertex, \"has_action\", action_vertex)\n",
    "\n",
    "# Merge the duplicate nodes\n",
    "humemai.merge_vertices_with_same_label(\"robot\")\n",
    "\n",
    "vertices = humemai.get_vertices_by_partial_label(\"participant\")\n",
    "for vertex in vertices:\n",
    "    humemai.merge_vertices_with_same_label(vertex.label)"
   ]
  },
  {
   "cell_type": "code",
   "execution_count": null,
   "metadata": {},
   "outputs": [],
   "source": [
    "action"
   ]
  },
  {
   "cell_type": "code",
   "execution_count": null,
   "metadata": {},
   "outputs": [],
   "source": [
    "{foo[\"type\"]: foo[\"content\"] for foo in situation}"
   ]
  },
  {
   "cell_type": "code",
   "execution_count": null,
   "metadata": {},
   "outputs": [],
   "source": [
    "situation"
   ]
  },
  {
   "cell_type": "code",
   "execution_count": null,
   "metadata": {},
   "outputs": [],
   "source": [
    "for action in data_point[\"HumanAction\"]:\n",
    "    print(action)"
   ]
  },
  {
   "cell_type": "code",
   "execution_count": null,
   "metadata": {},
   "outputs": [],
   "source": [
    "from collections import Counter\n",
    "\n",
    "# Get all vertex labels\n",
    "labels = humemai.g.V().label().toList()\n",
    "\n",
    "# Count the occurrences of each label\n",
    "label_counts = Counter(labels)\n",
    "\n",
    "# Filter labels that occur more than once\n",
    "labels_more_than_once = {label: count for label, count in label_counts.items() if count > 1}\n",
    "\n",
    "print(labels_more_than_once)\n"
   ]
  },
  {
   "cell_type": "code",
   "execution_count": null,
   "metadata": {},
   "outputs": [],
   "source": [
    "for foo in labels_more_than_once:\n",
    "    print(foo)"
   ]
  },
  {
   "cell_type": "code",
   "execution_count": null,
   "metadata": {},
   "outputs": [],
   "source": [
    "len(humemai.g.V().label().toList()), len(set(humemai.g.V().label().toList()))"
   ]
  }
 ],
 "metadata": {
  "kernelspec": {
   "display_name": "humemai",
   "language": "python",
   "name": "python3"
  },
  "language_info": {
   "codemirror_mode": {
    "name": "ipython",
    "version": 3
   },
   "file_extension": ".py",
   "mimetype": "text/x-python",
   "name": "python",
   "nbconvert_exporter": "python",
   "pygments_lexer": "ipython3",
   "version": "3.10.12"
  }
 },
 "nbformat": 4,
 "nbformat_minor": 2
}
