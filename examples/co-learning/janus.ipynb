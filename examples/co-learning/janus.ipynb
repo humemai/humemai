{
 "cells": [
  {
   "cell_type": "markdown",
   "metadata": {},
   "source": [
    "## Start HumemAI"
   ]
  },
  {
   "cell_type": "code",
   "execution_count": 1,
   "metadata": {},
   "outputs": [
    {
     "name": "stderr",
     "output_type": "stream",
     "text": [
      "/home/tk/.virtualenvs/humemai/lib/python3.10/site-packages/tqdm/auto.py:21: TqdmWarning: IProgress not found. Please update jupyter and ipywidgets. See https://ipywidgets.readthedocs.io/en/stable/user_install.html\n",
      "  from .autonotebook import tqdm as notebook_tqdm\n",
      "DEBUG:docker.utils.config:Trying paths: ['/home/tk/.docker/config.json', '/home/tk/.dockercfg']\n",
      "DEBUG:docker.utils.config:No config file found\n",
      "DEBUG:docker.utils.config:Trying paths: ['/home/tk/.docker/config.json', '/home/tk/.dockercfg']\n",
      "DEBUG:docker.utils.config:No config file found\n",
      "DEBUG:urllib3.connectionpool:http://localhost:None \"GET /version HTTP/11\" 200 834\n",
      "DEBUG:docker.utils.config:Trying paths: ['/home/tk/.docker/config.json', '/home/tk/.dockercfg']\n",
      "DEBUG:docker.utils.config:No config file found\n",
      "DEBUG:docker.utils.config:Trying paths: ['/home/tk/.docker/config.json', '/home/tk/.dockercfg']\n",
      "DEBUG:docker.utils.config:No config file found\n",
      "DEBUG:urllib3.connectionpool:http://localhost:None \"GET /version HTTP/11\" 200 834\n",
      "DEBUG:urllib3.connectionpool:http://localhost:None \"GET /v1.47/containers/janusgraph/json HTTP/11\" 200 None\n",
      "DEBUG:humemai.janusgraph.utils.docker:janusgraph container is already running.\n",
      "DEBUG:humemai.janusgraph.utils.docker:Waiting 10 seconds for the containers to warm up...\n",
      "INFO:gremlinpython:Creating DriverRemoteConnection with url 'ws://localhost:8182/gremlin'\n",
      "INFO:gremlinpython:Creating Client with url 'ws://localhost:8182/gremlin'\n",
      "INFO:gremlinpython:Creating GraphTraversalSource.\n",
      "INFO:gremlinpython:Creating GraphTraversalSource.\n",
      "DEBUG:humemai.janusgraph.humemai:Successfully connected to the Gremlin server.\n"
     ]
    }
   ],
   "source": [
    "from humemai.utils import disable_logger\n",
    "disable_logger()\n",
    "\n",
    "from gremlin_python.structure.graph import Graph, Vertex, Edge\n",
    "from gremlin_python.driver.driver_remote_connection import DriverRemoteConnection\n",
    "from gremlin_python.driver.serializer import GraphSONSerializersV3d0\n",
    "from gremlin_python.process.graph_traversal import __\n",
    "from gremlin_python.process.traversal import P, T, Direction\n",
    "\n",
    "import json\n",
    "from humemai.janusgraph import Humemai\n",
    "from tqdm.auto import tqdm\n",
    "\n",
    "humemai = Humemai()\n",
    "humemai.start_containers()\n",
    "humemai.connect()\n",
    "# humemai.remove_all_data()\n",
    "\n",
    "\n",
    "with open(\"./raw-data.json\") as f:\n",
    "    data = json.load(f)\n",
    "\n",
    "# humemai.disconnect()\n",
    "# humemai.stop_containers()\n",
    "# humemai.remove_containers()\n",
    "\n",
    "from humemai.utils import disable_logger\n",
    "disable_logger()"
   ]
  },
  {
   "cell_type": "code",
   "execution_count": null,
   "metadata": {},
   "outputs": [
    {
     "name": "stderr",
     "output_type": "stream",
     "text": [
      "  0%|          | 1/211 [00:00<00:33,  6.23it/s]\n"
     ]
    },
    {
     "ename": "AttributeError",
     "evalue": "'list' object has no attribute 'items'",
     "output_type": "error",
     "traceback": [
      "\u001b[0;31m---------------------------------------------------------------------------\u001b[0m",
      "\u001b[0;31mAttributeError\u001b[0m                            Traceback (most recent call last)",
      "Cell \u001b[0;32mIn[2], line 44\u001b[0m\n\u001b[1;32m     42\u001b[0m         \u001b[38;5;28;01mfor\u001b[39;00m idx, action \u001b[38;5;129;01min\u001b[39;00m \u001b[38;5;28menumerate\u001b[39m(data_point[\u001b[38;5;124m\"\u001b[39m\u001b[38;5;124mHumanAction\u001b[39m\u001b[38;5;124m\"\u001b[39m]):\n\u001b[1;32m     43\u001b[0m             action_label \u001b[38;5;241m=\u001b[39m \u001b[38;5;124m\"\u001b[39m\u001b[38;5;124maction_\u001b[39m\u001b[38;5;124m\"\u001b[39m \u001b[38;5;241m+\u001b[39m \u001b[38;5;28mstr\u001b[39m(idx)\n\u001b[0;32m---> 44\u001b[0m             action_vertex \u001b[38;5;241m=\u001b[39m \u001b[43mhumemai\u001b[49m\u001b[38;5;241;43m.\u001b[39;49m\u001b[43mwrite_long_term_vertex\u001b[49m\u001b[43m(\u001b[49m\n\u001b[1;32m     45\u001b[0m \u001b[43m                \u001b[49m\u001b[43maction_label\u001b[49m\u001b[43m,\u001b[49m\u001b[43m \u001b[49m\u001b[38;5;124;43m\"\u001b[39;49m\u001b[38;5;124;43mepisodic\u001b[39;49m\u001b[38;5;124;43m\"\u001b[39;49m\u001b[43m,\u001b[49m\u001b[43m \u001b[49m\u001b[43mtime_vertex\u001b[49m\u001b[43m,\u001b[49m\u001b[43m \u001b[49m\u001b[43maction\u001b[49m\n\u001b[1;32m     46\u001b[0m \u001b[43m            \u001b[49m\u001b[43m)\u001b[49m\n\u001b[1;32m     47\u001b[0m             humemai\u001b[38;5;241m.\u001b[39mwrite_edge(participant_vertex, \u001b[38;5;124m\"\u001b[39m\u001b[38;5;124mhas_action\u001b[39m\u001b[38;5;124m\"\u001b[39m, action_vertex)\n\u001b[1;32m     49\u001b[0m \u001b[38;5;66;03m# Merge the duplicate nodes\u001b[39;00m\n",
      "File \u001b[0;32m~/repos/humemai/humemai/janusgraph/humemai.py:609\u001b[0m, in \u001b[0;36mHumemai.write_long_term_vertex\u001b[0;34m(self, label, memory_type, time_vertex, properties)\u001b[0m\n\u001b[1;32m    593\u001b[0m \u001b[38;5;250m\u001b[39m\u001b[38;5;124;03m\"\"\"Write a new long-term vertex to the graph.\u001b[39;00m\n\u001b[1;32m    594\u001b[0m \n\u001b[1;32m    595\u001b[0m \u001b[38;5;124;03mThis is directly writing a vertex to the long-term memory.\u001b[39;00m\n\u001b[0;32m   (...)\u001b[0m\n\u001b[1;32m    605\u001b[0m \u001b[38;5;124;03m    Vertex: The updated vertex.\u001b[39;00m\n\u001b[1;32m    606\u001b[0m \u001b[38;5;124;03m\"\"\"\u001b[39;00m\n\u001b[1;32m    608\u001b[0m \u001b[38;5;66;03m# Step 1: Create a vertex with the given label and properties\u001b[39;00m\n\u001b[0;32m--> 609\u001b[0m vertex \u001b[38;5;241m=\u001b[39m \u001b[38;5;28;43mself\u001b[39;49m\u001b[38;5;241;43m.\u001b[39;49m\u001b[43mcreate_vertex\u001b[49m\u001b[43m(\u001b[49m\u001b[43mlabel\u001b[49m\u001b[43m,\u001b[49m\u001b[43m \u001b[49m\u001b[43mproperties\u001b[49m\u001b[43m)\u001b[49m\n\u001b[1;32m    610\u001b[0m \u001b[38;5;28mself\u001b[39m\u001b[38;5;241m.\u001b[39mlogger\u001b[38;5;241m.\u001b[39mdebug(\u001b[38;5;124mf\u001b[39m\u001b[38;5;124m\"\u001b[39m\u001b[38;5;124mCreated vertex with ID: \u001b[39m\u001b[38;5;132;01m{\u001b[39;00mvertex\u001b[38;5;241m.\u001b[39mid\u001b[38;5;132;01m}\u001b[39;00m\u001b[38;5;124m\"\u001b[39m)\n\u001b[1;32m    612\u001b[0m \u001b[38;5;66;03m# Step 2 (optional): Connect the vertex to the time vertex\u001b[39;00m\n",
      "File \u001b[0;32m~/repos/humemai/humemai/janusgraph/humemai.py:154\u001b[0m, in \u001b[0;36mHumemai.create_vertex\u001b[0;34m(self, label, properties)\u001b[0m\n\u001b[1;32m    144\u001b[0m \u001b[38;5;250m\u001b[39m\u001b[38;5;124;03m\"\"\"Create a vertex with the given properties.\u001b[39;00m\n\u001b[1;32m    145\u001b[0m \n\u001b[1;32m    146\u001b[0m \u001b[38;5;124;03mNote that this does not check if the vertex already exists.\u001b[39;00m\n\u001b[0;32m   (...)\u001b[0m\n\u001b[1;32m    151\u001b[0m \n\u001b[1;32m    152\u001b[0m \u001b[38;5;124;03m\"\"\"\u001b[39;00m\n\u001b[1;32m    153\u001b[0m vertex \u001b[38;5;241m=\u001b[39m \u001b[38;5;28mself\u001b[39m\u001b[38;5;241m.\u001b[39mg\u001b[38;5;241m.\u001b[39maddV(label)\n\u001b[0;32m--> 154\u001b[0m \u001b[38;5;28;01mfor\u001b[39;00m key, value \u001b[38;5;129;01min\u001b[39;00m \u001b[43mproperties\u001b[49m\u001b[38;5;241;43m.\u001b[39;49m\u001b[43mitems\u001b[49m():\n\u001b[1;32m    155\u001b[0m     vertex \u001b[38;5;241m=\u001b[39m vertex\u001b[38;5;241m.\u001b[39mproperty(key, value)\n\u001b[1;32m    157\u001b[0m \u001b[38;5;28;01mreturn\u001b[39;00m vertex\u001b[38;5;241m.\u001b[39mnext()\n",
      "\u001b[0;31mAttributeError\u001b[0m: 'list' object has no attribute 'items'"
     ]
    }
   ],
   "source": [
    "humemai.remove_all_data()\n",
    "\n",
    "for data_point in tqdm(data):\n",
    "    properties = {\n",
    "        \"cp_num\": data_point[\"cp_num\"],\n",
    "        \"participant_num\": data_point[\"participant\"],\n",
    "        \"cp_name\": data_point[\"cp_name\"],\n",
    "        \"ticks_lasted\": data_point[\"ticks_lasted\"],\n",
    "        \"round_num\": data_point[\"round_num\"],\n",
    "        \"event_time\": data_point[\"timestamp\"],\n",
    "        \"remaining_time\": data_point[\"remaining_time\"],\n",
    "        \"remaining_rocks\": data_point[\"remaining_rocks\"],\n",
    "        \"victim_harm\": data_point[\"victim_harm\"],\n",
    "    }\n",
    "    time_vertex = humemai.write_time_vertex(data_point[\"timestamp\"])\n",
    "\n",
    "    robot_vertex = humemai.write_long_term_vertex(\"robot\", \"episodic\", time_vertex)\n",
    "    cp_label = \"cp_num_\" + str(data_point[\"cp_num\"])\n",
    "    cp_vertex = humemai.write_long_term_vertex(\n",
    "        cp_label, \"episodic\", time_vertex, properties\n",
    "    )\n",
    "    humemai.write_edge(robot_vertex, \"has_cp\", cp_vertex)\n",
    "\n",
    "    participant_label = \"participant_\" + str(data_point[\"participant\"])\n",
    "    participant_vertex = humemai.write_long_term_vertex(\n",
    "        participant_label, \"episodic\", time_vertex\n",
    "    )\n",
    "    humemai.write_edge(participant_vertex, \"has_cp\", cp_vertex)\n",
    "\n",
    "    situation = [bar for foo in data_point[\"situation\"] for bar in foo]\n",
    "    \n",
    "    if situation:        \n",
    "        situation_label = \"situation_\" + str(data_point[\"cp_num\"])\n",
    "        situation_vertex = humemai.write_long_term_vertex(\n",
    "            situation_label, \"episodic\", time_vertex, {foo[\"type\"]: foo[\"content\"] for foo in situation}\n",
    "        )\n",
    "        humemai.write_edge(cp_vertex, \"has_situation\", situation_vertex)\n",
    "\n",
    "        human_action = [bar for foo in data_point[\"HumanAction\"] for bar in foo]\n",
    "        robot_action = [bar for foo in data_point[\"RobotAction\"] for bar in foo]\n",
    "\n",
    "        # for idx, action in enumerate(data_point[\"HumanAction\"]):\n",
    "        #     action_label = \"action_\" + str(idx)\n",
    "        #     action_vertex = humemai.write_long_term_vertex(\n",
    "        #         action_label, \"episodic\", time_vertex, action\n",
    "        #     )\n",
    "        #     humemai.write_edge(participant_vertex, \"has_action\", action_vertex)\n",
    "\n",
    "# Merge the duplicate nodes\n",
    "humemai.merge_vertices_with_same_label(\"robot\")\n",
    "\n",
    "vertices = humemai.get_vertices_by_partial_label(\"participant\")\n",
    "for vertex in vertices:\n",
    "    humemai.merge_vertices_with_same_label(vertex.label)"
   ]
  },
  {
   "cell_type": "code",
   "execution_count": 5,
   "metadata": {},
   "outputs": [
    {
     "data": {
      "text/plain": [
       "[{'type': 'action', 'content': 'Stand still in <location>'},\n",
       " {'type': 'location', 'content': '<Right> side of field'}]"
      ]
     },
     "execution_count": 5,
     "metadata": {},
     "output_type": "execute_result"
    }
   ],
   "source": [
    "action"
   ]
  },
  {
   "cell_type": "code",
   "execution_count": null,
   "metadata": {},
   "outputs": [
    {
     "data": {
      "text/plain": [
       "{'location': 'Top of rock pile', 'object': 'Brown rock'}"
      ]
     },
     "execution_count": 39,
     "metadata": {},
     "output_type": "execute_result"
    }
   ],
   "source": [
    "{foo[\"type\"]: foo[\"content\"] for foo in situation}"
   ]
  },
  {
   "cell_type": "code",
   "execution_count": null,
   "metadata": {},
   "outputs": [
    {
     "data": {
      "text/plain": [
       "[{'type': 'location', 'content': 'Top of rock pile'},\n",
       " {'type': 'object', 'content': 'Brown rock'}]"
      ]
     },
     "execution_count": 37,
     "metadata": {},
     "output_type": "execute_result"
    }
   ],
   "source": [
    "situation"
   ]
  },
  {
   "cell_type": "code",
   "execution_count": null,
   "metadata": {},
   "outputs": [
    {
     "name": "stdout",
     "output_type": "stream",
     "text": [
      "[{'type': 'action', 'content': 'Stand still in <location>'}, {'type': 'location', 'content': 'On top of <Object>'}, {'type': 'object', 'content': 'Large rock'}]\n",
      "[]\n",
      "[]\n"
     ]
    }
   ],
   "source": [
    "for action in data_point[\"HumanAction\"]:\n",
    "    print(action)"
   ]
  },
  {
   "cell_type": "code",
   "execution_count": null,
   "metadata": {},
   "outputs": [
    {
     "name": "stdout",
     "output_type": "stream",
     "text": [
      "{'2024-08-29T15:36:08': 3, '2024-08-29T15:44:12': 2, '2024-08-29T15:48:34': 2, '2024-08-29T15:54:42': 3, '2024-08-29T16:10:21': 3, '2024-06-03T11:41:45': 2, '2024-06-03T12:05:43': 3, '2024-07-10T15:49:53': 2, '2024-07-23T12:17:49': 2, '2024-07-18T10:04:59': 3, '2024-07-18T10:26:55': 2, '2024-07-18T10:37:21': 3, '2024-07-22T09:47:40': 5, '2024-07-30T16:03:38': 3, '2024-08-07T10:41:02': 2, '2024-08-29T16:03:13': 3, '2024-08-23T11:11:30': 2, '2024-08-23T11:29:22': 3, '2024-05-07T11:26:11': 2, '2024-05-15T11:23:23': 2, '2024-05-15T11:34:16': 2, '2024-05-15T11:51:45': 3, '2024-05-31T10:37:11': 2, '2024-07-02T15:32:48': 2, '2024-07-02T15:52:00': 2, '2024-07-02T16:10:18': 2, '2024-07-03T10:51:18': 2, '2024-07-10T15:35:20': 3, '2024-07-10T15:53:45': 3, '2024-07-12T14:36:58': 2, '2024-07-22T09:53:10': 3, '2024-07-30T15:21:13': 2, '2024-07-30T15:30:18': 2, '2024-07-30T15:50:47': 3, '2024-07-30T16:00:03': 3, '2024-07-30T16:09:11': 3, '2024-08-07T10:23:02': 2, '2024-08-07T10:32:50': 3, '2024-08-29T15:30:51': 2, '2024-05-15T11:13:40': 2, '2024-05-15T11:19:41': 2, '2024-06-03T11:54:49': 2, '2024-07-02T16:17:13': 2, '2024-07-10T15:28:26': 2, '2024-07-12T14:47:40': 2, '2024-08-07T10:08:27': 3, '2024-08-07T10:44:15': 2, '2024-05-15T11:45:01': 3, '2024-07-10T15:58:05': 2, '2024-07-18T10:44:02': 3, '2024-07-12T14:49:41': 2, '2024-07-18T10:10:07': 4, '2024-07-22T09:59:22': 2, '2024-08-07T10:15:16': 2, '2024-08-23T10:44:04': 2, '2024-05-07T11:39:25': 2, '2024-07-02T15:12:50': 2, '2024-07-10T15:45:50': 2, '2024-07-12T14:40:24': 2, '2024-07-23T12:10:32': 2, '2024-07-18T10:20:50': 2, '2024-08-07T10:25:21': 2, '2024-07-23T11:59:46': 2, '2024-07-30T15:57:04': 3}\n"
     ]
    }
   ],
   "source": [
    "from collections import Counter\n",
    "\n",
    "# Get all vertex labels\n",
    "labels = humemai.g.V().label().toList()\n",
    "\n",
    "# Count the occurrences of each label\n",
    "label_counts = Counter(labels)\n",
    "\n",
    "# Filter labels that occur more than once\n",
    "labels_more_than_once = {label: count for label, count in label_counts.items() if count > 1}\n",
    "\n",
    "print(labels_more_than_once)\n"
   ]
  },
  {
   "cell_type": "code",
   "execution_count": null,
   "metadata": {},
   "outputs": [
    {
     "name": "stdout",
     "output_type": "stream",
     "text": [
      "2024-08-29T15:36:08\n",
      "2024-08-29T15:44:12\n",
      "2024-08-29T15:48:34\n",
      "2024-08-29T15:54:42\n",
      "2024-08-29T16:10:21\n",
      "2024-06-03T11:41:45\n",
      "2024-06-03T12:05:43\n",
      "2024-07-10T15:49:53\n",
      "2024-07-23T12:17:49\n",
      "2024-07-18T10:04:59\n",
      "2024-07-18T10:26:55\n",
      "2024-07-18T10:37:21\n",
      "2024-07-22T09:47:40\n",
      "2024-07-30T16:03:38\n",
      "2024-08-07T10:41:02\n",
      "2024-08-29T16:03:13\n",
      "2024-08-23T11:11:30\n",
      "2024-08-23T11:29:22\n",
      "2024-05-07T11:26:11\n",
      "2024-05-15T11:23:23\n",
      "2024-05-15T11:34:16\n",
      "2024-05-15T11:51:45\n",
      "2024-05-31T10:37:11\n",
      "2024-07-02T15:32:48\n",
      "2024-07-02T15:52:00\n",
      "2024-07-02T16:10:18\n",
      "2024-07-03T10:51:18\n",
      "2024-07-10T15:35:20\n",
      "2024-07-10T15:53:45\n",
      "2024-07-12T14:36:58\n",
      "2024-07-22T09:53:10\n",
      "2024-07-30T15:21:13\n",
      "2024-07-30T15:30:18\n",
      "2024-07-30T15:50:47\n",
      "2024-07-30T16:00:03\n",
      "2024-07-30T16:09:11\n",
      "2024-08-07T10:23:02\n",
      "2024-08-07T10:32:50\n",
      "2024-08-29T15:30:51\n",
      "2024-05-15T11:13:40\n",
      "2024-05-15T11:19:41\n",
      "2024-06-03T11:54:49\n",
      "2024-07-02T16:17:13\n",
      "2024-07-10T15:28:26\n",
      "2024-07-12T14:47:40\n",
      "2024-08-07T10:08:27\n",
      "2024-08-07T10:44:15\n",
      "2024-05-15T11:45:01\n",
      "2024-07-10T15:58:05\n",
      "2024-07-18T10:44:02\n",
      "2024-07-12T14:49:41\n",
      "2024-07-18T10:10:07\n",
      "2024-07-22T09:59:22\n",
      "2024-08-07T10:15:16\n",
      "2024-08-23T10:44:04\n",
      "2024-05-07T11:39:25\n",
      "2024-07-02T15:12:50\n",
      "2024-07-10T15:45:50\n",
      "2024-07-12T14:40:24\n",
      "2024-07-23T12:10:32\n",
      "2024-07-18T10:20:50\n",
      "2024-08-07T10:25:21\n",
      "2024-07-23T11:59:46\n",
      "2024-07-30T15:57:04\n"
     ]
    }
   ],
   "source": [
    "for foo in labels_more_than_once:\n",
    "    print(foo)"
   ]
  },
  {
   "cell_type": "code",
   "execution_count": null,
   "metadata": {},
   "outputs": [
    {
     "data": {
      "text/plain": [
       "(651, 561)"
      ]
     },
     "execution_count": 47,
     "metadata": {},
     "output_type": "execute_result"
    }
   ],
   "source": [
    "len(humemai.g.V().label().toList()), len(set(humemai.g.V().label().toList()))"
   ]
  }
 ],
 "metadata": {
  "kernelspec": {
   "display_name": "humemai",
   "language": "python",
   "name": "python3"
  },
  "language_info": {
   "codemirror_mode": {
    "name": "ipython",
    "version": 3
   },
   "file_extension": ".py",
   "mimetype": "text/x-python",
   "name": "python",
   "nbconvert_exporter": "python",
   "pygments_lexer": "ipython3",
   "version": "3.10.12"
  }
 },
 "nbformat": 4,
 "nbformat_minor": 2
}
