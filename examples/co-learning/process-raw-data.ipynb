{
 "cells": [
  {
   "cell_type": "markdown",
   "metadata": {},
   "source": [
    "## First read the annotated CPs"
   ]
  },
  {
   "cell_type": "code",
   "execution_count": 6,
   "metadata": {},
   "outputs": [],
   "source": [
    "from graph_learning import parse_cp_messages\n",
    "\n",
    "all_cp_messages = parse_cp_messages(\n",
    "    path=\"./user-raw-data/new/all_cp_messages.csv\", sep=\";\"\n",
    ")"
   ]
  },
  {
   "cell_type": "markdown",
   "metadata": {},
   "source": [
    "## Read when the CPs were actually executed"
   ]
  },
  {
   "cell_type": "code",
   "execution_count": 7,
   "metadata": {},
   "outputs": [],
   "source": [
    "from graph_learning import parse_cp_execution\n",
    "\n",
    "cp_execution = parse_cp_execution(path=\"./user-raw-data/new/cp_execution.csv\", sep=\";\")"
   ]
  },
  {
   "cell_type": "markdown",
   "metadata": {},
   "source": [
    "## Match the actual CPs used with the time"
   ]
  },
  {
   "cell_type": "code",
   "execution_count": 8,
   "metadata": {},
   "outputs": [],
   "source": [
    "from graph_learning import match_cp_with_execution\n",
    "\n",
    "cp_messages_execution = match_cp_with_execution(all_cp_messages, cp_execution)"
   ]
  },
  {
   "cell_type": "markdown",
   "metadata": {},
   "source": [
    "## Get the metrics\n",
    "\n",
    "timestamp, unix_timestamp, remaining_time, remaining_rocks, victim_harm"
   ]
  },
  {
   "cell_type": "code",
   "execution_count": 9,
   "metadata": {},
   "outputs": [
    {
     "name": "stdout",
     "output_type": "stream",
     "text": [
      "number of weird: 1\n"
     ]
    }
   ],
   "source": [
    "from graph_learning import get_metrics\n",
    "\n",
    "metrics = get_metrics(path=\"./user-raw-data/new/data_aggregate.csv\", sep=\";\")"
   ]
  },
  {
   "cell_type": "markdown",
   "metadata": {},
   "source": [
    "## We are gonna merge `cp_messages_execution` and `scores` into `data`.\n",
    "### `data` will be saved as `raw-data.json`"
   ]
  },
  {
   "cell_type": "code",
   "execution_count": 10,
   "metadata": {},
   "outputs": [
    {
     "name": "stdout",
     "output_type": "stream",
     "text": [
      "number of cps added: 211\n",
      "number of weird: 1\n",
      "in total of 211 CPs\n"
     ]
    }
   ],
   "source": [
    "from graph_learning import get_final_data\n",
    "\n",
    "data = get_final_data(cp_messages_execution, metrics)\n",
    "print(f\"in total of {len(data)} CPs\")\n",
    "\n",
    "import json\n",
    "\n",
    "with open(\"raw-data.json\", \"w\") as f:\n",
    "    json.dump(data, f, indent=4)"
   ]
  }
 ],
 "metadata": {
  "kernelspec": {
   "display_name": "humemai",
   "language": "python",
   "name": "python3"
  },
  "language_info": {
   "codemirror_mode": {
    "name": "ipython",
    "version": 3
   },
   "file_extension": ".py",
   "mimetype": "text/x-python",
   "name": "python",
   "nbconvert_exporter": "python",
   "pygments_lexer": "ipython3",
   "version": "3.10.12"
  }
 },
 "nbformat": 4,
 "nbformat_minor": 2
}
