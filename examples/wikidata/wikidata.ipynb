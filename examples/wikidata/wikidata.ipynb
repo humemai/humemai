{
 "cells": [
  {
   "cell_type": "markdown",
   "metadata": {},
   "source": [
    "## This jupyter notebook guides you in hosting wikidata (RDF graph) as property graph (JanusGraph)"
   ]
  },
  {
   "cell_type": "markdown",
   "metadata": {},
   "source": [
    "### Storage requirements\n",
    "\n",
    "The storage requirements are quite big. Just beaware that you have enough storage space\n",
    "\n",
    "- Download `latest-all.json.gz` (or `latest-all.json.bz2 `)\n",
    "  - `pip install aria2`\n",
    "  - `aria2c --max-connection-per-server 16 https://dumps.wikimedia.org/wikidatawiki/entities/latest-all.json.gz`\n",
    "  - This will download much faster\n",
    "  - As of 18-Dec-2024, `latest-all.json.gz` is 140.6 GB!"
   ]
  },
  {
   "cell_type": "markdown",
   "metadata": {},
   "source": []
  }
 ],
 "metadata": {
  "language_info": {
   "name": "python"
  }
 },
 "nbformat": 4,
 "nbformat_minor": 2
}
