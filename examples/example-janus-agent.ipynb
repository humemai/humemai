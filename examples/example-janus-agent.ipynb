{
 "cells": [
  {
   "cell_type": "code",
   "execution_count": 1,
   "metadata": {},
   "outputs": [
    {
     "name": "stderr",
     "output_type": "stream",
     "text": [
      "/home/tk/.virtualenvs/humemai/lib/python3.10/site-packages/tqdm/auto.py:21: TqdmWarning: IProgress not found. Please update jupyter and ipywidgets. See https://ipywidgets.readthedocs.io/en/stable/user_install.html\n",
      "  from .autonotebook import tqdm as notebook_tqdm\n"
     ]
    }
   ],
   "source": [
    "from tqdm.auto import tqdm\n",
    "from humemai.janusgraph import Humemai\n",
    "from humemai.utils import disable_logger\n",
    "\n",
    "disable_logger()\n",
    "\n",
    "humemai = Humemai()\n",
    "humemai.start_containers(warmup_seconds=10)\n",
    "humemai.connect()\n",
    "humemai.remove_all_data()"
   ]
  },
  {
   "cell_type": "code",
   "execution_count": 2,
   "metadata": {},
   "outputs": [
    {
     "name": "stdout",
     "output_type": "stream",
     "text": [
      "Alice: Bob, did you take my office keys?\n",
      "Bob: What? No, I don’t even know where you keep them.\n",
      "Alice: They were on my desk this morning, and now they’re gone.\n",
      "Bob: Maybe you misplaced them?\n",
      "HumemAI: Misplacing keys disrupts workflow. This is a serious matter.\n",
      "Bob: Wait, where did you come from?\n",
      "HumemAI: I’ve been observing. Lost keys cause unnecessary delays.\n",
      "Charlie: What’s going on?\n",
      "Alice: My keys are missing, and Bob might’ve taken them.\n",
      "Bob: I didn’t take them! Why is it always me?\n",
      "HumemAI: Denial is common, but let’s focus on solving the issue.\n",
      "Grace: Did anyone else see the keys?\n",
      "Charlie: Not me. But has anyone checked the break room? Sometimes people leave things there.\n",
      "Alice: Why would I leave my keys in the break room?\n",
      "HumemAI: It’s possible under stress. Humans are fallible.\n",
      "Grace: Alice, retrace your steps. Where were you after arriving?\n",
      "Alice: Okay… I came in, put my bag down, grabbed coffee, then…\n",
      "HumemAI: Then what? The next step is critical.\n",
      "Alice: Oh! I went to the printer. Maybe I left them there.\n",
      "Charlie: Let’s check.\n",
      "Alice: Found them! They were right here.\n",
      "Bob: See? I told you it wasn’t me.\n",
      "HumemAI: Crisis averted. Retracing steps often leads to resolution.\n",
      "Grace: Can we get back to work now?\n",
      "Charlie: Please. And Alice, maybe use a keychain next time.\n",
      "HumemAI: Organization prevents future chaos. Good teamwork, everyone!\n"
     ]
    }
   ],
   "source": [
    "import re\n",
    "import json\n",
    "from pprint import pprint\n",
    "\n",
    "# Open the file in read mode\n",
    "with open('example.txt', 'r') as file:\n",
    "    # Read the contents of the file\n",
    "    content = file.read()\n",
    "\n",
    "# Split the text into chunks based on speaker\n",
    "# Match lines that start with a speaker's name followed by a colon\n",
    "chunks = re.findall(r'^.*?:.*$', content, re.MULTILINE)\n",
    "\n",
    "# Clean up the chunks by stripping unnecessary spaces\n",
    "chunks = [chunk.strip() for chunk in chunks]\n",
    "\n",
    "# Print the chunks\n",
    "for chunk in chunks:\n",
    "    print(chunk)\n"
   ]
  },
  {
   "cell_type": "code",
   "execution_count": 3,
   "metadata": {},
   "outputs": [],
   "source": [
    "import torch\n",
    "import transformers\n",
    "\n",
    "\n",
    "def get_pipeline(\n",
    "    model: str = \"meta-llama/Llama-3.2-1B-Instruct\",\n",
    "    device: str = \"cpu\",\n",
    "    quantization: str = \"16bit\",\n",
    ") -> transformers.Pipeline:\n",
    "    \"\"\"Get a text generation pipeline with the specified device and quantization.\n",
    "\n",
    "    Args:\n",
    "        model (str): The model to use for text generation. \n",
    "            Defaults to \"meta-llama/Llama-3.2-1B-Instruct\".\n",
    "            meta-llama/Llama-3.2-3B-Instruct, \n",
    "            meta-llama/Llama-3.1-8B-Instruct\n",
    "            ...\n",
    "\n",
    "            are also available.\n",
    "        device (str): The device to run the pipeline on. Defaults to \"cpu\".\n",
    "        quantization (str): The quantization to apply to the model. Defaults to \"16bit\".\n",
    "\n",
    "    Returns:\n",
    "        transformers.Pipeline: The text generation pipeline.\n",
    "\n",
    "    \"\"\"\n",
    "\n",
    "    if quantization == \"16bit\":\n",
    "        quantization_config = None\n",
    "    elif quantization == \"8bit\":\n",
    "        quantization_config = {\"load_in_8bit\": True}\n",
    "    elif quantization == \"4bit\":\n",
    "        quantization_config = {\"load_in_4bit\": True}\n",
    "\n",
    "    return transformers.pipeline(\n",
    "        \"text-generation\",\n",
    "        model=\"meta-llama/Llama-3.2-1B-Instruct\",\n",
    "        model_kwargs={\n",
    "            \"torch_dtype\": torch.bfloat16,\n",
    "            \"quantization_config\": quantization_config,\n",
    "        },\n",
    "        device_map=device,\n",
    "    )"
   ]
  },
  {
   "cell_type": "code",
   "execution_count": 4,
   "metadata": {},
   "outputs": [],
   "source": [
    "def generate_prompt(history: str, next_text: str) -> list[dict]:\n",
    "    \"\"\"\n",
    "    Generate the prompt for the AI assistant to convert text to a knowledge graph.\n",
    "\n",
    "    Args:\n",
    "        history (str): The history of the knowledge graph extracted so far.\n",
    "        next_text (str): The new text to convert into a knowledge graph.\n",
    "\n",
    "    Returns:\n",
    "        list[dict]: A structured prompt for the AI assistant to build a knowledge graph.\n",
    "    \"\"\"\n",
    "    prompt = [\n",
    "        {\n",
    "            \"role\": \"system\",\n",
    "            \"content\": \"\"\"\n",
    "You are an AI assistant that builds knowledge graphs from text. \n",
    "For each input, you extract entities and relationships from the provided text \n",
    "and convert them into a structured JSON-based knowledge graph.\n",
    "\n",
    "**Important:** You should extract entities and relations from the new text provided.\n",
    "If the new text provides updated information about existing entities or relations \n",
    "(e.g., age change, new attributes), you should output these entities and relations \n",
    "again with the updated information. Do not include entities or relations from the \n",
    "previous history that have not changed.\n",
    "\n",
    "You may use the history to understand context and disambiguate entities.\n",
    "\n",
    "Your output must follow this JSON format:\n",
    "\n",
    "```json\n",
    "{\n",
    "  \"entities\": [\n",
    "    {\"label\": \"Entity1\", \"type\": \"Type1\"},\n",
    "    {\"label\": \"Entity2\", \"type\": \"Type2\"}\n",
    "  ],\n",
    "  \"relations\": [\n",
    "    {\"source\": \"Entity1\", \"target\": \"Entity2\", \"relation\": \"RelationName\"}\n",
    "  ]\n",
    "}\n",
    "```\n",
    "\n",
    "Each entity must have a unique label and type (e.g., \"Person\", \"Company\", \"Object\",\n",
    "\"Event\"). Relations must specify:\n",
    "\n",
    "- `source`: the label of the originating entity,\n",
    "- `target`: the label of the connected entity,\n",
    "- `relation`: the relationship type between the source and target.\n",
    "\n",
    "## Example:\n",
    "\n",
    "### Previous Knowledge Graph History:\n",
    "\n",
    "```json\n",
    "{\n",
    "  \"entities\": [\n",
    "    {\"label\": \"Sarah\", \"properties\": {\"type\": \"Person\"}},\n",
    "    {\"label\": \"InnovateAI\", \"properties\": {\"type\": \"Company\"}}\n",
    "  ],\n",
    "  \"relations\": [\n",
    "    {\"source\": \"Sarah\", \"target\": \"InnovateAI\", \"relation\": \"works_at\"}\n",
    "  ]\n",
    "}\n",
    "\n",
    "```\n",
    "\n",
    "### New Text to Process:\n",
    "\n",
    "\"Sarah, now 30 years old, was promoted to Senior Data Scientist at InnovateAI.\"\n",
    "\n",
    "### Output Knowledge Graph:\n",
    "\n",
    "```json\n",
    "{\n",
    "  \"entities\": [\n",
    "    {\"label\": \"Sarah\", \"properties\": {\"type\": \"Person\", \"age\": 30}},\n",
    "    {\"label\": \"InnovateAI\", \"properties\": {\"type\": \"Company\"}},\n",
    "    {\"label\": \"Senior Data Scientist\", \"properties\": {\"type\": \"Position\"}}\n",
    "  ],\n",
    "  \"relations\": [\n",
    "    {\"source\": \"Sarah\", \"target\": \"InnovateAI\", \"relation\": \"works_at\"},\n",
    "    {\"source\": \"Sarah\", \"target\": \"Senior Data Scientist\", \"relation\": \"holds_position\"}\n",
    "  ]\n",
    "}\n",
    "````\n",
    "Note that even though \"Sarah\" and \"InnovateAI\" were already in the history, we included\n",
    "\"Sarah\" again with the updated age and added new relations based on the new information.\n",
    "\n",
    "\n",
    "## Detailed Instructions:\n",
    "\n",
    "- Extract entities and relations from the new text provided.\n",
    "- If the new text provides updated information about existing entities or relations, include these in your output.\n",
    "- Do not include entities or relations from the history that have not changed.\n",
    "- Use the history for context and to disambiguate entities.\n",
    "- Ensure the output adheres strictly to the JSON format specified. \"\"\",\n",
    "        },\n",
    "        {\n",
    "            \"role\": \"user\",\n",
    "            \"content\": f\"Here is the knowledge graph extracted so far: {history}\",\n",
    "        },\n",
    "        {\n",
    "            \"role\": \"user\",\n",
    "            \"content\": f\"Here is the new text to process and incorporate: {next_text}\",\n",
    "        },\n",
    "    ]\n",
    "\n",
    "    return prompt"
   ]
  },
  {
   "cell_type": "code",
   "execution_count": 5,
   "metadata": {},
   "outputs": [
    {
     "name": "stderr",
     "output_type": "stream",
     "text": [
      "  0%|          | 0/26 [00:00<?, ?it/s]Setting `pad_token_id` to `eos_token_id`:None for open-end generation.\n",
      "  4%|▍         | 1/26 [00:03<01:15,  3.03s/it]Setting `pad_token_id` to `eos_token_id`:None for open-end generation.\n"
     ]
    },
    {
     "name": "stdout",
     "output_type": "stream",
     "text": [
      "history:  {'entities': [], 'relations': []}\n",
      "\n"
     ]
    },
    {
     "name": "stderr",
     "output_type": "stream",
     "text": [
      "  8%|▊         | 2/26 [00:03<00:34,  1.42s/it]Setting `pad_token_id` to `eos_token_id`:None for open-end generation.\n"
     ]
    },
    {
     "name": "stdout",
     "output_type": "stream",
     "text": [
      "'NoneType' object has no attribute 'group'\n",
      "\n"
     ]
    },
    {
     "name": "stderr",
     "output_type": "stream",
     "text": [
      " 12%|█▏        | 3/26 [00:05<00:43,  1.89s/it]Setting `pad_token_id` to `eos_token_id`:None for open-end generation.\n"
     ]
    },
    {
     "name": "stdout",
     "output_type": "stream",
     "text": [
      "history:  {'entities': [{'label': 'Bob', 'properties': {'type': 'Person'}}], 'relations': [{'source': 'Alice', 'relation': 'took', 'target': 'Bob'}]}\n",
      "\n"
     ]
    },
    {
     "name": "stderr",
     "output_type": "stream",
     "text": [
      " 15%|█▌        | 4/26 [00:09<00:54,  2.49s/it]Setting `pad_token_id` to `eos_token_id`:None for open-end generation.\n"
     ]
    },
    {
     "name": "stdout",
     "output_type": "stream",
     "text": [
      "history:  {'entities': [{'label': 'Desk', 'properties': {'type': 'Object'}}], 'relations': [{'source': 'Alice', 'relation': 'left', 'target': 'Desk'}]}\n",
      "\n"
     ]
    },
    {
     "name": "stderr",
     "output_type": "stream",
     "text": [
      " 19%|█▉        | 5/26 [00:14<01:10,  3.33s/it]Setting `pad_token_id` to `eos_token_id`:None for open-end generation.\n"
     ]
    },
    {
     "name": "stdout",
     "output_type": "stream",
     "text": [
      "history:  {'entities': [{'label': 'Bob', 'properties': {'type': 'Person'}}], 'relations': [{'source': 'Alice', 'relation': 'took', 'target': 'Bob'}, {'source': 'Alice', 'relation': 'left', 'target': 'Desk'}]}\n",
      "\n"
     ]
    },
    {
     "name": "stderr",
     "output_type": "stream",
     "text": [
      " 23%|██▎       | 6/26 [00:16<01:00,  3.01s/it]Setting `pad_token_id` to `eos_token_id`:None for open-end generation.\n"
     ]
    },
    {
     "name": "stdout",
     "output_type": "stream",
     "text": [
      "list index out of range\n",
      "\n"
     ]
    },
    {
     "name": "stderr",
     "output_type": "stream",
     "text": [
      " 27%|██▋       | 7/26 [00:18<00:54,  2.86s/it]Setting `pad_token_id` to `eos_token_id`:None for open-end generation.\n"
     ]
    },
    {
     "name": "stdout",
     "output_type": "stream",
     "text": [
      "'relations'\n",
      "\n"
     ]
    },
    {
     "name": "stderr",
     "output_type": "stream",
     "text": [
      " 31%|███       | 8/26 [00:23<01:00,  3.37s/it]Setting `pad_token_id` to `eos_token_id`:None for open-end generation.\n"
     ]
    },
    {
     "name": "stdout",
     "output_type": "stream",
     "text": [
      "history:  {'entities': [{'label': 'Desk', 'properties': {'type': 'Object'}}], 'relations': [{'source': 'Alice', 'relation': 'took', 'target': 'Bob'}, {'source': 'Alice', 'relation': 'left', 'target': 'Desk'}, {'source': 'Desk', 'relation': 'owns', 'target': 'Alice'}]}\n",
      "\n"
     ]
    },
    {
     "name": "stderr",
     "output_type": "stream",
     "text": [
      " 35%|███▍      | 9/26 [00:27<00:59,  3.49s/it]Setting `pad_token_id` to `eos_token_id`:None for open-end generation.\n"
     ]
    },
    {
     "name": "stdout",
     "output_type": "stream",
     "text": [
      "history:  {'entities': [], 'relations': [{'source': 'Alice', 'relation': 'took', 'target': 'Bob'}, {'source': 'Alice', 'relation': 'left', 'target': 'Desk'}]}\n",
      "\n"
     ]
    },
    {
     "name": "stderr",
     "output_type": "stream",
     "text": [
      " 38%|███▊      | 10/26 [00:31<00:59,  3.73s/it]You seem to be using the pipelines sequentially on GPU. In order to maximize efficiency please use a dataset\n",
      "Setting `pad_token_id` to `eos_token_id`:None for open-end generation.\n"
     ]
    },
    {
     "name": "stdout",
     "output_type": "stream",
     "text": [
      "history:  {'entities': [{'label': 'Keys', 'properties': {'type': 'Object'}}, {'label': 'Desk', 'properties': {'type': 'Object'}}], 'relations': [{'source': 'Bob', 'relation': 'took', 'target': 'Keys'}, {'source': 'Alice', 'relation': 'took', 'target': 'Bob'}, {'source': 'Alice', 'relation': 'has_key', 'target': 'Keys'}, {'source': 'Alice', 'relation': 'left', 'target': 'Desk'}, {'source': 'Desk', 'relation': 'owns', 'target': 'Alice'}]}\n",
      "\n"
     ]
    },
    {
     "name": "stderr",
     "output_type": "stream",
     "text": [
      " 42%|████▏     | 11/26 [00:35<00:57,  3.83s/it]Setting `pad_token_id` to `eos_token_id`:None for open-end generation.\n"
     ]
    },
    {
     "name": "stdout",
     "output_type": "stream",
     "text": [
      "history:  {'entities': [{'label': 'Bob', 'properties': {'type': 'Person'}}, {'label': 'Alice', 'properties': {'type': 'Person', 'age': 0}}, {'label': 'HumemAI', 'properties': {'type': 'Company'}}], 'relations': [{'source': 'Bob', 'relation': 'took', 'target': 'Desk'}, {'source': 'Bob', 'relation': 'left', 'target': 'Desk'}]}\n",
      "\n"
     ]
    },
    {
     "name": "stderr",
     "output_type": "stream",
     "text": [
      " 46%|████▌     | 12/26 [00:38<00:49,  3.53s/it]Setting `pad_token_id` to `eos_token_id`:None for open-end generation.\n"
     ]
    },
    {
     "name": "stdout",
     "output_type": "stream",
     "text": [
      "history:  {'entities': [], 'relations': []}\n",
      "\n"
     ]
    },
    {
     "name": "stderr",
     "output_type": "stream",
     "text": [
      " 50%|█████     | 13/26 [00:41<00:45,  3.53s/it]Setting `pad_token_id` to `eos_token_id`:None for open-end generation.\n"
     ]
    },
    {
     "name": "stdout",
     "output_type": "stream",
     "text": [
      "history:  {'entities': [{'label': \"What's\", 'properties': {'type': 'Question'}}], 'relations': [{'source': 'Charlie', 'relation': 'asks', 'target': \"What's\"}, {'source': 'Charlie', 'relation': 'speaks', 'target': \"What's\"}, {'source': \"What's\", 'relation': 'about', 'target': 'Charlie'}, {'source': 'Charlie', 'relation': 'tells', 'target': \"What's\"}]}\n",
      "\n"
     ]
    },
    {
     "name": "stderr",
     "output_type": "stream",
     "text": [
      " 54%|█████▍    | 14/26 [00:50<01:01,  5.12s/it]Setting `pad_token_id` to `eos_token_id`:None for open-end generation.\n"
     ]
    },
    {
     "name": "stdout",
     "output_type": "stream",
     "text": [
      "list index out of range\n",
      "\n"
     ]
    },
    {
     "name": "stderr",
     "output_type": "stream",
     "text": [
      " 58%|█████▊    | 15/26 [00:54<00:53,  4.87s/it]Setting `pad_token_id` to `eos_token_id`:None for open-end generation.\n"
     ]
    },
    {
     "name": "stdout",
     "output_type": "stream",
     "text": [
      "'target'\n",
      "\n"
     ]
    },
    {
     "name": "stderr",
     "output_type": "stream",
     "text": [
      " 62%|██████▏   | 16/26 [01:00<00:49,  4.96s/it]Setting `pad_token_id` to `eos_token_id`:None for open-end generation.\n"
     ]
    },
    {
     "name": "stdout",
     "output_type": "stream",
     "text": [
      "history:  {'entities': [{'label': 'Grace', 'properties': {'type': 'Person'}}, {'label': 'Bob', 'properties': {'type': 'Person'}}, {'label': 'Desk', 'properties': {'type': 'Object'}}, {'label': 'Keys', 'properties': {'type': 'Object'}}, {'label': 'break room', 'properties': {'type': 'Location'}}, {'label': 'HumemAI', 'properties': {'type': 'Company'}}], 'relations': [{'source': 'Grace', 'relation': 'mentions', 'target': 'keys'}, {'source': 'Grace', 'relation': 'sees', 'target': 'keys'}, {'source': 'Alice', 'relation': 'took', 'target': 'Bob'}, {'source': 'Alice', 'relation': 'left', 'target': 'Desk'}, {'source': 'Desk', 'relation': 'owns', 'target': 'Alice'}, {'source': 'Alice', 'relation': 'has_key', 'target': 'Keys'}, {'source': 'Charlie', 'relation': 'asks', 'target': \"What's\"}, {'source': 'Charlie', 'relation': 'speaks', 'target': \"What's\"}, {'source': \"What's\", 'relation': 'about', 'target': 'Charlie'}, {'source': 'Charlie', 'relation': 'tells', 'target': \"What's\"}, {'source': 'Charlie', 'relation': 'mentions', 'target': 'break room'}, {'source': 'Bob', 'relation': 'took', 'target': 'Keys'}, {'source': 'Bob', 'relation': 'took', 'target': 'Desk'}, {'source': 'Bob', 'relation': 'left', 'target': 'Desk'}, {'source': 'HumemAI', 'relation': 'focuses_on', 'target': 'Keys'}]}\n",
      "\n"
     ]
    },
    {
     "name": "stderr",
     "output_type": "stream",
     "text": [
      " 65%|██████▌   | 17/26 [01:05<00:45,  5.09s/it]Setting `pad_token_id` to `eos_token_id`:None for open-end generation.\n"
     ]
    },
    {
     "name": "stdout",
     "output_type": "stream",
     "text": [
      "list index out of range\n",
      "\n"
     ]
    },
    {
     "name": "stderr",
     "output_type": "stream",
     "text": [
      " 69%|██████▉   | 18/26 [01:05<00:29,  3.68s/it]Setting `pad_token_id` to `eos_token_id`:None for open-end generation.\n"
     ]
    },
    {
     "name": "stdout",
     "output_type": "stream",
     "text": [
      "'NoneType' object has no attribute 'group'\n",
      "\n"
     ]
    },
    {
     "name": "stderr",
     "output_type": "stream",
     "text": [
      " 73%|███████▎  | 19/26 [01:09<00:26,  3.78s/it]Setting `pad_token_id` to `eos_token_id`:None for open-end generation.\n"
     ]
    },
    {
     "name": "stdout",
     "output_type": "stream",
     "text": [
      "list index out of range\n",
      "\n"
     ]
    },
    {
     "name": "stderr",
     "output_type": "stream",
     "text": [
      " 77%|███████▋  | 20/26 [01:17<00:29,  4.98s/it]Setting `pad_token_id` to `eos_token_id`:None for open-end generation.\n"
     ]
    },
    {
     "name": "stdout",
     "output_type": "stream",
     "text": [
      "history:  {'entities': [{'label': 'keys', 'properties': {'attributes': {'description': 'a set of keys'}, 'type': 'Noun'}}, {'label': 'Why', 'properties': {'type': 'Question'}}, {'label': 'Charlie', 'properties': {'type': 'Person'}}, {'label': \"What's\", 'properties': {'type': 'Question'}}], 'relations': [{'source': 'Alice', 'relation': 'leaves', 'target': 'Why'}, {'source': 'Alice', 'relation': 'retraces', 'target': 'Charlie'}, {'source': 'Why', 'relation': 'asks', 'target': 'Alice'}, {'source': \"What's\", 'relation': 'asks', 'target': 'Alice'}, {'source': 'Alice', 'relation': 'speaks', 'target': 'Why'}, {'source': 'Why', 'relation': 'about', 'target': 'Alice'}, {'source': 'Alice', 'relation': 'tells', 'target': 'Why'}, {'source': 'Grace', 'relation': 'mentions', 'target': 'keys'}, {'source': 'Grace', 'relation': 'sees', 'target': 'keys'}, {'source': 'Charlie', 'relation': 'tells', 'target': \"What's\"}]}\n",
      "\n"
     ]
    },
    {
     "name": "stderr",
     "output_type": "stream",
     "text": [
      " 81%|████████  | 21/26 [01:24<00:27,  5.44s/it]Setting `pad_token_id` to `eos_token_id`:None for open-end generation.\n"
     ]
    },
    {
     "name": "stdout",
     "output_type": "stream",
     "text": [
      "history:  {'entities': [{'label': 'Why', 'properties': {'type': 'Question'}}, {'label': 'Charlie', 'properties': {'type': 'Person'}}, {'label': 'Okay', 'properties': {'type': 'Speech'}}, {'label': 'in', 'properties': {'type': 'Preposition'}}, {'label': 'Bob', 'properties': {'type': 'Person'}}, {'label': \"What's\", 'properties': {'type': 'Question'}}, {'label': 'Desk', 'properties': {'type': 'Object'}}, {'label': 'Keys', 'properties': {'type': 'Object'}}, {'label': 'Grace', 'properties': {'type': 'Person'}}, {'label': 'break room', 'properties': {'type': 'Location'}}, {'label': 'HumemAI', 'properties': {'type': 'Company'}}], 'relations': [{'source': 'Grace', 'relation': 'mentions', 'target': 'keys'}, {'source': 'Grace', 'relation': 'sees', 'target': 'keys'}, {'source': 'Alice', 'relation': 'leaves', 'target': 'Why'}, {'source': 'Alice', 'relation': 'retraces', 'target': 'Charlie'}, {'source': 'Alice', 'relation': 'said', 'target': 'Okay'}, {'source': 'Alice', 'relation': 'came', 'target': 'in'}, {'source': 'Alice', 'relation': 'took', 'target': 'Bob'}, {'source': 'Why', 'relation': 'asks', 'target': 'Alice'}, {'source': \"What's\", 'relation': 'asks', 'target': 'Alice'}, {'source': 'Alice', 'relation': 'left', 'target': 'Desk'}, {'source': 'Desk', 'relation': 'owns', 'target': 'Alice'}, {'source': 'Why', 'relation': 'about', 'target': 'Alice'}, {'source': 'Alice', 'relation': 'has_key', 'target': 'Keys'}, {'source': 'Charlie', 'relation': 'asks', 'target': \"What's\"}, {'source': 'Charlie', 'relation': 'speaks', 'target': \"What's\"}, {'source': \"What's\", 'relation': 'about', 'target': 'Charlie'}, {'source': 'Charlie', 'relation': 'tells', 'target': \"What's\"}, {'source': 'Charlie', 'relation': 'mentions', 'target': 'break room'}, {'source': 'Bob', 'relation': 'took', 'target': 'Keys'}, {'source': 'Bob', 'relation': 'took', 'target': 'Desk'}, {'source': 'Bob', 'relation': 'left', 'target': 'Desk'}, {'source': \"What's\", 'relation': 'tells', 'target': \"What's\"}, {'source': 'HumemAI', 'relation': 'focuses_on', 'target': 'Keys'}, {'source': 'Grace', 'relation': 'mentions', 'target': 'Keys'}, {'source': 'Grace', 'relation': 'sees', 'target': 'Keys'}]}\n",
      "\n"
     ]
    },
    {
     "name": "stderr",
     "output_type": "stream",
     "text": [
      " 85%|████████▍ | 22/26 [01:30<00:23,  5.80s/it]Setting `pad_token_id` to `eos_token_id`:None for open-end generation.\n"
     ]
    },
    {
     "name": "stdout",
     "output_type": "stream",
     "text": [
      "history:  {'entities': [{'label': 'Keys', 'properties': {'type': 'Object'}}, {'label': 'Alice', 'properties': {'type': 'Person', 'age': 0}}, {'label': 'HumemAI', 'properties': {'type': 'Company'}}, {'label': 'Grace', 'properties': {'type': 'Person'}}, {'label': 'Desk', 'properties': {'type': 'Object'}}, {'label': 'Charlie', 'properties': {'type': 'Person'}}, {'label': 'Okay', 'properties': {'type': 'Speech'}}, {'label': 'in', 'properties': {'type': 'Preposition'}}, {'label': 'keys', 'properties': {'attributes': {'description': 'a set of keys'}, 'type': 'Noun'}}, {'label': 'break room', 'properties': {'type': 'Location'}}], 'relations': [{'source': 'Bob', 'relation': 'took', 'target': 'Keys'}, {'source': 'Bob', 'relation': 'took', 'target': 'Desk'}, {'source': 'Alice', 'relation': 'took', 'target': 'Bob'}, {'source': 'Bob', 'relation': 'left', 'target': 'Desk'}, {'source': 'Alice', 'relation': 'has_key', 'target': 'Keys'}, {'source': 'HumemAI', 'relation': 'focuses_on', 'target': 'Keys'}, {'source': 'Grace', 'relation': 'mentions', 'target': 'Keys'}, {'source': 'Grace', 'relation': 'sees', 'target': 'Keys'}, {'source': 'Alice', 'relation': 'leaves', 'target': 'Why'}, {'source': 'Alice', 'relation': 'retraces', 'target': 'Charlie'}, {'source': 'Alice', 'relation': 'said', 'target': 'Okay'}, {'source': 'Alice', 'relation': 'came', 'target': 'in'}, {'source': 'Alice', 'relation': 'finds', 'target': 'keys'}, {'source': 'Why', 'relation': 'asks', 'target': 'Alice'}, {'source': \"What's\", 'relation': 'asks', 'target': 'Alice'}, {'source': 'Alice', 'relation': 'speaks', 'target': 'Why'}, {'source': 'Why', 'relation': 'speaks', 'target': 'Alice'}, {'source': 'Alice', 'relation': 'left', 'target': 'Desk'}, {'source': 'Desk', 'relation': 'owns', 'target': 'Alice'}, {'source': 'Why', 'relation': 'about', 'target': 'Alice'}, {'source': 'Alice', 'relation': 'tells', 'target': 'Why'}, {'source': 'Alice', 'relation': 'tells', 'target': 'Charlie'}, {'source': 'Why', 'relation': 'tells', 'target': 'Alice'}, {'source': 'Grace', 'relation': 'mentions', 'target': 'keys'}, {'source': 'Grace', 'relation': 'sees', 'target': 'keys'}, {'source': 'Charlie', 'relation': 'asks', 'target': \"What's\"}, {'source': 'Charlie', 'relation': 'speaks', 'target': \"What's\"}, {'source': \"What's\", 'relation': 'about', 'target': 'Charlie'}, {'source': 'Charlie', 'relation': 'tells', 'target': \"What's\"}, {'source': 'Charlie', 'relation': 'mentions', 'target': 'break room'}, {'source': \"What's\", 'relation': 'tells', 'target': \"What's\"}]}\n",
      "\n"
     ]
    },
    {
     "name": "stderr",
     "output_type": "stream",
     "text": [
      " 88%|████████▊ | 23/26 [01:35<00:16,  5.34s/it]Setting `pad_token_id` to `eos_token_id`:None for open-end generation.\n"
     ]
    },
    {
     "name": "stdout",
     "output_type": "stream",
     "text": [
      "history:  {'entities': [{'label': 'Bob', 'properties': {'type': 'Person'}}, {'label': 'Alice', 'properties': {'type': 'Person', 'age': 0}}, {'label': 'Grace', 'properties': {'type': 'Person'}}, {'label': 'Desk', 'properties': {'type': 'Object'}}, {'label': 'Why', 'properties': {'type': 'Question'}}, {'label': 'See', 'properties': {'type': 'Verb'}}, {'label': 'Charlie', 'properties': {'type': 'Person'}}, {'label': 'Okay', 'properties': {'type': 'Speech'}}, {'label': 'in', 'properties': {'type': 'Preposition'}}, {'label': 'keys', 'properties': {'attributes': {'description': 'a set of keys'}, 'type': 'Noun'}}, {'label': \"What's\", 'properties': {'type': 'Question'}}], 'relations': [{'source': 'HumemAI', 'relation': 'focuses_on', 'target': 'Keys'}, {'source': 'Bob', 'relation': 'took', 'target': 'Keys'}, {'source': 'Alice', 'relation': 'has_key', 'target': 'Keys'}, {'source': 'Grace', 'relation': 'mentions', 'target': 'Keys'}, {'source': 'Grace', 'relation': 'sees', 'target': 'Keys'}, {'source': 'Bob', 'relation': 'took', 'target': 'Desk'}, {'source': 'Alice', 'relation': 'took', 'target': 'Bob'}, {'source': 'Why', 'relation': 'asks', 'target': 'Bob'}, {'source': 'Bob', 'relation': 'left', 'target': 'Desk'}, {'source': 'Bob', 'relation': 'tells', 'target': 'See'}, {'source': 'Why', 'relation': 'tells', 'target': 'Bob'}, {'source': 'Bob', 'relation': 'sees', 'target': 'See'}, {'source': 'Alice', 'relation': 'leaves', 'target': 'Why'}, {'source': 'Alice', 'relation': 'retraces', 'target': 'Charlie'}, {'source': 'Alice', 'relation': 'said', 'target': 'Okay'}, {'source': 'Alice', 'relation': 'came', 'target': 'in'}, {'source': 'Alice', 'relation': 'finds', 'target': 'keys'}, {'source': 'Why', 'relation': 'asks', 'target': 'Alice'}, {'source': \"What's\", 'relation': 'asks', 'target': 'Alice'}, {'source': 'Alice', 'relation': 'speaks', 'target': 'Why'}, {'source': 'Why', 'relation': 'speaks', 'target': 'Alice'}, {'source': 'Alice', 'relation': 'left', 'target': 'Desk'}, {'source': 'Desk', 'relation': 'owns', 'target': 'Alice'}, {'source': 'Why', 'relation': 'about', 'target': 'Alice'}, {'source': 'Alice', 'relation': 'tells', 'target': 'Why'}, {'source': 'Alice', 'relation': 'tells', 'target': 'Charlie'}, {'source': 'Why', 'relation': 'tells', 'target': 'Alice'}, {'source': 'Grace', 'relation': 'mentions', 'target': 'keys'}, {'source': 'Grace', 'relation': 'sees', 'target': 'keys'}, {'source': 'Charlie', 'relation': 'asks', 'target': \"What's\"}, {'source': 'Charlie', 'relation': 'speaks', 'target': \"What's\"}, {'source': \"What's\", 'relation': 'about', 'target': 'Charlie'}, {'source': 'Charlie', 'relation': 'tells', 'target': \"What's\"}, {'source': \"What's\", 'relation': 'tells', 'target': \"What's\"}]}\n",
      "\n"
     ]
    },
    {
     "name": "stderr",
     "output_type": "stream",
     "text": [
      " 92%|█████████▏| 24/26 [01:49<00:16,  8.14s/it]Setting `pad_token_id` to `eos_token_id`:None for open-end generation.\n"
     ]
    },
    {
     "name": "stdout",
     "output_type": "stream",
     "text": [
      "'NoneType' object has no attribute 'group'\n",
      "\n"
     ]
    },
    {
     "name": "stderr",
     "output_type": "stream",
     "text": [
      " 96%|█████████▌| 25/26 [02:04<00:10, 10.11s/it]Setting `pad_token_id` to `eos_token_id`:None for open-end generation.\n"
     ]
    },
    {
     "name": "stdout",
     "output_type": "stream",
     "text": [
      "'NoneType' object has no attribute 'group'\n",
      "\n"
     ]
    },
    {
     "name": "stderr",
     "output_type": "stream",
     "text": [
      "100%|██████████| 26/26 [02:15<00:00,  5.20s/it]"
     ]
    },
    {
     "name": "stdout",
     "output_type": "stream",
     "text": [
      "list index out of range\n",
      "\n"
     ]
    },
    {
     "name": "stderr",
     "output_type": "stream",
     "text": [
      "\n"
     ]
    }
   ],
   "source": [
    "pipeline = get_pipeline(\"meta-llama/Llama-3.2-1B-Instruct\", \"cuda\", \"16bit\")\n",
    "\n",
    "history = {\"entities\": [], \"relations\": []}\n",
    "\n",
    "for chunk in tqdm(chunks):\n",
    "\n",
    "    outputs = pipeline(\n",
    "        generate_prompt(history, chunk),\n",
    "        max_new_tokens=1024,\n",
    "    )\n",
    "    text_content = outputs[0][\"generated_text\"][-1][\"content\"]\n",
    "\n",
    "    json_match = re.search(r\"```json\\n(.*?)\\n```\", text_content, re.DOTALL)\n",
    "\n",
    "    try:\n",
    "        json_text = json_match.group(1)  # Extract JSON content\n",
    "        dict_graph = json.loads(json_text)\n",
    "\n",
    "        # Write short term vertices\n",
    "        for entity in dict_graph[\"entities\"]:\n",
    "            vertex = humemai.write_short_term_vertex(\n",
    "                label=entity[\"label\"], properties=entity[\"properties\"]\n",
    "            )\n",
    "\n",
    "        # Write short term edges\n",
    "        for relation in dict_graph[\"relations\"]:\n",
    "            head_label = relation[\"source\"]\n",
    "            head_vertex = humemai.find_vertex_by_label(head_label)[0]\n",
    "            edge_label = relation[\"relation\"]\n",
    "            tail_label = relation[\"target\"]\n",
    "            tail_vertex = humemai.find_vertex_by_label(tail_label)[0]\n",
    "\n",
    "            edge = humemai.write_short_term_edge(\n",
    "                head_vertex=head_vertex,\n",
    "                edge_label=edge_label,\n",
    "                tail_vertex=tail_vertex,\n",
    "            )\n",
    "\n",
    "        short_term_vertices, long_term_vertices, short_term_edges, long_term_edges = (\n",
    "            humemai.get_working_vertices_and_edges(\n",
    "                short_term_vertices=humemai.get_all_short_term_vertices(),\n",
    "                short_term_edges=humemai.get_all_short_term_edges(),\n",
    "                include_all_long_term=False,\n",
    "                hops=2,\n",
    "            )\n",
    "        )\n",
    "\n",
    "        # move to the long-term memory\n",
    "        for vertex in short_term_vertices:\n",
    "            humemai.move_short_term_vertex(vertex, \"episodic\")\n",
    "\n",
    "        for edge in short_term_edges:\n",
    "            humemai.move_short_term_edge(edge, \"episodic\")\n",
    "\n",
    "        # remove all short term vertices and edges\n",
    "        humemai.remove_all_short_term()\n",
    "\n",
    "        entities = []\n",
    "        for vertex in long_term_vertices:\n",
    "            entities.append(\n",
    "                {\n",
    "                    \"label\": vertex.label,\n",
    "                    \"properties\": {\n",
    "                        key: val\n",
    "                        for key, val in humemai.get_vertex_properties(vertex).items()\n",
    "                        if key not in [\"num_recalled\", \"event_time\", \"known_since\"]\n",
    "                    },\n",
    "                }\n",
    "            )\n",
    "\n",
    "        relations = []\n",
    "        for edge in long_term_edges:\n",
    "            relations.append(\n",
    "                {\n",
    "                    \"source\": edge.outV.label,\n",
    "                    \"relation\": edge.label,\n",
    "                    \"target\": edge.inV.label,\n",
    "                }\n",
    "            )\n",
    "        history = {\"entities\": entities, \"relations\": relations}\n",
    "        print(\"history: \", history)\n",
    "    except Exception as e:\n",
    "        print(e)\n",
    "    print()"
   ]
  },
  {
   "cell_type": "code",
   "execution_count": 12,
   "metadata": {},
   "outputs": [
    {
     "name": "stdout",
     "output_type": "stream",
     "text": [
      "HumemAI --averted--> Crisis | Properties: {'event_time': ['2024-11-20T14:46:35'], 'num_recalled': 0}\n",
      "HumemAI --retracing--> steps | Properties: {'num_recalled': 0, 'event_time': ['2024-11-20T14:46:35']}\n",
      "HumemAI --resolution--> Resolution | Properties: {'num_recalled': 0, 'event_time': ['2024-11-20T14:46:35']}\n",
      "HumemAI --focuses_on--> Keys | Properties: {'num_recalled': 4, 'event_time': ['2024-11-20T14:46:35', '2024-11-20T14:46:35']}\n",
      "Grace --mentions--> keys | Properties: {'num_recalled': 5, 'event_time': ['2024-11-20T14:46:35']}\n",
      "Grace --mentions--> Keys | Properties: {'event_time': ['2024-11-20T14:46:35'], 'num_recalled': 3}\n",
      "Grace --sees--> keys | Properties: {'num_recalled': 5, 'event_time': ['2024-11-20T14:46:35']}\n",
      "Grace --sees--> Keys | Properties: {'event_time': ['2024-11-20T14:46:35'], 'num_recalled': 3}\n",
      "Bob --took--> Keys | Properties: {'event_time': ['2024-11-20T14:46:35', '2024-11-20T14:46:35', '2024-11-20T14:46:35'], 'num_recalled': 5}\n",
      "Bob --took--> Desk | Properties: {'num_recalled': 5, 'event_time': ['2024-11-20T14:46:35', '2024-11-20T14:46:35', '2024-11-20T14:46:35']}\n",
      "Bob --left--> Desk | Properties: {'event_time': ['2024-11-20T14:46:35', '2024-11-20T14:46:35'], 'num_recalled': 5}\n",
      "Bob --tells--> See | Properties: {'event_time': ['2024-11-20T14:46:35'], 'num_recalled': 1}\n",
      "Bob --sees--> See | Properties: {'event_time': ['2024-11-20T14:46:35'], 'num_recalled': 1}\n",
      "Why --asks--> Alice | Properties: {'num_recalled': 4, 'event_time': ['2024-11-20T14:46:35']}\n",
      "Why --asks--> Bob | Properties: {'num_recalled': 1, 'event_time': ['2024-11-20T14:46:35']}\n",
      "Why --speaks--> Alice | Properties: {'event_time': ['2024-11-20T14:46:35'], 'num_recalled': 2}\n",
      "Why --about--> Alice | Properties: {'event_time': ['2024-11-20T14:46:35'], 'num_recalled': 4}\n",
      "Why --tells--> Alice | Properties: {'num_recalled': 2, 'event_time': ['2024-11-20T14:46:35']}\n",
      "Why --tells--> Bob | Properties: {'num_recalled': 1, 'event_time': ['2024-11-20T14:46:35']}\n",
      "Why --tells--> I | Properties: {'num_recalled': 0, 'event_time': ['2024-11-20T14:46:35']}\n",
      "Alice --leaves--> Why | Properties: {'num_recalled': 4, 'event_time': ['2024-11-20T14:46:35']}\n",
      "Alice --retraces--> Charlie | Properties: {'event_time': ['2024-11-20T14:46:35'], 'num_recalled': 4}\n",
      "Alice --said--> Okay | Properties: {'num_recalled': 3, 'event_time': ['2024-11-20T14:46:35']}\n",
      "Alice --came--> in | Properties: {'event_time': ['2024-11-20T14:46:35'], 'num_recalled': 3}\n",
      "Alice --finds--> keys | Properties: {'event_time': ['2024-11-20T14:46:35'], 'num_recalled': 2}\n",
      "Alice --took--> Bob | Properties: {'num_recalled': 9, 'event_time': ['2024-11-20T14:46:35', '2024-11-20T14:46:35', '2024-11-20T14:46:35', '2024-11-20T14:46:35']}\n",
      "Alice --speaks--> Why | Properties: {'event_time': ['2024-11-20T14:46:35', '2024-11-20T14:46:35'], 'num_recalled': 3}\n",
      "Alice --left--> Desk | Properties: {'num_recalled': 9, 'event_time': ['2024-11-20T14:46:35', '2024-11-20T14:46:35', '2024-11-20T14:46:35']}\n",
      "Alice --tells--> Why | Properties: {'event_time': ['2024-11-20T14:46:35', '2024-11-20T14:46:35'], 'num_recalled': 3}\n",
      "Alice --tells--> Charlie | Properties: {'event_time': ['2024-11-20T14:46:35'], 'num_recalled': 2}\n",
      "Alice --has_key--> Keys | Properties: {'num_recalled': 5, 'event_time': ['2024-11-20T14:46:35', '2024-11-20T14:46:35', '2024-11-20T14:46:35']}\n",
      "Charlie --asks--> What's | Properties: {'event_time': ['2024-11-20T14:46:35', '2024-11-20T14:46:35'], 'num_recalled': 5}\n",
      "Charlie --speaks--> What's | Properties: {'event_time': ['2024-11-20T14:46:35', '2024-11-20T14:46:35'], 'num_recalled': 5}\n",
      "Charlie --tells--> What's | Properties: {'event_time': ['2024-11-20T14:46:35'], 'num_recalled': 6}\n",
      "Charlie --mentions--> break room | Properties: {'num_recalled': 3, 'event_time': ['2024-11-20T14:46:35', '2024-11-20T14:46:35']}\n",
      "Desk --owns--> Alice | Properties: {'num_recalled': 6, 'event_time': ['2024-11-20T14:46:35', '2024-11-20T14:46:35', '2024-11-20T14:46:35', '2024-11-20T14:46:35']}\n",
      "What's --asks--> Alice | Properties: {'num_recalled': 4, 'event_time': ['2024-11-20T14:46:35']}\n",
      "What's --about--> Charlie | Properties: {'num_recalled': 5, 'event_time': ['2024-11-20T14:46:35', '2024-11-20T14:46:35']}\n",
      "What's --tells--> What's | Properties: {'num_recalled': 3, 'event_time': ['2024-11-20T14:46:35']}\n"
     ]
    }
   ],
   "source": [
    "for edge in humemai.get_all_long_term_edges():\n",
    "    print(\n",
    "        f\"{edge.outV.label} --{edge.label}--> {edge.inV.label} | Properties: {humemai.get_edge_properties(edge)}\"\n",
    "    )"
   ]
  }
 ],
 "metadata": {
  "kernelspec": {
   "display_name": "humemai",
   "language": "python",
   "name": "python3"
  },
  "language_info": {
   "codemirror_mode": {
    "name": "ipython",
    "version": 3
   },
   "file_extension": ".py",
   "mimetype": "text/x-python",
   "name": "python",
   "nbconvert_exporter": "python",
   "pygments_lexer": "ipython3",
   "version": "3.10.12"
  }
 },
 "nbformat": 4,
 "nbformat_minor": 2
}
