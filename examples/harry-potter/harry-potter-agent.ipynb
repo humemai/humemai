{
 "cells": [
  {
   "cell_type": "markdown",
   "metadata": {},
   "source": [
    "## "
   ]
  },
  {
   "cell_type": "markdown",
   "metadata": {},
   "source": [
    "# Generating a knowledge graph from the Harry Potter book\n",
    "\n",
    "Watch the demo at https://youtu.be/NU1JZE8kQeo"
   ]
  },
  {
   "cell_type": "markdown",
   "metadata": {},
   "source": [
    "![image.png](thumbnail.png)"
   ]
  },
  {
   "cell_type": "markdown",
   "metadata": {},
   "source": [
    "## Load the agent"
   ]
  },
  {
   "cell_type": "code",
   "execution_count": 1,
   "metadata": {},
   "outputs": [
    {
     "name": "stderr",
     "output_type": "stream",
     "text": [
      "/home/tk/.virtualenvs/humemai/lib/python3.10/site-packages/tqdm/auto.py:21: TqdmWarning: IProgress not found. Please update jupyter and ipywidgets. See https://ipywidgets.readthedocs.io/en/stable/user_install.html\n",
      "  from .autonotebook import tqdm as notebook_tqdm\n",
      "DEBUG:humemai.janusgraph.utils.docker:Docker Compose started successfully.\n",
      "DEBUG:humemai.janusgraph.utils.docker:\n",
      "INFO:gremlinpython:Creating DriverRemoteConnection with url 'ws://localhost:8182/gremlin'\n",
      "INFO:gremlinpython:Creating Client with url 'ws://localhost:8182/gremlin'\n",
      "INFO:gremlinpython:Creating GraphTraversalSource.\n",
      "INFO:gremlinpython:Creating GraphTraversalSource.\n",
      "DEBUG:humemai.janusgraph.humemai:Successfully connected to the Gremlin server.\n",
      "DEBUG:urllib3.connectionpool:Starting new HTTPS connection (1): huggingface.co:443\n",
      "DEBUG:urllib3.connectionpool:https://huggingface.co:443 \"HEAD /meta-llama/Llama-3.2-3B-Instruct/resolve/main/config.json HTTP/11\" 200 0\n",
      "Loading checkpoint shards: 100%|██████████| 2/2 [00:01<00:00,  1.46it/s]\n",
      "DEBUG:urllib3.connectionpool:https://huggingface.co:443 \"HEAD /meta-llama/Llama-3.2-3B-Instruct/resolve/main/generation_config.json HTTP/11\" 200 0\n",
      "DEBUG:gremlinpython:submit with bytecode '[['V'], ['drop'], ['none']]'\n",
      "DEBUG:gremlinpython:message '[['V'], ['drop'], ['none']]'\n",
      "DEBUG:gremlinpython:processor='traversal', op='bytecode', args='{'gremlin': [['V'], ['drop'], ['none']], 'aliases': {'g': 'g'}}'\n",
      "DEBUG:asyncio:Using selector: EpollSelector\n"
     ]
    }
   ],
   "source": [
    "import re\n",
    "import json\n",
    "from tqdm.auto import tqdm\n",
    "from humemai.janusgraph import Humemai\n",
    "from humemai.utils import disable_logger, parse_file_by_paragraph, chunk_by_tokens\n",
    "from humemai.janusgraph.agent import PromptAgent\n",
    "from pprint import pprint\n",
    "\n",
    "agent = PromptAgent(\n",
    "    num_hops_for_working_memory=4,\n",
    "    turn_on_logger=False,\n",
    "    llm_config={\n",
    "        \"model\": \"meta-llama/Llama-3.2-3B-Instruct\",\n",
    "        \"device\": \"cuda\",\n",
    "        \"quantization\": \"16bit\",\n",
    "        \"max_new_tokens\": 1024,\n",
    "    },\n",
    "    text2graph_template=\"text2graph_without_properties\",\n",
    ")"
   ]
  },
  {
   "cell_type": "markdown",
   "metadata": {},
   "source": [
    "## Load the harry potter text"
   ]
  },
  {
   "cell_type": "code",
   "execution_count": 2,
   "metadata": {},
   "outputs": [],
   "source": [
    "text = chunk_by_tokens(\n",
    "    \"harry-potter-Sorcerer.txt\", num_tokens=128, num_tokens_per_word=2\n",
    ")"
   ]
  },
  {
   "cell_type": "markdown",
   "metadata": {},
   "source": [
    "## Run the agent over text"
   ]
  },
  {
   "cell_type": "code",
   "execution_count": null,
   "metadata": {},
   "outputs": [],
   "source": [
    "agent.humemai.remove_all_data()\n",
    "for i in tqdm(range(len(text) - 1)):\n",
    "    context = text[i] + \" \" + text[i + 1]\n",
    "    agent.step(context)"
   ]
  },
  {
   "cell_type": "markdown",
   "metadata": {},
   "source": [
    "## Save the database as json"
   ]
  },
  {
   "cell_type": "code",
   "execution_count": 4,
   "metadata": {},
   "outputs": [
    {
     "name": "stderr",
     "output_type": "stream",
     "text": [
      "DEBUG:gremlinpython:submit with bytecode '[['io', 'Llama-3.1-8B-Instruct-16bit.json'], ['write'], ['none']]'\n",
      "DEBUG:gremlinpython:message '[['io', 'Llama-3.1-8B-Instruct-16bit.json'], ['write'], ['none']]'\n",
      "DEBUG:gremlinpython:processor='traversal', op='bytecode', args='{'gremlin': [['io', 'Llama-3.1-8B-Instruct-16bit.json'], ['write'], ['none']], 'aliases': {'g': 'g'}}'\n",
      "DEBUG:humemai.janusgraph.utils.docker:File copied successfully to Llama-3.1-8B-Instruct-16bit.json\n"
     ]
    }
   ],
   "source": [
    "agent.humemai.save_db_as_json(\"Llama-3.1-8B-Instruct-16bit.json\")"
   ]
  },
  {
   "cell_type": "markdown",
   "metadata": {},
   "source": [
    "## Load the database from json"
   ]
  },
  {
   "cell_type": "code",
   "execution_count": 8,
   "metadata": {},
   "outputs": [
    {
     "name": "stderr",
     "output_type": "stream",
     "text": [
      "DEBUG:humemai.janusgraph.utils.docker:File copied successfully to jce-janusgraph:/opt/janusgraph/Llama-3.1-8B-Instruct-16bit.json\n",
      "DEBUG:gremlinpython:submit with bytecode '[['io', 'Llama-3.1-8B-Instruct-16bit.json'], ['read'], ['none']]'\n",
      "DEBUG:gremlinpython:message '[['io', 'Llama-3.1-8B-Instruct-16bit.json'], ['read'], ['none']]'\n",
      "DEBUG:gremlinpython:processor='traversal', op='bytecode', args='{'gremlin': [['io', 'Llama-3.1-8B-Instruct-16bit.json'], ['read'], ['none']], 'aliases': {'g': 'g'}}'\n"
     ]
    }
   ],
   "source": [
    "agent.humemai.load_db_from_json(\"Llama-3.1-8B-Instruct-16bit.json\")"
   ]
  },
  {
   "cell_type": "code",
   "execution_count": 9,
   "metadata": {},
   "outputs": [
    {
     "name": "stderr",
     "output_type": "stream",
     "text": [
      "INFO:gremlinpython:closing DriverRemoteConnection with url 'ws://localhost:8182/gremlin'\n",
      "INFO:gremlinpython:Closing Client with url 'ws://localhost:8182/gremlin'\n",
      "DEBUG:humemai.janusgraph.humemai:Disconnected from the Gremlin server.\n",
      "DEBUG:humemai.janusgraph.utils.docker:Docker Compose stopped successfully.\n",
      "DEBUG:humemai.janusgraph.utils.docker:\n",
      "DEBUG:humemai.janusgraph.utils.docker:Docker Compose removed successfully.\n",
      "DEBUG:humemai.janusgraph.utils.docker:\n"
     ]
    }
   ],
   "source": [
    "agent.finish_humemai()"
   ]
  }
 ],
 "metadata": {
  "kernelspec": {
   "display_name": "humemai",
   "language": "python",
   "name": "python3"
  },
  "language_info": {
   "codemirror_mode": {
    "name": "ipython",
    "version": 3
   },
   "file_extension": ".py",
   "mimetype": "text/x-python",
   "name": "python",
   "nbconvert_exporter": "python",
   "pygments_lexer": "ipython3",
   "version": "3.10.12"
  }
 },
 "nbformat": 4,
 "nbformat_minor": 2
}
